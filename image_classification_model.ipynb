{
  "metadata": {
    "kernelspec": {
      "language": "python",
      "display_name": "Python 3",
      "name": "python3"
    },
    "language_info": {
      "name": "python",
      "version": "3.10.13",
      "mimetype": "text/x-python",
      "codemirror_mode": {
        "name": "ipython",
        "version": 3
      },
      "pygments_lexer": "ipython3",
      "nbconvert_exporter": "python",
      "file_extension": ".py"
    },
    "kaggle": {
      "accelerator": "gpu",
      "dataSources": [
        {
          "sourceId": 63056,
          "databundleVersionId": 9094797,
          "sourceType": "competition"
        }
      ],
      "dockerImageVersionId": 30747,
      "isInternetEnabled": true,
      "language": "python",
      "sourceType": "notebook",
      "isGpuEnabled": true
    },
    "colab": {
      "provenance": [],
      "include_colab_link": true
    }
  },
  "nbformat_minor": 0,
  "nbformat": 4,
  "cells": [
    {
      "cell_type": "markdown",
      "metadata": {
        "id": "view-in-github",
        "colab_type": "text"
      },
      "source": [
        "<a href=\"https://colab.research.google.com/github/9-coding/Kaggle/blob/main/image_classification_model.ipynb\" target=\"_parent\"><img src=\"https://colab.research.google.com/assets/colab-badge.svg\" alt=\"Open In Colab\"/></a>"
      ]
    },
    {
      "cell_type": "markdown",
      "source": [
        "## Import Requirements"
      ],
      "metadata": {
        "id": "JigPRtj8SsEj"
      }
    },
    {
      "cell_type": "code",
      "source": [
        "import time\n",
        "from tqdm import tqdm\n",
        "import os\n",
        "import h5py\n",
        "from PIL import Image\n",
        "from io import BytesIO\n",
        "\n",
        "import numpy as np\n",
        "import pandas as pd\n",
        "from sklearn.metrics import roc_curve, auc\n",
        "\n",
        "import torch\n",
        "import torch.nn as nn\n",
        "import torch.optim as optim\n",
        "import torch.nn.functional as F\n",
        "from torch.optim import lr_scheduler\n",
        "from torch.utils.data import Dataset, DataLoader, random_split\n",
        "from torch.cuda import amp\n",
        "\n",
        "import torchvision\n",
        "import torchvision.models as models\n",
        "import torchvision.transforms as transforms"
      ],
      "metadata": {
        "execution": {
          "iopub.status.busy": "2024-08-04T11:54:07.155189Z",
          "iopub.execute_input": "2024-08-04T11:54:07.155896Z",
          "iopub.status.idle": "2024-08-04T11:54:13.237211Z",
          "shell.execute_reply.started": "2024-08-04T11:54:07.155860Z",
          "shell.execute_reply": "2024-08-04T11:54:13.236211Z"
        },
        "trusted": true,
        "id": "sL2LP-YxSsEm"
      },
      "execution_count": null,
      "outputs": []
    },
    {
      "cell_type": "markdown",
      "source": [
        "## Configuration and Set Seed"
      ],
      "metadata": {
        "id": "bMpyCWRVSsEn"
      }
    },
    {
      "cell_type": "code",
      "source": [
        "CONFIG = {\n",
        "    \"seed\": 42,\n",
        "    \"img_size\": 256,\n",
        "    \"batch_size\": 1024,\n",
        "    \"device\": torch.device(\"cuda:0\" if torch.cuda.is_available() else \"cpu\"),\n",
        "}"
      ],
      "metadata": {
        "execution": {
          "iopub.status.busy": "2024-08-04T11:54:13.238921Z",
          "iopub.execute_input": "2024-08-04T11:54:13.239530Z",
          "iopub.status.idle": "2024-08-04T11:54:13.274938Z",
          "shell.execute_reply.started": "2024-08-04T11:54:13.239495Z",
          "shell.execute_reply": "2024-08-04T11:54:13.273625Z"
        },
        "trusted": true,
        "id": "9gLpcr8USsEo"
      },
      "execution_count": null,
      "outputs": []
    },
    {
      "cell_type": "code",
      "source": [
        "def set_seed(seed=42):\n",
        "    np.random.seed(seed)\n",
        "    torch.manual_seed(seed)\n",
        "    torch.cuda.manual_seed(seed)\n",
        "    # When running on the CuDNN backend, two further options must be set\n",
        "    torch.backends.cudnn.deterministic = True\n",
        "    torch.backends.cudnn.benchmark = False\n",
        "    # Set a fixed value for the hash seed\n",
        "    os.environ['PYTHONHASHSEED'] = str(seed)\n",
        "\n",
        "set_seed(CONFIG['seed'])"
      ],
      "metadata": {
        "execution": {
          "iopub.status.busy": "2024-08-04T11:54:13.276176Z",
          "iopub.execute_input": "2024-08-04T11:54:13.276521Z",
          "iopub.status.idle": "2024-08-04T11:54:13.288038Z",
          "shell.execute_reply.started": "2024-08-04T11:54:13.276490Z",
          "shell.execute_reply": "2024-08-04T11:54:13.287198Z"
        },
        "trusted": true,
        "id": "KewGgO0SSsEo"
      },
      "execution_count": null,
      "outputs": []
    },
    {
      "cell_type": "code",
      "source": [
        "ROOT_DIR = \"/kaggle/input/isic-2024-challenge\"\n",
        "\n",
        "TEST_HDF  = f'{ROOT_DIR}/test-image.hdf5'\n",
        "TEST_CSV  = f'{ROOT_DIR}/test-metadata.csv'\n",
        "IMAGE_HDF = f'{ROOT_DIR}/train-image.hdf5'\n",
        "TARGET_CSV = f'{ROOT_DIR}/train-metadata.csv'\n",
        "SAMPLE    = f'{ROOT_DIR}/sample_submission.csv'"
      ],
      "metadata": {
        "_uuid": "8f2839f25d086af736a60e9eeb907d3b93b6e0e5",
        "_cell_guid": "b1076dfc-b9ad-4769-8c92-a6c4dae69d19",
        "execution": {
          "iopub.status.busy": "2024-08-04T11:54:13.289172Z",
          "iopub.execute_input": "2024-08-04T11:54:13.289487Z",
          "iopub.status.idle": "2024-08-04T11:54:13.294848Z",
          "shell.execute_reply.started": "2024-08-04T11:54:13.289456Z",
          "shell.execute_reply": "2024-08-04T11:54:13.293978Z"
        },
        "trusted": true,
        "id": "kRbkeiNfSsEo"
      },
      "execution_count": null,
      "outputs": []
    },
    {
      "cell_type": "markdown",
      "source": [
        "## Data Configuration"
      ],
      "metadata": {
        "id": "w_5NH3mbSsEp"
      }
    },
    {
      "cell_type": "code",
      "source": [
        "train_df = pd.read_csv(TARGET_CSV)\n",
        "print(len(train_df))\n",
        "train_df.head()"
      ],
      "metadata": {
        "execution": {
          "iopub.status.busy": "2024-08-04T11:54:13.297770Z",
          "iopub.execute_input": "2024-08-04T11:54:13.298482Z",
          "iopub.status.idle": "2024-08-04T11:54:20.989881Z",
          "shell.execute_reply.started": "2024-08-04T11:54:13.298456Z",
          "shell.execute_reply": "2024-08-04T11:54:20.988958Z"
        },
        "trusted": true,
        "id": "9BC2VMObSsEp",
        "outputId": "75e423f3-26b4-4896-8a38-61c36cad84c6"
      },
      "execution_count": null,
      "outputs": [
        {
          "name": "stderr",
          "text": "/tmp/ipykernel_34/3822323828.py:1: DtypeWarning: Columns (51,52) have mixed types. Specify dtype option on import or set low_memory=False.\n  df = pd.read_csv(TARGET_CSV)\n",
          "output_type": "stream"
        },
        {
          "name": "stdout",
          "text": "401059\n",
          "output_type": "stream"
        },
        {
          "execution_count": 5,
          "output_type": "execute_result",
          "data": {
            "text/plain": "        isic_id  target  patient_id  age_approx   sex anatom_site_general  \\\n0  ISIC_0015670       0  IP_1235828        60.0  male     lower extremity   \n1  ISIC_0015845       0  IP_8170065        60.0  male           head/neck   \n2  ISIC_0015864       0  IP_6724798        60.0  male     posterior torso   \n3  ISIC_0015902       0  IP_4111386        65.0  male      anterior torso   \n4  ISIC_0024200       0  IP_8313778        55.0  male      anterior torso   \n\n   clin_size_long_diam_mm          image_type tbp_tile_type   tbp_lv_A  ...  \\\n0                    3.04  TBP tile: close-up     3D: white  20.244422  ...   \n1                    1.10  TBP tile: close-up     3D: white  31.712570  ...   \n2                    3.40  TBP tile: close-up        3D: XP  22.575830  ...   \n3                    3.22  TBP tile: close-up        3D: XP  14.242329  ...   \n4                    2.73  TBP tile: close-up     3D: white  24.725520  ...   \n\n    lesion_id  iddx_full  iddx_1  iddx_2  iddx_3  iddx_4  iddx_5  \\\n0         NaN     Benign  Benign     NaN     NaN     NaN     NaN   \n1  IL_6727506     Benign  Benign     NaN     NaN     NaN     NaN   \n2         NaN     Benign  Benign     NaN     NaN     NaN     NaN   \n3         NaN     Benign  Benign     NaN     NaN     NaN     NaN   \n4         NaN     Benign  Benign     NaN     NaN     NaN     NaN   \n\n   mel_mitotic_index  mel_thick_mm  tbp_lv_dnn_lesion_confidence  \n0                NaN           NaN                     97.517282  \n1                NaN           NaN                      3.141455  \n2                NaN           NaN                     99.804040  \n3                NaN           NaN                     99.989998  \n4                NaN           NaN                     70.442510  \n\n[5 rows x 55 columns]",
            "text/html": "<div>\n<style scoped>\n    .dataframe tbody tr th:only-of-type {\n        vertical-align: middle;\n    }\n\n    .dataframe tbody tr th {\n        vertical-align: top;\n    }\n\n    .dataframe thead th {\n        text-align: right;\n    }\n</style>\n<table border=\"1\" class=\"dataframe\">\n  <thead>\n    <tr style=\"text-align: right;\">\n      <th></th>\n      <th>isic_id</th>\n      <th>target</th>\n      <th>patient_id</th>\n      <th>age_approx</th>\n      <th>sex</th>\n      <th>anatom_site_general</th>\n      <th>clin_size_long_diam_mm</th>\n      <th>image_type</th>\n      <th>tbp_tile_type</th>\n      <th>tbp_lv_A</th>\n      <th>...</th>\n      <th>lesion_id</th>\n      <th>iddx_full</th>\n      <th>iddx_1</th>\n      <th>iddx_2</th>\n      <th>iddx_3</th>\n      <th>iddx_4</th>\n      <th>iddx_5</th>\n      <th>mel_mitotic_index</th>\n      <th>mel_thick_mm</th>\n      <th>tbp_lv_dnn_lesion_confidence</th>\n    </tr>\n  </thead>\n  <tbody>\n    <tr>\n      <th>0</th>\n      <td>ISIC_0015670</td>\n      <td>0</td>\n      <td>IP_1235828</td>\n      <td>60.0</td>\n      <td>male</td>\n      <td>lower extremity</td>\n      <td>3.04</td>\n      <td>TBP tile: close-up</td>\n      <td>3D: white</td>\n      <td>20.244422</td>\n      <td>...</td>\n      <td>NaN</td>\n      <td>Benign</td>\n      <td>Benign</td>\n      <td>NaN</td>\n      <td>NaN</td>\n      <td>NaN</td>\n      <td>NaN</td>\n      <td>NaN</td>\n      <td>NaN</td>\n      <td>97.517282</td>\n    </tr>\n    <tr>\n      <th>1</th>\n      <td>ISIC_0015845</td>\n      <td>0</td>\n      <td>IP_8170065</td>\n      <td>60.0</td>\n      <td>male</td>\n      <td>head/neck</td>\n      <td>1.10</td>\n      <td>TBP tile: close-up</td>\n      <td>3D: white</td>\n      <td>31.712570</td>\n      <td>...</td>\n      <td>IL_6727506</td>\n      <td>Benign</td>\n      <td>Benign</td>\n      <td>NaN</td>\n      <td>NaN</td>\n      <td>NaN</td>\n      <td>NaN</td>\n      <td>NaN</td>\n      <td>NaN</td>\n      <td>3.141455</td>\n    </tr>\n    <tr>\n      <th>2</th>\n      <td>ISIC_0015864</td>\n      <td>0</td>\n      <td>IP_6724798</td>\n      <td>60.0</td>\n      <td>male</td>\n      <td>posterior torso</td>\n      <td>3.40</td>\n      <td>TBP tile: close-up</td>\n      <td>3D: XP</td>\n      <td>22.575830</td>\n      <td>...</td>\n      <td>NaN</td>\n      <td>Benign</td>\n      <td>Benign</td>\n      <td>NaN</td>\n      <td>NaN</td>\n      <td>NaN</td>\n      <td>NaN</td>\n      <td>NaN</td>\n      <td>NaN</td>\n      <td>99.804040</td>\n    </tr>\n    <tr>\n      <th>3</th>\n      <td>ISIC_0015902</td>\n      <td>0</td>\n      <td>IP_4111386</td>\n      <td>65.0</td>\n      <td>male</td>\n      <td>anterior torso</td>\n      <td>3.22</td>\n      <td>TBP tile: close-up</td>\n      <td>3D: XP</td>\n      <td>14.242329</td>\n      <td>...</td>\n      <td>NaN</td>\n      <td>Benign</td>\n      <td>Benign</td>\n      <td>NaN</td>\n      <td>NaN</td>\n      <td>NaN</td>\n      <td>NaN</td>\n      <td>NaN</td>\n      <td>NaN</td>\n      <td>99.989998</td>\n    </tr>\n    <tr>\n      <th>4</th>\n      <td>ISIC_0024200</td>\n      <td>0</td>\n      <td>IP_8313778</td>\n      <td>55.0</td>\n      <td>male</td>\n      <td>anterior torso</td>\n      <td>2.73</td>\n      <td>TBP tile: close-up</td>\n      <td>3D: white</td>\n      <td>24.725520</td>\n      <td>...</td>\n      <td>NaN</td>\n      <td>Benign</td>\n      <td>Benign</td>\n      <td>NaN</td>\n      <td>NaN</td>\n      <td>NaN</td>\n      <td>NaN</td>\n      <td>NaN</td>\n      <td>NaN</td>\n      <td>70.442510</td>\n    </tr>\n  </tbody>\n</table>\n<p>5 rows × 55 columns</p>\n</div>"
          },
          "metadata": {}
        }
      ]
    },
    {
      "cell_type": "markdown",
      "source": [
        "## Dataset and DataLoader"
      ],
      "metadata": {
        "id": "blVFrcbDSsEq"
      }
    },
    {
      "cell_type": "code",
      "source": [
        "class ISIC(Dataset):\n",
        "    def __init__(self, file_hdf, df, transforms):\n",
        "        self.fp_hdf = h5py.File(file_hdf, mode=\"r\")\n",
        "        self.df = df\n",
        "        self.isic_ids = df['isic_id'].values\n",
        "        self.targets = df['target'].values\n",
        "        self.transforms = transforms\n",
        "\n",
        "    def __len__(self):\n",
        "        return len(self.isic_ids)\n",
        "\n",
        "    def __getitem__(self, index):\n",
        "        isic_id = self.isic_ids[index]\n",
        "        img = Image.open(BytesIO(self.fp_hdf[isic_id][()]))\n",
        "        target = self.targets[index]\n",
        "\n",
        "        if self.transforms:\n",
        "            img = self.transforms(img)\n",
        "\n",
        "        return {\n",
        "            'image': img,\n",
        "            'target': target,\n",
        "        }"
      ],
      "metadata": {
        "execution": {
          "iopub.status.busy": "2024-08-04T11:54:20.991188Z",
          "iopub.execute_input": "2024-08-04T11:54:20.991594Z",
          "iopub.status.idle": "2024-08-04T11:54:20.999510Z",
          "shell.execute_reply.started": "2024-08-04T11:54:20.991541Z",
          "shell.execute_reply": "2024-08-04T11:54:20.998638Z"
        },
        "trusted": true,
        "id": "FeqaYW4MSsEq"
      },
      "execution_count": null,
      "outputs": []
    },
    {
      "cell_type": "code",
      "source": [
        "transforms_data = transforms.Compose([transforms.Resize((128,128)), transforms.ToTensor()])\n",
        "dataset = ISIC(IMAGE_HDF, df, transforms=transforms_data)\n",
        "dataset_size = len(dataset)\n",
        "\n",
        "train_size = int(dataset_size * 0.8)                     # 80%\n",
        "validation_size = int(dataset_size * 0.1)                # 10%\n",
        "test_size = dataset_size - train_size - validation_size  # 10%\n",
        "\n",
        "train_dataset, val_dataset, test_dataset = random_split(dataset, [train_size, validation_size, test_size])\n",
        "\n",
        "print(f\"Training Data Size : {len(train_dataset)}\")\n",
        "print(f\"Validation Data Size : {len(val_dataset)}\")\n",
        "print(f\"Testing Data Size : {len(test_dataset)}\")\n",
        "\n",
        "train_loader = DataLoader(train_dataset, batch_size=CONFIG['batch_size'], shuffle=True, pin_memory=True, drop_last=True)\n",
        "val_loader = DataLoader(val_dataset, batch_size=CONFIG['batch_size'], shuffle=False, pin_memory=True, drop_last=True)\n",
        "test_loader = DataLoader(test_dataset, batch_size=CONFIG['batch_size'], shuffle=False, pin_memory=True, drop_last=True)"
      ],
      "metadata": {
        "execution": {
          "iopub.status.busy": "2024-08-04T11:54:21.001238Z",
          "iopub.execute_input": "2024-08-04T11:54:21.001640Z",
          "iopub.status.idle": "2024-08-04T11:54:21.115132Z",
          "shell.execute_reply.started": "2024-08-04T11:54:21.001605Z",
          "shell.execute_reply": "2024-08-04T11:54:21.114170Z"
        },
        "trusted": true,
        "id": "jw5QZSZcSsEq",
        "outputId": "3f10760a-19f5-4705-c43d-35c983c7f508"
      },
      "execution_count": null,
      "outputs": [
        {
          "name": "stdout",
          "text": "Training Data Size : 320847\nValidation Data Size : 40105\nTesting Data Size : 40107\n",
          "output_type": "stream"
        }
      ]
    },
    {
      "cell_type": "code",
      "source": [
        "### GPU Setting ###\n",
        "USE_CUDA = torch.cuda.is_available()\n",
        "DEVICE = torch.device(\"cuda\" if USE_CUDA else \"cpu\")\n",
        "print(DEVICE)"
      ],
      "metadata": {
        "execution": {
          "iopub.status.busy": "2024-08-04T11:54:21.116410Z",
          "iopub.execute_input": "2024-08-04T11:54:21.116819Z",
          "iopub.status.idle": "2024-08-04T11:54:21.122614Z",
          "shell.execute_reply.started": "2024-08-04T11:54:21.116786Z",
          "shell.execute_reply": "2024-08-04T11:54:21.121590Z"
        },
        "trusted": true,
        "id": "RFGEqMxiSsEq",
        "outputId": "9cf59173-522e-4cd8-abd0-44c57f151442"
      },
      "execution_count": null,
      "outputs": [
        {
          "name": "stdout",
          "text": "cuda\n",
          "output_type": "stream"
        }
      ]
    },
    {
      "cell_type": "code",
      "source": [
        "EPOCH = 1\n",
        "lr = 0.01\n",
        "model = models.resnet18(pretrained=True)\n",
        "\n",
        "### Transfer Learning ###\n",
        "num_features = model.fc.in_features\n",
        "model.fc = nn.Linear(num_features, 1)\n",
        "model.to(DEVICE)\n",
        "optimizer = optim.SGD(model.parameters(), lr=lr)\n",
        "print(\"Created a learning model and optimizer\")"
      ],
      "metadata": {
        "execution": {
          "iopub.status.busy": "2024-08-04T11:54:21.123685Z",
          "iopub.execute_input": "2024-08-04T11:54:21.123954Z",
          "iopub.status.idle": "2024-08-04T11:54:21.976013Z",
          "shell.execute_reply.started": "2024-08-04T11:54:21.123925Z",
          "shell.execute_reply": "2024-08-04T11:54:21.974993Z"
        },
        "trusted": true,
        "id": "YFn6ToWVSsEq",
        "outputId": "b592f35b-164b-4adc-8bc9-46ff1469191b"
      },
      "execution_count": null,
      "outputs": [
        {
          "name": "stderr",
          "text": "/opt/conda/lib/python3.10/site-packages/torchvision/models/_utils.py:208: UserWarning: The parameter 'pretrained' is deprecated since 0.13 and may be removed in the future, please use 'weights' instead.\n  warnings.warn(\n/opt/conda/lib/python3.10/site-packages/torchvision/models/_utils.py:223: UserWarning: Arguments other than a weight enum or `None` for 'weights' are deprecated since 0.13 and may be removed in the future. The current behavior is equivalent to passing `weights=ResNet18_Weights.IMAGENET1K_V1`. You can also use `weights=ResNet18_Weights.DEFAULT` to get the most up-to-date weights.\n  warnings.warn(msg)\nDownloading: \"https://download.pytorch.org/models/resnet18-f37072fd.pth\" to /root/.cache/torch/hub/checkpoints/resnet18-f37072fd.pth\n100%|██████████| 44.7M/44.7M [00:00<00:00, 134MB/s] \n",
          "output_type": "stream"
        },
        {
          "name": "stdout",
          "text": "Created a learning model and optimizer\n",
          "output_type": "stream"
        }
      ]
    },
    {
      "cell_type": "code",
      "source": [
        "def compute_pauc(y_true, y_scores, min_tpr=0.8):\n",
        "    fpr, tpr, thresholds = roc_curve(y_true, y_scores)\n",
        "\n",
        "    # Filter TPR >= min_tpr\n",
        "    indices = np.where(tpr >= min_tpr)[0]\n",
        "\n",
        "    # Check if we have at least two points to compute pAUC\n",
        "    if len(indices) < 2:\n",
        "        return 0.0  # or any other value that signifies inability to compute pAUC\n",
        "\n",
        "    fpr_min_tpr = fpr[indices]\n",
        "    tpr_min_tpr = tpr[indices]\n",
        "\n",
        "    # Calculate AUC for the area above the min_tpr threshold\n",
        "    p_auc = auc(fpr_min_tpr, tpr_min_tpr)\n",
        "\n",
        "    return p_auc"
      ],
      "metadata": {
        "execution": {
          "iopub.status.busy": "2024-08-04T11:54:21.977253Z",
          "iopub.execute_input": "2024-08-04T11:54:21.978275Z",
          "iopub.status.idle": "2024-08-04T11:54:21.984782Z",
          "shell.execute_reply.started": "2024-08-04T11:54:21.978235Z",
          "shell.execute_reply": "2024-08-04T11:54:21.983793Z"
        },
        "trusted": true,
        "id": "RzRIrthMSsEq"
      },
      "execution_count": null,
      "outputs": []
    },
    {
      "cell_type": "code",
      "source": [
        "### Train/Evaluation ###\n",
        "def train(model, train_loader, optimizer, epoch):\n",
        "    model.train()\n",
        "    train_loader_tqdm = tqdm(train_loader, desc=f\"Epoch {epoch}\", leave=False)\n",
        "    total_loss = 0.0\n",
        "\n",
        "    for i, batch in enumerate(train_loader_tqdm):\n",
        "        image, target = batch['image'].to(DEVICE), batch['target'].to(DEVICE).float()\n",
        "\n",
        "        output = model(image)\n",
        "        train_loss = F.binary_cross_entropy_with_logits(output.squeeze(), target).to(DEVICE)\n",
        "\n",
        "        train_loss.backward()\n",
        "        optimizer.step()\n",
        "\n",
        "        total_loss += train_loss.item()\n",
        "        train_loader_tqdm.set_postfix(loss=train_loss.item())\n",
        "\n",
        "    avg_loss = total_loss / len(train_loader)\n",
        "    return avg_loss"
      ],
      "metadata": {
        "execution": {
          "iopub.status.busy": "2024-08-04T11:54:21.985998Z",
          "iopub.execute_input": "2024-08-04T11:54:21.986343Z",
          "iopub.status.idle": "2024-08-04T11:54:21.995047Z",
          "shell.execute_reply.started": "2024-08-04T11:54:21.986309Z",
          "shell.execute_reply": "2024-08-04T11:54:21.994164Z"
        },
        "trusted": true,
        "id": "wuS5oLJUSsEq"
      },
      "execution_count": null,
      "outputs": []
    },
    {
      "cell_type": "code",
      "source": [
        "def evaluate(model, data_loader):\n",
        "    model.eval()\n",
        "    y_true = []\n",
        "    y_scores = []\n",
        "    total_loss = 0\n",
        "\n",
        "    with torch.no_grad():\n",
        "        for batch in data_loader:\n",
        "            images, targets = batch['image'].to(DEVICE), batch['target'].to(DEVICE)\n",
        "            outputs = model(images)\n",
        "            probs = torch.sigmoid(outputs).squeeze()\n",
        "\n",
        "            loss = F.binary_cross_entropy_with_logits(outputs.squeeze(), targets.float())\n",
        "            total_loss += loss.item()\n",
        "\n",
        "            y_true.extend(targets.cpu().numpy())\n",
        "            y_scores.extend(probs.cpu().numpy())\n",
        "\n",
        "    avg_loss = total_loss / len(data_loader)\n",
        "    y_true = np.array(y_true)\n",
        "    y_scores = np.array(y_scores)\n",
        "    pauc = compute_pauc(y_true, y_scores, min_tpr=0.8)\n",
        "\n",
        "    return avg_loss, pauc"
      ],
      "metadata": {
        "execution": {
          "iopub.status.busy": "2024-08-04T11:54:21.996047Z",
          "iopub.execute_input": "2024-08-04T11:54:21.996301Z",
          "iopub.status.idle": "2024-08-04T11:54:22.006359Z",
          "shell.execute_reply.started": "2024-08-04T11:54:21.996278Z",
          "shell.execute_reply": "2024-08-04T11:54:22.005527Z"
        },
        "trusted": true,
        "id": "NilJZG9GSsEr"
      },
      "execution_count": null,
      "outputs": []
    },
    {
      "cell_type": "code",
      "source": [
        "start = time.time()\n",
        "best = 0\n",
        "\n",
        "for epoch in range(EPOCH):\n",
        "    train_loss = train(model, train_loader, optimizer, epoch)\n",
        "    val_loss, val_pauc = evaluate(model, val_loader)\n",
        "\n",
        "    if val_pauc > best:\n",
        "        best = val_pauc\n",
        "        torch.save(model.state_dict(), \"./best_model.pth\")\n",
        "\n",
        "    print(f'\\n[Epoch {epoch}] Training Loss: {train_loss:.4f}, Validation Loss: {val_loss:.4f}, pAUC(above 80% TPR): {val_pauc:.4f}\\n')\n",
        "\n",
        "\n",
        "test_loss, test_accuracy, test_pauc = evaluate(model, test_loader)\n",
        "print(f'[FINAL] Test Loss {test_loss:.4f}, Accuracy: {test_accuracy:.4f}%, pAUC: {test_pauc:.4f}')\n",
        "\n",
        "end = time.time()\n",
        "elapsed_time = end - start\n",
        "\n",
        "print(\"Best pAUC: \", best)\n",
        "print(f\"Elapsed Time: {int(elapsed_time/3600)}h, {int(elapsed_time/60)}m, {int(elapsed_time%60)}s\")\n",
        "print(f\"time: {int(elapsed_time/3600)}h, {int(elapsed_time/60)}m, {int(elapsed_time%60)}s\")\n"
      ],
      "metadata": {
        "execution": {
          "iopub.status.busy": "2024-08-04T11:54:22.007417Z",
          "iopub.execute_input": "2024-08-04T11:54:22.007688Z"
        },
        "trusted": true,
        "id": "w_jXZoXhSsEr",
        "outputId": "3d042242-ed4b-4aac-ed2a-04f2ca116a8a"
      },
      "execution_count": null,
      "outputs": [
        {
          "name": "stderr",
          "text": "Epoch 0:  89%|████████▉ | 280/313 [12:40<01:04,  1.95s/it, loss=1.82e-6] ",
          "output_type": "stream"
        },
        {
          "name": "stdout",
          "text": "[0] Training Loss: 0.1928, Validation Loss: 0.0408, Accuracy: 99.9274%, pAUC(above 80% TPR): 0.1565\n",
          "output_type": "stream"
        },
        {
          "name": "stderr",
          "text": "                                                                         \r",
          "output_type": "stream"
        },
        {
          "name": "stdout",
          "text": "[1] Training Loss: 0.1157, Validation Loss: 0.0099, Accuracy: 99.9274%, pAUC(above 80% TPR): 0.1816\n",
          "output_type": "stream"
        },
        {
          "name": "stderr",
          "text": "                                                                         \r",
          "output_type": "stream"
        },
        {
          "name": "stdout",
          "text": "[2] Training Loss: 0.0817, Validation Loss: 0.1361, Accuracy: 99.9274%, pAUC(above 80% TPR): 0.1143\n",
          "output_type": "stream"
        },
        {
          "name": "stderr",
          "text": "                                                                         \r",
          "output_type": "stream"
        },
        {
          "name": "stdout",
          "text": "[3] Training Loss: 0.0551, Validation Loss: 0.0157, Accuracy: 99.9274%, pAUC(above 80% TPR): 0.2719\n",
          "output_type": "stream"
        },
        {
          "name": "stderr",
          "text": "                                                                         \r",
          "output_type": "stream"
        },
        {
          "name": "stdout",
          "text": "[4] Training Loss: 0.0266, Validation Loss: 0.0134, Accuracy: 99.9274%, pAUC(above 80% TPR): 0.1779\n",
          "output_type": "stream"
        },
        {
          "name": "stderr",
          "text": "Epoch 5:  58%|█████▊    | 181/313 [05:58<04:19,  1.97s/it, loss=0.000198]",
          "output_type": "stream"
        }
      ]
    }
  ]
}