{
 "cells": [
  {
   "cell_type": "markdown",
   "id": "f9ed7807",
   "metadata": {
    "papermill": {
     "duration": 0.007214,
     "end_time": "2024-08-17T05:45:52.455046",
     "exception": false,
     "start_time": "2024-08-17T05:45:52.447832",
     "status": "completed"
    },
    "tags": []
   },
   "source": [
    "- [Training notebook](https://www.kaggle.com/code/motono0223/isic-pytorch-training-baseline-image-only)\n",
    "- Inference notebook (This notebook)"
   ]
  },
  {
   "cell_type": "markdown",
   "id": "a6d21dfb",
   "metadata": {
    "papermill": {
     "duration": 0.006203,
     "end_time": "2024-08-17T05:45:52.468021",
     "exception": false,
     "start_time": "2024-08-17T05:45:52.461818",
     "status": "completed"
    },
    "tags": []
   },
   "source": [
    "# <span><h1 style = \"font-family: garamond; font-size: 40px; font-style: normal; letter-spcaing: 3px; background-color: #f6f5f5; color :#fe346e; border-radius: 100px 100px; text-align:center\">Import Required Libraries 📚</h1></span>"
   ]
  },
  {
   "cell_type": "code",
   "execution_count": 1,
   "id": "49ec5c98",
   "metadata": {
    "execution": {
     "iopub.execute_input": "2024-08-17T05:45:52.482550Z",
     "iopub.status.busy": "2024-08-17T05:45:52.482227Z",
     "iopub.status.idle": "2024-08-17T05:46:01.335271Z",
     "shell.execute_reply": "2024-08-17T05:46:01.334304Z"
    },
    "papermill": {
     "duration": 8.86326,
     "end_time": "2024-08-17T05:46:01.337801",
     "exception": false,
     "start_time": "2024-08-17T05:45:52.474541",
     "status": "completed"
    },
    "tags": []
   },
   "outputs": [],
   "source": [
    "import os\n",
    "import gc\n",
    "import cv2\n",
    "import math\n",
    "import copy\n",
    "import time\n",
    "import random\n",
    "import glob\n",
    "from matplotlib import pyplot as plt\n",
    "\n",
    "import h5py\n",
    "from PIL import Image\n",
    "from io import BytesIO\n",
    "\n",
    "# For data manipulation\n",
    "import numpy as np\n",
    "import pandas as pd\n",
    "\n",
    "# Pytorch Imports\n",
    "import torch\n",
    "import torch.nn as nn\n",
    "import torch.optim as optim\n",
    "import torch.nn.functional as F\n",
    "from torch.optim import lr_scheduler\n",
    "from torch.utils.data import Dataset, DataLoader\n",
    "from torch.cuda import amp\n",
    "import torchvision\n",
    "\n",
    "# Utils\n",
    "import joblib\n",
    "from tqdm import tqdm\n",
    "from collections import defaultdict\n",
    "\n",
    "# Sklearn Imports\n",
    "from sklearn.preprocessing import LabelEncoder\n",
    "from sklearn.model_selection import StratifiedKFold\n",
    "\n",
    "# For Image Models\n",
    "import timm\n",
    "\n",
    "# Albumentations for augmentations\n",
    "import albumentations as A\n",
    "from albumentations.pytorch import ToTensorV2\n",
    "\n",
    "# For colored terminal text\n",
    "from colorama import Fore, Back, Style\n",
    "b_ = Fore.BLUE\n",
    "sr_ = Style.RESET_ALL\n",
    "\n",
    "import warnings\n",
    "warnings.filterwarnings(\"ignore\")\n",
    "\n",
    "# For descriptive error messages\n",
    "os.environ['CUDA_LAUNCH_BLOCKING'] = \"1\""
   ]
  },
  {
   "cell_type": "markdown",
   "id": "1bff0dac",
   "metadata": {
    "papermill": {
     "duration": 0.006276,
     "end_time": "2024-08-17T05:46:01.350887",
     "exception": false,
     "start_time": "2024-08-17T05:46:01.344611",
     "status": "completed"
    },
    "tags": []
   },
   "source": [
    "# <span><h1 style = \"font-family: garamond; font-size: 40px; font-style: normal; letter-spcaing: 3px; background-color: #f6f5f5; color :#fe346e; border-radius: 100px 100px; text-align:center\">Training Configuration ⚙️</h1></span>"
   ]
  },
  {
   "cell_type": "code",
   "execution_count": 2,
   "id": "5d4d035d",
   "metadata": {
    "execution": {
     "iopub.execute_input": "2024-08-17T05:46:01.365381Z",
     "iopub.status.busy": "2024-08-17T05:46:01.364828Z",
     "iopub.status.idle": "2024-08-17T05:46:01.430894Z",
     "shell.execute_reply": "2024-08-17T05:46:01.429971Z"
    },
    "papermill": {
     "duration": 0.075691,
     "end_time": "2024-08-17T05:46:01.432895",
     "exception": false,
     "start_time": "2024-08-17T05:46:01.357204",
     "status": "completed"
    },
    "tags": []
   },
   "outputs": [],
   "source": [
    "CONFIG = {\n",
    "    \"seed\": 42,\n",
    "    \"img_size\": 384,\n",
    "    \"model_name\": \"tf_efficientnet_b0_ns\",\n",
    "    \"valid_batch_size\": 32,\n",
    "    \"device\": torch.device(\"cuda:0\" if torch.cuda.is_available() else \"cpu\"),\n",
    "}"
   ]
  },
  {
   "cell_type": "markdown",
   "id": "71d4bfc0",
   "metadata": {
    "papermill": {
     "duration": 0.006208,
     "end_time": "2024-08-17T05:46:01.445750",
     "exception": false,
     "start_time": "2024-08-17T05:46:01.439542",
     "status": "completed"
    },
    "tags": []
   },
   "source": [
    "# <span><h1 style = \"font-family: garamond; font-size: 40px; font-style: normal; letter-spcaing: 3px; background-color: #f6f5f5; color :#fe346e; border-radius: 100px 100px; text-align:center\">Set Seed for Reproducibility</h1></span>"
   ]
  },
  {
   "cell_type": "code",
   "execution_count": 3,
   "id": "55d4e59d",
   "metadata": {
    "execution": {
     "iopub.execute_input": "2024-08-17T05:46:01.459794Z",
     "iopub.status.busy": "2024-08-17T05:46:01.459456Z",
     "iopub.status.idle": "2024-08-17T05:46:01.468015Z",
     "shell.execute_reply": "2024-08-17T05:46:01.467143Z"
    },
    "papermill": {
     "duration": 0.017911,
     "end_time": "2024-08-17T05:46:01.470099",
     "exception": false,
     "start_time": "2024-08-17T05:46:01.452188",
     "status": "completed"
    },
    "tags": []
   },
   "outputs": [],
   "source": [
    "def set_seed(seed=42):\n",
    "    '''Sets the seed of the entire notebook so results are the same every time we run.\n",
    "    This is for REPRODUCIBILITY.'''\n",
    "    np.random.seed(seed)\n",
    "    torch.manual_seed(seed)\n",
    "    torch.cuda.manual_seed(seed)\n",
    "    # When running on the CuDNN backend, two further options must be set\n",
    "    torch.backends.cudnn.deterministic = True\n",
    "    torch.backends.cudnn.benchmark = False\n",
    "    # Set a fixed value for the hash seed\n",
    "    os.environ['PYTHONHASHSEED'] = str(seed)\n",
    "    \n",
    "set_seed(CONFIG['seed'])"
   ]
  },
  {
   "cell_type": "code",
   "execution_count": 4,
   "id": "6f6190da",
   "metadata": {
    "execution": {
     "iopub.execute_input": "2024-08-17T05:46:01.484077Z",
     "iopub.status.busy": "2024-08-17T05:46:01.483810Z",
     "iopub.status.idle": "2024-08-17T05:46:01.488029Z",
     "shell.execute_reply": "2024-08-17T05:46:01.487134Z"
    },
    "papermill": {
     "duration": 0.013551,
     "end_time": "2024-08-17T05:46:01.489934",
     "exception": false,
     "start_time": "2024-08-17T05:46:01.476383",
     "status": "completed"
    },
    "tags": []
   },
   "outputs": [],
   "source": [
    "ROOT_DIR = \"/kaggle/input/isic-2024-challenge\"\n",
    "TEST_CSV = f'{ROOT_DIR}/test-metadata.csv'\n",
    "TEST_HDF = f'{ROOT_DIR}/test-image.hdf5'\n",
    "SAMPLE = f'{ROOT_DIR}/sample_submission.csv'\n",
    "\n",
    "BEST_WEIGHT = \"/kaggle/input/sample-training/AUROC0.9403_Loss0.5024_epoch9.bin\""
   ]
  },
  {
   "cell_type": "markdown",
   "id": "bd5e8f34",
   "metadata": {
    "papermill": {
     "duration": 0.006189,
     "end_time": "2024-08-17T05:46:01.502641",
     "exception": false,
     "start_time": "2024-08-17T05:46:01.496452",
     "status": "completed"
    },
    "tags": []
   },
   "source": [
    "# <h1 style = \"font-family: garamond; font-size: 40px; font-style: normal; letter-spcaing: 3px; background-color: #f6f5f5; color :#fe346e; border-radius: 100px 100px; text-align:center\">Read the Data 📖</h1>"
   ]
  },
  {
   "cell_type": "code",
   "execution_count": 5,
   "id": "73ad6028",
   "metadata": {
    "execution": {
     "iopub.execute_input": "2024-08-17T05:46:01.518003Z",
     "iopub.status.busy": "2024-08-17T05:46:01.517744Z",
     "iopub.status.idle": "2024-08-17T05:46:01.566592Z",
     "shell.execute_reply": "2024-08-17T05:46:01.565711Z"
    },
    "papermill": {
     "duration": 0.05846,
     "end_time": "2024-08-17T05:46:01.568861",
     "exception": false,
     "start_time": "2024-08-17T05:46:01.510401",
     "status": "completed"
    },
    "tags": []
   },
   "outputs": [
    {
     "data": {
      "text/html": [
       "<div>\n",
       "<style scoped>\n",
       "    .dataframe tbody tr th:only-of-type {\n",
       "        vertical-align: middle;\n",
       "    }\n",
       "\n",
       "    .dataframe tbody tr th {\n",
       "        vertical-align: top;\n",
       "    }\n",
       "\n",
       "    .dataframe thead th {\n",
       "        text-align: right;\n",
       "    }\n",
       "</style>\n",
       "<table border=\"1\" class=\"dataframe\">\n",
       "  <thead>\n",
       "    <tr style=\"text-align: right;\">\n",
       "      <th></th>\n",
       "      <th>isic_id</th>\n",
       "      <th>patient_id</th>\n",
       "      <th>age_approx</th>\n",
       "      <th>sex</th>\n",
       "      <th>anatom_site_general</th>\n",
       "      <th>clin_size_long_diam_mm</th>\n",
       "      <th>image_type</th>\n",
       "      <th>tbp_tile_type</th>\n",
       "      <th>tbp_lv_A</th>\n",
       "      <th>tbp_lv_Aext</th>\n",
       "      <th>...</th>\n",
       "      <th>tbp_lv_stdL</th>\n",
       "      <th>tbp_lv_stdLExt</th>\n",
       "      <th>tbp_lv_symm_2axis</th>\n",
       "      <th>tbp_lv_symm_2axis_angle</th>\n",
       "      <th>tbp_lv_x</th>\n",
       "      <th>tbp_lv_y</th>\n",
       "      <th>tbp_lv_z</th>\n",
       "      <th>attribution</th>\n",
       "      <th>copyright_license</th>\n",
       "      <th>target</th>\n",
       "    </tr>\n",
       "  </thead>\n",
       "  <tbody>\n",
       "    <tr>\n",
       "      <th>0</th>\n",
       "      <td>ISIC_0015657</td>\n",
       "      <td>IP_6074337</td>\n",
       "      <td>45.0</td>\n",
       "      <td>male</td>\n",
       "      <td>posterior torso</td>\n",
       "      <td>2.70</td>\n",
       "      <td>TBP tile: close-up</td>\n",
       "      <td>3D: XP</td>\n",
       "      <td>22.80433</td>\n",
       "      <td>20.007270</td>\n",
       "      <td>...</td>\n",
       "      <td>1.281532</td>\n",
       "      <td>2.299935</td>\n",
       "      <td>0.479339</td>\n",
       "      <td>20</td>\n",
       "      <td>-155.06510</td>\n",
       "      <td>1511.222000</td>\n",
       "      <td>113.980100</td>\n",
       "      <td>Memorial Sloan Kettering Cancer Center</td>\n",
       "      <td>CC-BY</td>\n",
       "      <td>0</td>\n",
       "    </tr>\n",
       "    <tr>\n",
       "      <th>1</th>\n",
       "      <td>ISIC_0015729</td>\n",
       "      <td>IP_1664139</td>\n",
       "      <td>35.0</td>\n",
       "      <td>female</td>\n",
       "      <td>lower extremity</td>\n",
       "      <td>2.52</td>\n",
       "      <td>TBP tile: close-up</td>\n",
       "      <td>3D: XP</td>\n",
       "      <td>16.64867</td>\n",
       "      <td>9.657964</td>\n",
       "      <td>...</td>\n",
       "      <td>1.271940</td>\n",
       "      <td>2.011223</td>\n",
       "      <td>0.426230</td>\n",
       "      <td>25</td>\n",
       "      <td>-112.36924</td>\n",
       "      <td>629.535889</td>\n",
       "      <td>-15.019287</td>\n",
       "      <td>Frazer Institute, The University of Queensland...</td>\n",
       "      <td>CC-BY</td>\n",
       "      <td>0</td>\n",
       "    </tr>\n",
       "    <tr>\n",
       "      <th>2</th>\n",
       "      <td>ISIC_0015740</td>\n",
       "      <td>IP_7142616</td>\n",
       "      <td>65.0</td>\n",
       "      <td>male</td>\n",
       "      <td>posterior torso</td>\n",
       "      <td>3.16</td>\n",
       "      <td>TBP tile: close-up</td>\n",
       "      <td>3D: XP</td>\n",
       "      <td>24.25384</td>\n",
       "      <td>19.937380</td>\n",
       "      <td>...</td>\n",
       "      <td>1.080308</td>\n",
       "      <td>2.705857</td>\n",
       "      <td>0.366071</td>\n",
       "      <td>110</td>\n",
       "      <td>-84.29282</td>\n",
       "      <td>1303.978000</td>\n",
       "      <td>-28.576050</td>\n",
       "      <td>FNQH Cairns</td>\n",
       "      <td>CC-BY</td>\n",
       "      <td>0</td>\n",
       "    </tr>\n",
       "  </tbody>\n",
       "</table>\n",
       "<p>3 rows × 45 columns</p>\n",
       "</div>"
      ],
      "text/plain": [
       "        isic_id  patient_id  age_approx     sex anatom_site_general  \\\n",
       "0  ISIC_0015657  IP_6074337        45.0    male     posterior torso   \n",
       "1  ISIC_0015729  IP_1664139        35.0  female     lower extremity   \n",
       "2  ISIC_0015740  IP_7142616        65.0    male     posterior torso   \n",
       "\n",
       "   clin_size_long_diam_mm          image_type tbp_tile_type  tbp_lv_A  \\\n",
       "0                    2.70  TBP tile: close-up        3D: XP  22.80433   \n",
       "1                    2.52  TBP tile: close-up        3D: XP  16.64867   \n",
       "2                    3.16  TBP tile: close-up        3D: XP  24.25384   \n",
       "\n",
       "   tbp_lv_Aext  ...  tbp_lv_stdL  tbp_lv_stdLExt  tbp_lv_symm_2axis  \\\n",
       "0    20.007270  ...     1.281532        2.299935           0.479339   \n",
       "1     9.657964  ...     1.271940        2.011223           0.426230   \n",
       "2    19.937380  ...     1.080308        2.705857           0.366071   \n",
       "\n",
       "   tbp_lv_symm_2axis_angle   tbp_lv_x     tbp_lv_y    tbp_lv_z  \\\n",
       "0                       20 -155.06510  1511.222000  113.980100   \n",
       "1                       25 -112.36924   629.535889  -15.019287   \n",
       "2                      110  -84.29282  1303.978000  -28.576050   \n",
       "\n",
       "                                         attribution  copyright_license  \\\n",
       "0             Memorial Sloan Kettering Cancer Center              CC-BY   \n",
       "1  Frazer Institute, The University of Queensland...              CC-BY   \n",
       "2                                        FNQH Cairns              CC-BY   \n",
       "\n",
       "   target  \n",
       "0       0  \n",
       "1       0  \n",
       "2       0  \n",
       "\n",
       "[3 rows x 45 columns]"
      ]
     },
     "execution_count": 5,
     "metadata": {},
     "output_type": "execute_result"
    }
   ],
   "source": [
    "df = pd.read_csv(TEST_CSV)\n",
    "df['target'] = 0 # dummy\n",
    "df"
   ]
  },
  {
   "cell_type": "code",
   "execution_count": 6,
   "id": "a678f687",
   "metadata": {
    "execution": {
     "iopub.execute_input": "2024-08-17T05:46:01.586800Z",
     "iopub.status.busy": "2024-08-17T05:46:01.586091Z",
     "iopub.status.idle": "2024-08-17T05:46:01.598200Z",
     "shell.execute_reply": "2024-08-17T05:46:01.597334Z"
    },
    "papermill": {
     "duration": 0.022594,
     "end_time": "2024-08-17T05:46:01.600229",
     "exception": false,
     "start_time": "2024-08-17T05:46:01.577635",
     "status": "completed"
    },
    "tags": []
   },
   "outputs": [
    {
     "data": {
      "text/html": [
       "<div>\n",
       "<style scoped>\n",
       "    .dataframe tbody tr th:only-of-type {\n",
       "        vertical-align: middle;\n",
       "    }\n",
       "\n",
       "    .dataframe tbody tr th {\n",
       "        vertical-align: top;\n",
       "    }\n",
       "\n",
       "    .dataframe thead th {\n",
       "        text-align: right;\n",
       "    }\n",
       "</style>\n",
       "<table border=\"1\" class=\"dataframe\">\n",
       "  <thead>\n",
       "    <tr style=\"text-align: right;\">\n",
       "      <th></th>\n",
       "      <th>isic_id</th>\n",
       "      <th>target</th>\n",
       "    </tr>\n",
       "  </thead>\n",
       "  <tbody>\n",
       "    <tr>\n",
       "      <th>0</th>\n",
       "      <td>ISIC_0015657</td>\n",
       "      <td>0.3</td>\n",
       "    </tr>\n",
       "    <tr>\n",
       "      <th>1</th>\n",
       "      <td>ISIC_0015729</td>\n",
       "      <td>0.3</td>\n",
       "    </tr>\n",
       "    <tr>\n",
       "      <th>2</th>\n",
       "      <td>ISIC_0015740</td>\n",
       "      <td>0.3</td>\n",
       "    </tr>\n",
       "  </tbody>\n",
       "</table>\n",
       "</div>"
      ],
      "text/plain": [
       "        isic_id  target\n",
       "0  ISIC_0015657     0.3\n",
       "1  ISIC_0015729     0.3\n",
       "2  ISIC_0015740     0.3"
      ]
     },
     "execution_count": 6,
     "metadata": {},
     "output_type": "execute_result"
    }
   ],
   "source": [
    "df_sub = pd.read_csv(SAMPLE)\n",
    "df_sub"
   ]
  },
  {
   "cell_type": "markdown",
   "id": "0f342ea0",
   "metadata": {
    "papermill": {
     "duration": 0.00759,
     "end_time": "2024-08-17T05:46:01.615447",
     "exception": false,
     "start_time": "2024-08-17T05:46:01.607857",
     "status": "completed"
    },
    "tags": []
   },
   "source": [
    "# <span><h1 style = \"font-family: garamond; font-size: 40px; font-style: normal; letter-spcaing: 3px; background-color: #f6f5f5; color :#fe346e; border-radius: 100px 100px; text-align:center\">Dataset Class</h1></span>"
   ]
  },
  {
   "cell_type": "code",
   "execution_count": 7,
   "id": "d27f1f25",
   "metadata": {
    "execution": {
     "iopub.execute_input": "2024-08-17T05:46:01.630431Z",
     "iopub.status.busy": "2024-08-17T05:46:01.630116Z",
     "iopub.status.idle": "2024-08-17T05:46:01.637522Z",
     "shell.execute_reply": "2024-08-17T05:46:01.636547Z"
    },
    "papermill": {
     "duration": 0.017059,
     "end_time": "2024-08-17T05:46:01.639418",
     "exception": false,
     "start_time": "2024-08-17T05:46:01.622359",
     "status": "completed"
    },
    "tags": []
   },
   "outputs": [],
   "source": [
    "class ISICDataset(Dataset):\n",
    "    def __init__(self, df, file_hdf, transforms=None):\n",
    "        self.df = df\n",
    "        self.fp_hdf = h5py.File(file_hdf, mode=\"r\")\n",
    "        self.isic_ids = df['isic_id'].values\n",
    "        self.targets = df['target'].values\n",
    "        self.transforms = transforms\n",
    "        \n",
    "    def __len__(self):\n",
    "        return len(self.isic_ids)\n",
    "    \n",
    "    def __getitem__(self, index):\n",
    "        isic_id = self.isic_ids[index]\n",
    "        img = np.array( Image.open(BytesIO(self.fp_hdf[isic_id][()])) )\n",
    "        target = self.targets[index]\n",
    "        \n",
    "        if self.transforms:\n",
    "            img = self.transforms(image=img)[\"image\"]\n",
    "            \n",
    "        return {\n",
    "            'image': img,\n",
    "            'target': target,\n",
    "        }"
   ]
  },
  {
   "cell_type": "markdown",
   "id": "60553ec5",
   "metadata": {
    "papermill": {
     "duration": 0.007028,
     "end_time": "2024-08-17T05:46:01.653282",
     "exception": false,
     "start_time": "2024-08-17T05:46:01.646254",
     "status": "completed"
    },
    "tags": []
   },
   "source": [
    "# <span><h1 style = \"font-family: garamond; font-size: 40px; font-style: normal; letter-spcaing: 3px; background-color: #f6f5f5; color :#fe346e; border-radius: 100px 100px; text-align:center\">Augmentations</h1></span>"
   ]
  },
  {
   "cell_type": "code",
   "execution_count": 8,
   "id": "b163ab78",
   "metadata": {
    "execution": {
     "iopub.execute_input": "2024-08-17T05:46:01.668057Z",
     "iopub.status.busy": "2024-08-17T05:46:01.667803Z",
     "iopub.status.idle": "2024-08-17T05:46:01.673054Z",
     "shell.execute_reply": "2024-08-17T05:46:01.672221Z"
    },
    "papermill": {
     "duration": 0.014873,
     "end_time": "2024-08-17T05:46:01.674923",
     "exception": false,
     "start_time": "2024-08-17T05:46:01.660050",
     "status": "completed"
    },
    "tags": []
   },
   "outputs": [],
   "source": [
    "data_transforms = {\n",
    "    \"valid\": A.Compose([\n",
    "        A.Resize(CONFIG['img_size'], CONFIG['img_size']),\n",
    "        A.Normalize(\n",
    "                mean=[0.485, 0.456, 0.406], \n",
    "                std=[0.229, 0.224, 0.225], \n",
    "                max_pixel_value=255.0, \n",
    "                p=1.0\n",
    "            ),\n",
    "        ToTensorV2()], p=1.)\n",
    "}"
   ]
  },
  {
   "cell_type": "markdown",
   "id": "83187933",
   "metadata": {
    "papermill": {
     "duration": 0.00688,
     "end_time": "2024-08-17T05:46:01.688561",
     "exception": false,
     "start_time": "2024-08-17T05:46:01.681681",
     "status": "completed"
    },
    "tags": []
   },
   "source": [
    "# <span><h1 style = \"font-family: garamond; font-size: 40px; font-style: normal; letter-spcaing: 3px; background-color: #f6f5f5; color :#fe346e; border-radius: 100px 100px; text-align:center\">GeM Pooling</h1></span>"
   ]
  },
  {
   "cell_type": "code",
   "execution_count": 9,
   "id": "607db75e",
   "metadata": {
    "execution": {
     "iopub.execute_input": "2024-08-17T05:46:01.703445Z",
     "iopub.status.busy": "2024-08-17T05:46:01.703204Z",
     "iopub.status.idle": "2024-08-17T05:46:01.710283Z",
     "shell.execute_reply": "2024-08-17T05:46:01.709480Z"
    },
    "papermill": {
     "duration": 0.016542,
     "end_time": "2024-08-17T05:46:01.712120",
     "exception": false,
     "start_time": "2024-08-17T05:46:01.695578",
     "status": "completed"
    },
    "tags": []
   },
   "outputs": [],
   "source": [
    "class GeM(nn.Module):\n",
    "    def __init__(self, p=3, eps=1e-6):\n",
    "        super(GeM, self).__init__()\n",
    "        self.p = nn.Parameter(torch.ones(1)*p)\n",
    "        self.eps = eps\n",
    "\n",
    "    def forward(self, x):\n",
    "        return self.gem(x, p=self.p, eps=self.eps)\n",
    "        \n",
    "    def gem(self, x, p=3, eps=1e-6):\n",
    "        return F.avg_pool2d(x.clamp(min=eps).pow(p), (x.size(-2), x.size(-1))).pow(1./p)\n",
    "        \n",
    "    def __repr__(self):\n",
    "        return self.__class__.__name__ + \\\n",
    "                '(' + 'p=' + '{:.4f}'.format(self.p.data.tolist()[0]) + \\\n",
    "                ', ' + 'eps=' + str(self.eps) + ')'"
   ]
  },
  {
   "cell_type": "markdown",
   "id": "2281546a",
   "metadata": {
    "papermill": {
     "duration": 0.006619,
     "end_time": "2024-08-17T05:46:01.725580",
     "exception": false,
     "start_time": "2024-08-17T05:46:01.718961",
     "status": "completed"
    },
    "tags": []
   },
   "source": [
    "# <span><h1 style = \"font-family: garamond; font-size: 40px; font-style: normal; letter-spcaing: 3px; background-color: #f6f5f5; color :#fe346e; border-radius: 100px 100px; text-align:center\">Create Model</h1></span>"
   ]
  },
  {
   "cell_type": "code",
   "execution_count": 10,
   "id": "ecb86e81",
   "metadata": {
    "execution": {
     "iopub.execute_input": "2024-08-17T05:46:01.740490Z",
     "iopub.status.busy": "2024-08-17T05:46:01.740196Z",
     "iopub.status.idle": "2024-08-17T05:46:02.391832Z",
     "shell.execute_reply": "2024-08-17T05:46:02.391003Z"
    },
    "papermill": {
     "duration": 0.661738,
     "end_time": "2024-08-17T05:46:02.394212",
     "exception": false,
     "start_time": "2024-08-17T05:46:01.732474",
     "status": "completed"
    },
    "tags": []
   },
   "outputs": [],
   "source": [
    "class ISICModel(nn.Module):\n",
    "    def __init__(self, model_name, num_classes=1, pretrained=True, checkpoint_path=None):\n",
    "        super(ISICModel, self).__init__()\n",
    "        self.model = timm.create_model(model_name, pretrained=pretrained, checkpoint_path=checkpoint_path)\n",
    "\n",
    "        in_features = self.model.classifier.in_features\n",
    "        self.model.classifier = nn.Identity()\n",
    "        self.model.global_pool = nn.Identity()\n",
    "        self.pooling = GeM()\n",
    "        self.linear = nn.Linear(in_features, num_classes)\n",
    "        self.sigmoid = nn.Sigmoid()\n",
    "\n",
    "    def forward(self, images):\n",
    "        features = self.model(images)\n",
    "        pooled_features = self.pooling(features).flatten(1)\n",
    "        output = self.sigmoid(self.linear(pooled_features))\n",
    "        return output\n",
    "    \n",
    "model = ISICModel(CONFIG['model_name'], pretrained=False)\n",
    "model.load_state_dict( torch.load(BEST_WEIGHT) )\n",
    "model.to(CONFIG['device']);"
   ]
  },
  {
   "cell_type": "markdown",
   "id": "23f2c0e7",
   "metadata": {
    "papermill": {
     "duration": 0.006707,
     "end_time": "2024-08-17T05:46:02.408232",
     "exception": false,
     "start_time": "2024-08-17T05:46:02.401525",
     "status": "completed"
    },
    "tags": []
   },
   "source": [
    "<span style=\"color: #000508; font-family: Segoe UI; font-size: 1.5em; font-weight: 300;\">Prepare Dataloaders</span>"
   ]
  },
  {
   "cell_type": "code",
   "execution_count": 11,
   "id": "f5d01eea",
   "metadata": {
    "execution": {
     "iopub.execute_input": "2024-08-17T05:46:02.424083Z",
     "iopub.status.busy": "2024-08-17T05:46:02.423282Z",
     "iopub.status.idle": "2024-08-17T05:46:02.434452Z",
     "shell.execute_reply": "2024-08-17T05:46:02.433682Z"
    },
    "papermill": {
     "duration": 0.021203,
     "end_time": "2024-08-17T05:46:02.436318",
     "exception": false,
     "start_time": "2024-08-17T05:46:02.415115",
     "status": "completed"
    },
    "tags": []
   },
   "outputs": [],
   "source": [
    "test_dataset = ISICDataset(df, TEST_HDF, transforms=data_transforms[\"valid\"])\n",
    "test_loader = DataLoader(test_dataset, batch_size=CONFIG['valid_batch_size'], \n",
    "                          num_workers=2, shuffle=False, pin_memory=True)"
   ]
  },
  {
   "cell_type": "markdown",
   "id": "af870bc2",
   "metadata": {
    "papermill": {
     "duration": 0.006663,
     "end_time": "2024-08-17T05:46:02.449719",
     "exception": false,
     "start_time": "2024-08-17T05:46:02.443056",
     "status": "completed"
    },
    "tags": []
   },
   "source": [
    "<span style=\"color: #000508; font-family: Segoe UI; font-size: 1.5em; font-weight: 300;\">Start Inference</span>"
   ]
  },
  {
   "cell_type": "code",
   "execution_count": 12,
   "id": "2f601a2d",
   "metadata": {
    "execution": {
     "iopub.execute_input": "2024-08-17T05:46:02.464628Z",
     "iopub.status.busy": "2024-08-17T05:46:02.464349Z",
     "iopub.status.idle": "2024-08-17T05:46:03.478678Z",
     "shell.execute_reply": "2024-08-17T05:46:03.477654Z"
    },
    "papermill": {
     "duration": 1.026069,
     "end_time": "2024-08-17T05:46:03.482668",
     "exception": false,
     "start_time": "2024-08-17T05:46:02.456599",
     "status": "completed"
    },
    "tags": []
   },
   "outputs": [
    {
     "name": "stderr",
     "output_type": "stream",
     "text": [
      "100%|██████████| 1/1 [00:00<00:00,  1.06it/s]\n"
     ]
    }
   ],
   "source": [
    "preds = []\n",
    "with torch.no_grad():\n",
    "    bar = tqdm(enumerate(test_loader), total=len(test_loader))\n",
    "    for step, data in bar:        \n",
    "        images = data['image'].to(CONFIG[\"device\"], dtype=torch.float)        \n",
    "        batch_size = images.size(0)\n",
    "        outputs = model(images)\n",
    "        preds.append( outputs.detach().cpu().numpy() )\n",
    "preds = np.concatenate(preds).flatten()"
   ]
  },
  {
   "cell_type": "code",
   "execution_count": 13,
   "id": "3abee872",
   "metadata": {
    "execution": {
     "iopub.execute_input": "2024-08-17T05:46:03.499873Z",
     "iopub.status.busy": "2024-08-17T05:46:03.498926Z",
     "iopub.status.idle": "2024-08-17T05:46:03.510300Z",
     "shell.execute_reply": "2024-08-17T05:46:03.509439Z"
    },
    "papermill": {
     "duration": 0.021975,
     "end_time": "2024-08-17T05:46:03.512265",
     "exception": false,
     "start_time": "2024-08-17T05:46:03.490290",
     "status": "completed"
    },
    "tags": []
   },
   "outputs": [],
   "source": [
    "df_sub[\"target\"] = preds\n",
    "df_sub.to_csv(\"submission.csv\", index=False)"
   ]
  },
  {
   "cell_type": "code",
   "execution_count": 14,
   "id": "d703f26f",
   "metadata": {
    "execution": {
     "iopub.execute_input": "2024-08-17T05:46:03.528753Z",
     "iopub.status.busy": "2024-08-17T05:46:03.528087Z",
     "iopub.status.idle": "2024-08-17T05:46:03.540085Z",
     "shell.execute_reply": "2024-08-17T05:46:03.539131Z"
    },
    "papermill": {
     "duration": 0.022662,
     "end_time": "2024-08-17T05:46:03.542347",
     "exception": false,
     "start_time": "2024-08-17T05:46:03.519685",
     "status": "completed"
    },
    "tags": []
   },
   "outputs": [
    {
     "data": {
      "text/html": [
       "<div>\n",
       "<style scoped>\n",
       "    .dataframe tbody tr th:only-of-type {\n",
       "        vertical-align: middle;\n",
       "    }\n",
       "\n",
       "    .dataframe tbody tr th {\n",
       "        vertical-align: top;\n",
       "    }\n",
       "\n",
       "    .dataframe thead th {\n",
       "        text-align: right;\n",
       "    }\n",
       "</style>\n",
       "<table border=\"1\" class=\"dataframe\">\n",
       "  <thead>\n",
       "    <tr style=\"text-align: right;\">\n",
       "      <th></th>\n",
       "      <th>isic_id</th>\n",
       "      <th>target</th>\n",
       "    </tr>\n",
       "  </thead>\n",
       "  <tbody>\n",
       "    <tr>\n",
       "      <th>0</th>\n",
       "      <td>ISIC_0015657</td>\n",
       "      <td>0.998521</td>\n",
       "    </tr>\n",
       "    <tr>\n",
       "      <th>1</th>\n",
       "      <td>ISIC_0015729</td>\n",
       "      <td>0.058162</td>\n",
       "    </tr>\n",
       "    <tr>\n",
       "      <th>2</th>\n",
       "      <td>ISIC_0015740</td>\n",
       "      <td>0.201785</td>\n",
       "    </tr>\n",
       "  </tbody>\n",
       "</table>\n",
       "</div>"
      ],
      "text/plain": [
       "        isic_id    target\n",
       "0  ISIC_0015657  0.998521\n",
       "1  ISIC_0015729  0.058162\n",
       "2  ISIC_0015740  0.201785"
      ]
     },
     "execution_count": 14,
     "metadata": {},
     "output_type": "execute_result"
    }
   ],
   "source": [
    "df_sub"
   ]
  }
 ],
 "metadata": {
  "kaggle": {
   "accelerator": "gpu",
   "dataSources": [
    {
     "databundleVersionId": 9094797,
     "sourceId": 63056,
     "sourceType": "competition"
    },
    {
     "sourceId": 186147615,
     "sourceType": "kernelVersion"
    },
    {
     "sourceId": 192926522,
     "sourceType": "kernelVersion"
    },
    {
     "modelId": 312,
     "modelInstanceId": 2656,
     "sourceId": 3729,
     "sourceType": "modelInstanceVersion"
    }
   ],
   "isGpuEnabled": true,
   "isInternetEnabled": false,
   "language": "python",
   "sourceType": "notebook"
  },
  "kernelspec": {
   "display_name": "Python 3",
   "language": "python",
   "name": "python3"
  },
  "language_info": {
   "codemirror_mode": {
    "name": "ipython",
    "version": 3
   },
   "file_extension": ".py",
   "mimetype": "text/x-python",
   "name": "python",
   "nbconvert_exporter": "python",
   "pygments_lexer": "ipython3",
   "version": "3.10.13"
  },
  "papermill": {
   "default_parameters": {},
   "duration": 16.203904,
   "end_time": "2024-08-17T05:46:05.846279",
   "environment_variables": {},
   "exception": null,
   "input_path": "__notebook__.ipynb",
   "output_path": "__notebook__.ipynb",
   "parameters": {},
   "start_time": "2024-08-17T05:45:49.642375",
   "version": "2.5.0"
  }
 },
 "nbformat": 4,
 "nbformat_minor": 5
}
