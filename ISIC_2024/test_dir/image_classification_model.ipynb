{
 "cells": [
  {
   "cell_type": "markdown",
   "id": "f4402ccc",
   "metadata": {
    "papermill": {
     "duration": 0.007524,
     "end_time": "2024-08-05T16:44:29.560506",
     "exception": false,
     "start_time": "2024-08-05T16:44:29.552982",
     "status": "completed"
    },
    "tags": []
   },
   "source": [
    "## Import Requirements"
   ]
  },
  {
   "cell_type": "code",
   "execution_count": 1,
   "id": "47bdfe55",
   "metadata": {
    "execution": {
     "iopub.execute_input": "2024-08-05T16:44:29.576767Z",
     "iopub.status.busy": "2024-08-05T16:44:29.575921Z",
     "iopub.status.idle": "2024-08-05T16:44:37.093634Z",
     "shell.execute_reply": "2024-08-05T16:44:37.092696Z"
    },
    "papermill": {
     "duration": 7.528873,
     "end_time": "2024-08-05T16:44:37.096369",
     "exception": false,
     "start_time": "2024-08-05T16:44:29.567496",
     "status": "completed"
    },
    "tags": []
   },
   "outputs": [],
   "source": [
    "import time\n",
    "from tqdm import tqdm\n",
    "import os\n",
    "import h5py\n",
    "from PIL import Image\n",
    "from io import BytesIO\n",
    "\n",
    "import numpy as np\n",
    "import pandas as pd\n",
    "from sklearn.metrics import roc_curve, auc\n",
    "\n",
    "import torch\n",
    "import torch.nn as nn\n",
    "import torch.optim as optim\n",
    "import torch.nn.functional as F\n",
    "from torch.optim import lr_scheduler\n",
    "from torch.utils.data import Dataset, DataLoader, random_split\n",
    "from torch.cuda import amp\n",
    "\n",
    "import torchvision\n",
    "import torchvision.models as models\n",
    "import torchvision.transforms as transforms"
   ]
  },
  {
   "cell_type": "markdown",
   "id": "fc1f8313",
   "metadata": {
    "papermill": {
     "duration": 0.008,
     "end_time": "2024-08-05T16:44:37.112730",
     "exception": false,
     "start_time": "2024-08-05T16:44:37.104730",
     "status": "completed"
    },
    "tags": []
   },
   "source": [
    "## Configuration and Set Seed"
   ]
  },
  {
   "cell_type": "code",
   "execution_count": 2,
   "id": "1f00daa4",
   "metadata": {
    "execution": {
     "iopub.execute_input": "2024-08-05T16:44:37.128672Z",
     "iopub.status.busy": "2024-08-05T16:44:37.127942Z",
     "iopub.status.idle": "2024-08-05T16:44:37.193175Z",
     "shell.execute_reply": "2024-08-05T16:44:37.192208Z"
    },
    "papermill": {
     "duration": 0.075164,
     "end_time": "2024-08-05T16:44:37.195243",
     "exception": false,
     "start_time": "2024-08-05T16:44:37.120079",
     "status": "completed"
    },
    "tags": []
   },
   "outputs": [],
   "source": [
    "CONFIG = {\n",
    "    \"seed\": 42,\n",
    "    \"img_size\": 256,\n",
    "    \"batch_size\": 1024,\n",
    "    \"device\": torch.device(\"cuda:0\" if torch.cuda.is_available() else \"cpu\"),\n",
    "    \"valid_batch_size\": 32,\n",
    "}"
   ]
  },
  {
   "cell_type": "code",
   "execution_count": 3,
   "id": "ead42c7e",
   "metadata": {
    "execution": {
     "iopub.execute_input": "2024-08-05T16:44:37.210469Z",
     "iopub.status.busy": "2024-08-05T16:44:37.210098Z",
     "iopub.status.idle": "2024-08-05T16:44:37.218705Z",
     "shell.execute_reply": "2024-08-05T16:44:37.217967Z"
    },
    "papermill": {
     "duration": 0.018298,
     "end_time": "2024-08-05T16:44:37.220696",
     "exception": false,
     "start_time": "2024-08-05T16:44:37.202398",
     "status": "completed"
    },
    "tags": []
   },
   "outputs": [],
   "source": [
    "def set_seed(seed=42):\n",
    "    np.random.seed(seed)\n",
    "    torch.manual_seed(seed)\n",
    "    torch.cuda.manual_seed(seed)\n",
    "    # When running on the CuDNN backend, two further options must be set\n",
    "    torch.backends.cudnn.deterministic = True\n",
    "    torch.backends.cudnn.benchmark = False\n",
    "    # Set a fixed value for the hash seed\n",
    "    os.environ['PYTHONHASHSEED'] = str(seed)\n",
    "    \n",
    "set_seed(CONFIG['seed'])"
   ]
  },
  {
   "cell_type": "code",
   "execution_count": 4,
   "id": "a44b1b30",
   "metadata": {
    "_cell_guid": "b1076dfc-b9ad-4769-8c92-a6c4dae69d19",
    "_uuid": "8f2839f25d086af736a60e9eeb907d3b93b6e0e5",
    "execution": {
     "iopub.execute_input": "2024-08-05T16:44:37.235905Z",
     "iopub.status.busy": "2024-08-05T16:44:37.235613Z",
     "iopub.status.idle": "2024-08-05T16:44:37.240025Z",
     "shell.execute_reply": "2024-08-05T16:44:37.239197Z"
    },
    "papermill": {
     "duration": 0.014282,
     "end_time": "2024-08-05T16:44:37.242010",
     "exception": false,
     "start_time": "2024-08-05T16:44:37.227728",
     "status": "completed"
    },
    "tags": []
   },
   "outputs": [],
   "source": [
    "ROOT_DIR = \"/kaggle/input/isic-2024-challenge\"\n",
    "\n",
    "TEST_HDF  = f'{ROOT_DIR}/test-image.hdf5'\n",
    "TEST_CSV  = f'{ROOT_DIR}/test-metadata.csv'\n",
    "IMAGE_HDF = f'{ROOT_DIR}/train-image.hdf5'\n",
    "TARGET_CSV = f'{ROOT_DIR}/train-metadata.csv'\n",
    "SAMPLE    = f'{ROOT_DIR}/sample_submission.csv'"
   ]
  },
  {
   "cell_type": "markdown",
   "id": "33054eb6",
   "metadata": {
    "papermill": {
     "duration": 0.006605,
     "end_time": "2024-08-05T16:44:37.255425",
     "exception": false,
     "start_time": "2024-08-05T16:44:37.248820",
     "status": "completed"
    },
    "tags": []
   },
   "source": [
    "## Data Configuration"
   ]
  },
  {
   "cell_type": "code",
   "execution_count": 5,
   "id": "ae5ba160",
   "metadata": {
    "execution": {
     "iopub.execute_input": "2024-08-05T16:44:37.270259Z",
     "iopub.status.busy": "2024-08-05T16:44:37.269927Z",
     "iopub.status.idle": "2024-08-05T16:44:44.015005Z",
     "shell.execute_reply": "2024-08-05T16:44:44.014048Z"
    },
    "papermill": {
     "duration": 6.754792,
     "end_time": "2024-08-05T16:44:44.017060",
     "exception": false,
     "start_time": "2024-08-05T16:44:37.262268",
     "status": "completed"
    },
    "tags": []
   },
   "outputs": [
    {
     "name": "stderr",
     "output_type": "stream",
     "text": [
      "/tmp/ipykernel_24/2597002810.py:1: DtypeWarning: Columns (51,52) have mixed types. Specify dtype option on import or set low_memory=False.\n",
      "  train_df = pd.read_csv(TARGET_CSV)\n"
     ]
    },
    {
     "name": "stdout",
     "output_type": "stream",
     "text": [
      "401059\n"
     ]
    },
    {
     "data": {
      "text/html": [
       "<div>\n",
       "<style scoped>\n",
       "    .dataframe tbody tr th:only-of-type {\n",
       "        vertical-align: middle;\n",
       "    }\n",
       "\n",
       "    .dataframe tbody tr th {\n",
       "        vertical-align: top;\n",
       "    }\n",
       "\n",
       "    .dataframe thead th {\n",
       "        text-align: right;\n",
       "    }\n",
       "</style>\n",
       "<table border=\"1\" class=\"dataframe\">\n",
       "  <thead>\n",
       "    <tr style=\"text-align: right;\">\n",
       "      <th></th>\n",
       "      <th>isic_id</th>\n",
       "      <th>target</th>\n",
       "      <th>patient_id</th>\n",
       "      <th>age_approx</th>\n",
       "      <th>sex</th>\n",
       "      <th>anatom_site_general</th>\n",
       "      <th>clin_size_long_diam_mm</th>\n",
       "      <th>image_type</th>\n",
       "      <th>tbp_tile_type</th>\n",
       "      <th>tbp_lv_A</th>\n",
       "      <th>...</th>\n",
       "      <th>lesion_id</th>\n",
       "      <th>iddx_full</th>\n",
       "      <th>iddx_1</th>\n",
       "      <th>iddx_2</th>\n",
       "      <th>iddx_3</th>\n",
       "      <th>iddx_4</th>\n",
       "      <th>iddx_5</th>\n",
       "      <th>mel_mitotic_index</th>\n",
       "      <th>mel_thick_mm</th>\n",
       "      <th>tbp_lv_dnn_lesion_confidence</th>\n",
       "    </tr>\n",
       "  </thead>\n",
       "  <tbody>\n",
       "    <tr>\n",
       "      <th>0</th>\n",
       "      <td>ISIC_0015670</td>\n",
       "      <td>0</td>\n",
       "      <td>IP_1235828</td>\n",
       "      <td>60.0</td>\n",
       "      <td>male</td>\n",
       "      <td>lower extremity</td>\n",
       "      <td>3.04</td>\n",
       "      <td>TBP tile: close-up</td>\n",
       "      <td>3D: white</td>\n",
       "      <td>20.244422</td>\n",
       "      <td>...</td>\n",
       "      <td>NaN</td>\n",
       "      <td>Benign</td>\n",
       "      <td>Benign</td>\n",
       "      <td>NaN</td>\n",
       "      <td>NaN</td>\n",
       "      <td>NaN</td>\n",
       "      <td>NaN</td>\n",
       "      <td>NaN</td>\n",
       "      <td>NaN</td>\n",
       "      <td>97.517282</td>\n",
       "    </tr>\n",
       "    <tr>\n",
       "      <th>1</th>\n",
       "      <td>ISIC_0015845</td>\n",
       "      <td>0</td>\n",
       "      <td>IP_8170065</td>\n",
       "      <td>60.0</td>\n",
       "      <td>male</td>\n",
       "      <td>head/neck</td>\n",
       "      <td>1.10</td>\n",
       "      <td>TBP tile: close-up</td>\n",
       "      <td>3D: white</td>\n",
       "      <td>31.712570</td>\n",
       "      <td>...</td>\n",
       "      <td>IL_6727506</td>\n",
       "      <td>Benign</td>\n",
       "      <td>Benign</td>\n",
       "      <td>NaN</td>\n",
       "      <td>NaN</td>\n",
       "      <td>NaN</td>\n",
       "      <td>NaN</td>\n",
       "      <td>NaN</td>\n",
       "      <td>NaN</td>\n",
       "      <td>3.141455</td>\n",
       "    </tr>\n",
       "    <tr>\n",
       "      <th>2</th>\n",
       "      <td>ISIC_0015864</td>\n",
       "      <td>0</td>\n",
       "      <td>IP_6724798</td>\n",
       "      <td>60.0</td>\n",
       "      <td>male</td>\n",
       "      <td>posterior torso</td>\n",
       "      <td>3.40</td>\n",
       "      <td>TBP tile: close-up</td>\n",
       "      <td>3D: XP</td>\n",
       "      <td>22.575830</td>\n",
       "      <td>...</td>\n",
       "      <td>NaN</td>\n",
       "      <td>Benign</td>\n",
       "      <td>Benign</td>\n",
       "      <td>NaN</td>\n",
       "      <td>NaN</td>\n",
       "      <td>NaN</td>\n",
       "      <td>NaN</td>\n",
       "      <td>NaN</td>\n",
       "      <td>NaN</td>\n",
       "      <td>99.804040</td>\n",
       "    </tr>\n",
       "    <tr>\n",
       "      <th>3</th>\n",
       "      <td>ISIC_0015902</td>\n",
       "      <td>0</td>\n",
       "      <td>IP_4111386</td>\n",
       "      <td>65.0</td>\n",
       "      <td>male</td>\n",
       "      <td>anterior torso</td>\n",
       "      <td>3.22</td>\n",
       "      <td>TBP tile: close-up</td>\n",
       "      <td>3D: XP</td>\n",
       "      <td>14.242329</td>\n",
       "      <td>...</td>\n",
       "      <td>NaN</td>\n",
       "      <td>Benign</td>\n",
       "      <td>Benign</td>\n",
       "      <td>NaN</td>\n",
       "      <td>NaN</td>\n",
       "      <td>NaN</td>\n",
       "      <td>NaN</td>\n",
       "      <td>NaN</td>\n",
       "      <td>NaN</td>\n",
       "      <td>99.989998</td>\n",
       "    </tr>\n",
       "    <tr>\n",
       "      <th>4</th>\n",
       "      <td>ISIC_0024200</td>\n",
       "      <td>0</td>\n",
       "      <td>IP_8313778</td>\n",
       "      <td>55.0</td>\n",
       "      <td>male</td>\n",
       "      <td>anterior torso</td>\n",
       "      <td>2.73</td>\n",
       "      <td>TBP tile: close-up</td>\n",
       "      <td>3D: white</td>\n",
       "      <td>24.725520</td>\n",
       "      <td>...</td>\n",
       "      <td>NaN</td>\n",
       "      <td>Benign</td>\n",
       "      <td>Benign</td>\n",
       "      <td>NaN</td>\n",
       "      <td>NaN</td>\n",
       "      <td>NaN</td>\n",
       "      <td>NaN</td>\n",
       "      <td>NaN</td>\n",
       "      <td>NaN</td>\n",
       "      <td>70.442510</td>\n",
       "    </tr>\n",
       "  </tbody>\n",
       "</table>\n",
       "<p>5 rows × 55 columns</p>\n",
       "</div>"
      ],
      "text/plain": [
       "        isic_id  target  patient_id  age_approx   sex anatom_site_general  \\\n",
       "0  ISIC_0015670       0  IP_1235828        60.0  male     lower extremity   \n",
       "1  ISIC_0015845       0  IP_8170065        60.0  male           head/neck   \n",
       "2  ISIC_0015864       0  IP_6724798        60.0  male     posterior torso   \n",
       "3  ISIC_0015902       0  IP_4111386        65.0  male      anterior torso   \n",
       "4  ISIC_0024200       0  IP_8313778        55.0  male      anterior torso   \n",
       "\n",
       "   clin_size_long_diam_mm          image_type tbp_tile_type   tbp_lv_A  ...  \\\n",
       "0                    3.04  TBP tile: close-up     3D: white  20.244422  ...   \n",
       "1                    1.10  TBP tile: close-up     3D: white  31.712570  ...   \n",
       "2                    3.40  TBP tile: close-up        3D: XP  22.575830  ...   \n",
       "3                    3.22  TBP tile: close-up        3D: XP  14.242329  ...   \n",
       "4                    2.73  TBP tile: close-up     3D: white  24.725520  ...   \n",
       "\n",
       "    lesion_id  iddx_full  iddx_1  iddx_2  iddx_3  iddx_4  iddx_5  \\\n",
       "0         NaN     Benign  Benign     NaN     NaN     NaN     NaN   \n",
       "1  IL_6727506     Benign  Benign     NaN     NaN     NaN     NaN   \n",
       "2         NaN     Benign  Benign     NaN     NaN     NaN     NaN   \n",
       "3         NaN     Benign  Benign     NaN     NaN     NaN     NaN   \n",
       "4         NaN     Benign  Benign     NaN     NaN     NaN     NaN   \n",
       "\n",
       "   mel_mitotic_index  mel_thick_mm  tbp_lv_dnn_lesion_confidence  \n",
       "0                NaN           NaN                     97.517282  \n",
       "1                NaN           NaN                      3.141455  \n",
       "2                NaN           NaN                     99.804040  \n",
       "3                NaN           NaN                     99.989998  \n",
       "4                NaN           NaN                     70.442510  \n",
       "\n",
       "[5 rows x 55 columns]"
      ]
     },
     "execution_count": 5,
     "metadata": {},
     "output_type": "execute_result"
    }
   ],
   "source": [
    "train_df = pd.read_csv(TARGET_CSV)\n",
    "print(len(train_df))\n",
    "train_df.head()"
   ]
  },
  {
   "cell_type": "code",
   "execution_count": 6,
   "id": "12cb3ef8",
   "metadata": {
    "execution": {
     "iopub.execute_input": "2024-08-05T16:44:44.034293Z",
     "iopub.status.busy": "2024-08-05T16:44:44.033938Z",
     "iopub.status.idle": "2024-08-05T16:44:44.063362Z",
     "shell.execute_reply": "2024-08-05T16:44:44.062399Z"
    },
    "papermill": {
     "duration": 0.039978,
     "end_time": "2024-08-05T16:44:44.065540",
     "exception": false,
     "start_time": "2024-08-05T16:44:44.025562",
     "status": "completed"
    },
    "tags": []
   },
   "outputs": [
    {
     "name": "stdout",
     "output_type": "stream",
     "text": [
      "3\n"
     ]
    },
    {
     "data": {
      "text/html": [
       "<div>\n",
       "<style scoped>\n",
       "    .dataframe tbody tr th:only-of-type {\n",
       "        vertical-align: middle;\n",
       "    }\n",
       "\n",
       "    .dataframe tbody tr th {\n",
       "        vertical-align: top;\n",
       "    }\n",
       "\n",
       "    .dataframe thead th {\n",
       "        text-align: right;\n",
       "    }\n",
       "</style>\n",
       "<table border=\"1\" class=\"dataframe\">\n",
       "  <thead>\n",
       "    <tr style=\"text-align: right;\">\n",
       "      <th></th>\n",
       "      <th>isic_id</th>\n",
       "      <th>patient_id</th>\n",
       "      <th>age_approx</th>\n",
       "      <th>sex</th>\n",
       "      <th>anatom_site_general</th>\n",
       "      <th>clin_size_long_diam_mm</th>\n",
       "      <th>image_type</th>\n",
       "      <th>tbp_tile_type</th>\n",
       "      <th>tbp_lv_A</th>\n",
       "      <th>tbp_lv_Aext</th>\n",
       "      <th>...</th>\n",
       "      <th>tbp_lv_stdL</th>\n",
       "      <th>tbp_lv_stdLExt</th>\n",
       "      <th>tbp_lv_symm_2axis</th>\n",
       "      <th>tbp_lv_symm_2axis_angle</th>\n",
       "      <th>tbp_lv_x</th>\n",
       "      <th>tbp_lv_y</th>\n",
       "      <th>tbp_lv_z</th>\n",
       "      <th>attribution</th>\n",
       "      <th>copyright_license</th>\n",
       "      <th>target</th>\n",
       "    </tr>\n",
       "  </thead>\n",
       "  <tbody>\n",
       "    <tr>\n",
       "      <th>0</th>\n",
       "      <td>ISIC_0015657</td>\n",
       "      <td>IP_6074337</td>\n",
       "      <td>45.0</td>\n",
       "      <td>male</td>\n",
       "      <td>posterior torso</td>\n",
       "      <td>2.70</td>\n",
       "      <td>TBP tile: close-up</td>\n",
       "      <td>3D: XP</td>\n",
       "      <td>22.80433</td>\n",
       "      <td>20.007270</td>\n",
       "      <td>...</td>\n",
       "      <td>1.281532</td>\n",
       "      <td>2.299935</td>\n",
       "      <td>0.479339</td>\n",
       "      <td>20</td>\n",
       "      <td>-155.06510</td>\n",
       "      <td>1511.222000</td>\n",
       "      <td>113.980100</td>\n",
       "      <td>Memorial Sloan Kettering Cancer Center</td>\n",
       "      <td>CC-BY</td>\n",
       "      <td>0</td>\n",
       "    </tr>\n",
       "    <tr>\n",
       "      <th>1</th>\n",
       "      <td>ISIC_0015729</td>\n",
       "      <td>IP_1664139</td>\n",
       "      <td>35.0</td>\n",
       "      <td>female</td>\n",
       "      <td>lower extremity</td>\n",
       "      <td>2.52</td>\n",
       "      <td>TBP tile: close-up</td>\n",
       "      <td>3D: XP</td>\n",
       "      <td>16.64867</td>\n",
       "      <td>9.657964</td>\n",
       "      <td>...</td>\n",
       "      <td>1.271940</td>\n",
       "      <td>2.011223</td>\n",
       "      <td>0.426230</td>\n",
       "      <td>25</td>\n",
       "      <td>-112.36924</td>\n",
       "      <td>629.535889</td>\n",
       "      <td>-15.019287</td>\n",
       "      <td>Frazer Institute, The University of Queensland...</td>\n",
       "      <td>CC-BY</td>\n",
       "      <td>0</td>\n",
       "    </tr>\n",
       "    <tr>\n",
       "      <th>2</th>\n",
       "      <td>ISIC_0015740</td>\n",
       "      <td>IP_7142616</td>\n",
       "      <td>65.0</td>\n",
       "      <td>male</td>\n",
       "      <td>posterior torso</td>\n",
       "      <td>3.16</td>\n",
       "      <td>TBP tile: close-up</td>\n",
       "      <td>3D: XP</td>\n",
       "      <td>24.25384</td>\n",
       "      <td>19.937380</td>\n",
       "      <td>...</td>\n",
       "      <td>1.080308</td>\n",
       "      <td>2.705857</td>\n",
       "      <td>0.366071</td>\n",
       "      <td>110</td>\n",
       "      <td>-84.29282</td>\n",
       "      <td>1303.978000</td>\n",
       "      <td>-28.576050</td>\n",
       "      <td>FNQH Cairns</td>\n",
       "      <td>CC-BY</td>\n",
       "      <td>0</td>\n",
       "    </tr>\n",
       "  </tbody>\n",
       "</table>\n",
       "<p>3 rows × 45 columns</p>\n",
       "</div>"
      ],
      "text/plain": [
       "        isic_id  patient_id  age_approx     sex anatom_site_general  \\\n",
       "0  ISIC_0015657  IP_6074337        45.0    male     posterior torso   \n",
       "1  ISIC_0015729  IP_1664139        35.0  female     lower extremity   \n",
       "2  ISIC_0015740  IP_7142616        65.0    male     posterior torso   \n",
       "\n",
       "   clin_size_long_diam_mm          image_type tbp_tile_type  tbp_lv_A  \\\n",
       "0                    2.70  TBP tile: close-up        3D: XP  22.80433   \n",
       "1                    2.52  TBP tile: close-up        3D: XP  16.64867   \n",
       "2                    3.16  TBP tile: close-up        3D: XP  24.25384   \n",
       "\n",
       "   tbp_lv_Aext  ...  tbp_lv_stdL  tbp_lv_stdLExt  tbp_lv_symm_2axis  \\\n",
       "0    20.007270  ...     1.281532        2.299935           0.479339   \n",
       "1     9.657964  ...     1.271940        2.011223           0.426230   \n",
       "2    19.937380  ...     1.080308        2.705857           0.366071   \n",
       "\n",
       "   tbp_lv_symm_2axis_angle   tbp_lv_x     tbp_lv_y    tbp_lv_z  \\\n",
       "0                       20 -155.06510  1511.222000  113.980100   \n",
       "1                       25 -112.36924   629.535889  -15.019287   \n",
       "2                      110  -84.29282  1303.978000  -28.576050   \n",
       "\n",
       "                                         attribution  copyright_license  \\\n",
       "0             Memorial Sloan Kettering Cancer Center              CC-BY   \n",
       "1  Frazer Institute, The University of Queensland...              CC-BY   \n",
       "2                                        FNQH Cairns              CC-BY   \n",
       "\n",
       "   target  \n",
       "0       0  \n",
       "1       0  \n",
       "2       0  \n",
       "\n",
       "[3 rows x 45 columns]"
      ]
     },
     "execution_count": 6,
     "metadata": {},
     "output_type": "execute_result"
    }
   ],
   "source": [
    "test_df = pd.read_csv(TEST_CSV)\n",
    "test_df['target'] = 0 # dummy\n",
    "print(len(test_df))\n",
    "test_df.head()"
   ]
  },
  {
   "cell_type": "code",
   "execution_count": 7,
   "id": "97a5fc7d",
   "metadata": {
    "execution": {
     "iopub.execute_input": "2024-08-05T16:44:44.082415Z",
     "iopub.status.busy": "2024-08-05T16:44:44.082066Z",
     "iopub.status.idle": "2024-08-05T16:44:44.297549Z",
     "shell.execute_reply": "2024-08-05T16:44:44.296652Z"
    },
    "papermill": {
     "duration": 0.22624,
     "end_time": "2024-08-05T16:44:44.299536",
     "exception": false,
     "start_time": "2024-08-05T16:44:44.073296",
     "status": "completed"
    },
    "tags": []
   },
   "outputs": [
    {
     "data": {
      "text/html": [
       "<div>\n",
       "<style scoped>\n",
       "    .dataframe tbody tr th:only-of-type {\n",
       "        vertical-align: middle;\n",
       "    }\n",
       "\n",
       "    .dataframe tbody tr th {\n",
       "        vertical-align: top;\n",
       "    }\n",
       "\n",
       "    .dataframe thead th {\n",
       "        text-align: right;\n",
       "    }\n",
       "</style>\n",
       "<table border=\"1\" class=\"dataframe\">\n",
       "  <thead>\n",
       "    <tr style=\"text-align: right;\">\n",
       "      <th></th>\n",
       "      <th>isic_id</th>\n",
       "      <th>target</th>\n",
       "    </tr>\n",
       "  </thead>\n",
       "  <tbody>\n",
       "    <tr>\n",
       "      <th>0</th>\n",
       "      <td>ISIC_0015657</td>\n",
       "      <td>0.3</td>\n",
       "    </tr>\n",
       "    <tr>\n",
       "      <th>1</th>\n",
       "      <td>ISIC_0015729</td>\n",
       "      <td>0.3</td>\n",
       "    </tr>\n",
       "    <tr>\n",
       "      <th>2</th>\n",
       "      <td>ISIC_0015740</td>\n",
       "      <td>0.3</td>\n",
       "    </tr>\n",
       "  </tbody>\n",
       "</table>\n",
       "</div>"
      ],
      "text/plain": [
       "        isic_id  target\n",
       "0  ISIC_0015657     0.3\n",
       "1  ISIC_0015729     0.3\n",
       "2  ISIC_0015740     0.3"
      ]
     },
     "execution_count": 7,
     "metadata": {},
     "output_type": "execute_result"
    }
   ],
   "source": [
    "df_sub = pd.read_csv(SAMPLE)\n",
    "df_sub"
   ]
  },
  {
   "cell_type": "markdown",
   "id": "c3e4eea3",
   "metadata": {
    "papermill": {
     "duration": 0.008116,
     "end_time": "2024-08-05T16:44:44.315627",
     "exception": false,
     "start_time": "2024-08-05T16:44:44.307511",
     "status": "completed"
    },
    "tags": []
   },
   "source": [
    "## Dataset and DataLoader"
   ]
  },
  {
   "cell_type": "code",
   "execution_count": 8,
   "id": "4e8aecf4",
   "metadata": {
    "execution": {
     "iopub.execute_input": "2024-08-05T16:44:44.333425Z",
     "iopub.status.busy": "2024-08-05T16:44:44.332602Z",
     "iopub.status.idle": "2024-08-05T16:44:44.339970Z",
     "shell.execute_reply": "2024-08-05T16:44:44.339126Z"
    },
    "papermill": {
     "duration": 0.018271,
     "end_time": "2024-08-05T16:44:44.341823",
     "exception": false,
     "start_time": "2024-08-05T16:44:44.323552",
     "status": "completed"
    },
    "tags": []
   },
   "outputs": [],
   "source": [
    "class ISIC(Dataset):\n",
    "    def __init__(self, df, file_hdf, transforms=None):\n",
    "        self.df = df\n",
    "        self.fp_hdf = h5py.File(file_hdf, mode=\"r\")\n",
    "        self.isic_ids = df['isic_id'].values\n",
    "        self.targets = df['target'].values\n",
    "        self.transforms = transforms\n",
    "        \n",
    "    def __len__(self):\n",
    "        return len(self.isic_ids)\n",
    "    \n",
    "    def __getitem__(self, index):\n",
    "        isic_id = self.isic_ids[index]\n",
    "        img = Image.open(BytesIO(self.fp_hdf[isic_id][()]))\n",
    "        target = self.targets[index]\n",
    "        \n",
    "        if self.transforms:\n",
    "            img = self.transforms(img)\n",
    "            \n",
    "        return {\n",
    "            'image': img,\n",
    "            'target': target,\n",
    "        }"
   ]
  },
  {
   "cell_type": "code",
   "execution_count": 9,
   "id": "48b529f0",
   "metadata": {
    "execution": {
     "iopub.execute_input": "2024-08-05T16:44:44.358625Z",
     "iopub.status.busy": "2024-08-05T16:44:44.358333Z",
     "iopub.status.idle": "2024-08-05T16:44:44.428778Z",
     "shell.execute_reply": "2024-08-05T16:44:44.427749Z"
    },
    "papermill": {
     "duration": 0.081371,
     "end_time": "2024-08-05T16:44:44.430917",
     "exception": false,
     "start_time": "2024-08-05T16:44:44.349546",
     "status": "completed"
    },
    "tags": []
   },
   "outputs": [
    {
     "name": "stdout",
     "output_type": "stream",
     "text": [
      "Training Data Size : 320847\n",
      "Validation Data Size : 40105\n",
      "Test Data Size : 40107\n"
     ]
    }
   ],
   "source": [
    "transforms_data = transforms.Compose([transforms.Resize((128,128)), transforms.ToTensor()])\n",
    "dataset = ISIC(train_df,IMAGE_HDF, transforms=transforms_data)\n",
    "test_dataset = ISIC(test_df, TEST_HDF, transforms=transforms_data)\n",
    "dataset_size = len(dataset)\n",
    "\n",
    "train_size = int(dataset_size * 0.8)               # 80%\n",
    "val_size = int(dataset_size * 0.1)                 # 10%\n",
    "test_size = dataset_size - train_size - val_size   # 10%\n",
    "\n",
    "train_dataset, val_dataset, test_dataset = random_split(dataset, [train_size, val_size, test_size])\n",
    "\n",
    "print(f\"Training Data Size : {len(train_dataset)}\")\n",
    "print(f\"Validation Data Size : {len(val_dataset)}\")\n",
    "print(f\"Test Data Size : {len(test_dataset)}\")\n",
    "\n",
    "train_loader = DataLoader(train_dataset, batch_size=CONFIG['batch_size'], shuffle=True, pin_memory=True, drop_last=True)\n",
    "val_loader = DataLoader(val_dataset, batch_size=CONFIG['batch_size'], shuffle=False, pin_memory=True, drop_last=True)\n",
    "test_loader = DataLoader(test_dataset, batch_size=CONFIG['batch_size'], shuffle=False, pin_memory=True)"
   ]
  },
  {
   "cell_type": "code",
   "execution_count": 10,
   "id": "fce932d3",
   "metadata": {
    "execution": {
     "iopub.execute_input": "2024-08-05T16:44:44.448823Z",
     "iopub.status.busy": "2024-08-05T16:44:44.448487Z",
     "iopub.status.idle": "2024-08-05T16:44:44.453446Z",
     "shell.execute_reply": "2024-08-05T16:44:44.452559Z"
    },
    "papermill": {
     "duration": 0.016348,
     "end_time": "2024-08-05T16:44:44.455509",
     "exception": false,
     "start_time": "2024-08-05T16:44:44.439161",
     "status": "completed"
    },
    "tags": []
   },
   "outputs": [
    {
     "name": "stdout",
     "output_type": "stream",
     "text": [
      "cuda\n"
     ]
    }
   ],
   "source": [
    "### GPU Setting ###\n",
    "USE_CUDA = torch.cuda.is_available()\n",
    "DEVICE = torch.device(\"cuda\" if USE_CUDA else \"cpu\")\n",
    "print(DEVICE)"
   ]
  },
  {
   "cell_type": "code",
   "execution_count": 11,
   "id": "c26ceab2",
   "metadata": {
    "execution": {
     "iopub.execute_input": "2024-08-05T16:44:44.472399Z",
     "iopub.status.busy": "2024-08-05T16:44:44.472093Z",
     "iopub.status.idle": "2024-08-05T16:44:44.479819Z",
     "shell.execute_reply": "2024-08-05T16:44:44.478971Z"
    },
    "papermill": {
     "duration": 0.018253,
     "end_time": "2024-08-05T16:44:44.481679",
     "exception": false,
     "start_time": "2024-08-05T16:44:44.463426",
     "status": "completed"
    },
    "tags": []
   },
   "outputs": [],
   "source": [
    "test_dataset = ISIC(test_df, TEST_HDF, transforms=transforms_data)\n",
    "test_loader = DataLoader(test_dataset, batch_size=CONFIG['valid_batch_size'], \n",
    "                          num_workers=2, shuffle=False, pin_memory=True)"
   ]
  },
  {
   "cell_type": "code",
   "execution_count": 12,
   "id": "b706d8dc",
   "metadata": {
    "execution": {
     "iopub.execute_input": "2024-08-05T16:44:44.499365Z",
     "iopub.status.busy": "2024-08-05T16:44:44.498632Z",
     "iopub.status.idle": "2024-08-05T16:44:46.006188Z",
     "shell.execute_reply": "2024-08-05T16:44:46.004987Z"
    },
    "papermill": {
     "duration": 1.518564,
     "end_time": "2024-08-05T16:44:46.008210",
     "exception": false,
     "start_time": "2024-08-05T16:44:44.489646",
     "status": "completed"
    },
    "tags": []
   },
   "outputs": [
    {
     "name": "stderr",
     "output_type": "stream",
     "text": [
      "/opt/conda/lib/python3.10/site-packages/torchvision/models/_utils.py:208: UserWarning: The parameter 'pretrained' is deprecated since 0.13 and may be removed in the future, please use 'weights' instead.\n",
      "  warnings.warn(\n",
      "/opt/conda/lib/python3.10/site-packages/torchvision/models/_utils.py:223: UserWarning: Arguments other than a weight enum or `None` for 'weights' are deprecated since 0.13 and may be removed in the future. The current behavior is equivalent to passing `weights=ResNet18_Weights.IMAGENET1K_V1`. You can also use `weights=ResNet18_Weights.DEFAULT` to get the most up-to-date weights.\n",
      "  warnings.warn(msg)\n",
      "Downloading: \"https://download.pytorch.org/models/resnet18-f37072fd.pth\" to /root/.cache/torch/hub/checkpoints/resnet18-f37072fd.pth\n",
      "100%|██████████| 44.7M/44.7M [00:00<00:00, 79.1MB/s]\n"
     ]
    },
    {
     "name": "stdout",
     "output_type": "stream",
     "text": [
      "Created a learning model and optimizer\n"
     ]
    }
   ],
   "source": [
    "EPOCH = 1\n",
    "lr = 0.01\n",
    "model = models.resnet18(pretrained=True)\n",
    "\n",
    "### Transfer Learning ###\n",
    "num_features = model.fc.in_features\n",
    "model.fc = nn.Linear(num_features, 1)\n",
    "model.load_state_dict(torch.load('/kaggle/input/resnet18/pytorch/default/1/best_model.pth'))\n",
    "model.to(DEVICE)\n",
    "optimizer = optim.SGD(model.parameters(), lr=lr)\n",
    "print(\"Created a learning model and optimizer\")"
   ]
  },
  {
   "cell_type": "code",
   "execution_count": 13,
   "id": "0c05f5a5",
   "metadata": {
    "execution": {
     "iopub.execute_input": "2024-08-05T16:44:46.027747Z",
     "iopub.status.busy": "2024-08-05T16:44:46.027429Z",
     "iopub.status.idle": "2024-08-05T16:44:46.033248Z",
     "shell.execute_reply": "2024-08-05T16:44:46.032413Z"
    },
    "papermill": {
     "duration": 0.017918,
     "end_time": "2024-08-05T16:44:46.035240",
     "exception": false,
     "start_time": "2024-08-05T16:44:46.017322",
     "status": "completed"
    },
    "tags": []
   },
   "outputs": [],
   "source": [
    "def compute_pauc(y_true, y_scores, min_tpr=0.8):\n",
    "    fpr, tpr, thresholds = roc_curve(y_true, y_scores)\n",
    "    \n",
    "    # Filter TPR >= min_tpr\n",
    "    indices = np.where(tpr >= min_tpr)[0]\n",
    "    \n",
    "    # Check if we have at least two points to compute pAUC\n",
    "    if len(indices) < 2:\n",
    "        return 0.0  # or any other value that signifies inability to compute pAUC\n",
    "    \n",
    "    fpr_min_tpr = fpr[indices]\n",
    "    tpr_min_tpr = tpr[indices]\n",
    "    \n",
    "    # Calculate AUC for the area above the min_tpr threshold\n",
    "    p_auc = auc(fpr_min_tpr, tpr_min_tpr)\n",
    "    \n",
    "    return p_auc"
   ]
  },
  {
   "cell_type": "code",
   "execution_count": 14,
   "id": "e0f59e0d",
   "metadata": {
    "execution": {
     "iopub.execute_input": "2024-08-05T16:44:46.055065Z",
     "iopub.status.busy": "2024-08-05T16:44:46.054740Z",
     "iopub.status.idle": "2024-08-05T16:44:46.061645Z",
     "shell.execute_reply": "2024-08-05T16:44:46.060727Z"
    },
    "papermill": {
     "duration": 0.01934,
     "end_time": "2024-08-05T16:44:46.063564",
     "exception": false,
     "start_time": "2024-08-05T16:44:46.044224",
     "status": "completed"
    },
    "tags": []
   },
   "outputs": [],
   "source": [
    "### Train/Evaluation ###\n",
    "def train(model, train_loader, optimizer, epoch):\n",
    "    model.train()\n",
    "    train_loader_tqdm = tqdm(train_loader, desc=f\"Epoch {epoch}\", leave=False)\n",
    "    total_loss = 0.0\n",
    "\n",
    "    for i, batch in enumerate(train_loader_tqdm):\n",
    "        image, target = batch['image'].to(DEVICE), batch['target'].to(DEVICE).float()\n",
    "        \n",
    "        output = model(image)\n",
    "        train_loss = F.binary_cross_entropy_with_logits(output.squeeze(), target).to(DEVICE)\n",
    "\n",
    "        train_loss.backward()\n",
    "        optimizer.step()\n",
    "\n",
    "        total_loss += train_loss.item()\n",
    "        train_loader_tqdm.set_postfix(loss=train_loss.item())\n",
    "\n",
    "    avg_loss = total_loss / len(train_loader)\n",
    "    return avg_loss"
   ]
  },
  {
   "cell_type": "code",
   "execution_count": 15,
   "id": "d54d202d",
   "metadata": {
    "execution": {
     "iopub.execute_input": "2024-08-05T16:44:46.083827Z",
     "iopub.status.busy": "2024-08-05T16:44:46.083005Z",
     "iopub.status.idle": "2024-08-05T16:44:46.091012Z",
     "shell.execute_reply": "2024-08-05T16:44:46.090177Z"
    },
    "papermill": {
     "duration": 0.020173,
     "end_time": "2024-08-05T16:44:46.093024",
     "exception": false,
     "start_time": "2024-08-05T16:44:46.072851",
     "status": "completed"
    },
    "tags": []
   },
   "outputs": [],
   "source": [
    "def evaluate(model, data_loader):\n",
    "    model.eval()\n",
    "    y_true = []\n",
    "    y_scores = []\n",
    "    total_loss = 0\n",
    "\n",
    "    with torch.no_grad():\n",
    "        for batch in tqdm(data_loader):\n",
    "            images, targets = batch['image'].to(DEVICE), batch['target'].to(DEVICE)\n",
    "            outputs = model(images)\n",
    "            probs = torch.sigmoid(outputs).squeeze()\n",
    "\n",
    "            loss = F.binary_cross_entropy_with_logits(outputs.squeeze(), targets.float())\n",
    "            total_loss += loss.item()\n",
    "\n",
    "            y_true.extend(targets.cpu().numpy())\n",
    "            y_scores.extend(probs.cpu().numpy())\n",
    "\n",
    "    avg_loss = total_loss / len(data_loader)\n",
    "    y_true = np.array(y_true)\n",
    "    y_scores = np.array(y_scores)\n",
    "    pauc = compute_pauc(y_true, y_scores, min_tpr=0.8)\n",
    "\n",
    "    return avg_loss, pauc"
   ]
  },
  {
   "cell_type": "code",
   "execution_count": 16,
   "id": "405a6e30",
   "metadata": {
    "execution": {
     "iopub.execute_input": "2024-08-05T16:44:46.112241Z",
     "iopub.status.busy": "2024-08-05T16:44:46.111915Z",
     "iopub.status.idle": "2024-08-05T16:44:47.040785Z",
     "shell.execute_reply": "2024-08-05T16:44:47.039620Z"
    },
    "papermill": {
     "duration": 0.9409,
     "end_time": "2024-08-05T16:44:47.042963",
     "exception": false,
     "start_time": "2024-08-05T16:44:46.102063",
     "status": "completed"
    },
    "tags": []
   },
   "outputs": [
    {
     "name": "stderr",
     "output_type": "stream",
     "text": [
      "100%|██████████| 1/1 [00:00<00:00,  1.10it/s]"
     ]
    },
    {
     "name": "stdout",
     "output_type": "stream",
     "text": [
      "[FINAL] Test Loss 0.0000, pAUC: 0.0000, pAUC(above 80% TPR): 0.0000\n",
      "\n",
      "Elapsed Time: 0h, 0m, 0s\n",
      "time: 0h, 0m, 0s\n"
     ]
    },
    {
     "name": "stderr",
     "output_type": "stream",
     "text": [
      "\n",
      "/opt/conda/lib/python3.10/site-packages/sklearn/metrics/_ranking.py:1029: UndefinedMetricWarning: No positive samples in y_true, true positive value should be meaningless\n",
      "  warnings.warn(\n"
     ]
    }
   ],
   "source": [
    "start = time.time()\n",
    "best = 0\n",
    "\n",
    "'''for epoch in range(EPOCH):\n",
    "    train_loss = train(model, train_loader, optimizer, epoch)\n",
    "    val_loss, val_pauc = evaluate(model, val_loader)\n",
    "\n",
    "    if val_pauc > best:\n",
    "        best = val_pauc\n",
    "        torch.save(model.state_dict(), \"./best_model.pth\")\n",
    "    print(f'\\n\\n[Epoch {epoch}] Training Loss: {train_loss:.4f}, Validation Loss: {val_loss:.4f}, pAUC(above 80% TPR): {val_pauc:.4f}\\n')'''\n",
    "    \n",
    "\n",
    "test_loss, test_pauc = evaluate(model, test_loader)\n",
    "print(f'[FINAL] Test Loss {test_loss:.4f}, pAUC: {test_pauc:.4f}, pAUC(above 80% TPR): {test_pauc:.4f}\\n')\n",
    "\n",
    "end = time.time()\n",
    "elapsed_time = end - start\n",
    "\n",
    "print(f\"Elapsed Time: {int(elapsed_time/3600)}h, {int(elapsed_time/60)}m, {int(elapsed_time%60)}s\")\n",
    "print(f\"time: {int(elapsed_time/3600)}h, {int(elapsed_time/60)}m, {int(elapsed_time%60)}s\")"
   ]
  },
  {
   "cell_type": "markdown",
   "id": "45651065",
   "metadata": {
    "papermill": {
     "duration": 0.00914,
     "end_time": "2024-08-05T16:44:47.061493",
     "exception": false,
     "start_time": "2024-08-05T16:44:47.052353",
     "status": "completed"
    },
    "tags": []
   },
   "source": [
    "## Making Submission"
   ]
  },
  {
   "cell_type": "code",
   "execution_count": 17,
   "id": "d20db4fc",
   "metadata": {
    "execution": {
     "iopub.execute_input": "2024-08-05T16:44:47.081507Z",
     "iopub.status.busy": "2024-08-05T16:44:47.081124Z",
     "iopub.status.idle": "2024-08-05T16:44:47.087957Z",
     "shell.execute_reply": "2024-08-05T16:44:47.087261Z"
    },
    "papermill": {
     "duration": 0.019157,
     "end_time": "2024-08-05T16:44:47.089775",
     "exception": false,
     "start_time": "2024-08-05T16:44:47.070618",
     "status": "completed"
    },
    "tags": []
   },
   "outputs": [],
   "source": [
    "test_dataset = ISIC(test_df, TEST_HDF, transforms=transforms_data)\n",
    "test_loader = DataLoader(test_dataset, batch_size=CONFIG['valid_batch_size'], \n",
    "                          num_workers=2, shuffle=False, pin_memory=True)"
   ]
  },
  {
   "cell_type": "code",
   "execution_count": 18,
   "id": "6efbef88",
   "metadata": {
    "execution": {
     "iopub.execute_input": "2024-08-05T16:44:47.109600Z",
     "iopub.status.busy": "2024-08-05T16:44:47.109294Z",
     "iopub.status.idle": "2024-08-05T16:44:47.201608Z",
     "shell.execute_reply": "2024-08-05T16:44:47.200399Z"
    },
    "papermill": {
     "duration": 0.104718,
     "end_time": "2024-08-05T16:44:47.203736",
     "exception": false,
     "start_time": "2024-08-05T16:44:47.099018",
     "status": "completed"
    },
    "tags": []
   },
   "outputs": [
    {
     "name": "stderr",
     "output_type": "stream",
     "text": [
      "100%|██████████| 1/1 [00:00<00:00, 20.10it/s]\n"
     ]
    }
   ],
   "source": [
    "preds = []\n",
    "with torch.no_grad():\n",
    "    bar = tqdm(enumerate(test_loader), total=len(test_loader))\n",
    "    for step, data in bar:        \n",
    "        images = data['image'].to(CONFIG[\"device\"], dtype=torch.float)        \n",
    "        batch_size = images.size(0)\n",
    "        outputs = torch.sigmoid(model(images)).squeeze()\n",
    "        \n",
    "        preds.append( outputs.detach().cpu().numpy() )\n",
    "preds = np.concatenate(preds).flatten()"
   ]
  },
  {
   "cell_type": "code",
   "execution_count": 19,
   "id": "a45cd9a7",
   "metadata": {
    "execution": {
     "iopub.execute_input": "2024-08-05T16:44:47.224554Z",
     "iopub.status.busy": "2024-08-05T16:44:47.224242Z",
     "iopub.status.idle": "2024-08-05T16:44:47.234235Z",
     "shell.execute_reply": "2024-08-05T16:44:47.233371Z"
    },
    "papermill": {
     "duration": 0.02282,
     "end_time": "2024-08-05T16:44:47.236193",
     "exception": false,
     "start_time": "2024-08-05T16:44:47.213373",
     "status": "completed"
    },
    "tags": []
   },
   "outputs": [],
   "source": [
    "df_sub[\"target\"] = preds\n",
    "df_sub.to_csv(\"submission.csv\", index=False)"
   ]
  },
  {
   "cell_type": "code",
   "execution_count": 20,
   "id": "3009b4f9",
   "metadata": {
    "execution": {
     "iopub.execute_input": "2024-08-05T16:44:47.256554Z",
     "iopub.status.busy": "2024-08-05T16:44:47.255998Z",
     "iopub.status.idle": "2024-08-05T16:44:47.266751Z",
     "shell.execute_reply": "2024-08-05T16:44:47.265875Z"
    },
    "papermill": {
     "duration": 0.022883,
     "end_time": "2024-08-05T16:44:47.268631",
     "exception": false,
     "start_time": "2024-08-05T16:44:47.245748",
     "status": "completed"
    },
    "tags": []
   },
   "outputs": [
    {
     "data": {
      "text/html": [
       "<div>\n",
       "<style scoped>\n",
       "    .dataframe tbody tr th:only-of-type {\n",
       "        vertical-align: middle;\n",
       "    }\n",
       "\n",
       "    .dataframe tbody tr th {\n",
       "        vertical-align: top;\n",
       "    }\n",
       "\n",
       "    .dataframe thead th {\n",
       "        text-align: right;\n",
       "    }\n",
       "</style>\n",
       "<table border=\"1\" class=\"dataframe\">\n",
       "  <thead>\n",
       "    <tr style=\"text-align: right;\">\n",
       "      <th></th>\n",
       "      <th>isic_id</th>\n",
       "      <th>target</th>\n",
       "    </tr>\n",
       "  </thead>\n",
       "  <tbody>\n",
       "    <tr>\n",
       "      <th>0</th>\n",
       "      <td>ISIC_0015657</td>\n",
       "      <td>0.000000e+00</td>\n",
       "    </tr>\n",
       "    <tr>\n",
       "      <th>1</th>\n",
       "      <td>ISIC_0015729</td>\n",
       "      <td>0.000000e+00</td>\n",
       "    </tr>\n",
       "    <tr>\n",
       "      <th>2</th>\n",
       "      <td>ISIC_0015740</td>\n",
       "      <td>1.911362e-14</td>\n",
       "    </tr>\n",
       "  </tbody>\n",
       "</table>\n",
       "</div>"
      ],
      "text/plain": [
       "        isic_id        target\n",
       "0  ISIC_0015657  0.000000e+00\n",
       "1  ISIC_0015729  0.000000e+00\n",
       "2  ISIC_0015740  1.911362e-14"
      ]
     },
     "execution_count": 20,
     "metadata": {},
     "output_type": "execute_result"
    }
   ],
   "source": [
    "df_sub"
   ]
  }
 ],
 "metadata": {
  "kaggle": {
   "accelerator": "gpu",
   "dataSources": [
    {
     "databundleVersionId": 9094797,
     "sourceId": 63056,
     "sourceType": "competition"
    },
    {
     "isSourceIdPinned": true,
     "modelId": 99447,
     "modelInstanceId": 74695,
     "sourceId": 89035,
     "sourceType": "modelInstanceVersion"
    }
   ],
   "dockerImageVersionId": 30747,
   "isGpuEnabled": true,
   "isInternetEnabled": true,
   "language": "python",
   "sourceType": "notebook"
  },
  "kernelspec": {
   "display_name": "Python 3",
   "language": "python",
   "name": "python3"
  },
  "language_info": {
   "codemirror_mode": {
    "name": "ipython",
    "version": 3
   },
   "file_extension": ".py",
   "mimetype": "text/x-python",
   "name": "python",
   "nbconvert_exporter": "python",
   "pygments_lexer": "ipython3",
   "version": "3.10.13"
  },
  "papermill": {
   "default_parameters": {},
   "duration": 23.242473,
   "end_time": "2024-08-05T16:44:49.938055",
   "environment_variables": {},
   "exception": null,
   "input_path": "__notebook__.ipynb",
   "output_path": "__notebook__.ipynb",
   "parameters": {},
   "start_time": "2024-08-05T16:44:26.695582",
   "version": "2.5.0"
  }
 },
 "nbformat": 4,
 "nbformat_minor": 5
}
