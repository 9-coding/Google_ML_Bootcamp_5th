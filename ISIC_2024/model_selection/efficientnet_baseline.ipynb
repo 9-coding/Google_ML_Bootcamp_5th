{
  "metadata": {
    "kaggle": {
      "accelerator": "gpu",
      "dataSources": [
        {
          "sourceId": 63056,
          "databundleVersionId": 9094797,
          "sourceType": "competition"
        },
        {
          "sourceId": 3724,
          "sourceType": "modelInstanceVersion",
          "isSourceIdPinned": true,
          "modelInstanceId": 2651,
          "modelId": 311
        },
        {
          "sourceId": 3728,
          "sourceType": "modelInstanceVersion",
          "isSourceIdPinned": true,
          "modelInstanceId": 2655,
          "modelId": 311
        },
        {
          "sourceId": 3729,
          "sourceType": "modelInstanceVersion",
          "modelInstanceId": 2656,
          "modelId": 312
        },
        {
          "sourceId": 3732,
          "sourceType": "modelInstanceVersion",
          "isSourceIdPinned": true,
          "modelInstanceId": 2659,
          "modelId": 312
        }
      ],
      "isInternetEnabled": true,
      "language": "python",
      "sourceType": "notebook",
      "isGpuEnabled": true
    },
    "kernelspec": {
      "display_name": "Python 3",
      "language": "python",
      "name": "python3"
    },
    "language_info": {
      "codemirror_mode": {
        "name": "ipython",
        "version": 3
      },
      "file_extension": ".py",
      "mimetype": "text/x-python",
      "name": "python",
      "nbconvert_exporter": "python",
      "pygments_lexer": "ipython3",
      "version": "3.10.13"
    },
    "papermill": {
      "default_parameters": {},
      "duration": 793.680734,
      "end_time": "2024-06-29T23:30:34.642937",
      "environment_variables": {},
      "exception": null,
      "input_path": "__notebook__.ipynb",
      "output_path": "__notebook__.ipynb",
      "parameters": {},
      "start_time": "2024-06-29T23:17:20.962203",
      "version": "2.5.0"
    },
    "widgets": {
      "application/vnd.jupyter.widget-state+json": {}
    },
    "colab": {
      "provenance": []
    }
  },
  "nbformat_minor": 0,
  "nbformat": 4,
  "cells": [
    {
      "cell_type": "markdown",
      "source": [
        "# <span><h1 style = \"font-family: garamond; font-size: 40px; font-style: normal; letter-spcaing: 3px; background-color: #f6f5f5; color :#fe346e; border-radius: 100px 100px; text-align:center\">Import Required Libraries 📚</h1></span>"
      ],
      "metadata": {
        "papermill": {
          "duration": 0.01095,
          "end_time": "2024-06-29T23:17:23.709233",
          "exception": false,
          "start_time": "2024-06-29T23:17:23.698283",
          "status": "completed"
        },
        "tags": [],
        "id": "JBO5UQZtm5RF"
      }
    },
    {
      "cell_type": "code",
      "source": [
        "!pip install torcheval"
      ],
      "metadata": {
        "papermill": {
          "duration": 13.648463,
          "end_time": "2024-06-29T23:17:37.368242",
          "exception": false,
          "start_time": "2024-06-29T23:17:23.719779",
          "status": "completed"
        },
        "tags": [],
        "execution": {
          "iopub.status.busy": "2024-08-13T08:03:40.020538Z",
          "iopub.execute_input": "2024-08-13T08:03:40.020920Z",
          "iopub.status.idle": "2024-08-13T08:03:53.507385Z",
          "shell.execute_reply.started": "2024-08-13T08:03:40.020891Z",
          "shell.execute_reply": "2024-08-13T08:03:53.506420Z"
        },
        "trusted": true,
        "id": "h_ijJtA7m5RJ",
        "outputId": "39ede119-fe66-49ec-c59b-ff54f12bc4bc"
      },
      "execution_count": null,
      "outputs": [
        {
          "name": "stdout",
          "text": "Collecting torcheval\n  Downloading torcheval-0.0.7-py3-none-any.whl.metadata (8.6 kB)\nRequirement already satisfied: typing-extensions in /opt/conda/lib/python3.10/site-packages (from torcheval) (4.9.0)\nDownloading torcheval-0.0.7-py3-none-any.whl (179 kB)\n\u001b[2K   \u001b[90m━━━━━━━━━━━━━━━━━━━━━━━━━━━━━━━━━━━━━━━━\u001b[0m \u001b[32m179.2/179.2 kB\u001b[0m \u001b[31m12.9 MB/s\u001b[0m eta \u001b[36m0:00:00\u001b[0m\n\u001b[?25hInstalling collected packages: torcheval\nSuccessfully installed torcheval-0.0.7\n",
          "output_type": "stream"
        }
      ]
    },
    {
      "cell_type": "code",
      "source": [
        "!pip install --quiet wandb"
      ],
      "metadata": {
        "execution": {
          "iopub.status.busy": "2024-08-13T08:03:53.509379Z",
          "iopub.execute_input": "2024-08-13T08:03:53.509700Z",
          "iopub.status.idle": "2024-08-13T08:04:05.647581Z",
          "shell.execute_reply.started": "2024-08-13T08:03:53.509672Z",
          "shell.execute_reply": "2024-08-13T08:04:05.646460Z"
        },
        "trusted": true,
        "id": "Z0AEe7I7m5RM"
      },
      "execution_count": null,
      "outputs": []
    },
    {
      "cell_type": "code",
      "source": [
        "!pip install --quiet --pre timm"
      ],
      "metadata": {
        "execution": {
          "iopub.status.busy": "2024-08-13T08:04:05.648965Z",
          "iopub.execute_input": "2024-08-13T08:04:05.649295Z",
          "iopub.status.idle": "2024-08-13T08:04:17.628621Z",
          "shell.execute_reply.started": "2024-08-13T08:04:05.649266Z",
          "shell.execute_reply": "2024-08-13T08:04:17.627522Z"
        },
        "trusted": true,
        "id": "YoBDLc3Fm5RN"
      },
      "execution_count": null,
      "outputs": []
    },
    {
      "cell_type": "code",
      "source": [
        "!wandb login 38797e5fb1be476dd3af2891a6182c18cfd5a10a"
      ],
      "metadata": {
        "execution": {
          "iopub.status.busy": "2024-08-13T08:04:17.631022Z",
          "iopub.execute_input": "2024-08-13T08:04:17.631368Z",
          "iopub.status.idle": "2024-08-13T08:04:19.623081Z",
          "shell.execute_reply.started": "2024-08-13T08:04:17.631339Z",
          "shell.execute_reply": "2024-08-13T08:04:19.621670Z"
        },
        "trusted": true,
        "id": "wIaFrjsnm5RO",
        "outputId": "a54dff74-23d4-40d3-ccae-501a6ef4e8a2"
      },
      "execution_count": null,
      "outputs": [
        {
          "name": "stdout",
          "text": "\u001b[34m\u001b[1mwandb\u001b[0m: \u001b[33mWARNING\u001b[0m If you're specifying your api key in code, ensure this code is not shared publicly.\n\u001b[34m\u001b[1mwandb\u001b[0m: \u001b[33mWARNING\u001b[0m Consider setting the WANDB_API_KEY environment variable, or running `wandb login` from the command line.\n\u001b[34m\u001b[1mwandb\u001b[0m: Appending key for api.wandb.ai to your netrc file: /root/.netrc\n",
          "output_type": "stream"
        }
      ]
    },
    {
      "cell_type": "code",
      "source": [
        "import wandb\n",
        "wandb.init(project='ISIC_2024')\n",
        "wandb.run.name = 'efficient-b0_lr-0.001_Adam'"
      ],
      "metadata": {
        "execution": {
          "iopub.status.busy": "2024-08-13T08:04:19.624613Z",
          "iopub.execute_input": "2024-08-13T08:04:19.624971Z",
          "iopub.status.idle": "2024-08-13T08:04:37.997728Z",
          "shell.execute_reply.started": "2024-08-13T08:04:19.624941Z",
          "shell.execute_reply": "2024-08-13T08:04:37.996851Z"
        },
        "trusted": true,
        "id": "J-3YFC1Um5RP",
        "outputId": "4238ae2e-3c3c-4ff6-bd05-9aec72eee726"
      },
      "execution_count": null,
      "outputs": [
        {
          "name": "stderr",
          "text": "\u001b[34m\u001b[1mwandb\u001b[0m: Currently logged in as: \u001b[33m9-coding-lab\u001b[0m (\u001b[33m9-coding\u001b[0m). Use \u001b[1m`wandb login --relogin`\u001b[0m to force relogin\n",
          "output_type": "stream"
        },
        {
          "output_type": "display_data",
          "data": {
            "text/plain": "<IPython.core.display.HTML object>",
            "text/html": "wandb version 0.17.6 is available!  To upgrade, please run:\n $ pip install wandb --upgrade"
          },
          "metadata": {}
        },
        {
          "output_type": "display_data",
          "data": {
            "text/plain": "<IPython.core.display.HTML object>",
            "text/html": "Tracking run with wandb version 0.17.4"
          },
          "metadata": {}
        },
        {
          "output_type": "display_data",
          "data": {
            "text/plain": "<IPython.core.display.HTML object>",
            "text/html": "Run data is saved locally in <code>/kaggle/working/wandb/run-20240813_080420-oe8ge39e</code>"
          },
          "metadata": {}
        },
        {
          "output_type": "display_data",
          "data": {
            "text/plain": "<IPython.core.display.HTML object>",
            "text/html": "Syncing run <strong><a href='https://wandb.ai/9-coding/ISIC_2024/runs/oe8ge39e' target=\"_blank\">efficient-salad-20</a></strong> to <a href='https://wandb.ai/9-coding/ISIC_2024' target=\"_blank\">Weights & Biases</a> (<a href='https://wandb.me/run' target=\"_blank\">docs</a>)<br/>"
          },
          "metadata": {}
        },
        {
          "output_type": "display_data",
          "data": {
            "text/plain": "<IPython.core.display.HTML object>",
            "text/html": " View project at <a href='https://wandb.ai/9-coding/ISIC_2024' target=\"_blank\">https://wandb.ai/9-coding/ISIC_2024</a>"
          },
          "metadata": {}
        },
        {
          "output_type": "display_data",
          "data": {
            "text/plain": "<IPython.core.display.HTML object>",
            "text/html": " View run at <a href='https://wandb.ai/9-coding/ISIC_2024/runs/oe8ge39e' target=\"_blank\">https://wandb.ai/9-coding/ISIC_2024/runs/oe8ge39e</a>"
          },
          "metadata": {}
        }
      ]
    },
    {
      "cell_type": "code",
      "source": [
        "import os\n",
        "import gc\n",
        "import cv2\n",
        "import math\n",
        "import copy\n",
        "import time\n",
        "import random\n",
        "import glob\n",
        "from matplotlib import pyplot as plt\n",
        "\n",
        "# For data manipulation\n",
        "import numpy as np\n",
        "import pandas as pd\n",
        "\n",
        "# Pytorch Imports\n",
        "import torch\n",
        "import torch.nn as nn\n",
        "import torch.optim as optim\n",
        "import torch.nn.functional as F\n",
        "from torch.optim import lr_scheduler\n",
        "from torch.utils.data import Dataset, DataLoader\n",
        "from torch.cuda import amp\n",
        "import torchvision\n",
        "\n",
        "import torchvision.models as models\n",
        "from torcheval.metrics.functional import binary_auroc\n",
        "\n",
        "# Utils\n",
        "import joblib\n",
        "from tqdm import tqdm\n",
        "from collections import defaultdict\n",
        "\n",
        "# Sklearn Imports\n",
        "from sklearn.preprocessing import LabelEncoder\n",
        "from sklearn.model_selection import StratifiedKFold, StratifiedGroupKFold\n",
        "\n",
        "# For Image Models\n",
        "import timm\n",
        "\n",
        "# Albumentations for augmentations\n",
        "import albumentations as A\n",
        "from albumentations.pytorch import ToTensorV2\n",
        "\n",
        "# For colored terminal text\n",
        "from colorama import Fore, Back, Style\n",
        "b_ = Fore.BLUE\n",
        "sr_ = Style.RESET_ALL\n",
        "\n",
        "import warnings\n",
        "warnings.filterwarnings(\"ignore\")\n",
        "\n",
        "# For descriptive error messages\n",
        "os.environ['CUDA_LAUNCH_BLOCKING'] = \"1\""
      ],
      "metadata": {
        "papermill": {
          "duration": 9.086974,
          "end_time": "2024-06-29T23:17:46.466572",
          "exception": false,
          "start_time": "2024-06-29T23:17:37.379598",
          "status": "completed"
        },
        "tags": [],
        "execution": {
          "iopub.status.busy": "2024-08-13T08:04:37.998877Z",
          "iopub.execute_input": "2024-08-13T08:04:37.999175Z",
          "iopub.status.idle": "2024-08-13T08:04:44.765804Z",
          "shell.execute_reply.started": "2024-08-13T08:04:37.999152Z",
          "shell.execute_reply": "2024-08-13T08:04:44.764810Z"
        },
        "trusted": true,
        "id": "qOsryR3jm5RQ"
      },
      "execution_count": null,
      "outputs": []
    },
    {
      "cell_type": "markdown",
      "source": [
        "# <span><h1 style = \"font-family: garamond; font-size: 40px; font-style: normal; letter-spcaing: 3px; background-color: #f6f5f5; color :#fe346e; border-radius: 100px 100px; text-align:center\">Training Configuration ⚙️</h1></span>"
      ],
      "metadata": {
        "papermill": {
          "duration": 0.011519,
          "end_time": "2024-06-29T23:17:46.48929",
          "exception": false,
          "start_time": "2024-06-29T23:17:46.477771",
          "status": "completed"
        },
        "tags": [],
        "id": "54n1Ow7Im5RR"
      }
    },
    {
      "cell_type": "code",
      "source": [
        "CONFIG = {\n",
        "    \"seed\": 42,\n",
        "    \"epochs\": 50,\n",
        "    \"img_size\": 384,\n",
        "    \"model_name\": \"tf_efficientnet_b0_ns\",\n",
        "    \"checkpoint_path\" : \"/kaggle/input/tf-efficientnet/pytorch/tf-efficientnet-b0/1/tf_efficientnet_b0_aa-827b6e33.pth\",\n",
        "    \"train_batch_size\": 32,\n",
        "    \"valid_batch_size\": 64,\n",
        "    \"learning_rate\": 1e-3,\n",
        "    \"scheduler\": 'CosineAnnealingLR',\n",
        "    \"min_lr\": 1e-6,\n",
        "    \"T_max\": 500,\n",
        "    \"weight_decay\": 1e-6,\n",
        "    \"fold\" : 0,\n",
        "    \"n_fold\": 5,\n",
        "    \"n_accumulate\": 1,\n",
        "    \"device\": torch.device(\"cuda:0\" if torch.cuda.is_available() else \"cpu\"),\n",
        "}"
      ],
      "metadata": {
        "papermill": {
          "duration": 0.07116,
          "end_time": "2024-06-29T23:17:46.571192",
          "exception": false,
          "start_time": "2024-06-29T23:17:46.500032",
          "status": "completed"
        },
        "tags": [],
        "execution": {
          "iopub.status.busy": "2024-08-13T08:04:44.767154Z",
          "iopub.execute_input": "2024-08-13T08:04:44.767738Z",
          "iopub.status.idle": "2024-08-13T08:04:44.800441Z",
          "shell.execute_reply.started": "2024-08-13T08:04:44.767703Z",
          "shell.execute_reply": "2024-08-13T08:04:44.799286Z"
        },
        "trusted": true,
        "id": "oF4zj19zm5RS"
      },
      "execution_count": null,
      "outputs": []
    },
    {
      "cell_type": "markdown",
      "source": [
        "# <span><h1 style = \"font-family: garamond; font-size: 40px; font-style: normal; letter-spcaing: 3px; background-color: #f6f5f5; color :#fe346e; border-radius: 100px 100px; text-align:center\">Set Seed for Reproducibility</h1></span>"
      ],
      "metadata": {
        "papermill": {
          "duration": 0.010587,
          "end_time": "2024-06-29T23:17:46.59285",
          "exception": false,
          "start_time": "2024-06-29T23:17:46.582263",
          "status": "completed"
        },
        "tags": [],
        "id": "I_DoTXBAm5RT"
      }
    },
    {
      "cell_type": "code",
      "source": [
        "def set_seed(seed=42):\n",
        "    '''Sets the seed of the entire notebook so results are the same every time we run.\n",
        "    This is for REPRODUCIBILITY.'''\n",
        "    np.random.seed(seed)\n",
        "    torch.manual_seed(seed)\n",
        "    torch.cuda.manual_seed(seed)\n",
        "    # When running on the CuDNN backend, two further options must be set\n",
        "    torch.backends.cudnn.deterministic = True\n",
        "    torch.backends.cudnn.benchmark = False\n",
        "    # Set a fixed value for the hash seed\n",
        "    os.environ['PYTHONHASHSEED'] = str(seed)\n",
        "\n",
        "set_seed(CONFIG['seed'])"
      ],
      "metadata": {
        "papermill": {
          "duration": 0.021715,
          "end_time": "2024-06-29T23:17:46.625274",
          "exception": false,
          "start_time": "2024-06-29T23:17:46.603559",
          "status": "completed"
        },
        "tags": [],
        "execution": {
          "iopub.status.busy": "2024-08-13T08:04:44.802112Z",
          "iopub.execute_input": "2024-08-13T08:04:44.802508Z",
          "iopub.status.idle": "2024-08-13T08:04:44.813920Z",
          "shell.execute_reply.started": "2024-08-13T08:04:44.802473Z",
          "shell.execute_reply": "2024-08-13T08:04:44.813102Z"
        },
        "trusted": true,
        "id": "TyThRMhAm5RT"
      },
      "execution_count": null,
      "outputs": []
    },
    {
      "cell_type": "code",
      "source": [
        "ROOT_DIR = \"/kaggle/input/isic-2024-challenge\"\n",
        "TRAIN_DIR = f'{ROOT_DIR}/train-image/image'"
      ],
      "metadata": {
        "papermill": {
          "duration": 0.017083,
          "end_time": "2024-06-29T23:17:46.653209",
          "exception": false,
          "start_time": "2024-06-29T23:17:46.636126",
          "status": "completed"
        },
        "tags": [],
        "execution": {
          "iopub.status.busy": "2024-08-13T08:04:44.817027Z",
          "iopub.execute_input": "2024-08-13T08:04:44.817352Z",
          "iopub.status.idle": "2024-08-13T08:04:44.823554Z",
          "shell.execute_reply.started": "2024-08-13T08:04:44.817329Z",
          "shell.execute_reply": "2024-08-13T08:04:44.822656Z"
        },
        "trusted": true,
        "id": "ekYwrx6Ym5RU"
      },
      "execution_count": null,
      "outputs": []
    },
    {
      "cell_type": "code",
      "source": [
        "def get_train_file_path(image_id):\n",
        "    return f\"{TRAIN_DIR}/{image_id}.jpg\""
      ],
      "metadata": {
        "papermill": {
          "duration": 0.017155,
          "end_time": "2024-06-29T23:17:46.681165",
          "exception": false,
          "start_time": "2024-06-29T23:17:46.66401",
          "status": "completed"
        },
        "tags": [],
        "execution": {
          "iopub.status.busy": "2024-08-13T08:04:44.826936Z",
          "iopub.execute_input": "2024-08-13T08:04:44.827309Z",
          "iopub.status.idle": "2024-08-13T08:04:44.833643Z",
          "shell.execute_reply.started": "2024-08-13T08:04:44.827285Z",
          "shell.execute_reply": "2024-08-13T08:04:44.832532Z"
        },
        "trusted": true,
        "id": "4mZLNhM5m5RU"
      },
      "execution_count": null,
      "outputs": []
    },
    {
      "cell_type": "markdown",
      "source": [
        "# <h1 style = \"font-family: garamond; font-size: 40px; font-style: normal; letter-spcaing: 3px; background-color: #f6f5f5; color :#fe346e; border-radius: 100px 100px; text-align:center\">Read the Data 📖</h1>"
      ],
      "metadata": {
        "papermill": {
          "duration": 0.010728,
          "end_time": "2024-06-29T23:17:46.702763",
          "exception": false,
          "start_time": "2024-06-29T23:17:46.692035",
          "status": "completed"
        },
        "tags": [],
        "id": "vfkUHvmem5RV"
      }
    },
    {
      "cell_type": "code",
      "source": [
        "train_images = sorted(glob.glob(f\"{TRAIN_DIR}/*.jpg\"))"
      ],
      "metadata": {
        "papermill": {
          "duration": 4.053439,
          "end_time": "2024-06-29T23:17:50.766866",
          "exception": false,
          "start_time": "2024-06-29T23:17:46.713427",
          "status": "completed"
        },
        "tags": [],
        "execution": {
          "iopub.status.busy": "2024-08-13T08:04:44.834656Z",
          "iopub.execute_input": "2024-08-13T08:04:44.834906Z",
          "iopub.status.idle": "2024-08-13T08:04:50.277869Z",
          "shell.execute_reply.started": "2024-08-13T08:04:44.834884Z",
          "shell.execute_reply": "2024-08-13T08:04:50.276706Z"
        },
        "trusted": true,
        "id": "WyWVdQOnm5RV"
      },
      "execution_count": null,
      "outputs": []
    },
    {
      "cell_type": "code",
      "source": [
        "df = pd.read_csv(f\"{ROOT_DIR}/train-metadata.csv\")\n",
        "\n",
        "print(\"        df.shape, # of positive cases, # of patients\")\n",
        "print(\"original>\", df.shape, df.target.sum(), df[\"patient_id\"].unique().shape)\n",
        "\n",
        "df_positive = df[df[\"target\"] == 1].reset_index(drop=True)\n",
        "df_negative = df[df[\"target\"] == 0].reset_index(drop=True)\n",
        "\n",
        "df = pd.concat([df_positive, df_negative.iloc[:df_positive.shape[0]*20, :]])  # positive:negative = 1:20\n",
        "print(\"filtered>\", df.shape, df.target.sum(), df[\"patient_id\"].unique().shape)\n",
        "\n",
        "df['file_path'] = df['isic_id'].apply(get_train_file_path)\n",
        "df = df[ df[\"file_path\"].isin(train_images) ].reset_index(drop=True)\n",
        "df"
      ],
      "metadata": {
        "papermill": {
          "duration": 7.631613,
          "end_time": "2024-06-29T23:17:58.409773",
          "exception": false,
          "start_time": "2024-06-29T23:17:50.77816",
          "status": "completed"
        },
        "tags": [],
        "execution": {
          "iopub.status.busy": "2024-08-13T08:04:50.279749Z",
          "iopub.execute_input": "2024-08-13T08:04:50.280221Z",
          "iopub.status.idle": "2024-08-13T08:04:58.023971Z",
          "shell.execute_reply.started": "2024-08-13T08:04:50.280178Z",
          "shell.execute_reply": "2024-08-13T08:04:58.022760Z"
        },
        "trusted": true,
        "id": "TaJ1za2Qm5RV",
        "outputId": "59d88b1a-32e0-4087-cbd5-a1a2a4e1966d"
      },
      "execution_count": null,
      "outputs": [
        {
          "name": "stdout",
          "text": "        df.shape, # of positive cases, # of patients\noriginal> (401059, 55) 393 (1042,)\nfiltered> (8253, 55) 393 (950,)\n",
          "output_type": "stream"
        },
        {
          "execution_count": 13,
          "output_type": "execute_result",
          "data": {
            "text/plain": "           isic_id  target  patient_id  age_approx     sex  \\\n0     ISIC_0082829       1  IP_3249371        80.0  female   \n1     ISIC_0096034       1  IP_6723298        75.0    male   \n2     ISIC_0104229       1  IP_9057861        80.0    male   \n3     ISIC_0119495       1  IP_6856511        60.0    male   \n4     ISIC_0157834       1  IP_3927284        55.0    male   \n...            ...     ...         ...         ...     ...   \n8248  ISIC_0267522       0  IP_9577633        50.0    male   \n8249  ISIC_0267560       0  IP_7746572        80.0    male   \n8250  ISIC_0267568       0  IP_0379091        60.0    male   \n8251  ISIC_0267594       0  IP_1433033        70.0     NaN   \n8252  ISIC_0267606       0  IP_8565023        30.0    male   \n\n     anatom_site_general  clin_size_long_diam_mm          image_type  \\\n0         anterior torso                    9.27  TBP tile: close-up   \n1              head/neck                    3.88  TBP tile: close-up   \n2         anterior torso                    6.55  TBP tile: close-up   \n3        upper extremity                    5.27  TBP tile: close-up   \n4        posterior torso                    5.29  TBP tile: close-up   \n...                  ...                     ...                 ...   \n8248     lower extremity                    4.94  TBP tile: close-up   \n8249      anterior torso                    9.32  TBP tile: close-up   \n8250      anterior torso                    3.45  TBP tile: close-up   \n8251     lower extremity                    3.00  TBP tile: close-up   \n8252           head/neck                    3.10  TBP tile: close-up   \n\n     tbp_tile_type   tbp_lv_A  ...  \\\n0           3D: XP  18.093368  ...   \n1        3D: white  26.187010  ...   \n2        3D: white  33.480140  ...   \n3        3D: white  25.872050  ...   \n4        3D: white  30.966662  ...   \n...            ...        ...  ...   \n8248        3D: XP  21.738880  ...   \n8249     3D: white  18.481750  ...   \n8250     3D: white  13.901465  ...   \n8251        3D: XP  17.986882  ...   \n8252        3D: XP  13.420060  ...   \n\n                                              iddx_full     iddx_1  \\\n0     Malignant::Malignant epidermal proliferations:...  Malignant   \n1     Malignant::Malignant adnexal epithelial prolif...  Malignant   \n2     Malignant::Malignant adnexal epithelial prolif...  Malignant   \n3     Malignant::Malignant epidermal proliferations:...  Malignant   \n4     Malignant::Malignant adnexal epithelial prolif...  Malignant   \n...                                                 ...        ...   \n8248                                             Benign     Benign   \n8249                                             Benign     Benign   \n8250                                             Benign     Benign   \n8251                                             Benign     Benign   \n8252                                             Benign     Benign   \n\n                                                 iddx_2  \\\n0                    Malignant epidermal proliferations   \n1     Malignant adnexal epithelial proliferations - ...   \n2     Malignant adnexal epithelial proliferations - ...   \n3                    Malignant epidermal proliferations   \n4     Malignant adnexal epithelial proliferations - ...   \n...                                                 ...   \n8248                                                NaN   \n8249                                                NaN   \n8250                                                NaN   \n8251                                                NaN   \n8252                                                NaN   \n\n                                 iddx_3                             iddx_4  \\\n0       Squamous cell carcinoma in situ                                NaN   \n1                  Basal cell carcinoma      Basal cell carcinoma, Nodular   \n2                  Basal cell carcinoma      Basal cell carcinoma, Nodular   \n3     Squamous cell carcinoma, Invasive                                NaN   \n4                  Basal cell carcinoma  Basal cell carcinoma, Superficial   \n...                                 ...                                ...   \n8248                                NaN                                NaN   \n8249                                NaN                                NaN   \n8250                                NaN                                NaN   \n8251                                NaN                                NaN   \n8252                                NaN                                NaN   \n\n      iddx_5  mel_mitotic_index  mel_thick_mm  tbp_lv_dnn_lesion_confidence  \\\n0        NaN                NaN           NaN                     72.211683   \n1        NaN                NaN           NaN                     94.559590   \n2        NaN                NaN           NaN                     66.196170   \n3        NaN                NaN           NaN                     99.991270   \n4        NaN                NaN           NaN                     99.960846   \n...      ...                ...           ...                           ...   \n8248     NaN                NaN           NaN                     96.325510   \n8249     NaN                NaN           NaN                     97.022320   \n8250     NaN                NaN           NaN                     72.961688   \n8251     NaN                NaN           NaN                     99.899274   \n8252     NaN                NaN           NaN                     99.449560   \n\n                                              file_path  \n0     /kaggle/input/isic-2024-challenge/train-image/...  \n1     /kaggle/input/isic-2024-challenge/train-image/...  \n2     /kaggle/input/isic-2024-challenge/train-image/...  \n3     /kaggle/input/isic-2024-challenge/train-image/...  \n4     /kaggle/input/isic-2024-challenge/train-image/...  \n...                                                 ...  \n8248  /kaggle/input/isic-2024-challenge/train-image/...  \n8249  /kaggle/input/isic-2024-challenge/train-image/...  \n8250  /kaggle/input/isic-2024-challenge/train-image/...  \n8251  /kaggle/input/isic-2024-challenge/train-image/...  \n8252  /kaggle/input/isic-2024-challenge/train-image/...  \n\n[8253 rows x 56 columns]",
            "text/html": "<div>\n<style scoped>\n    .dataframe tbody tr th:only-of-type {\n        vertical-align: middle;\n    }\n\n    .dataframe tbody tr th {\n        vertical-align: top;\n    }\n\n    .dataframe thead th {\n        text-align: right;\n    }\n</style>\n<table border=\"1\" class=\"dataframe\">\n  <thead>\n    <tr style=\"text-align: right;\">\n      <th></th>\n      <th>isic_id</th>\n      <th>target</th>\n      <th>patient_id</th>\n      <th>age_approx</th>\n      <th>sex</th>\n      <th>anatom_site_general</th>\n      <th>clin_size_long_diam_mm</th>\n      <th>image_type</th>\n      <th>tbp_tile_type</th>\n      <th>tbp_lv_A</th>\n      <th>...</th>\n      <th>iddx_full</th>\n      <th>iddx_1</th>\n      <th>iddx_2</th>\n      <th>iddx_3</th>\n      <th>iddx_4</th>\n      <th>iddx_5</th>\n      <th>mel_mitotic_index</th>\n      <th>mel_thick_mm</th>\n      <th>tbp_lv_dnn_lesion_confidence</th>\n      <th>file_path</th>\n    </tr>\n  </thead>\n  <tbody>\n    <tr>\n      <th>0</th>\n      <td>ISIC_0082829</td>\n      <td>1</td>\n      <td>IP_3249371</td>\n      <td>80.0</td>\n      <td>female</td>\n      <td>anterior torso</td>\n      <td>9.27</td>\n      <td>TBP tile: close-up</td>\n      <td>3D: XP</td>\n      <td>18.093368</td>\n      <td>...</td>\n      <td>Malignant::Malignant epidermal proliferations:...</td>\n      <td>Malignant</td>\n      <td>Malignant epidermal proliferations</td>\n      <td>Squamous cell carcinoma in situ</td>\n      <td>NaN</td>\n      <td>NaN</td>\n      <td>NaN</td>\n      <td>NaN</td>\n      <td>72.211683</td>\n      <td>/kaggle/input/isic-2024-challenge/train-image/...</td>\n    </tr>\n    <tr>\n      <th>1</th>\n      <td>ISIC_0096034</td>\n      <td>1</td>\n      <td>IP_6723298</td>\n      <td>75.0</td>\n      <td>male</td>\n      <td>head/neck</td>\n      <td>3.88</td>\n      <td>TBP tile: close-up</td>\n      <td>3D: white</td>\n      <td>26.187010</td>\n      <td>...</td>\n      <td>Malignant::Malignant adnexal epithelial prolif...</td>\n      <td>Malignant</td>\n      <td>Malignant adnexal epithelial proliferations - ...</td>\n      <td>Basal cell carcinoma</td>\n      <td>Basal cell carcinoma, Nodular</td>\n      <td>NaN</td>\n      <td>NaN</td>\n      <td>NaN</td>\n      <td>94.559590</td>\n      <td>/kaggle/input/isic-2024-challenge/train-image/...</td>\n    </tr>\n    <tr>\n      <th>2</th>\n      <td>ISIC_0104229</td>\n      <td>1</td>\n      <td>IP_9057861</td>\n      <td>80.0</td>\n      <td>male</td>\n      <td>anterior torso</td>\n      <td>6.55</td>\n      <td>TBP tile: close-up</td>\n      <td>3D: white</td>\n      <td>33.480140</td>\n      <td>...</td>\n      <td>Malignant::Malignant adnexal epithelial prolif...</td>\n      <td>Malignant</td>\n      <td>Malignant adnexal epithelial proliferations - ...</td>\n      <td>Basal cell carcinoma</td>\n      <td>Basal cell carcinoma, Nodular</td>\n      <td>NaN</td>\n      <td>NaN</td>\n      <td>NaN</td>\n      <td>66.196170</td>\n      <td>/kaggle/input/isic-2024-challenge/train-image/...</td>\n    </tr>\n    <tr>\n      <th>3</th>\n      <td>ISIC_0119495</td>\n      <td>1</td>\n      <td>IP_6856511</td>\n      <td>60.0</td>\n      <td>male</td>\n      <td>upper extremity</td>\n      <td>5.27</td>\n      <td>TBP tile: close-up</td>\n      <td>3D: white</td>\n      <td>25.872050</td>\n      <td>...</td>\n      <td>Malignant::Malignant epidermal proliferations:...</td>\n      <td>Malignant</td>\n      <td>Malignant epidermal proliferations</td>\n      <td>Squamous cell carcinoma, Invasive</td>\n      <td>NaN</td>\n      <td>NaN</td>\n      <td>NaN</td>\n      <td>NaN</td>\n      <td>99.991270</td>\n      <td>/kaggle/input/isic-2024-challenge/train-image/...</td>\n    </tr>\n    <tr>\n      <th>4</th>\n      <td>ISIC_0157834</td>\n      <td>1</td>\n      <td>IP_3927284</td>\n      <td>55.0</td>\n      <td>male</td>\n      <td>posterior torso</td>\n      <td>5.29</td>\n      <td>TBP tile: close-up</td>\n      <td>3D: white</td>\n      <td>30.966662</td>\n      <td>...</td>\n      <td>Malignant::Malignant adnexal epithelial prolif...</td>\n      <td>Malignant</td>\n      <td>Malignant adnexal epithelial proliferations - ...</td>\n      <td>Basal cell carcinoma</td>\n      <td>Basal cell carcinoma, Superficial</td>\n      <td>NaN</td>\n      <td>NaN</td>\n      <td>NaN</td>\n      <td>99.960846</td>\n      <td>/kaggle/input/isic-2024-challenge/train-image/...</td>\n    </tr>\n    <tr>\n      <th>...</th>\n      <td>...</td>\n      <td>...</td>\n      <td>...</td>\n      <td>...</td>\n      <td>...</td>\n      <td>...</td>\n      <td>...</td>\n      <td>...</td>\n      <td>...</td>\n      <td>...</td>\n      <td>...</td>\n      <td>...</td>\n      <td>...</td>\n      <td>...</td>\n      <td>...</td>\n      <td>...</td>\n      <td>...</td>\n      <td>...</td>\n      <td>...</td>\n      <td>...</td>\n      <td>...</td>\n    </tr>\n    <tr>\n      <th>8248</th>\n      <td>ISIC_0267522</td>\n      <td>0</td>\n      <td>IP_9577633</td>\n      <td>50.0</td>\n      <td>male</td>\n      <td>lower extremity</td>\n      <td>4.94</td>\n      <td>TBP tile: close-up</td>\n      <td>3D: XP</td>\n      <td>21.738880</td>\n      <td>...</td>\n      <td>Benign</td>\n      <td>Benign</td>\n      <td>NaN</td>\n      <td>NaN</td>\n      <td>NaN</td>\n      <td>NaN</td>\n      <td>NaN</td>\n      <td>NaN</td>\n      <td>96.325510</td>\n      <td>/kaggle/input/isic-2024-challenge/train-image/...</td>\n    </tr>\n    <tr>\n      <th>8249</th>\n      <td>ISIC_0267560</td>\n      <td>0</td>\n      <td>IP_7746572</td>\n      <td>80.0</td>\n      <td>male</td>\n      <td>anterior torso</td>\n      <td>9.32</td>\n      <td>TBP tile: close-up</td>\n      <td>3D: white</td>\n      <td>18.481750</td>\n      <td>...</td>\n      <td>Benign</td>\n      <td>Benign</td>\n      <td>NaN</td>\n      <td>NaN</td>\n      <td>NaN</td>\n      <td>NaN</td>\n      <td>NaN</td>\n      <td>NaN</td>\n      <td>97.022320</td>\n      <td>/kaggle/input/isic-2024-challenge/train-image/...</td>\n    </tr>\n    <tr>\n      <th>8250</th>\n      <td>ISIC_0267568</td>\n      <td>0</td>\n      <td>IP_0379091</td>\n      <td>60.0</td>\n      <td>male</td>\n      <td>anterior torso</td>\n      <td>3.45</td>\n      <td>TBP tile: close-up</td>\n      <td>3D: white</td>\n      <td>13.901465</td>\n      <td>...</td>\n      <td>Benign</td>\n      <td>Benign</td>\n      <td>NaN</td>\n      <td>NaN</td>\n      <td>NaN</td>\n      <td>NaN</td>\n      <td>NaN</td>\n      <td>NaN</td>\n      <td>72.961688</td>\n      <td>/kaggle/input/isic-2024-challenge/train-image/...</td>\n    </tr>\n    <tr>\n      <th>8251</th>\n      <td>ISIC_0267594</td>\n      <td>0</td>\n      <td>IP_1433033</td>\n      <td>70.0</td>\n      <td>NaN</td>\n      <td>lower extremity</td>\n      <td>3.00</td>\n      <td>TBP tile: close-up</td>\n      <td>3D: XP</td>\n      <td>17.986882</td>\n      <td>...</td>\n      <td>Benign</td>\n      <td>Benign</td>\n      <td>NaN</td>\n      <td>NaN</td>\n      <td>NaN</td>\n      <td>NaN</td>\n      <td>NaN</td>\n      <td>NaN</td>\n      <td>99.899274</td>\n      <td>/kaggle/input/isic-2024-challenge/train-image/...</td>\n    </tr>\n    <tr>\n      <th>8252</th>\n      <td>ISIC_0267606</td>\n      <td>0</td>\n      <td>IP_8565023</td>\n      <td>30.0</td>\n      <td>male</td>\n      <td>head/neck</td>\n      <td>3.10</td>\n      <td>TBP tile: close-up</td>\n      <td>3D: XP</td>\n      <td>13.420060</td>\n      <td>...</td>\n      <td>Benign</td>\n      <td>Benign</td>\n      <td>NaN</td>\n      <td>NaN</td>\n      <td>NaN</td>\n      <td>NaN</td>\n      <td>NaN</td>\n      <td>NaN</td>\n      <td>99.449560</td>\n      <td>/kaggle/input/isic-2024-challenge/train-image/...</td>\n    </tr>\n  </tbody>\n</table>\n<p>8253 rows × 56 columns</p>\n</div>"
          },
          "metadata": {}
        }
      ]
    },
    {
      "cell_type": "code",
      "source": [
        "df.shape[0], df.target.sum()"
      ],
      "metadata": {
        "papermill": {
          "duration": 0.020088,
          "end_time": "2024-06-29T23:17:58.441777",
          "exception": false,
          "start_time": "2024-06-29T23:17:58.421689",
          "status": "completed"
        },
        "tags": [],
        "execution": {
          "iopub.status.busy": "2024-08-13T08:04:58.025239Z",
          "iopub.execute_input": "2024-08-13T08:04:58.025573Z",
          "iopub.status.idle": "2024-08-13T08:04:58.033950Z",
          "shell.execute_reply.started": "2024-08-13T08:04:58.025540Z",
          "shell.execute_reply": "2024-08-13T08:04:58.033090Z"
        },
        "trusted": true,
        "id": "o2vR6zW5m5RW",
        "outputId": "5b22997f-def5-4d4b-8e2a-06673830f31a"
      },
      "execution_count": null,
      "outputs": [
        {
          "execution_count": 14,
          "output_type": "execute_result",
          "data": {
            "text/plain": "(8253, 393)"
          },
          "metadata": {}
        }
      ]
    },
    {
      "cell_type": "code",
      "source": [
        "CONFIG['T_max'] = df.shape[0] * (CONFIG[\"n_fold\"]-1) * CONFIG['epochs'] // CONFIG['train_batch_size'] // CONFIG[\"n_fold\"]\n",
        "CONFIG['T_max']"
      ],
      "metadata": {
        "papermill": {
          "duration": 0.020234,
          "end_time": "2024-06-29T23:17:58.473737",
          "exception": false,
          "start_time": "2024-06-29T23:17:58.453503",
          "status": "completed"
        },
        "tags": [],
        "execution": {
          "iopub.status.busy": "2024-08-13T08:04:58.035249Z",
          "iopub.execute_input": "2024-08-13T08:04:58.035713Z",
          "iopub.status.idle": "2024-08-13T08:04:58.043651Z",
          "shell.execute_reply.started": "2024-08-13T08:04:58.035681Z",
          "shell.execute_reply": "2024-08-13T08:04:58.042783Z"
        },
        "trusted": true,
        "id": "gR_nmZSom5RW",
        "outputId": "6c289d1b-8e4f-45f4-d595-6f14254935fd"
      },
      "execution_count": null,
      "outputs": [
        {
          "execution_count": 15,
          "output_type": "execute_result",
          "data": {
            "text/plain": "10316"
          },
          "metadata": {}
        }
      ]
    },
    {
      "cell_type": "markdown",
      "source": [
        "# <span><h1 style = \"font-family: garamond; font-size: 40px; font-style: normal; letter-spcaing: 3px; background-color: #f6f5f5; color :#fe346e; border-radius: 100px 100px; text-align:center\">Create Folds</h1></span>"
      ],
      "metadata": {
        "papermill": {
          "duration": 0.011432,
          "end_time": "2024-06-29T23:17:58.497492",
          "exception": false,
          "start_time": "2024-06-29T23:17:58.48606",
          "status": "completed"
        },
        "tags": [],
        "id": "KzhgLdc0m5RX"
      }
    },
    {
      "cell_type": "code",
      "source": [
        "sgkf = StratifiedGroupKFold(n_splits=CONFIG['n_fold'])\n",
        "\n",
        "for fold, ( _, val_) in enumerate(sgkf.split(df, df.target,df.patient_id)):\n",
        "      df.loc[val_ , \"kfold\"] = int(fold)"
      ],
      "metadata": {
        "papermill": {
          "duration": 0.466594,
          "end_time": "2024-06-29T23:17:58.975943",
          "exception": false,
          "start_time": "2024-06-29T23:17:58.509349",
          "status": "completed"
        },
        "tags": [],
        "execution": {
          "iopub.status.busy": "2024-08-13T08:04:58.044655Z",
          "iopub.execute_input": "2024-08-13T08:04:58.045382Z",
          "iopub.status.idle": "2024-08-13T08:04:58.512092Z",
          "shell.execute_reply.started": "2024-08-13T08:04:58.045357Z",
          "shell.execute_reply": "2024-08-13T08:04:58.511215Z"
        },
        "trusted": true,
        "id": "vim-W_xam5RX"
      },
      "execution_count": null,
      "outputs": []
    },
    {
      "cell_type": "markdown",
      "source": [
        "# <span><h1 style = \"font-family: garamond; font-size: 40px; font-style: normal; letter-spcaing: 3px; background-color: #f6f5f5; color :#fe346e; border-radius: 100px 100px; text-align:center\">Dataset Class</h1></span>"
      ],
      "metadata": {
        "papermill": {
          "duration": 0.011734,
          "end_time": "2024-06-29T23:17:58.999956",
          "exception": false,
          "start_time": "2024-06-29T23:17:58.988222",
          "status": "completed"
        },
        "tags": [],
        "id": "unKhqNaOm5RY"
      }
    },
    {
      "cell_type": "code",
      "source": [
        "class ISICDataset_for_Train(Dataset):\n",
        "    def __init__(self, df, transforms=None):\n",
        "        self.df_positive = df[df[\"target\"] == 1].reset_index()\n",
        "        self.df_negative = df[df[\"target\"] == 0].reset_index()\n",
        "        self.file_names_positive = self.df_positive['file_path'].values\n",
        "        self.file_names_negative = self.df_negative['file_path'].values\n",
        "        self.targets_positive = self.df_positive['target'].values\n",
        "        self.targets_negative = self.df_negative['target'].values\n",
        "        self.transforms = transforms\n",
        "\n",
        "    def __len__(self):\n",
        "        return len(self.df_positive) * 2\n",
        "\n",
        "    def __getitem__(self, index):\n",
        "        if random.random() >= 0.5:\n",
        "            df = self.df_positive\n",
        "            file_names = self.file_names_positive\n",
        "            targets = self.targets_positive\n",
        "        else:\n",
        "            df = self.df_negative\n",
        "            file_names = self.file_names_negative\n",
        "            targets = self.targets_negative\n",
        "        index = index % df.shape[0]\n",
        "\n",
        "        img_path = file_names[index]\n",
        "        img = cv2.imread(img_path)\n",
        "        img = cv2.cvtColor(img, cv2.COLOR_BGR2RGB)\n",
        "        target = targets[index]\n",
        "\n",
        "        if self.transforms:\n",
        "            img = self.transforms(image=img)[\"image\"]\n",
        "\n",
        "        return {\n",
        "            'image': img,\n",
        "            'target': target\n",
        "        }\n",
        "\n",
        "class ISICDataset(Dataset):\n",
        "    def __init__(self, df, transforms=None):\n",
        "        self.df = df\n",
        "        self.file_names = df['file_path'].values\n",
        "        self.targets = df['target'].values\n",
        "        self.transforms = transforms\n",
        "\n",
        "    def __len__(self):\n",
        "        return len(self.df)\n",
        "\n",
        "    def __getitem__(self, index):\n",
        "        img_path = self.file_names[index]\n",
        "        img = cv2.imread(img_path)\n",
        "        img = cv2.cvtColor(img, cv2.COLOR_BGR2RGB)\n",
        "        target = self.targets[index]\n",
        "\n",
        "        if self.transforms:\n",
        "            img = self.transforms(image=img)[\"image\"]\n",
        "\n",
        "        return {\n",
        "            'image': img,\n",
        "            'target': target\n",
        "        }"
      ],
      "metadata": {
        "papermill": {
          "duration": 0.027666,
          "end_time": "2024-06-29T23:17:59.039604",
          "exception": false,
          "start_time": "2024-06-29T23:17:59.011938",
          "status": "completed"
        },
        "tags": [],
        "execution": {
          "iopub.status.busy": "2024-08-13T08:04:58.513405Z",
          "iopub.execute_input": "2024-08-13T08:04:58.513690Z",
          "iopub.status.idle": "2024-08-13T08:04:58.527314Z",
          "shell.execute_reply.started": "2024-08-13T08:04:58.513666Z",
          "shell.execute_reply": "2024-08-13T08:04:58.526406Z"
        },
        "trusted": true,
        "id": "WsGYEA2hm5RY"
      },
      "execution_count": null,
      "outputs": []
    },
    {
      "cell_type": "markdown",
      "source": [
        "# <span><h1 style = \"font-family: garamond; font-size: 40px; font-style: normal; letter-spcaing: 3px; background-color: #f6f5f5; color :#fe346e; border-radius: 100px 100px; text-align:center\">Augmentations</h1></span>"
      ],
      "metadata": {
        "papermill": {
          "duration": 0.011484,
          "end_time": "2024-06-29T23:17:59.062869",
          "exception": false,
          "start_time": "2024-06-29T23:17:59.051385",
          "status": "completed"
        },
        "tags": [],
        "id": "dX1dRrBHm5RY"
      }
    },
    {
      "cell_type": "code",
      "source": [
        "data_transforms = {\n",
        "    \"train\": A.Compose([\n",
        "        A.Resize(CONFIG['img_size'], CONFIG['img_size']),\n",
        "        A.RandomRotate90(p=0.5),\n",
        "        A.Flip(p=0.5),\n",
        "        A.Downscale(p=0.25),\n",
        "        A.ShiftScaleRotate(shift_limit=0.1,\n",
        "                           scale_limit=0.15,\n",
        "                           rotate_limit=60,\n",
        "                           p=0.5),\n",
        "        A.HueSaturationValue(\n",
        "                hue_shift_limit=0.2,\n",
        "                sat_shift_limit=0.2,\n",
        "                val_shift_limit=0.2,\n",
        "                p=0.5\n",
        "            ),\n",
        "        A.RandomBrightnessContrast(\n",
        "                brightness_limit=(-0.1,0.1),\n",
        "                contrast_limit=(-0.1, 0.1),\n",
        "                p=0.5\n",
        "            ),\n",
        "        A.Normalize(\n",
        "                mean=[0.485, 0.456, 0.406],\n",
        "                std=[0.229, 0.224, 0.225],\n",
        "                max_pixel_value=255.0,\n",
        "                p=1.0\n",
        "            ),\n",
        "        ToTensorV2()], p=1.),\n",
        "\n",
        "    \"valid\": A.Compose([\n",
        "        A.Resize(CONFIG['img_size'], CONFIG['img_size']),\n",
        "        A.Normalize(\n",
        "                mean=[0.485, 0.456, 0.406],\n",
        "                std=[0.229, 0.224, 0.225],\n",
        "                max_pixel_value=255.0,\n",
        "                p=1.0\n",
        "            ),\n",
        "        ToTensorV2()], p=1.)\n",
        "}"
      ],
      "metadata": {
        "papermill": {
          "duration": 0.023138,
          "end_time": "2024-06-29T23:17:59.09779",
          "exception": false,
          "start_time": "2024-06-29T23:17:59.074652",
          "status": "completed"
        },
        "tags": [],
        "execution": {
          "iopub.status.busy": "2024-08-13T08:04:58.528628Z",
          "iopub.execute_input": "2024-08-13T08:04:58.529126Z",
          "iopub.status.idle": "2024-08-13T08:04:58.554570Z",
          "shell.execute_reply.started": "2024-08-13T08:04:58.529100Z",
          "shell.execute_reply": "2024-08-13T08:04:58.553655Z"
        },
        "trusted": true,
        "id": "k8oc7yMpm5RZ"
      },
      "execution_count": null,
      "outputs": []
    },
    {
      "cell_type": "markdown",
      "source": [
        "# <span><h1 style = \"font-family: garamond; font-size: 40px; font-style: normal; letter-spcaing: 3px; background-color: #f6f5f5; color :#fe346e; border-radius: 100px 100px; text-align:center\">GeM Pooling</h1></span>"
      ],
      "metadata": {
        "papermill": {
          "duration": 0.01177,
          "end_time": "2024-06-29T23:17:59.121504",
          "exception": false,
          "start_time": "2024-06-29T23:17:59.109734",
          "status": "completed"
        },
        "tags": [],
        "id": "c53N5Cunm5RZ"
      }
    },
    {
      "cell_type": "code",
      "source": [
        "class GeM(nn.Module):\n",
        "    def __init__(self, p=3, eps=1e-6):\n",
        "        super(GeM, self).__init__()\n",
        "        self.p = nn.Parameter(torch.ones(1)*p)\n",
        "        self.eps = eps\n",
        "\n",
        "    def forward(self, x):\n",
        "        return self.gem(x, p=self.p, eps=self.eps)\n",
        "\n",
        "    def gem(self, x, p=3, eps=1e-6):\n",
        "        return F.avg_pool2d(x.clamp(min=eps).pow(p), (x.size(-2), x.size(-1))).pow(1./p)\n",
        "\n",
        "    def __repr__(self):\n",
        "        return self.__class__.__name__ + \\\n",
        "                '(' + 'p=' + '{:.4f}'.format(self.p.data.tolist()[0]) + \\\n",
        "                ', ' + 'eps=' + str(self.eps) + ')'"
      ],
      "metadata": {
        "papermill": {
          "duration": 0.02223,
          "end_time": "2024-06-29T23:17:59.155728",
          "exception": false,
          "start_time": "2024-06-29T23:17:59.133498",
          "status": "completed"
        },
        "tags": [],
        "execution": {
          "iopub.status.busy": "2024-08-13T08:04:58.555705Z",
          "iopub.execute_input": "2024-08-13T08:04:58.555965Z",
          "iopub.status.idle": "2024-08-13T08:04:58.566963Z",
          "shell.execute_reply.started": "2024-08-13T08:04:58.555942Z",
          "shell.execute_reply": "2024-08-13T08:04:58.565657Z"
        },
        "trusted": true,
        "id": "TE6JOMJVm5RZ"
      },
      "execution_count": null,
      "outputs": []
    },
    {
      "cell_type": "markdown",
      "source": [
        "# <span><h1 style = \"font-family: garamond; font-size: 40px; font-style: normal; letter-spcaing: 3px; background-color: #f6f5f5; color :#fe346e; border-radius: 100px 100px; text-align:center\">Create Model</h1></span>"
      ],
      "metadata": {
        "papermill": {
          "duration": 0.011546,
          "end_time": "2024-06-29T23:17:59.179102",
          "exception": false,
          "start_time": "2024-06-29T23:17:59.167556",
          "status": "completed"
        },
        "tags": [],
        "id": "Q-K6pOeBm5RZ"
      }
    },
    {
      "cell_type": "code",
      "source": [
        "class ISICModel(nn.Module):\n",
        "    def __init__(self, model_name, num_classes=1, pretrained=True, checkpoint_path=None):\n",
        "        super(ISICModel, self).__init__()\n",
        "        self.model = timm.create_model(model_name, pretrained=pretrained, checkpoint_path=checkpoint_path)\n",
        "\n",
        "        in_features = self.model.classifier.in_features\n",
        "        self.model.classifier = nn.Identity()\n",
        "        self.model.global_pool = nn.Identity()\n",
        "        self.pooling = GeM()\n",
        "        self.linear = nn.Linear(in_features, num_classes)\n",
        "        self.sigmoid = nn.Sigmoid()\n",
        "\n",
        "    def forward(self, images):\n",
        "        features = self.model(images)\n",
        "        pooled_features = self.pooling(features).flatten(1)\n",
        "        output = self.sigmoid(self.linear(pooled_features))\n",
        "        return output\n",
        "\n",
        "model = ISICModel(CONFIG['model_name'], checkpoint_path=CONFIG['checkpoint_path'])\n",
        "model.to(CONFIG['device']);\n",
        "wandb.watch(model, log=\"all\")"
      ],
      "metadata": {
        "papermill": {
          "duration": 1.183958,
          "end_time": "2024-06-29T23:18:00.375162",
          "exception": false,
          "start_time": "2024-06-29T23:17:59.191204",
          "status": "completed"
        },
        "tags": [],
        "execution": {
          "iopub.status.busy": "2024-08-13T08:04:58.568363Z",
          "iopub.execute_input": "2024-08-13T08:04:58.568795Z",
          "iopub.status.idle": "2024-08-13T08:05:00.874407Z",
          "shell.execute_reply.started": "2024-08-13T08:04:58.568763Z",
          "shell.execute_reply": "2024-08-13T08:05:00.873468Z"
        },
        "trusted": true,
        "colab": {
          "referenced_widgets": [
            "f0422edaca894bf3986599b66f7924a4"
          ]
        },
        "id": "gbkz59FTm5RZ",
        "outputId": "c82cb95e-e4e0-4ad8-c09d-3753c1fa918b"
      },
      "execution_count": null,
      "outputs": [
        {
          "output_type": "display_data",
          "data": {
            "text/plain": "model.safetensors:   0%|          | 0.00/21.4M [00:00<?, ?B/s]",
            "application/vnd.jupyter.widget-view+json": {
              "version_major": 2,
              "version_minor": 0,
              "model_id": "f0422edaca894bf3986599b66f7924a4"
            }
          },
          "metadata": {}
        },
        {
          "execution_count": 20,
          "output_type": "execute_result",
          "data": {
            "text/plain": "[]"
          },
          "metadata": {}
        }
      ]
    },
    {
      "cell_type": "markdown",
      "source": [
        "# <span><h1 style = \"font-family: garamond; font-size: 40px; font-style: normal; letter-spcaing: 3px; background-color: #f6f5f5; color :#fe346e; border-radius: 100px 100px; text-align:center\">Loss Function</h1></span>"
      ],
      "metadata": {
        "papermill": {
          "duration": 0.012134,
          "end_time": "2024-06-29T23:18:00.400146",
          "exception": false,
          "start_time": "2024-06-29T23:18:00.388012",
          "status": "completed"
        },
        "tags": [],
        "id": "u9ltEC07m5Ra"
      }
    },
    {
      "cell_type": "code",
      "source": [
        "def criterion(outputs, targets):\n",
        "    return nn.BCELoss()(outputs, targets)"
      ],
      "metadata": {
        "papermill": {
          "duration": 0.020023,
          "end_time": "2024-06-29T23:18:00.432262",
          "exception": false,
          "start_time": "2024-06-29T23:18:00.412239",
          "status": "completed"
        },
        "tags": [],
        "execution": {
          "iopub.status.busy": "2024-08-13T08:05:00.875475Z",
          "iopub.execute_input": "2024-08-13T08:05:00.875724Z",
          "iopub.status.idle": "2024-08-13T08:05:00.880409Z",
          "shell.execute_reply.started": "2024-08-13T08:05:00.875701Z",
          "shell.execute_reply": "2024-08-13T08:05:00.879443Z"
        },
        "trusted": true,
        "id": "ZMmJzq9Zm5Ra"
      },
      "execution_count": null,
      "outputs": []
    },
    {
      "cell_type": "markdown",
      "source": [
        "# <span><h1 style = \"font-family: garamond; font-size: 40px; font-style: normal; letter-spcaing: 3px; background-color: #f6f5f5; color :#fe346e; border-radius: 100px 100px; text-align:center\">Training Function</h1></span>"
      ],
      "metadata": {
        "papermill": {
          "duration": 0.011944,
          "end_time": "2024-06-29T23:18:00.456944",
          "exception": false,
          "start_time": "2024-06-29T23:18:00.445",
          "status": "completed"
        },
        "tags": [],
        "id": "lTevq6Hcm5Rb"
      }
    },
    {
      "cell_type": "code",
      "source": [
        "def train_one_epoch(model, optimizer, scheduler, dataloader, device, epoch):\n",
        "    model.train()\n",
        "\n",
        "    dataset_size = 0\n",
        "    running_loss = 0.0\n",
        "    running_auroc  = 0.0\n",
        "\n",
        "    bar = tqdm(enumerate(dataloader), total=len(dataloader))\n",
        "    for step, data in bar:\n",
        "        images = data['image'].to(device, dtype=torch.float)\n",
        "        targets = data['target'].to(device, dtype=torch.float)\n",
        "\n",
        "        batch_size = images.size(0)\n",
        "\n",
        "        outputs = model(images).squeeze()\n",
        "        loss = criterion(outputs, targets)\n",
        "        loss = loss / CONFIG['n_accumulate']\n",
        "\n",
        "        loss.backward()\n",
        "\n",
        "        if (step + 1) % CONFIG['n_accumulate'] == 0:\n",
        "            optimizer.step()\n",
        "\n",
        "            # zero the parameter gradients\n",
        "            optimizer.zero_grad()\n",
        "\n",
        "            if scheduler is not None:\n",
        "                scheduler.step()\n",
        "\n",
        "        auroc = binary_auroc(input=outputs.squeeze(), target=targets).item()\n",
        "\n",
        "        running_loss += (loss.item() * batch_size)\n",
        "        running_auroc  += (auroc * batch_size)\n",
        "        dataset_size += batch_size\n",
        "\n",
        "        epoch_loss = running_loss / dataset_size\n",
        "        epoch_auroc = running_auroc / dataset_size\n",
        "\n",
        "        bar.set_postfix(Epoch=epoch, Train_Loss=epoch_loss, Train_Auroc=epoch_auroc,\n",
        "                        LR=optimizer.param_groups[0]['lr'])\n",
        "    gc.collect()\n",
        "\n",
        "\n",
        "\n",
        "    return epoch_loss, epoch_auroc"
      ],
      "metadata": {
        "papermill": {
          "duration": 0.024329,
          "end_time": "2024-06-29T23:18:00.493233",
          "exception": false,
          "start_time": "2024-06-29T23:18:00.468904",
          "status": "completed"
        },
        "tags": [],
        "execution": {
          "iopub.status.busy": "2024-08-13T08:05:00.881794Z",
          "iopub.execute_input": "2024-08-13T08:05:00.882058Z",
          "iopub.status.idle": "2024-08-13T08:05:00.892560Z",
          "shell.execute_reply.started": "2024-08-13T08:05:00.882035Z",
          "shell.execute_reply": "2024-08-13T08:05:00.891595Z"
        },
        "trusted": true,
        "id": "ZR2L2e9Wm5Rb"
      },
      "execution_count": null,
      "outputs": []
    },
    {
      "cell_type": "markdown",
      "source": [
        "# <span><h1 style = \"font-family: garamond; font-size: 40px; font-style: normal; letter-spcaing: 3px; background-color: #f6f5f5; color :#fe346e; border-radius: 100px 100px; text-align:center\">Validation Function</h1></span>"
      ],
      "metadata": {
        "papermill": {
          "duration": 0.011634,
          "end_time": "2024-06-29T23:18:00.516892",
          "exception": false,
          "start_time": "2024-06-29T23:18:00.505258",
          "status": "completed"
        },
        "tags": [],
        "id": "iRGcuNYLm5Rc"
      }
    },
    {
      "cell_type": "code",
      "source": [
        "@torch.inference_mode()\n",
        "def valid_one_epoch(model, dataloader, device, epoch):\n",
        "    model.eval()\n",
        "\n",
        "    dataset_size = 0\n",
        "    running_loss = 0.0\n",
        "    running_auroc = 0.0\n",
        "\n",
        "    bar = tqdm(enumerate(dataloader), total=len(dataloader))\n",
        "    for step, data in bar:\n",
        "        images = data['image'].to(device, dtype=torch.float)\n",
        "        targets = data['target'].to(device, dtype=torch.float)\n",
        "\n",
        "        batch_size = images.size(0)\n",
        "\n",
        "        outputs = model(images).squeeze()\n",
        "        loss = criterion(outputs, targets)\n",
        "\n",
        "        auroc = binary_auroc(input=outputs.squeeze(), target=targets).item()\n",
        "        running_loss += (loss.item() * batch_size)\n",
        "        running_auroc  += (auroc * batch_size)\n",
        "        dataset_size += batch_size\n",
        "\n",
        "        epoch_loss = running_loss / dataset_size\n",
        "        epoch_auroc = running_auroc / dataset_size\n",
        "\n",
        "        bar.set_postfix(Epoch=epoch, Valid_Loss=epoch_loss, Valid_Auroc=epoch_auroc,\n",
        "                        LR=optimizer.param_groups[0]['lr'])\n",
        "\n",
        "    gc.collect()\n",
        "\n",
        "    return epoch_loss, epoch_auroc"
      ],
      "metadata": {
        "papermill": {
          "duration": 0.02315,
          "end_time": "2024-06-29T23:18:00.551972",
          "exception": false,
          "start_time": "2024-06-29T23:18:00.528822",
          "status": "completed"
        },
        "tags": [],
        "execution": {
          "iopub.status.busy": "2024-08-13T08:05:00.893698Z",
          "iopub.execute_input": "2024-08-13T08:05:00.894020Z",
          "iopub.status.idle": "2024-08-13T08:05:00.907016Z",
          "shell.execute_reply.started": "2024-08-13T08:05:00.893992Z",
          "shell.execute_reply": "2024-08-13T08:05:00.905385Z"
        },
        "trusted": true,
        "id": "FgJw2Ktkm5Rc"
      },
      "execution_count": null,
      "outputs": []
    },
    {
      "cell_type": "markdown",
      "source": [
        "# <span><h1 style = \"font-family: garamond; font-size: 40px; font-style: normal; letter-spcaing: 3px; background-color: #f6f5f5; color :#fe346e; border-radius: 100px 100px; text-align:center\">Run Training</h1></span>"
      ],
      "metadata": {
        "papermill": {
          "duration": 0.011798,
          "end_time": "2024-06-29T23:18:00.575765",
          "exception": false,
          "start_time": "2024-06-29T23:18:00.563967",
          "status": "completed"
        },
        "tags": [],
        "id": "-FasOWAWm5Rd"
      }
    },
    {
      "cell_type": "code",
      "source": [
        "def run_training(model, optimizer, scheduler, device, num_epochs):\n",
        "    if torch.cuda.is_available():\n",
        "        print(\"[INFO] Using GPU: {}\\n\".format(torch.cuda.get_device_name()))\n",
        "\n",
        "    start = time.time()\n",
        "    best_model_wts = copy.deepcopy(model.state_dict())\n",
        "    best_epoch_auroc = -np.inf\n",
        "    history = defaultdict(list)\n",
        "\n",
        "    for epoch in range(1, num_epochs + 1):\n",
        "        gc.collect()\n",
        "        train_epoch_loss, train_epoch_auroc = train_one_epoch(model, optimizer, scheduler,\n",
        "                                           dataloader=train_loader,\n",
        "                                           device=CONFIG['device'], epoch=epoch)\n",
        "\n",
        "        val_epoch_loss, val_epoch_auroc = valid_one_epoch(model, valid_loader, device=CONFIG['device'],\n",
        "                                         epoch=epoch)\n",
        "\n",
        "        history['Train Loss'].append(train_epoch_loss)\n",
        "        history['Valid Loss'].append(val_epoch_loss)\n",
        "        history['Train AUROC'].append(train_epoch_auroc)\n",
        "        history['Valid AUROC'].append(val_epoch_auroc)\n",
        "        history['lr'].append( scheduler.get_lr()[0] )\n",
        "\n",
        "        # deep copy the model\n",
        "        if best_epoch_auroc <= val_epoch_auroc:\n",
        "            print(f\"{b_}Validation AUROC Improved ({best_epoch_auroc} ---> {val_epoch_auroc})\")\n",
        "            best_epoch_auroc = val_epoch_auroc\n",
        "            best_model_wts = copy.deepcopy(model.state_dict())\n",
        "            PATH = \"AUROC{:.4f}_Loss{:.4f}_epoch{:.0f}.bin\".format(val_epoch_auroc, val_epoch_loss, epoch)\n",
        "            torch.save(model.state_dict(), PATH)\n",
        "            # Save a model file from the current directory\n",
        "            print(f\"Model Saved{sr_}\")\n",
        "\n",
        "        wandb.log({\n",
        "            'Train Loss': train_epoch_loss,\n",
        "            'Valid Loss': val_epoch_loss,\n",
        "            'Train AUROC': train_epoch_auroc,\n",
        "            'Valid AUROC': val_epoch_auroc\n",
        "        })\n",
        "\n",
        "        print()\n",
        "\n",
        "    end = time.time()\n",
        "    time_elapsed = end - start\n",
        "    print('Training complete in {:.0f}h {:.0f}m {:.0f}s'.format(\n",
        "        time_elapsed // 3600, (time_elapsed % 3600) // 60, (time_elapsed % 3600) % 60))\n",
        "    print(\"Best AUROC: {:.4f}\".format(best_epoch_auroc))\n",
        "\n",
        "\n",
        "\n",
        "    # load best model weights\n",
        "    model.load_state_dict(best_model_wts)\n",
        "\n",
        "    return model, history"
      ],
      "metadata": {
        "papermill": {
          "duration": 0.026227,
          "end_time": "2024-06-29T23:18:00.614057",
          "exception": false,
          "start_time": "2024-06-29T23:18:00.58783",
          "status": "completed"
        },
        "tags": [],
        "execution": {
          "iopub.status.busy": "2024-08-13T08:05:00.908251Z",
          "iopub.execute_input": "2024-08-13T08:05:00.908567Z",
          "iopub.status.idle": "2024-08-13T08:05:00.924633Z",
          "shell.execute_reply.started": "2024-08-13T08:05:00.908537Z",
          "shell.execute_reply": "2024-08-13T08:05:00.923672Z"
        },
        "trusted": true,
        "id": "JHUKZvUwm5Rd"
      },
      "execution_count": null,
      "outputs": []
    },
    {
      "cell_type": "code",
      "source": [
        "def fetch_scheduler(optimizer):\n",
        "    if CONFIG['scheduler'] == 'CosineAnnealingLR':\n",
        "        scheduler = lr_scheduler.CosineAnnealingLR(optimizer,T_max=CONFIG['T_max'],\n",
        "                                                   eta_min=CONFIG['min_lr'])\n",
        "    elif CONFIG['scheduler'] == 'CosineAnnealingWarmRestarts':\n",
        "        scheduler = lr_scheduler.CosineAnnealingWarmRestarts(optimizer,T_0=CONFIG['T_0'],\n",
        "                                                             eta_min=CONFIG['min_lr'])\n",
        "    elif CONFIG['scheduler'] == None:\n",
        "        return None\n",
        "\n",
        "    return scheduler"
      ],
      "metadata": {
        "papermill": {
          "duration": 0.020426,
          "end_time": "2024-06-29T23:18:00.646386",
          "exception": false,
          "start_time": "2024-06-29T23:18:00.62596",
          "status": "completed"
        },
        "tags": [],
        "execution": {
          "iopub.status.busy": "2024-08-13T08:05:00.925520Z",
          "iopub.execute_input": "2024-08-13T08:05:00.926476Z",
          "iopub.status.idle": "2024-08-13T08:05:00.937754Z",
          "shell.execute_reply.started": "2024-08-13T08:05:00.926444Z",
          "shell.execute_reply": "2024-08-13T08:05:00.936801Z"
        },
        "trusted": true,
        "id": "p8nqXvg7m5Re"
      },
      "execution_count": null,
      "outputs": []
    },
    {
      "cell_type": "code",
      "source": [
        "def prepare_loaders(df, fold):\n",
        "    df_train = df[df.kfold != fold].reset_index(drop=True)\n",
        "    df_valid = df[df.kfold == fold].reset_index(drop=True)\n",
        "\n",
        "    train_dataset = ISICDataset_for_Train(df_train, transforms=data_transforms[\"train\"])\n",
        "    valid_dataset = ISICDataset(df_valid, transforms=data_transforms[\"valid\"])\n",
        "\n",
        "    train_loader = DataLoader(train_dataset, batch_size=CONFIG['train_batch_size'],\n",
        "                              num_workers=2, shuffle=True, pin_memory=True, drop_last=True)\n",
        "    valid_loader = DataLoader(valid_dataset, batch_size=CONFIG['valid_batch_size'],\n",
        "                              num_workers=2, shuffle=False, pin_memory=True)\n",
        "\n",
        "    return train_loader, valid_loader"
      ],
      "metadata": {
        "papermill": {
          "duration": 0.02047,
          "end_time": "2024-06-29T23:18:00.678761",
          "exception": false,
          "start_time": "2024-06-29T23:18:00.658291",
          "status": "completed"
        },
        "tags": [],
        "execution": {
          "iopub.status.busy": "2024-08-13T08:05:00.938958Z",
          "iopub.execute_input": "2024-08-13T08:05:00.939301Z",
          "iopub.status.idle": "2024-08-13T08:05:00.948248Z",
          "shell.execute_reply.started": "2024-08-13T08:05:00.939270Z",
          "shell.execute_reply": "2024-08-13T08:05:00.947304Z"
        },
        "trusted": true,
        "id": "xRzE7471m5Re"
      },
      "execution_count": null,
      "outputs": []
    },
    {
      "cell_type": "markdown",
      "source": [
        "<span style=\"color: #000508; font-family: Segoe UI; font-size: 1.5em; font-weight: 300;\">Prepare Dataloaders</span>"
      ],
      "metadata": {
        "papermill": {
          "duration": 0.011803,
          "end_time": "2024-06-29T23:18:00.702461",
          "exception": false,
          "start_time": "2024-06-29T23:18:00.690658",
          "status": "completed"
        },
        "tags": [],
        "id": "Shpncs0-m5Re"
      }
    },
    {
      "cell_type": "code",
      "source": [
        "train_loader, valid_loader = prepare_loaders(df, fold=CONFIG[\"fold\"])"
      ],
      "metadata": {
        "papermill": {
          "duration": 0.033503,
          "end_time": "2024-06-29T23:18:00.747996",
          "exception": false,
          "start_time": "2024-06-29T23:18:00.714493",
          "status": "completed"
        },
        "tags": [],
        "execution": {
          "iopub.status.busy": "2024-08-13T08:05:00.949308Z",
          "iopub.execute_input": "2024-08-13T08:05:00.949891Z",
          "iopub.status.idle": "2024-08-13T08:05:00.975205Z",
          "shell.execute_reply.started": "2024-08-13T08:05:00.949853Z",
          "shell.execute_reply": "2024-08-13T08:05:00.974316Z"
        },
        "trusted": true,
        "id": "9TJaus5qm5Rg"
      },
      "execution_count": null,
      "outputs": []
    },
    {
      "cell_type": "markdown",
      "source": [
        "<span style=\"color: #000508; font-family: Segoe UI; font-size: 1.5em; font-weight: 300;\">Define Optimizer and Scheduler</span>"
      ],
      "metadata": {
        "papermill": {
          "duration": 0.012164,
          "end_time": "2024-06-29T23:18:00.772504",
          "exception": false,
          "start_time": "2024-06-29T23:18:00.76034",
          "status": "completed"
        },
        "tags": [],
        "id": "BWuXOPMim5Rg"
      }
    },
    {
      "cell_type": "code",
      "source": [
        "optimizer = optim.Adam(model.parameters(), lr=CONFIG['learning_rate'],\n",
        "                       weight_decay=CONFIG['weight_decay'])\n",
        "scheduler = fetch_scheduler(optimizer)"
      ],
      "metadata": {
        "papermill": {
          "duration": 0.021007,
          "end_time": "2024-06-29T23:18:00.805494",
          "exception": false,
          "start_time": "2024-06-29T23:18:00.784487",
          "status": "completed"
        },
        "tags": [],
        "execution": {
          "iopub.status.busy": "2024-08-13T08:05:00.978274Z",
          "iopub.execute_input": "2024-08-13T08:05:00.979468Z",
          "iopub.status.idle": "2024-08-13T08:05:00.989124Z",
          "shell.execute_reply.started": "2024-08-13T08:05:00.979432Z",
          "shell.execute_reply": "2024-08-13T08:05:00.988234Z"
        },
        "trusted": true,
        "id": "EcYQcUNUm5Rh"
      },
      "execution_count": null,
      "outputs": []
    },
    {
      "cell_type": "markdown",
      "source": [
        "<span style=\"color: #000508; font-family: Segoe UI; font-size: 1.5em; font-weight: 300;\">Start Training</span>"
      ],
      "metadata": {
        "papermill": {
          "duration": 0.011766,
          "end_time": "2024-06-29T23:18:00.872059",
          "exception": false,
          "start_time": "2024-06-29T23:18:00.860293",
          "status": "completed"
        },
        "tags": [],
        "id": "PvkcqMTum5Rh"
      }
    },
    {
      "cell_type": "code",
      "source": [
        "model, history = run_training(model, optimizer, scheduler,\n",
        "                              device=CONFIG['device'],\n",
        "                              num_epochs=CONFIG['epochs'])"
      ],
      "metadata": {
        "papermill": {
          "duration": 745.635338,
          "end_time": "2024-06-29T23:30:26.519348",
          "exception": false,
          "start_time": "2024-06-29T23:18:00.88401",
          "status": "completed"
        },
        "tags": [],
        "execution": {
          "iopub.status.busy": "2024-08-13T08:05:00.994701Z",
          "iopub.execute_input": "2024-08-13T08:05:00.995246Z",
          "iopub.status.idle": "2024-08-13T08:18:26.109160Z",
          "shell.execute_reply.started": "2024-08-13T08:05:00.995189Z",
          "shell.execute_reply": "2024-08-13T08:18:26.108153Z"
        },
        "trusted": true,
        "id": "FWOG-iJcm5Rh",
        "outputId": "0ccc15a9-f78f-42bc-a7d3-7906f8b9ad2c"
      },
      "execution_count": null,
      "outputs": [
        {
          "name": "stdout",
          "text": "[INFO] Using GPU: Tesla P100-PCIE-16GB\n\n",
          "output_type": "stream"
        },
        {
          "name": "stderr",
          "text": "100%|██████████| 19/19 [00:10<00:00,  1.89it/s, Epoch=1, LR=0.001, Train_Auroc=0.75, Train_Loss=0.654] \n100%|██████████| 26/26 [00:10<00:00,  2.48it/s, Epoch=1, LR=0.001, Valid_Auroc=0.506, Valid_Loss=0.956]\n",
          "output_type": "stream"
        },
        {
          "name": "stdout",
          "text": "\u001b[34mValidation AUROC Improved (-inf ---> 0.5060915462490265)\nModel Saved\u001b[0m\n\n",
          "output_type": "stream"
        },
        {
          "name": "stderr",
          "text": "100%|██████████| 19/19 [00:07<00:00,  2.47it/s, Epoch=2, LR=0.001, Train_Auroc=0.814, Train_Loss=0.556]\n100%|██████████| 26/26 [00:08<00:00,  3.19it/s, Epoch=2, LR=0.001, Valid_Auroc=0.514, Valid_Loss=0.577]\n",
          "output_type": "stream"
        },
        {
          "name": "stdout",
          "text": "\u001b[34mValidation AUROC Improved (0.5060915462490265 ---> 0.5144773112152189)\nModel Saved\u001b[0m\n\n",
          "output_type": "stream"
        },
        {
          "name": "stderr",
          "text": "100%|██████████| 19/19 [00:07<00:00,  2.53it/s, Epoch=3, LR=0.001, Train_Auroc=0.885, Train_Loss=0.464]\n100%|██████████| 26/26 [00:07<00:00,  3.35it/s, Epoch=3, LR=0.001, Valid_Auroc=0.516, Valid_Loss=0.538]\n",
          "output_type": "stream"
        },
        {
          "name": "stdout",
          "text": "\u001b[34mValidation AUROC Improved (0.5144773112152189 ---> 0.5155848650786784)\nModel Saved\u001b[0m\n\n",
          "output_type": "stream"
        },
        {
          "name": "stderr",
          "text": "100%|██████████| 19/19 [00:07<00:00,  2.55it/s, Epoch=4, LR=0.001, Train_Auroc=0.909, Train_Loss=0.415]\n100%|██████████| 26/26 [00:07<00:00,  3.37it/s, Epoch=4, LR=0.001, Valid_Auroc=0.516, Valid_Loss=0.475]\n",
          "output_type": "stream"
        },
        {
          "name": "stdout",
          "text": "\u001b[34mValidation AUROC Improved (0.5155848650786784 ---> 0.516059531020161)\nModel Saved\u001b[0m\n\n",
          "output_type": "stream"
        },
        {
          "name": "stderr",
          "text": "100%|██████████| 19/19 [00:07<00:00,  2.52it/s, Epoch=5, LR=0.001, Train_Auroc=0.924, Train_Loss=0.363]\n100%|██████████| 26/26 [00:07<00:00,  3.31it/s, Epoch=5, LR=0.001, Valid_Auroc=0.515, Valid_Loss=0.217]\n",
          "output_type": "stream"
        },
        {
          "name": "stdout",
          "text": "\n",
          "output_type": "stream"
        },
        {
          "name": "stderr",
          "text": "100%|██████████| 19/19 [00:07<00:00,  2.51it/s, Epoch=6, LR=0.001, Train_Auroc=0.938, Train_Loss=0.339]\n100%|██████████| 26/26 [00:07<00:00,  3.43it/s, Epoch=6, LR=0.001, Valid_Auroc=0.515, Valid_Loss=0.369]\n",
          "output_type": "stream"
        },
        {
          "name": "stdout",
          "text": "\n",
          "output_type": "stream"
        },
        {
          "name": "stderr",
          "text": "100%|██████████| 19/19 [00:07<00:00,  2.49it/s, Epoch=7, LR=0.001, Train_Auroc=0.946, Train_Loss=0.319]\n100%|██████████| 26/26 [00:07<00:00,  3.49it/s, Epoch=7, LR=0.001, Valid_Auroc=0.516, Valid_Loss=0.521]\n",
          "output_type": "stream"
        },
        {
          "name": "stdout",
          "text": "\n",
          "output_type": "stream"
        },
        {
          "name": "stderr",
          "text": "100%|██████████| 19/19 [00:07<00:00,  2.51it/s, Epoch=8, LR=0.000999, Train_Auroc=0.934, Train_Loss=0.353]\n100%|██████████| 26/26 [00:07<00:00,  3.34it/s, Epoch=8, LR=0.000999, Valid_Auroc=0.515, Valid_Loss=0.487]\n",
          "output_type": "stream"
        },
        {
          "name": "stdout",
          "text": "\n",
          "output_type": "stream"
        },
        {
          "name": "stderr",
          "text": "100%|██████████| 19/19 [00:07<00:00,  2.52it/s, Epoch=9, LR=0.000999, Train_Auroc=0.968, Train_Loss=0.266]\n100%|██████████| 26/26 [00:07<00:00,  3.53it/s, Epoch=9, LR=0.000999, Valid_Auroc=0.517, Valid_Loss=0.502]\n",
          "output_type": "stream"
        },
        {
          "name": "stdout",
          "text": "\u001b[34mValidation AUROC Improved (0.516059531020161 ---> 0.5172725662039498)\nModel Saved\u001b[0m\n\n",
          "output_type": "stream"
        },
        {
          "name": "stderr",
          "text": "100%|██████████| 19/19 [00:07<00:00,  2.51it/s, Epoch=10, LR=0.000999, Train_Auroc=0.967, Train_Loss=0.246]\n100%|██████████| 26/26 [00:07<00:00,  3.34it/s, Epoch=10, LR=0.000999, Valid_Auroc=0.518, Valid_Loss=0.395]\n",
          "output_type": "stream"
        },
        {
          "name": "stdout",
          "text": "\u001b[34mValidation AUROC Improved (0.5172725662039498 ---> 0.5175362695047735)\nModel Saved\u001b[0m\n\n",
          "output_type": "stream"
        },
        {
          "name": "stderr",
          "text": "100%|██████████| 19/19 [00:07<00:00,  2.51it/s, Epoch=11, LR=0.000999, Train_Auroc=0.959, Train_Loss=0.284]\n100%|██████████| 26/26 [00:07<00:00,  3.56it/s, Epoch=11, LR=0.000999, Valid_Auroc=0.517, Valid_Loss=0.397]\n",
          "output_type": "stream"
        },
        {
          "name": "stdout",
          "text": "\n",
          "output_type": "stream"
        },
        {
          "name": "stderr",
          "text": "100%|██████████| 19/19 [00:07<00:00,  2.49it/s, Epoch=12, LR=0.000999, Train_Auroc=0.957, Train_Loss=0.282]\n100%|██████████| 26/26 [00:07<00:00,  3.40it/s, Epoch=12, LR=0.000999, Valid_Auroc=0.516, Valid_Loss=0.248]\n",
          "output_type": "stream"
        },
        {
          "name": "stdout",
          "text": "\n",
          "output_type": "stream"
        },
        {
          "name": "stderr",
          "text": "100%|██████████| 19/19 [00:07<00:00,  2.50it/s, Epoch=13, LR=0.000999, Train_Auroc=0.957, Train_Loss=0.293]\n100%|██████████| 26/26 [00:07<00:00,  3.46it/s, Epoch=13, LR=0.000999, Valid_Auroc=0.515, Valid_Loss=0.206]\n",
          "output_type": "stream"
        },
        {
          "name": "stdout",
          "text": "\n",
          "output_type": "stream"
        },
        {
          "name": "stderr",
          "text": "100%|██████████| 19/19 [00:07<00:00,  2.53it/s, Epoch=14, LR=0.000998, Train_Auroc=0.969, Train_Loss=0.267]\n100%|██████████| 26/26 [00:07<00:00,  3.40it/s, Epoch=14, LR=0.000998, Valid_Auroc=0.516, Valid_Loss=0.291]\n",
          "output_type": "stream"
        },
        {
          "name": "stdout",
          "text": "\n",
          "output_type": "stream"
        },
        {
          "name": "stderr",
          "text": "100%|██████████| 19/19 [00:07<00:00,  2.53it/s, Epoch=15, LR=0.000998, Train_Auroc=0.962, Train_Loss=0.292]\n100%|██████████| 26/26 [00:07<00:00,  3.53it/s, Epoch=15, LR=0.000998, Valid_Auroc=0.514, Valid_Loss=0.299]\n",
          "output_type": "stream"
        },
        {
          "name": "stdout",
          "text": "\n",
          "output_type": "stream"
        },
        {
          "name": "stderr",
          "text": "100%|██████████| 19/19 [00:07<00:00,  2.52it/s, Epoch=16, LR=0.000998, Train_Auroc=0.968, Train_Loss=0.257]\n100%|██████████| 26/26 [00:07<00:00,  3.41it/s, Epoch=16, LR=0.000998, Valid_Auroc=0.517, Valid_Loss=0.301]\n",
          "output_type": "stream"
        },
        {
          "name": "stdout",
          "text": "\n",
          "output_type": "stream"
        },
        {
          "name": "stderr",
          "text": "100%|██████████| 19/19 [00:07<00:00,  2.52it/s, Epoch=17, LR=0.000998, Train_Auroc=0.975, Train_Loss=0.226]\n100%|██████████| 26/26 [00:07<00:00,  3.49it/s, Epoch=17, LR=0.000998, Valid_Auroc=0.517, Valid_Loss=0.482]\n",
          "output_type": "stream"
        },
        {
          "name": "stdout",
          "text": "\n",
          "output_type": "stream"
        },
        {
          "name": "stderr",
          "text": "100%|██████████| 19/19 [00:07<00:00,  2.53it/s, Epoch=18, LR=0.000997, Train_Auroc=0.973, Train_Loss=0.235]\n100%|██████████| 26/26 [00:07<00:00,  3.37it/s, Epoch=18, LR=0.000997, Valid_Auroc=0.517, Valid_Loss=0.351]\n",
          "output_type": "stream"
        },
        {
          "name": "stdout",
          "text": "\n",
          "output_type": "stream"
        },
        {
          "name": "stderr",
          "text": "100%|██████████| 19/19 [00:07<00:00,  2.54it/s, Epoch=19, LR=0.000997, Train_Auroc=0.978, Train_Loss=0.222]\n100%|██████████| 26/26 [00:07<00:00,  3.51it/s, Epoch=19, LR=0.000997, Valid_Auroc=0.518, Valid_Loss=0.302]\n",
          "output_type": "stream"
        },
        {
          "name": "stdout",
          "text": "\u001b[34mValidation AUROC Improved (0.5175362695047735 ---> 0.5179054541259266)\nModel Saved\u001b[0m\n\n",
          "output_type": "stream"
        },
        {
          "name": "stderr",
          "text": "100%|██████████| 19/19 [00:07<00:00,  2.53it/s, Epoch=20, LR=0.000997, Train_Auroc=0.978, Train_Loss=0.211]\n100%|██████████| 26/26 [00:08<00:00,  3.08it/s, Epoch=20, LR=0.000997, Valid_Auroc=0.516, Valid_Loss=0.221]\n",
          "output_type": "stream"
        },
        {
          "name": "stdout",
          "text": "\n",
          "output_type": "stream"
        },
        {
          "name": "stderr",
          "text": "100%|██████████| 19/19 [00:07<00:00,  2.52it/s, Epoch=21, LR=0.000996, Train_Auroc=0.99, Train_Loss=0.173] \n100%|██████████| 26/26 [00:07<00:00,  3.59it/s, Epoch=21, LR=0.000996, Valid_Auroc=0.518, Valid_Loss=0.338]\n",
          "output_type": "stream"
        },
        {
          "name": "stdout",
          "text": "\n",
          "output_type": "stream"
        },
        {
          "name": "stderr",
          "text": "100%|██████████| 19/19 [00:07<00:00,  2.51it/s, Epoch=22, LR=0.000996, Train_Auroc=0.976, Train_Loss=0.241]\n100%|██████████| 26/26 [00:09<00:00,  2.89it/s, Epoch=22, LR=0.000996, Valid_Auroc=0.517, Valid_Loss=0.388]\n",
          "output_type": "stream"
        },
        {
          "name": "stdout",
          "text": "\n",
          "output_type": "stream"
        },
        {
          "name": "stderr",
          "text": "100%|██████████| 19/19 [00:07<00:00,  2.44it/s, Epoch=23, LR=0.000996, Train_Auroc=0.973, Train_Loss=0.247]\n100%|██████████| 26/26 [00:07<00:00,  3.55it/s, Epoch=23, LR=0.000996, Valid_Auroc=0.518, Valid_Loss=0.366]\n",
          "output_type": "stream"
        },
        {
          "name": "stdout",
          "text": "\u001b[34mValidation AUROC Improved (0.5179054541259266 ---> 0.5182746387470797)\nModel Saved\u001b[0m\n\n",
          "output_type": "stream"
        },
        {
          "name": "stderr",
          "text": "100%|██████████| 19/19 [00:07<00:00,  2.54it/s, Epoch=24, LR=0.000995, Train_Auroc=0.983, Train_Loss=0.176]\n100%|██████████| 26/26 [00:10<00:00,  2.54it/s, Epoch=24, LR=0.000995, Valid_Auroc=0.517, Valid_Loss=0.351]\n",
          "output_type": "stream"
        },
        {
          "name": "stdout",
          "text": "\n",
          "output_type": "stream"
        },
        {
          "name": "stderr",
          "text": "100%|██████████| 19/19 [00:07<00:00,  2.53it/s, Epoch=25, LR=0.000995, Train_Auroc=0.985, Train_Loss=0.201]\n100%|██████████| 26/26 [00:07<00:00,  3.59it/s, Epoch=25, LR=0.000995, Valid_Auroc=0.517, Valid_Loss=0.5]  \n",
          "output_type": "stream"
        },
        {
          "name": "stdout",
          "text": "\n",
          "output_type": "stream"
        },
        {
          "name": "stderr",
          "text": "100%|██████████| 19/19 [00:07<00:00,  2.52it/s, Epoch=26, LR=0.000994, Train_Auroc=0.996, Train_Loss=0.121]\n100%|██████████| 26/26 [00:10<00:00,  2.43it/s, Epoch=26, LR=0.000994, Valid_Auroc=0.518, Valid_Loss=0.552]\n",
          "output_type": "stream"
        },
        {
          "name": "stdout",
          "text": "\n",
          "output_type": "stream"
        },
        {
          "name": "stderr",
          "text": "100%|██████████| 19/19 [00:07<00:00,  2.54it/s, Epoch=27, LR=0.000994, Train_Auroc=0.984, Train_Loss=0.205]\n100%|██████████| 26/26 [00:07<00:00,  3.51it/s, Epoch=27, LR=0.000994, Valid_Auroc=0.518, Valid_Loss=0.233]\n",
          "output_type": "stream"
        },
        {
          "name": "stdout",
          "text": "\n",
          "output_type": "stream"
        },
        {
          "name": "stderr",
          "text": "100%|██████████| 19/19 [00:07<00:00,  2.52it/s, Epoch=28, LR=0.000993, Train_Auroc=0.985, Train_Loss=0.178]\n100%|██████████| 26/26 [00:07<00:00,  3.53it/s, Epoch=28, LR=0.000993, Valid_Auroc=0.517, Valid_Loss=0.391]\n",
          "output_type": "stream"
        },
        {
          "name": "stdout",
          "text": "\n",
          "output_type": "stream"
        },
        {
          "name": "stderr",
          "text": "100%|██████████| 19/19 [00:07<00:00,  2.53it/s, Epoch=29, LR=0.000993, Train_Auroc=0.99, Train_Loss=0.138] \n100%|██████████| 26/26 [00:07<00:00,  3.57it/s, Epoch=29, LR=0.000993, Valid_Auroc=0.517, Valid_Loss=0.347]\n",
          "output_type": "stream"
        },
        {
          "name": "stdout",
          "text": "\n",
          "output_type": "stream"
        },
        {
          "name": "stderr",
          "text": "100%|██████████| 19/19 [00:07<00:00,  2.52it/s, Epoch=30, LR=0.000992, Train_Auroc=0.987, Train_Loss=0.178]\n100%|██████████| 26/26 [00:07<00:00,  3.60it/s, Epoch=30, LR=0.000992, Valid_Auroc=0.516, Valid_Loss=0.472]\n",
          "output_type": "stream"
        },
        {
          "name": "stdout",
          "text": "\n",
          "output_type": "stream"
        },
        {
          "name": "stderr",
          "text": "100%|██████████| 19/19 [00:07<00:00,  2.54it/s, Epoch=31, LR=0.000992, Train_Auroc=0.987, Train_Loss=0.191]\n100%|██████████| 26/26 [00:07<00:00,  3.52it/s, Epoch=31, LR=0.000992, Valid_Auroc=0.517, Valid_Loss=0.331]\n",
          "output_type": "stream"
        },
        {
          "name": "stdout",
          "text": "\n",
          "output_type": "stream"
        },
        {
          "name": "stderr",
          "text": "100%|██████████| 19/19 [00:07<00:00,  2.51it/s, Epoch=32, LR=0.000991, Train_Auroc=0.986, Train_Loss=0.16] \n100%|██████████| 26/26 [00:07<00:00,  3.50it/s, Epoch=32, LR=0.000991, Valid_Auroc=0.517, Valid_Loss=0.3]  \n",
          "output_type": "stream"
        },
        {
          "name": "stdout",
          "text": "\n",
          "output_type": "stream"
        },
        {
          "name": "stderr",
          "text": "100%|██████████| 19/19 [00:07<00:00,  2.53it/s, Epoch=33, LR=0.000991, Train_Auroc=0.986, Train_Loss=0.175]\n100%|██████████| 26/26 [00:07<00:00,  3.53it/s, Epoch=33, LR=0.000991, Valid_Auroc=0.516, Valid_Loss=0.825]\n",
          "output_type": "stream"
        },
        {
          "name": "stdout",
          "text": "\n",
          "output_type": "stream"
        },
        {
          "name": "stderr",
          "text": "100%|██████████| 19/19 [00:07<00:00,  2.52it/s, Epoch=34, LR=0.00099, Train_Auroc=0.989, Train_Loss=0.153] \n100%|██████████| 26/26 [00:07<00:00,  3.54it/s, Epoch=34, LR=0.00099, Valid_Auroc=0.516, Valid_Loss=0.417]\n",
          "output_type": "stream"
        },
        {
          "name": "stdout",
          "text": "\n",
          "output_type": "stream"
        },
        {
          "name": "stderr",
          "text": "100%|██████████| 19/19 [00:07<00:00,  2.56it/s, Epoch=35, LR=0.00099, Train_Auroc=0.988, Train_Loss=0.141]\n100%|██████████| 26/26 [00:07<00:00,  3.49it/s, Epoch=35, LR=0.00099, Valid_Auroc=0.517, Valid_Loss=0.39] \n",
          "output_type": "stream"
        },
        {
          "name": "stdout",
          "text": "\n",
          "output_type": "stream"
        },
        {
          "name": "stderr",
          "text": "100%|██████████| 19/19 [00:07<00:00,  2.52it/s, Epoch=36, LR=0.000989, Train_Auroc=0.989, Train_Loss=0.149]\n100%|██████████| 26/26 [00:07<00:00,  3.54it/s, Epoch=36, LR=0.000989, Valid_Auroc=0.518, Valid_Loss=0.305]\n",
          "output_type": "stream"
        },
        {
          "name": "stdout",
          "text": "\n",
          "output_type": "stream"
        },
        {
          "name": "stderr",
          "text": "100%|██████████| 19/19 [00:07<00:00,  2.53it/s, Epoch=37, LR=0.000989, Train_Auroc=0.99, Train_Loss=0.18]  \n100%|██████████| 26/26 [00:07<00:00,  3.58it/s, Epoch=37, LR=0.000989, Valid_Auroc=0.515, Valid_Loss=0.355]\n",
          "output_type": "stream"
        },
        {
          "name": "stdout",
          "text": "\n",
          "output_type": "stream"
        },
        {
          "name": "stderr",
          "text": "100%|██████████| 19/19 [00:07<00:00,  2.53it/s, Epoch=38, LR=0.000988, Train_Auroc=0.99, Train_Loss=0.127]  \n100%|██████████| 26/26 [00:07<00:00,  3.55it/s, Epoch=38, LR=0.000988, Valid_Auroc=0.516, Valid_Loss=0.423]\n",
          "output_type": "stream"
        },
        {
          "name": "stdout",
          "text": "\n",
          "output_type": "stream"
        },
        {
          "name": "stderr",
          "text": "100%|██████████| 19/19 [00:07<00:00,  2.52it/s, Epoch=39, LR=0.000987, Train_Auroc=0.99, Train_Loss=0.133] \n100%|██████████| 26/26 [00:07<00:00,  3.54it/s, Epoch=39, LR=0.000987, Valid_Auroc=0.518, Valid_Loss=0.335]\n",
          "output_type": "stream"
        },
        {
          "name": "stdout",
          "text": "\n",
          "output_type": "stream"
        },
        {
          "name": "stderr",
          "text": "100%|██████████| 19/19 [00:07<00:00,  2.52it/s, Epoch=40, LR=0.000987, Train_Auroc=0.994, Train_Loss=0.118] \n100%|██████████| 26/26 [00:07<00:00,  3.54it/s, Epoch=40, LR=0.000987, Valid_Auroc=0.517, Valid_Loss=0.423]\n",
          "output_type": "stream"
        },
        {
          "name": "stdout",
          "text": "\n",
          "output_type": "stream"
        },
        {
          "name": "stderr",
          "text": "100%|██████████| 19/19 [00:07<00:00,  2.54it/s, Epoch=41, LR=0.000986, Train_Auroc=0.995, Train_Loss=0.128]\n100%|██████████| 26/26 [00:07<00:00,  3.58it/s, Epoch=41, LR=0.000986, Valid_Auroc=0.517, Valid_Loss=0.648]\n",
          "output_type": "stream"
        },
        {
          "name": "stdout",
          "text": "\n",
          "output_type": "stream"
        },
        {
          "name": "stderr",
          "text": "100%|██████████| 19/19 [00:07<00:00,  2.51it/s, Epoch=42, LR=0.000985, Train_Auroc=0.991, Train_Loss=0.157]\n100%|██████████| 26/26 [00:07<00:00,  3.54it/s, Epoch=42, LR=0.000985, Valid_Auroc=0.518, Valid_Loss=0.341]\n",
          "output_type": "stream"
        },
        {
          "name": "stdout",
          "text": "\n",
          "output_type": "stream"
        },
        {
          "name": "stderr",
          "text": "100%|██████████| 19/19 [00:07<00:00,  2.53it/s, Epoch=43, LR=0.000985, Train_Auroc=0.995, Train_Loss=0.116] \n100%|██████████| 26/26 [00:07<00:00,  3.51it/s, Epoch=43, LR=0.000985, Valid_Auroc=0.516, Valid_Loss=0.316]\n",
          "output_type": "stream"
        },
        {
          "name": "stdout",
          "text": "\n",
          "output_type": "stream"
        },
        {
          "name": "stderr",
          "text": "100%|██████████| 19/19 [00:07<00:00,  2.51it/s, Epoch=44, LR=0.000984, Train_Auroc=0.988, Train_Loss=0.155]\n100%|██████████| 26/26 [00:07<00:00,  3.56it/s, Epoch=44, LR=0.000984, Valid_Auroc=0.517, Valid_Loss=0.328]\n",
          "output_type": "stream"
        },
        {
          "name": "stdout",
          "text": "\n",
          "output_type": "stream"
        },
        {
          "name": "stderr",
          "text": "100%|██████████| 19/19 [00:07<00:00,  2.54it/s, Epoch=45, LR=0.000983, Train_Auroc=0.997, Train_Loss=0.0959]\n100%|██████████| 26/26 [00:07<00:00,  3.50it/s, Epoch=45, LR=0.000983, Valid_Auroc=0.517, Valid_Loss=0.328]\n",
          "output_type": "stream"
        },
        {
          "name": "stdout",
          "text": "\n",
          "output_type": "stream"
        },
        {
          "name": "stderr",
          "text": "100%|██████████| 19/19 [00:07<00:00,  2.53it/s, Epoch=46, LR=0.000982, Train_Auroc=0.998, Train_Loss=0.078] \n100%|██████████| 26/26 [00:07<00:00,  3.49it/s, Epoch=46, LR=0.000982, Valid_Auroc=0.518, Valid_Loss=0.324]\n",
          "output_type": "stream"
        },
        {
          "name": "stdout",
          "text": "\n",
          "output_type": "stream"
        },
        {
          "name": "stderr",
          "text": "100%|██████████| 19/19 [00:07<00:00,  2.51it/s, Epoch=47, LR=0.000982, Train_Auroc=0.998, Train_Loss=0.0581]\n100%|██████████| 26/26 [00:07<00:00,  3.54it/s, Epoch=47, LR=0.000982, Valid_Auroc=0.518, Valid_Loss=0.387]\n",
          "output_type": "stream"
        },
        {
          "name": "stdout",
          "text": "\n",
          "output_type": "stream"
        },
        {
          "name": "stderr",
          "text": "100%|██████████| 19/19 [00:07<00:00,  2.53it/s, Epoch=48, LR=0.000981, Train_Auroc=0.992, Train_Loss=0.14] \n100%|██████████| 26/26 [00:07<00:00,  3.54it/s, Epoch=48, LR=0.000981, Valid_Auroc=0.516, Valid_Loss=0.316]\n",
          "output_type": "stream"
        },
        {
          "name": "stdout",
          "text": "\n",
          "output_type": "stream"
        },
        {
          "name": "stderr",
          "text": "100%|██████████| 19/19 [00:07<00:00,  2.54it/s, Epoch=49, LR=0.00098, Train_Auroc=0.991, Train_Loss=0.144]\n100%|██████████| 26/26 [00:07<00:00,  3.53it/s, Epoch=49, LR=0.00098, Valid_Auroc=0.516, Valid_Loss=0.444]\n",
          "output_type": "stream"
        },
        {
          "name": "stdout",
          "text": "\n",
          "output_type": "stream"
        },
        {
          "name": "stderr",
          "text": "100%|██████████| 19/19 [00:07<00:00,  2.49it/s, Epoch=50, LR=0.000979, Train_Auroc=0.994, Train_Loss=0.11] \n100%|██████████| 26/26 [00:07<00:00,  3.48it/s, Epoch=50, LR=0.000979, Valid_Auroc=0.517, Valid_Loss=0.425]\n",
          "output_type": "stream"
        },
        {
          "name": "stdout",
          "text": "\nTraining complete in 0h 13m 25s\nBest AUROC: 0.5183\n",
          "output_type": "stream"
        }
      ]
    },
    {
      "cell_type": "code",
      "source": [
        "history = pd.DataFrame.from_dict(history)\n",
        "history.to_csv(\"history.csv\", index=False)"
      ],
      "metadata": {
        "papermill": {
          "duration": 0.408452,
          "end_time": "2024-06-29T23:30:27.325321",
          "exception": false,
          "start_time": "2024-06-29T23:30:26.916869",
          "status": "completed"
        },
        "tags": [],
        "execution": {
          "iopub.status.busy": "2024-08-13T08:18:26.113465Z",
          "iopub.execute_input": "2024-08-13T08:18:26.113760Z",
          "iopub.status.idle": "2024-08-13T08:18:26.124590Z",
          "shell.execute_reply.started": "2024-08-13T08:18:26.113735Z",
          "shell.execute_reply": "2024-08-13T08:18:26.123541Z"
        },
        "trusted": true,
        "id": "gxm9WMtpm5Ri"
      },
      "execution_count": null,
      "outputs": []
    },
    {
      "cell_type": "markdown",
      "source": [
        "# <span><h1 style = \"font-family: garamond; font-size: 40px; font-style: normal; letter-spcaing: 3px; background-color: #f6f5f5; color :#fe346e; border-radius: 100px 100px; text-align:center\">Logs</h1></span>"
      ],
      "metadata": {
        "papermill": {
          "duration": 0.390665,
          "end_time": "2024-06-29T23:30:28.107797",
          "exception": false,
          "start_time": "2024-06-29T23:30:27.717132",
          "status": "completed"
        },
        "tags": [],
        "id": "oW6EQE-fm5Ri"
      }
    },
    {
      "cell_type": "code",
      "source": [
        "plt.plot( range(history.shape[0]), history[\"Train Loss\"].values, label=\"Train Loss\")\n",
        "plt.plot( range(history.shape[0]), history[\"Valid Loss\"].values, label=\"Valid Loss\")\n",
        "plt.xlabel(\"epochs\")\n",
        "plt.ylabel(\"Loss\")\n",
        "plt.grid()\n",
        "plt.legend()\n",
        "plt.show()"
      ],
      "metadata": {
        "papermill": {
          "duration": 0.673512,
          "end_time": "2024-06-29T23:30:29.236485",
          "exception": false,
          "start_time": "2024-06-29T23:30:28.562973",
          "status": "completed"
        },
        "tags": [],
        "execution": {
          "iopub.status.busy": "2024-08-13T08:18:26.125883Z",
          "iopub.execute_input": "2024-08-13T08:18:26.126218Z",
          "iopub.status.idle": "2024-08-13T08:18:26.404951Z",
          "shell.execute_reply.started": "2024-08-13T08:18:26.126186Z",
          "shell.execute_reply": "2024-08-13T08:18:26.402893Z"
        },
        "trusted": true,
        "id": "_o8z0nbfm5Ri",
        "outputId": "f31967bd-486a-414d-914a-37c0a6311659"
      },
      "execution_count": null,
      "outputs": [
        {
          "output_type": "display_data",
          "data": {
            "text/plain": "<Figure size 640x480 with 1 Axes>",
            "image/png": "[encoded data removed]"
          },
          "metadata": {}
        }
      ]
    },
    {
      "cell_type": "code",
      "source": [
        "plt.plot( range(history.shape[0]), history[\"Train AUROC\"].values, label=\"Train AUROC\")\n",
        "plt.plot( range(history.shape[0]), history[\"Valid AUROC\"].values, label=\"Valid AUROC\")\n",
        "plt.xlabel(\"epochs\")\n",
        "plt.ylabel(\"AUROC\")\n",
        "plt.grid()\n",
        "plt.legend()\n",
        "plt.show()"
      ],
      "metadata": {
        "papermill": {
          "duration": 0.648584,
          "end_time": "2024-06-29T23:30:30.277915",
          "exception": false,
          "start_time": "2024-06-29T23:30:29.629331",
          "status": "completed"
        },
        "tags": [],
        "execution": {
          "iopub.status.busy": "2024-08-13T08:18:26.406637Z",
          "iopub.execute_input": "2024-08-13T08:18:26.406906Z",
          "iopub.status.idle": "2024-08-13T08:18:26.669927Z",
          "shell.execute_reply.started": "2024-08-13T08:18:26.406882Z",
          "shell.execute_reply": "2024-08-13T08:18:26.668893Z"
        },
        "trusted": true,
        "id": "us91TVrZm5Rj",
        "outputId": "a70cbf32-d30b-4c41-979b-7cd8e13c636c"
      },
      "execution_count": null,
      "outputs": [
        {
          "output_type": "display_data",
          "data": {
            "text/plain": "<Figure size 640x480 with 1 Axes>",
            "image/png": "[encoded data removed]"
          },
          "metadata": {}
        }
      ]
    },
    {
      "cell_type": "code",
      "source": [
        "plt.plot( range(history.shape[0]), history[\"lr\"].values, label=\"lr\")\n",
        "plt.xlabel(\"epochs\")\n",
        "plt.ylabel(\"lr\")\n",
        "plt.grid()\n",
        "plt.legend()\n",
        "plt.show()"
      ],
      "metadata": {
        "papermill": {
          "duration": 0.617692,
          "end_time": "2024-06-29T23:30:31.290602",
          "exception": false,
          "start_time": "2024-06-29T23:30:30.67291",
          "status": "completed"
        },
        "tags": [],
        "execution": {
          "iopub.status.busy": "2024-08-13T08:18:26.671485Z",
          "iopub.execute_input": "2024-08-13T08:18:26.671877Z",
          "iopub.status.idle": "2024-08-13T08:18:26.862041Z",
          "shell.execute_reply.started": "2024-08-13T08:18:26.671842Z",
          "shell.execute_reply": "2024-08-13T08:18:26.861173Z"
        },
        "trusted": true,
        "id": "QSTHqwAYm5Rj",
        "outputId": "5df5a995-f5cb-45d2-cea6-d5a5f090d5a8"
      },
      "execution_count": null,
      "outputs": [
        {
          "output_type": "display_data",
          "data": {
            "text/plain": "<Figure size 640x480 with 1 Axes>",
            "image/png": "[encoded data removed]"
          },
          "metadata": {}
        }
      ]
    }
  ]
}