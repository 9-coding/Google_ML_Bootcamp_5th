{
  "metadata": {
    "kaggle": {
      "accelerator": "gpu",
      "dataSources": [
        {
          "sourceId": 63056,
          "databundleVersionId": 9094797,
          "sourceType": "competition"
        },
        {
          "sourceId": 3729,
          "sourceType": "modelInstanceVersion",
          "modelInstanceId": 2656,
          "modelId": 312
        },
        {
          "sourceId": 3731,
          "sourceType": "modelInstanceVersion",
          "isSourceIdPinned": true,
          "modelInstanceId": 2658,
          "modelId": 312
        },
        {
          "sourceId": 3732,
          "sourceType": "modelInstanceVersion",
          "modelInstanceId": 2659,
          "modelId": 312
        }
      ],
      "isInternetEnabled": true,
      "language": "python",
      "sourceType": "notebook",
      "isGpuEnabled": true
    },
    "kernelspec": {
      "display_name": "Python 3",
      "name": "python3"
    },
    "language_info": {
      "codemirror_mode": {
        "name": "ipython",
        "version": 3
      },
      "file_extension": ".py",
      "mimetype": "text/x-python",
      "name": "python",
      "nbconvert_exporter": "python",
      "pygments_lexer": "ipython3",
      "version": "3.10.13"
    },
    "papermill": {
      "default_parameters": {},
      "duration": 793.680734,
      "end_time": "2024-06-29T23:30:34.642937",
      "environment_variables": {},
      "exception": null,
      "input_path": "__notebook__.ipynb",
      "output_path": "__notebook__.ipynb",
      "parameters": {},
      "start_time": "2024-06-29T23:17:20.962203",
      "version": "2.5.0"
    },
    "colab": {
      "name": "sample_training",
      "provenance": [],
      "gpuType": "T4",
      "include_colab_link": true
    },
    "accelerator": "GPU"
  },
  "nbformat_minor": 0,
  "nbformat": 4,
  "cells": [
    {
      "cell_type": "markdown",
      "metadata": {
        "id": "view-in-github",
        "colab_type": "text"
      },
      "source": [
        "<a href=\"https://colab.research.google.com/github/9-coding/Kaggle/blob/main/ISIC_2024/model_selection/resnext_baseline.ipynb\" target=\"_parent\"><img src=\"https://colab.research.google.com/assets/colab-badge.svg\" alt=\"Open In Colab\"/></a>"
      ]
    },
    {
      "source": [
        "\n",
        "# IMPORTANT: RUN THIS CELL IN ORDER TO IMPORT YOUR KAGGLE DATA SOURCES\n",
        "# TO THE CORRECT LOCATION (/kaggle/input) IN YOUR NOTEBOOK,\n",
        "# THEN FEEL FREE TO DELETE THIS CELL.\n",
        "# NOTE: THIS NOTEBOOK ENVIRONMENT DIFFERS FROM KAGGLE'S PYTHON\n",
        "# ENVIRONMENT SO THERE MAY BE MISSING LIBRARIES USED BY YOUR\n",
        "# NOTEBOOK.\n",
        "\n",
        "import os\n",
        "import sys\n",
        "from tempfile import NamedTemporaryFile\n",
        "from urllib.request import urlopen\n",
        "from urllib.parse import unquote, urlparse\n",
        "from urllib.error import HTTPError\n",
        "from zipfile import ZipFile\n",
        "import tarfile\n",
        "import shutil\n",
        "\n",
        "CHUNK_SIZE = 40960\n",
        "DATA_SOURCE_MAPPING = 'isic-2024-challenge:https%3A%2F%2Fstorage.googleapis.com%2Fkaggle-competitions-data%2Fkaggle-v2%2F63056%2F9094797%2Fbundle%2Farchive.zip%3FX-Goog-Algorithm%3DGOOG4-RSA-SHA256%26X-Goog-Credential%3Dgcp-kaggle-com%2540kaggle-161607.iam.gserviceaccount.com%252F20240818%252Fauto%252Fstorage%252Fgoog4_request%26X-Goog-Date%3D20240818T031537Z%26X-Goog-Expires%3D259200%26X-Goog-SignedHeaders%3Dhost%26X-Goog-Signature%3Da75d6d6115eb728519ae5094be544289a72e9c44cfe85f954457d124a3b395322a374deefd13b280f639416cb9d42a2991b9d409a7a147f1885abe706ba0ebd17290539d06f9e56c7ecf9105584d2887592ce83ee1190d174fd4850641f3d4f8076036c03f13edf32b60205c92da31f7b7f6e4c4a66c8eda119c5ad6dfcf08ec75740c9932abe1b5d5c57f2b535e03fa22332eaf5ffc077d44ad862b3f9f03a65a59d65e0efc2b36baf5abbda7eced8f4ef0a28bc5eb5d78918e011a9a6a9c63e0ed2d368634ae264185a0181433e3793580798f7d229cc40c75925de3f714106335498d9db793dd08be5eadb7b921b0546bd0afc11f6f3179afac705e4b5add,tf-efficientnet/pytorch/tf-efficientnet-b0/1:https%3A%2F%2Fstorage.googleapis.com%2Fkaggle-models-data%2F2656%2F3729%2Fbundle%2Farchive.tar.gz%3FX-Goog-Algorithm%3DGOOG4-RSA-SHA256%26X-Goog-Credential%3Dgcp-kaggle-com%2540kaggle-161607.iam.gserviceaccount.com%252F20240818%252Fauto%252Fstorage%252Fgoog4_request%26X-Goog-Date%3D20240818T031537Z%26X-Goog-Expires%3D259200%26X-Goog-SignedHeaders%3Dhost%26X-Goog-Signature%3D2f14cc93b50e08ba596cf40174f7723d305d4bc1b6377a7bf279af7ba9a7d80ab2bb7ada54d06a4282d1ecc8b13258f50eaca073b30df67909445b6b9155cd16fea6f4ce55be5e1b22bf31f54d555b6b25913b3dbc1763a16f2272c46865ae4d85c67886e9be9cd40d70804ddd99f8b0696cd3989c02c705264f710528191e68a8ecbded8f7f845edb37a85978ee33754b11d5b7ef96cd441083f6f5221b9f16fd3c946ed4525ac1f9f5b385281b33aa235257ccfd0639ad3ff41b30dc35dbda28e4f6d2780ae66e0a08f96fc6e003570d08548c3f528753aff612059c9578e4d3d330c13921ccbf68b728be106aa4d2214d7bac3e3457a12116a3f26354db8a,tf-efficientnet/pytorch/tf-efficientnet-b2/1:https%3A%2F%2Fstorage.googleapis.com%2Fkaggle-models-data%2F2658%2F3731%2Fbundle%2Farchive.tar.gz%3FX-Goog-Algorithm%3DGOOG4-RSA-SHA256%26X-Goog-Credential%3Dgcp-kaggle-com%2540kaggle-161607.iam.gserviceaccount.com%252F20240818%252Fauto%252Fstorage%252Fgoog4_request%26X-Goog-Date%3D20240818T031537Z%26X-Goog-Expires%3D259200%26X-Goog-SignedHeaders%3Dhost%26X-Goog-Signature%3D9c1ca24b21745537ef7463e5e7dad752643f8e59166a47ca49a88290e0540bd884e3179b4c604e17cdcd28b0c410879d4298028f8bfad2abcd4ba0949362b8d7d6aae85192a650f50c11cb561974976cb28c3b502c302055314bd4f8af85bda0e7fce18c50183fbff45fae2a2e424970d87e656b3a4905d4195641fac6e82780f9a24008091835a877aa04c4855c603ed31435b7efb534a7f2b2a9ea19c1cfa49b68c2a050e11052a1695eb0b3f0ab9fc252a8bec25cfe72a6e9baa44e59900571ad423cf6d7383f1357ebb82048f2e2e1795446d1c9b5f130fda52545e073a8e83748a871f5e1251b8ff0dd6bd2f3dbed58d0e07f686f1fdd4b35f4eb2ea4ee,tf-efficientnet/pytorch/tf-efficientnet-b3/1:https%3A%2F%2Fstorage.googleapis.com%2Fkaggle-models-data%2F2659%2F3732%2Fbundle%2Farchive.tar.gz%3FX-Goog-Algorithm%3DGOOG4-RSA-SHA256%26X-Goog-Credential%3Dgcp-kaggle-com%2540kaggle-161607.iam.gserviceaccount.com%252F20240818%252Fauto%252Fstorage%252Fgoog4_request%26X-Goog-Date%3D20240818T031537Z%26X-Goog-Expires%3D259200%26X-Goog-SignedHeaders%3Dhost%26X-Goog-Signature%3D6c667eb3eb08d7b81733083c8af1a68ea7996277611d1a9a1779d864ae6598240589239a009244aa671a8e9ace8057779c48a3d64461c70d4af3664501588faea92b7cf74c680e5befcb1bf4c051771f1610e0a3fb22d177f32eaba31af945ebe0670ac28e7affcc7f15e7b5e823dc4b578c3f11e6700d59a9d6a3b649f9932ff453f8d666041ba7bb15fdb8ef3a8b8a478ca8fcd1cd89af5773b1377e3eafc254771eed4dc85c36f08ddc413d5d098775ae38a5f9700a7c26c2165a9f0de96f72adb65becfd993277ab06b8d398cb3b34c48ed8c03473a77307299b3e7d25d81788b000a8517344cd9ec43b718ab4e2c03a9b85d8b2b8fe3190a68730075f5b'\n",
        "\n",
        "KAGGLE_INPUT_PATH='/kaggle/input'\n",
        "KAGGLE_WORKING_PATH='/kaggle/working'\n",
        "KAGGLE_SYMLINK='kaggle'\n",
        "\n",
        "!umount /kaggle/input/ 2> /dev/null\n",
        "shutil.rmtree('/kaggle/input', ignore_errors=True)\n",
        "os.makedirs(KAGGLE_INPUT_PATH, 0o777, exist_ok=True)\n",
        "os.makedirs(KAGGLE_WORKING_PATH, 0o777, exist_ok=True)\n",
        "\n",
        "try:\n",
        "  os.symlink(KAGGLE_INPUT_PATH, os.path.join(\"..\", 'input'), target_is_directory=True)\n",
        "except FileExistsError:\n",
        "  pass\n",
        "try:\n",
        "  os.symlink(KAGGLE_WORKING_PATH, os.path.join(\"..\", 'working'), target_is_directory=True)\n",
        "except FileExistsError:\n",
        "  pass\n",
        "\n",
        "for data_source_mapping in DATA_SOURCE_MAPPING.split(','):\n",
        "    directory, download_url_encoded = data_source_mapping.split(':')\n",
        "    download_url = unquote(download_url_encoded)\n",
        "    filename = urlparse(download_url).path\n",
        "    destination_path = os.path.join(KAGGLE_INPUT_PATH, directory)\n",
        "    try:\n",
        "        with urlopen(download_url) as fileres, NamedTemporaryFile() as tfile:\n",
        "            total_length = fileres.headers['content-length']\n",
        "            print(f'Downloading {directory}, {total_length} bytes compressed')\n",
        "            dl = 0\n",
        "            data = fileres.read(CHUNK_SIZE)\n",
        "            while len(data) > 0:\n",
        "                dl += len(data)\n",
        "                tfile.write(data)\n",
        "                done = int(50 * dl / int(total_length))\n",
        "                sys.stdout.write(f\"\\r[{'=' * done}{' ' * (50-done)}] {dl} bytes downloaded\")\n",
        "                sys.stdout.flush()\n",
        "                data = fileres.read(CHUNK_SIZE)\n",
        "            if filename.endswith('.zip'):\n",
        "              with ZipFile(tfile) as zfile:\n",
        "                zfile.extractall(destination_path)\n",
        "            else:\n",
        "              with tarfile.open(tfile.name) as tarfile:\n",
        "                tarfile.extractall(destination_path)\n",
        "            print(f'\\nDownloaded and uncompressed: {directory}')\n",
        "    except HTTPError as e:\n",
        "        print(f'Failed to load (likely expired) {download_url} to path {destination_path}')\n",
        "        continue\n",
        "    except OSError as e:\n",
        "        print(f'Failed to load {download_url} to path {destination_path}')\n",
        "        continue\n",
        "\n",
        "print('Data source import complete.')\n"
      ],
      "metadata": {
        "colab": {
          "base_uri": "https://localhost:8080/"
        },
        "id": "942ginpTe78D",
        "outputId": "6bdfc985-506d-47cc-8b40-08a6b429fd99"
      },
      "cell_type": "code",
      "outputs": [
        {
          "output_type": "stream",
          "name": "stdout",
          "text": [
            "Downloading isic-2024-challenge, 2148525604 bytes compressed\n",
            "[==================================================] 2148525604 bytes downloaded\n",
            "Downloaded and uncompressed: isic-2024-challenge\n",
            "Downloading tf-efficientnet/pytorch/tf-efficientnet-b0/1, 19774079 bytes compressed\n",
            "[==================================================] 19774079 bytes downloaded\n",
            "Downloaded and uncompressed: tf-efficientnet/pytorch/tf-efficientnet-b0/1\n",
            "Downloading tf-efficientnet/pytorch/tf-efficientnet-b2/1, 33994057 bytes compressed\n",
            "[==================================================] 33994057 bytes downloaded\n",
            "Downloaded and uncompressed: tf-efficientnet/pytorch/tf-efficientnet-b2/1\n",
            "Downloading tf-efficientnet/pytorch/tf-efficientnet-b3/1, 45614007 bytes compressed\n",
            "[==================================================] 45614007 bytes downloaded\n",
            "Downloaded and uncompressed: tf-efficientnet/pytorch/tf-efficientnet-b3/1\n",
            "Data source import complete.\n"
          ]
        }
      ],
      "execution_count": 1
    },
    {
      "cell_type": "markdown",
      "source": [
        "# <span><h1 style = \"font-family: garamond; font-size: 40px; font-style: normal; letter-spcaing: 3px; background-color: #f6f5f5; color :#fe346e; border-radius: 100px 100px; text-align:center\">Import Required Libraries 📚</h1></span>"
      ],
      "metadata": {
        "papermill": {
          "duration": 0.01095,
          "end_time": "2024-06-29T23:17:23.709233",
          "exception": false,
          "start_time": "2024-06-29T23:17:23.698283",
          "status": "completed"
        },
        "tags": [],
        "id": "r0S_7MCee78F"
      }
    },
    {
      "cell_type": "code",
      "source": [
        "!pip install torcheval"
      ],
      "metadata": {
        "papermill": {
          "duration": 13.648463,
          "end_time": "2024-06-29T23:17:37.368242",
          "exception": false,
          "start_time": "2024-06-29T23:17:23.719779",
          "status": "completed"
        },
        "tags": [],
        "execution": {
          "iopub.status.busy": "2024-08-17T02:02:46.439536Z",
          "iopub.execute_input": "2024-08-17T02:02:46.440452Z",
          "iopub.status.idle": "2024-08-17T02:03:00.473147Z",
          "shell.execute_reply.started": "2024-08-17T02:02:46.440419Z",
          "shell.execute_reply": "2024-08-17T02:03:00.472011Z"
        },
        "trusted": true,
        "colab": {
          "base_uri": "https://localhost:8080/"
        },
        "id": "gPczKQFFe78G",
        "outputId": "63515c42-a606-4ba8-ca81-9f47b7a5e273"
      },
      "execution_count": 2,
      "outputs": [
        {
          "output_type": "stream",
          "name": "stdout",
          "text": [
            "Collecting torcheval\n",
            "  Downloading torcheval-0.0.7-py3-none-any.whl.metadata (8.6 kB)\n",
            "Requirement already satisfied: typing-extensions in /usr/local/lib/python3.10/dist-packages (from torcheval) (4.12.2)\n",
            "Downloading torcheval-0.0.7-py3-none-any.whl (179 kB)\n",
            "\u001b[?25l   \u001b[90m━━━━━━━━━━━━━━━━━━━━━━━━━━━━━━━━━━━━━━━━\u001b[0m \u001b[32m0.0/179.2 kB\u001b[0m \u001b[31m?\u001b[0m eta \u001b[36m-:--:--\u001b[0m\r\u001b[2K   \u001b[90m━━━━━━━━━━━━━━━━━━━━━━━━━━━━━━━━━━━━━━━━\u001b[0m \u001b[32m179.2/179.2 kB\u001b[0m \u001b[31m16.4 MB/s\u001b[0m eta \u001b[36m0:00:00\u001b[0m\n",
            "\u001b[?25hInstalling collected packages: torcheval\n",
            "Successfully installed torcheval-0.0.7\n"
          ]
        }
      ]
    },
    {
      "cell_type": "code",
      "source": [
        "!pip install --quiet wandb"
      ],
      "metadata": {
        "execution": {
          "iopub.status.busy": "2024-08-17T02:03:00.475585Z",
          "iopub.execute_input": "2024-08-17T02:03:00.47598Z",
          "iopub.status.idle": "2024-08-17T02:03:13.03498Z",
          "shell.execute_reply.started": "2024-08-17T02:03:00.47594Z",
          "shell.execute_reply": "2024-08-17T02:03:13.03385Z"
        },
        "trusted": true,
        "colab": {
          "base_uri": "https://localhost:8080/"
        },
        "id": "GnKFwhg3e78G",
        "outputId": "30a3f6e0-c611-433d-9543-c3744db4ca11"
      },
      "execution_count": 4,
      "outputs": [
        {
          "output_type": "stream",
          "name": "stdout",
          "text": [
            "\u001b[2K   \u001b[90m━━━━━━━━━━━━━━━━━━━━━━━━━━━━━━━━━━━━━━━━\u001b[0m \u001b[32m9.3/9.3 MB\u001b[0m \u001b[31m73.9 MB/s\u001b[0m eta \u001b[36m0:00:00\u001b[0m\n",
            "\u001b[2K   \u001b[90m━━━━━━━━━━━━━━━━━━━━━━━━━━━━━━━━━━━━━━━━\u001b[0m \u001b[32m207.3/207.3 kB\u001b[0m \u001b[31m16.7 MB/s\u001b[0m eta \u001b[36m0:00:00\u001b[0m\n",
            "\u001b[2K   \u001b[90m━━━━━━━━━━━━━━━━━━━━━━━━━━━━━━━━━━━━━━━━\u001b[0m \u001b[32m309.1/309.1 kB\u001b[0m \u001b[31m23.8 MB/s\u001b[0m eta \u001b[36m0:00:00\u001b[0m\n",
            "\u001b[2K   \u001b[90m━━━━━━━━━━━━━━━━━━━━━━━━━━━━━━━━━━━━━━━━\u001b[0m \u001b[32m62.7/62.7 kB\u001b[0m \u001b[31m5.6 MB/s\u001b[0m eta \u001b[36m0:00:00\u001b[0m\n",
            "\u001b[?25h"
          ]
        }
      ]
    },
    {
      "cell_type": "code",
      "source": [
        "!pip install --quiet --pre timm"
      ],
      "metadata": {
        "execution": {
          "iopub.status.busy": "2024-08-17T02:03:13.036494Z",
          "iopub.execute_input": "2024-08-17T02:03:13.036881Z",
          "iopub.status.idle": "2024-08-17T02:03:25.642901Z",
          "shell.execute_reply.started": "2024-08-17T02:03:13.036839Z",
          "shell.execute_reply": "2024-08-17T02:03:25.64178Z"
        },
        "trusted": true,
        "colab": {
          "base_uri": "https://localhost:8080/"
        },
        "id": "gn0iV3Sfe78H",
        "outputId": "3d1e2df4-2012-4889-97c0-9f7baa4fdb14"
      },
      "execution_count": 5,
      "outputs": [
        {
          "output_type": "stream",
          "name": "stdout",
          "text": [
            "\u001b[2K     \u001b[90m━━━━━━━━━━━━━━━━━━━━━━━━━━━━━━━━━━━━━━━━\u001b[0m \u001b[32m53.8/53.8 kB\u001b[0m \u001b[31m4.2 MB/s\u001b[0m eta \u001b[36m0:00:00\u001b[0m\n",
            "\u001b[2K   \u001b[90m━━━━━━━━━━━━━━━━━━━━━━━━━━━━━━━━━━━━━━━━\u001b[0m \u001b[32m2.3/2.3 MB\u001b[0m \u001b[31m16.1 MB/s\u001b[0m eta \u001b[36m0:00:00\u001b[0m\n",
            "\u001b[?25h"
          ]
        }
      ]
    },
    {
      "cell_type": "code",
      "source": [
        "!wandb login 38797e5fb1be476dd3af2891a6182c18cfd5a10a"
      ],
      "metadata": {
        "execution": {
          "iopub.status.busy": "2024-08-17T02:03:25.644459Z",
          "iopub.execute_input": "2024-08-17T02:03:25.644784Z",
          "iopub.status.idle": "2024-08-17T02:03:29.173888Z",
          "shell.execute_reply.started": "2024-08-17T02:03:25.64475Z",
          "shell.execute_reply": "2024-08-17T02:03:29.172752Z"
        },
        "trusted": true,
        "colab": {
          "base_uri": "https://localhost:8080/"
        },
        "id": "tDXsulZ8e78H",
        "outputId": "05988d58-c6a3-4b18-99bc-c9fb5af1d621"
      },
      "execution_count": 6,
      "outputs": [
        {
          "output_type": "stream",
          "name": "stdout",
          "text": [
            "\u001b[34m\u001b[1mwandb\u001b[0m: Appending key for api.wandb.ai to your netrc file: /root/.netrc\n"
          ]
        }
      ]
    },
    {
      "cell_type": "code",
      "source": [
        "!pip install --quiet colorama"
      ],
      "metadata": {
        "id": "jF1Elz_jfDR2"
      },
      "execution_count": 7,
      "outputs": []
    },
    {
      "cell_type": "code",
      "source": [
        "import wandb\n",
        "wandb.init(project='ISIC_2024')\n",
        "wandb.run.name = 'resnext50_lr-0.0001_Adam'"
      ],
      "metadata": {
        "execution": {
          "iopub.status.busy": "2024-08-17T02:03:29.177521Z",
          "iopub.execute_input": "2024-08-17T02:03:29.178302Z",
          "iopub.status.idle": "2024-08-17T02:03:49.981131Z",
          "shell.execute_reply.started": "2024-08-17T02:03:29.178267Z",
          "shell.execute_reply": "2024-08-17T02:03:49.980141Z"
        },
        "trusted": true,
        "colab": {
          "base_uri": "https://localhost:8080/",
          "height": 104
        },
        "id": "Hp_Di2bde78H",
        "outputId": "51b439c7-103b-47a8-e95b-8db4fb9384d0"
      },
      "execution_count": 32,
      "outputs": [
        {
          "output_type": "display_data",
          "data": {
            "text/plain": [
              "<IPython.core.display.HTML object>"
            ],
            "text/html": [
              "Tracking run with wandb version 0.17.7"
            ]
          },
          "metadata": {}
        },
        {
          "output_type": "display_data",
          "data": {
            "text/plain": [
              "<IPython.core.display.HTML object>"
            ],
            "text/html": [
              "Run data is saved locally in <code>/content/wandb/run-20240818_060505-k1kbnait</code>"
            ]
          },
          "metadata": {}
        },
        {
          "output_type": "display_data",
          "data": {
            "text/plain": [
              "<IPython.core.display.HTML object>"
            ],
            "text/html": [
              "Syncing run <strong><a href='https://wandb.ai/9-coding/ISIC_2024/runs/k1kbnait' target=\"_blank\">dutiful-pond-48</a></strong> to <a href='https://wandb.ai/9-coding/ISIC_2024' target=\"_blank\">Weights & Biases</a> (<a href='https://wandb.me/run' target=\"_blank\">docs</a>)<br/>"
            ]
          },
          "metadata": {}
        },
        {
          "output_type": "display_data",
          "data": {
            "text/plain": [
              "<IPython.core.display.HTML object>"
            ],
            "text/html": [
              " View project at <a href='https://wandb.ai/9-coding/ISIC_2024' target=\"_blank\">https://wandb.ai/9-coding/ISIC_2024</a>"
            ]
          },
          "metadata": {}
        },
        {
          "output_type": "display_data",
          "data": {
            "text/plain": [
              "<IPython.core.display.HTML object>"
            ],
            "text/html": [
              " View run at <a href='https://wandb.ai/9-coding/ISIC_2024/runs/k1kbnait' target=\"_blank\">https://wandb.ai/9-coding/ISIC_2024/runs/k1kbnait</a>"
            ]
          },
          "metadata": {}
        }
      ]
    },
    {
      "cell_type": "code",
      "source": [
        "import os\n",
        "import gc\n",
        "import cv2\n",
        "import math\n",
        "import copy\n",
        "import time\n",
        "import random\n",
        "import glob\n",
        "from matplotlib import pyplot as plt\n",
        "\n",
        "# For data manipulation\n",
        "import numpy as np\n",
        "import pandas as pd\n",
        "\n",
        "# Pytorch Imports\n",
        "import torch\n",
        "import torch.nn as nn\n",
        "import torch.optim as optim\n",
        "import torch.nn.functional as F\n",
        "from torch.optim import lr_scheduler\n",
        "from torch.utils.data import Dataset, DataLoader\n",
        "from torch.cuda import amp\n",
        "import torchvision\n",
        "from torcheval.metrics.functional import binary_auroc\n",
        "\n",
        "import torchvision.models as models\n",
        "from sklearn.metrics import roc_auc_score\n",
        "\n",
        "# Utils\n",
        "import joblib\n",
        "from tqdm import tqdm\n",
        "from collections import defaultdict\n",
        "\n",
        "# Sklearn Imports\n",
        "from sklearn.preprocessing import LabelEncoder\n",
        "from sklearn.model_selection import StratifiedKFold, StratifiedGroupKFold\n",
        "\n",
        "# For Image Models\n",
        "import timm\n",
        "\n",
        "# Albumentations for augmentations\n",
        "import albumentations as A\n",
        "from albumentations.pytorch import ToTensorV2\n",
        "\n",
        "# For colored terminal text\n",
        "from colorama import Fore, Back, Style\n",
        "b_ = Fore.BLUE\n",
        "sr_ = Style.RESET_ALL\n",
        "\n",
        "import warnings\n",
        "warnings.filterwarnings(\"ignore\")\n",
        "\n",
        "# For descriptive error messages\n",
        "os.environ['CUDA_LAUNCH_BLOCKING'] = \"1\""
      ],
      "metadata": {
        "papermill": {
          "duration": 9.086974,
          "end_time": "2024-06-29T23:17:46.466572",
          "exception": false,
          "start_time": "2024-06-29T23:17:37.379598",
          "status": "completed"
        },
        "tags": [],
        "execution": {
          "iopub.status.busy": "2024-08-17T02:23:07.294143Z",
          "iopub.execute_input": "2024-08-17T02:23:07.294839Z",
          "iopub.status.idle": "2024-08-17T02:23:07.305748Z",
          "shell.execute_reply.started": "2024-08-17T02:23:07.294808Z",
          "shell.execute_reply": "2024-08-17T02:23:07.304567Z"
        },
        "trusted": true,
        "id": "CNBxKeAde78I"
      },
      "execution_count": null,
      "outputs": []
    },
    {
      "cell_type": "markdown",
      "source": [
        "# <span><h1 style = \"font-family: garamond; font-size: 40px; font-style: normal; letter-spcaing: 3px; background-color: #f6f5f5; color :#fe346e; border-radius: 100px 100px; text-align:center\">Training Configuration ⚙️</h1></span>"
      ],
      "metadata": {
        "papermill": {
          "duration": 0.011519,
          "end_time": "2024-06-29T23:17:46.48929",
          "exception": false,
          "start_time": "2024-06-29T23:17:46.477771",
          "status": "completed"
        },
        "tags": [],
        "id": "3SsruCvae78I"
      }
    },
    {
      "cell_type": "code",
      "source": [
        "CONFIG = {\n",
        "    \"seed\": 42,\n",
        "    \"epochs\": 50,\n",
        "    \"img_size\": 384,\n",
        "    \"train_batch_size\": 32,\n",
        "    \"valid_batch_size\": 32,\n",
        "    \"learning_rate\": 1e-4,\n",
        "    \"scheduler\": 'CosineAnnealingLR',\n",
        "    \"min_lr\": 1e-6,\n",
        "    \"T_max\": 500,\n",
        "    \"weight_decay\": 1e-6,\n",
        "    \"fold\" : 0,\n",
        "    \"n_fold\": 5,\n",
        "    \"n_accumulate\": 1,\n",
        "    \"device\": torch.device(\"cuda:0\" if torch.cuda.is_available() else \"cpu\"),\n",
        "}"
      ],
      "metadata": {
        "papermill": {
          "duration": 0.07116,
          "end_time": "2024-06-29T23:17:46.571192",
          "exception": false,
          "start_time": "2024-06-29T23:17:46.500032",
          "status": "completed"
        },
        "tags": [],
        "execution": {
          "iopub.status.busy": "2024-08-17T02:03:57.411338Z",
          "iopub.execute_input": "2024-08-17T02:03:57.411807Z",
          "iopub.status.idle": "2024-08-17T02:03:57.443805Z",
          "shell.execute_reply.started": "2024-08-17T02:03:57.411781Z",
          "shell.execute_reply": "2024-08-17T02:03:57.442851Z"
        },
        "trusted": true,
        "id": "lxuK_Jete78J"
      },
      "execution_count": 10,
      "outputs": []
    },
    {
      "cell_type": "markdown",
      "source": [
        "# <span><h1 style = \"font-family: garamond; font-size: 40px; font-style: normal; letter-spcaing: 3px; background-color: #f6f5f5; color :#fe346e; border-radius: 100px 100px; text-align:center\">Set Seed for Reproducibility</h1></span>"
      ],
      "metadata": {
        "papermill": {
          "duration": 0.010587,
          "end_time": "2024-06-29T23:17:46.59285",
          "exception": false,
          "start_time": "2024-06-29T23:17:46.582263",
          "status": "completed"
        },
        "tags": [],
        "id": "qHlVust9e78J"
      }
    },
    {
      "cell_type": "code",
      "source": [
        "def set_seed(seed=42):\n",
        "    '''Sets the seed of the entire notebook so results are the same every time we run.\n",
        "    This is for REPRODUCIBILITY.'''\n",
        "    np.random.seed(seed)\n",
        "    torch.manual_seed(seed)\n",
        "    torch.cuda.manual_seed(seed)\n",
        "    # When running on the CuDNN backend, two further options must be set\n",
        "    torch.backends.cudnn.deterministic = True₩\n",
        "    torch.backends.cudnn.benchmark = False\n",
        "    # Set a fixed value for the hash seed\n",
        "    os.environ['PYTHONHASHSEED'] = str(seed)\n",
        "\n",
        "set_seed(CONFIG['seed'])"
      ],
      "metadata": {
        "papermill": {
          "duration": 0.021715,
          "end_time": "2024-06-29T23:17:46.625274",
          "exception": false,
          "start_time": "2024-06-29T23:17:46.603559",
          "status": "completed"
        },
        "tags": [],
        "execution": {
          "iopub.status.busy": "2024-08-17T02:03:57.44524Z",
          "iopub.execute_input": "2024-08-17T02:03:57.445602Z",
          "iopub.status.idle": "2024-08-17T02:03:57.45886Z",
          "shell.execute_reply.started": "2024-08-17T02:03:57.445567Z",
          "shell.execute_reply": "2024-08-17T02:03:57.457921Z"
        },
        "trusted": true,
        "id": "23W2hEwIe78J"
      },
      "execution_count": 11,
      "outputs": []
    },
    {
      "cell_type": "code",
      "source": [
        "ROOT_DIR = \"/kaggle/input/isic-2024-challenge\"\n",
        "TRAIN_DIR = f'{ROOT_DIR}/train-image/image'"
      ],
      "metadata": {
        "papermill": {
          "duration": 0.017083,
          "end_time": "2024-06-29T23:17:46.653209",
          "exception": false,
          "start_time": "2024-06-29T23:17:46.636126",
          "status": "completed"
        },
        "tags": [],
        "execution": {
          "iopub.status.busy": "2024-08-17T02:03:57.460029Z",
          "iopub.execute_input": "2024-08-17T02:03:57.460478Z",
          "iopub.status.idle": "2024-08-17T02:03:57.468604Z",
          "shell.execute_reply.started": "2024-08-17T02:03:57.460437Z",
          "shell.execute_reply": "2024-08-17T02:03:57.467577Z"
        },
        "trusted": true,
        "id": "IZDThpp6e78J"
      },
      "execution_count": 12,
      "outputs": []
    },
    {
      "cell_type": "code",
      "source": [
        "def get_train_file_path(image_id):\n",
        "    return f\"{TRAIN_DIR}/{image_id}.jpg\""
      ],
      "metadata": {
        "papermill": {
          "duration": 0.017155,
          "end_time": "2024-06-29T23:17:46.681165",
          "exception": false,
          "start_time": "2024-06-29T23:17:46.66401",
          "status": "completed"
        },
        "tags": [],
        "execution": {
          "iopub.status.busy": "2024-08-17T02:03:57.470199Z",
          "iopub.execute_input": "2024-08-17T02:03:57.47057Z",
          "iopub.status.idle": "2024-08-17T02:03:57.477877Z",
          "shell.execute_reply.started": "2024-08-17T02:03:57.47054Z",
          "shell.execute_reply": "2024-08-17T02:03:57.477027Z"
        },
        "trusted": true,
        "id": "M2VaDTrUe78J"
      },
      "execution_count": 13,
      "outputs": []
    },
    {
      "cell_type": "markdown",
      "source": [
        "# <h1 style = \"font-family: garamond; font-size: 40px; font-style: normal; letter-spcaing: 3px; background-color: #f6f5f5; color :#fe346e; border-radius: 100px 100px; text-align:center\">Read the Data 📖</h1>"
      ],
      "metadata": {
        "papermill": {
          "duration": 0.010728,
          "end_time": "2024-06-29T23:17:46.702763",
          "exception": false,
          "start_time": "2024-06-29T23:17:46.692035",
          "status": "completed"
        },
        "tags": [],
        "id": "adyjxlJve78K"
      }
    },
    {
      "cell_type": "code",
      "source": [
        "train_images = sorted(glob.glob(f\"{TRAIN_DIR}/*.jpg\"))"
      ],
      "metadata": {
        "papermill": {
          "duration": 4.053439,
          "end_time": "2024-06-29T23:17:50.766866",
          "exception": false,
          "start_time": "2024-06-29T23:17:46.713427",
          "status": "completed"
        },
        "tags": [],
        "execution": {
          "iopub.status.busy": "2024-08-17T02:03:57.47931Z",
          "iopub.execute_input": "2024-08-17T02:03:57.479796Z",
          "iopub.status.idle": "2024-08-17T02:04:02.000212Z",
          "shell.execute_reply.started": "2024-08-17T02:03:57.479772Z",
          "shell.execute_reply": "2024-08-17T02:04:01.99913Z"
        },
        "trusted": true,
        "colab": {
          "base_uri": "https://localhost:8080/"
        },
        "id": "r9xWwNnHe78K",
        "outputId": "1f02244d-1a05-4c9a-a812-19c79a6d72b0"
      },
      "execution_count": 14,
      "outputs": [
        {
          "output_type": "stream",
          "name": "stderr",
          "text": [
            "\u001b[34m\u001b[1mwandb\u001b[0m: 429 encountered (Filestream rate limit exceeded, retrying in 19.9 seconds.), retrying request\n"
          ]
        }
      ]
    },
    {
      "cell_type": "code",
      "source": [
        "df = pd.read_csv(f\"{ROOT_DIR}/train-metadata.csv\")\n",
        "\n",
        "print(\"        df.shape, # of positive cases, # of patients\")\n",
        "print(\"original>\", df.shape, df.target.sum(), df[\"patient_id\"].unique().shape)\n",
        "\n",
        "df_positive = df[df[\"target\"] == 1].reset_index(drop=True)\n",
        "df_negative = df[df[\"target\"] == 0].reset_index(drop=True)\n",
        "\n",
        "df = pd.concat([df_positive, df_negative.iloc[:df_positive.shape[0]*20, :]])  # positive:negative = 1:20\n",
        "print(\"filtered>\", df.shape, df.target.sum(), df[\"patient_id\"].unique().shape)\n",
        "\n",
        "df['file_path'] = df['isic_id'].apply(get_train_file_path)\n",
        "df = df[ df[\"file_path\"].isin(train_images) ].reset_index(drop=True)\n",
        "df"
      ],
      "metadata": {
        "papermill": {
          "duration": 7.631613,
          "end_time": "2024-06-29T23:17:58.409773",
          "exception": false,
          "start_time": "2024-06-29T23:17:50.77816",
          "status": "completed"
        },
        "tags": [],
        "execution": {
          "iopub.status.busy": "2024-08-17T02:04:02.001456Z",
          "iopub.execute_input": "2024-08-17T02:04:02.001731Z",
          "iopub.status.idle": "2024-08-17T02:04:09.616515Z",
          "shell.execute_reply.started": "2024-08-17T02:04:02.001707Z",
          "shell.execute_reply": "2024-08-17T02:04:09.614822Z"
        },
        "trusted": true,
        "colab": {
          "base_uri": "https://localhost:8080/",
          "height": 1000
        },
        "id": "ounT2iaRe78K",
        "outputId": "e80a989c-db68-491b-af81-2aceeb73ca2c"
      },
      "execution_count": 15,
      "outputs": [
        {
          "output_type": "stream",
          "name": "stdout",
          "text": [
            "        df.shape, # of positive cases, # of patients\n",
            "original> (401059, 55) 393 (1042,)\n",
            "filtered> (8253, 55) 393 (950,)\n"
          ]
        },
        {
          "output_type": "execute_result",
          "data": {
            "text/plain": [
              "           isic_id  target  patient_id  age_approx     sex  \\\n",
              "0     ISIC_0082829       1  IP_3249371        80.0  female   \n",
              "1     ISIC_0096034       1  IP_6723298        75.0    male   \n",
              "2     ISIC_0104229       1  IP_9057861        80.0    male   \n",
              "3     ISIC_0119495       1  IP_6856511        60.0    male   \n",
              "4     ISIC_0157834       1  IP_3927284        55.0    male   \n",
              "...            ...     ...         ...         ...     ...   \n",
              "8248  ISIC_0267522       0  IP_9577633        50.0    male   \n",
              "8249  ISIC_0267560       0  IP_7746572        80.0    male   \n",
              "8250  ISIC_0267568       0  IP_0379091        60.0    male   \n",
              "8251  ISIC_0267594       0  IP_1433033        70.0     NaN   \n",
              "8252  ISIC_0267606       0  IP_8565023        30.0    male   \n",
              "\n",
              "     anatom_site_general  clin_size_long_diam_mm          image_type  \\\n",
              "0         anterior torso                    9.27  TBP tile: close-up   \n",
              "1              head/neck                    3.88  TBP tile: close-up   \n",
              "2         anterior torso                    6.55  TBP tile: close-up   \n",
              "3        upper extremity                    5.27  TBP tile: close-up   \n",
              "4        posterior torso                    5.29  TBP tile: close-up   \n",
              "...                  ...                     ...                 ...   \n",
              "8248     lower extremity                    4.94  TBP tile: close-up   \n",
              "8249      anterior torso                    9.32  TBP tile: close-up   \n",
              "8250      anterior torso                    3.45  TBP tile: close-up   \n",
              "8251     lower extremity                    3.00  TBP tile: close-up   \n",
              "8252           head/neck                    3.10  TBP tile: close-up   \n",
              "\n",
              "     tbp_tile_type   tbp_lv_A  ...  \\\n",
              "0           3D: XP  18.093368  ...   \n",
              "1        3D: white  26.187010  ...   \n",
              "2        3D: white  33.480140  ...   \n",
              "3        3D: white  25.872050  ...   \n",
              "4        3D: white  30.966662  ...   \n",
              "...            ...        ...  ...   \n",
              "8248        3D: XP  21.738880  ...   \n",
              "8249     3D: white  18.481750  ...   \n",
              "8250     3D: white  13.901465  ...   \n",
              "8251        3D: XP  17.986882  ...   \n",
              "8252        3D: XP  13.420060  ...   \n",
              "\n",
              "                                              iddx_full     iddx_1  \\\n",
              "0     Malignant::Malignant epidermal proliferations:...  Malignant   \n",
              "1     Malignant::Malignant adnexal epithelial prolif...  Malignant   \n",
              "2     Malignant::Malignant adnexal epithelial prolif...  Malignant   \n",
              "3     Malignant::Malignant epidermal proliferations:...  Malignant   \n",
              "4     Malignant::Malignant adnexal epithelial prolif...  Malignant   \n",
              "...                                                 ...        ...   \n",
              "8248                                             Benign     Benign   \n",
              "8249                                             Benign     Benign   \n",
              "8250                                             Benign     Benign   \n",
              "8251                                             Benign     Benign   \n",
              "8252                                             Benign     Benign   \n",
              "\n",
              "                                                 iddx_2  \\\n",
              "0                    Malignant epidermal proliferations   \n",
              "1     Malignant adnexal epithelial proliferations - ...   \n",
              "2     Malignant adnexal epithelial proliferations - ...   \n",
              "3                    Malignant epidermal proliferations   \n",
              "4     Malignant adnexal epithelial proliferations - ...   \n",
              "...                                                 ...   \n",
              "8248                                                NaN   \n",
              "8249                                                NaN   \n",
              "8250                                                NaN   \n",
              "8251                                                NaN   \n",
              "8252                                                NaN   \n",
              "\n",
              "                                 iddx_3                             iddx_4  \\\n",
              "0       Squamous cell carcinoma in situ                                NaN   \n",
              "1                  Basal cell carcinoma      Basal cell carcinoma, Nodular   \n",
              "2                  Basal cell carcinoma      Basal cell carcinoma, Nodular   \n",
              "3     Squamous cell carcinoma, Invasive                                NaN   \n",
              "4                  Basal cell carcinoma  Basal cell carcinoma, Superficial   \n",
              "...                                 ...                                ...   \n",
              "8248                                NaN                                NaN   \n",
              "8249                                NaN                                NaN   \n",
              "8250                                NaN                                NaN   \n",
              "8251                                NaN                                NaN   \n",
              "8252                                NaN                                NaN   \n",
              "\n",
              "      iddx_5  mel_mitotic_index  mel_thick_mm  tbp_lv_dnn_lesion_confidence  \\\n",
              "0        NaN                NaN           NaN                     72.211683   \n",
              "1        NaN                NaN           NaN                     94.559590   \n",
              "2        NaN                NaN           NaN                     66.196170   \n",
              "3        NaN                NaN           NaN                     99.991270   \n",
              "4        NaN                NaN           NaN                     99.960846   \n",
              "...      ...                ...           ...                           ...   \n",
              "8248     NaN                NaN           NaN                     96.325510   \n",
              "8249     NaN                NaN           NaN                     97.022320   \n",
              "8250     NaN                NaN           NaN                     72.961688   \n",
              "8251     NaN                NaN           NaN                     99.899274   \n",
              "8252     NaN                NaN           NaN                     99.449560   \n",
              "\n",
              "                                              file_path  \n",
              "0     /kaggle/input/isic-2024-challenge/train-image/...  \n",
              "1     /kaggle/input/isic-2024-challenge/train-image/...  \n",
              "2     /kaggle/input/isic-2024-challenge/train-image/...  \n",
              "3     /kaggle/input/isic-2024-challenge/train-image/...  \n",
              "4     /kaggle/input/isic-2024-challenge/train-image/...  \n",
              "...                                                 ...  \n",
              "8248  /kaggle/input/isic-2024-challenge/train-image/...  \n",
              "8249  /kaggle/input/isic-2024-challenge/train-image/...  \n",
              "8250  /kaggle/input/isic-2024-challenge/train-image/...  \n",
              "8251  /kaggle/input/isic-2024-challenge/train-image/...  \n",
              "8252  /kaggle/input/isic-2024-challenge/train-image/...  \n",
              "\n",
              "[8253 rows x 56 columns]"
            ],
            "text/html": [
              "\n",
              "  <div id=\"df-484e9b12-9184-4dcf-ab13-28ee8fcbee02\" class=\"colab-df-container\">\n",
              "    <div>\n",
              "<style scoped>\n",
              "    .dataframe tbody tr th:only-of-type {\n",
              "        vertical-align: middle;\n",
              "    }\n",
              "\n",
              "    .dataframe tbody tr th {\n",
              "        vertical-align: top;\n",
              "    }\n",
              "\n",
              "    .dataframe thead th {\n",
              "        text-align: right;\n",
              "    }\n",
              "</style>\n",
              "<table border=\"1\" class=\"dataframe\">\n",
              "  <thead>\n",
              "    <tr style=\"text-align: right;\">\n",
              "      <th></th>\n",
              "      <th>isic_id</th>\n",
              "      <th>target</th>\n",
              "      <th>patient_id</th>\n",
              "      <th>age_approx</th>\n",
              "      <th>sex</th>\n",
              "      <th>anatom_site_general</th>\n",
              "      <th>clin_size_long_diam_mm</th>\n",
              "      <th>image_type</th>\n",
              "      <th>tbp_tile_type</th>\n",
              "      <th>tbp_lv_A</th>\n",
              "      <th>...</th>\n",
              "      <th>iddx_full</th>\n",
              "      <th>iddx_1</th>\n",
              "      <th>iddx_2</th>\n",
              "      <th>iddx_3</th>\n",
              "      <th>iddx_4</th>\n",
              "      <th>iddx_5</th>\n",
              "      <th>mel_mitotic_index</th>\n",
              "      <th>mel_thick_mm</th>\n",
              "      <th>tbp_lv_dnn_lesion_confidence</th>\n",
              "      <th>file_path</th>\n",
              "    </tr>\n",
              "  </thead>\n",
              "  <tbody>\n",
              "    <tr>\n",
              "      <th>0</th>\n",
              "      <td>ISIC_0082829</td>\n",
              "      <td>1</td>\n",
              "      <td>IP_3249371</td>\n",
              "      <td>80.0</td>\n",
              "      <td>female</td>\n",
              "      <td>anterior torso</td>\n",
              "      <td>9.27</td>\n",
              "      <td>TBP tile: close-up</td>\n",
              "      <td>3D: XP</td>\n",
              "      <td>18.093368</td>\n",
              "      <td>...</td>\n",
              "      <td>Malignant::Malignant epidermal proliferations:...</td>\n",
              "      <td>Malignant</td>\n",
              "      <td>Malignant epidermal proliferations</td>\n",
              "      <td>Squamous cell carcinoma in situ</td>\n",
              "      <td>NaN</td>\n",
              "      <td>NaN</td>\n",
              "      <td>NaN</td>\n",
              "      <td>NaN</td>\n",
              "      <td>72.211683</td>\n",
              "      <td>/kaggle/input/isic-2024-challenge/train-image/...</td>\n",
              "    </tr>\n",
              "    <tr>\n",
              "      <th>1</th>\n",
              "      <td>ISIC_0096034</td>\n",
              "      <td>1</td>\n",
              "      <td>IP_6723298</td>\n",
              "      <td>75.0</td>\n",
              "      <td>male</td>\n",
              "      <td>head/neck</td>\n",
              "      <td>3.88</td>\n",
              "      <td>TBP tile: close-up</td>\n",
              "      <td>3D: white</td>\n",
              "      <td>26.187010</td>\n",
              "      <td>...</td>\n",
              "      <td>Malignant::Malignant adnexal epithelial prolif...</td>\n",
              "      <td>Malignant</td>\n",
              "      <td>Malignant adnexal epithelial proliferations - ...</td>\n",
              "      <td>Basal cell carcinoma</td>\n",
              "      <td>Basal cell carcinoma, Nodular</td>\n",
              "      <td>NaN</td>\n",
              "      <td>NaN</td>\n",
              "      <td>NaN</td>\n",
              "      <td>94.559590</td>\n",
              "      <td>/kaggle/input/isic-2024-challenge/train-image/...</td>\n",
              "    </tr>\n",
              "    <tr>\n",
              "      <th>2</th>\n",
              "      <td>ISIC_0104229</td>\n",
              "      <td>1</td>\n",
              "      <td>IP_9057861</td>\n",
              "      <td>80.0</td>\n",
              "      <td>male</td>\n",
              "      <td>anterior torso</td>\n",
              "      <td>6.55</td>\n",
              "      <td>TBP tile: close-up</td>\n",
              "      <td>3D: white</td>\n",
              "      <td>33.480140</td>\n",
              "      <td>...</td>\n",
              "      <td>Malignant::Malignant adnexal epithelial prolif...</td>\n",
              "      <td>Malignant</td>\n",
              "      <td>Malignant adnexal epithelial proliferations - ...</td>\n",
              "      <td>Basal cell carcinoma</td>\n",
              "      <td>Basal cell carcinoma, Nodular</td>\n",
              "      <td>NaN</td>\n",
              "      <td>NaN</td>\n",
              "      <td>NaN</td>\n",
              "      <td>66.196170</td>\n",
              "      <td>/kaggle/input/isic-2024-challenge/train-image/...</td>\n",
              "    </tr>\n",
              "    <tr>\n",
              "      <th>3</th>\n",
              "      <td>ISIC_0119495</td>\n",
              "      <td>1</td>\n",
              "      <td>IP_6856511</td>\n",
              "      <td>60.0</td>\n",
              "      <td>male</td>\n",
              "      <td>upper extremity</td>\n",
              "      <td>5.27</td>\n",
              "      <td>TBP tile: close-up</td>\n",
              "      <td>3D: white</td>\n",
              "      <td>25.872050</td>\n",
              "      <td>...</td>\n",
              "      <td>Malignant::Malignant epidermal proliferations:...</td>\n",
              "      <td>Malignant</td>\n",
              "      <td>Malignant epidermal proliferations</td>\n",
              "      <td>Squamous cell carcinoma, Invasive</td>\n",
              "      <td>NaN</td>\n",
              "      <td>NaN</td>\n",
              "      <td>NaN</td>\n",
              "      <td>NaN</td>\n",
              "      <td>99.991270</td>\n",
              "      <td>/kaggle/input/isic-2024-challenge/train-image/...</td>\n",
              "    </tr>\n",
              "    <tr>\n",
              "      <th>4</th>\n",
              "      <td>ISIC_0157834</td>\n",
              "      <td>1</td>\n",
              "      <td>IP_3927284</td>\n",
              "      <td>55.0</td>\n",
              "      <td>male</td>\n",
              "      <td>posterior torso</td>\n",
              "      <td>5.29</td>\n",
              "      <td>TBP tile: close-up</td>\n",
              "      <td>3D: white</td>\n",
              "      <td>30.966662</td>\n",
              "      <td>...</td>\n",
              "      <td>Malignant::Malignant adnexal epithelial prolif...</td>\n",
              "      <td>Malignant</td>\n",
              "      <td>Malignant adnexal epithelial proliferations - ...</td>\n",
              "      <td>Basal cell carcinoma</td>\n",
              "      <td>Basal cell carcinoma, Superficial</td>\n",
              "      <td>NaN</td>\n",
              "      <td>NaN</td>\n",
              "      <td>NaN</td>\n",
              "      <td>99.960846</td>\n",
              "      <td>/kaggle/input/isic-2024-challenge/train-image/...</td>\n",
              "    </tr>\n",
              "    <tr>\n",
              "      <th>...</th>\n",
              "      <td>...</td>\n",
              "      <td>...</td>\n",
              "      <td>...</td>\n",
              "      <td>...</td>\n",
              "      <td>...</td>\n",
              "      <td>...</td>\n",
              "      <td>...</td>\n",
              "      <td>...</td>\n",
              "      <td>...</td>\n",
              "      <td>...</td>\n",
              "      <td>...</td>\n",
              "      <td>...</td>\n",
              "      <td>...</td>\n",
              "      <td>...</td>\n",
              "      <td>...</td>\n",
              "      <td>...</td>\n",
              "      <td>...</td>\n",
              "      <td>...</td>\n",
              "      <td>...</td>\n",
              "      <td>...</td>\n",
              "      <td>...</td>\n",
              "    </tr>\n",
              "    <tr>\n",
              "      <th>8248</th>\n",
              "      <td>ISIC_0267522</td>\n",
              "      <td>0</td>\n",
              "      <td>IP_9577633</td>\n",
              "      <td>50.0</td>\n",
              "      <td>male</td>\n",
              "      <td>lower extremity</td>\n",
              "      <td>4.94</td>\n",
              "      <td>TBP tile: close-up</td>\n",
              "      <td>3D: XP</td>\n",
              "      <td>21.738880</td>\n",
              "      <td>...</td>\n",
              "      <td>Benign</td>\n",
              "      <td>Benign</td>\n",
              "      <td>NaN</td>\n",
              "      <td>NaN</td>\n",
              "      <td>NaN</td>\n",
              "      <td>NaN</td>\n",
              "      <td>NaN</td>\n",
              "      <td>NaN</td>\n",
              "      <td>96.325510</td>\n",
              "      <td>/kaggle/input/isic-2024-challenge/train-image/...</td>\n",
              "    </tr>\n",
              "    <tr>\n",
              "      <th>8249</th>\n",
              "      <td>ISIC_0267560</td>\n",
              "      <td>0</td>\n",
              "      <td>IP_7746572</td>\n",
              "      <td>80.0</td>\n",
              "      <td>male</td>\n",
              "      <td>anterior torso</td>\n",
              "      <td>9.32</td>\n",
              "      <td>TBP tile: close-up</td>\n",
              "      <td>3D: white</td>\n",
              "      <td>18.481750</td>\n",
              "      <td>...</td>\n",
              "      <td>Benign</td>\n",
              "      <td>Benign</td>\n",
              "      <td>NaN</td>\n",
              "      <td>NaN</td>\n",
              "      <td>NaN</td>\n",
              "      <td>NaN</td>\n",
              "      <td>NaN</td>\n",
              "      <td>NaN</td>\n",
              "      <td>97.022320</td>\n",
              "      <td>/kaggle/input/isic-2024-challenge/train-image/...</td>\n",
              "    </tr>\n",
              "    <tr>\n",
              "      <th>8250</th>\n",
              "      <td>ISIC_0267568</td>\n",
              "      <td>0</td>\n",
              "      <td>IP_0379091</td>\n",
              "      <td>60.0</td>\n",
              "      <td>male</td>\n",
              "      <td>anterior torso</td>\n",
              "      <td>3.45</td>\n",
              "      <td>TBP tile: close-up</td>\n",
              "      <td>3D: white</td>\n",
              "      <td>13.901465</td>\n",
              "      <td>...</td>\n",
              "      <td>Benign</td>\n",
              "      <td>Benign</td>\n",
              "      <td>NaN</td>\n",
              "      <td>NaN</td>\n",
              "      <td>NaN</td>\n",
              "      <td>NaN</td>\n",
              "      <td>NaN</td>\n",
              "      <td>NaN</td>\n",
              "      <td>72.961688</td>\n",
              "      <td>/kaggle/input/isic-2024-challenge/train-image/...</td>\n",
              "    </tr>\n",
              "    <tr>\n",
              "      <th>8251</th>\n",
              "      <td>ISIC_0267594</td>\n",
              "      <td>0</td>\n",
              "      <td>IP_1433033</td>\n",
              "      <td>70.0</td>\n",
              "      <td>NaN</td>\n",
              "      <td>lower extremity</td>\n",
              "      <td>3.00</td>\n",
              "      <td>TBP tile: close-up</td>\n",
              "      <td>3D: XP</td>\n",
              "      <td>17.986882</td>\n",
              "      <td>...</td>\n",
              "      <td>Benign</td>\n",
              "      <td>Benign</td>\n",
              "      <td>NaN</td>\n",
              "      <td>NaN</td>\n",
              "      <td>NaN</td>\n",
              "      <td>NaN</td>\n",
              "      <td>NaN</td>\n",
              "      <td>NaN</td>\n",
              "      <td>99.899274</td>\n",
              "      <td>/kaggle/input/isic-2024-challenge/train-image/...</td>\n",
              "    </tr>\n",
              "    <tr>\n",
              "      <th>8252</th>\n",
              "      <td>ISIC_0267606</td>\n",
              "      <td>0</td>\n",
              "      <td>IP_8565023</td>\n",
              "      <td>30.0</td>\n",
              "      <td>male</td>\n",
              "      <td>head/neck</td>\n",
              "      <td>3.10</td>\n",
              "      <td>TBP tile: close-up</td>\n",
              "      <td>3D: XP</td>\n",
              "      <td>13.420060</td>\n",
              "      <td>...</td>\n",
              "      <td>Benign</td>\n",
              "      <td>Benign</td>\n",
              "      <td>NaN</td>\n",
              "      <td>NaN</td>\n",
              "      <td>NaN</td>\n",
              "      <td>NaN</td>\n",
              "      <td>NaN</td>\n",
              "      <td>NaN</td>\n",
              "      <td>99.449560</td>\n",
              "      <td>/kaggle/input/isic-2024-challenge/train-image/...</td>\n",
              "    </tr>\n",
              "  </tbody>\n",
              "</table>\n",
              "<p>8253 rows × 56 columns</p>\n",
              "</div>\n",
              "    <div class=\"colab-df-buttons\">\n",
              "\n",
              "  <div class=\"colab-df-container\">\n",
              "    <button class=\"colab-df-convert\" onclick=\"convertToInteractive('df-484e9b12-9184-4dcf-ab13-28ee8fcbee02')\"\n",
              "            title=\"Convert this dataframe to an interactive table.\"\n",
              "            style=\"display:none;\">\n",
              "\n",
              "  <svg xmlns=\"http://www.w3.org/2000/svg\" height=\"24px\" viewBox=\"0 -960 960 960\">\n",
              "    <path d=\"M120-120v-720h720v720H120Zm60-500h600v-160H180v160Zm220 220h160v-160H400v160Zm0 220h160v-160H400v160ZM180-400h160v-160H180v160Zm440 0h160v-160H620v160ZM180-180h160v-160H180v160Zm440 0h160v-160H620v160Z\"/>\n",
              "  </svg>\n",
              "    </button>\n",
              "\n",
              "  <style>\n",
              "    .colab-df-container {\n",
              "      display:flex;\n",
              "      gap: 12px;\n",
              "    }\n",
              "\n",
              "    .colab-df-convert {\n",
              "      background-color: #E8F0FE;\n",
              "      border: none;\n",
              "      border-radius: 50%;\n",
              "      cursor: pointer;\n",
              "      display: none;\n",
              "      fill: #1967D2;\n",
              "      height: 32px;\n",
              "      padding: 0 0 0 0;\n",
              "      width: 32px;\n",
              "    }\n",
              "\n",
              "    .colab-df-convert:hover {\n",
              "      background-color: #E2EBFA;\n",
              "      box-shadow: 0px 1px 2px rgba(60, 64, 67, 0.3), 0px 1px 3px 1px rgba(60, 64, 67, 0.15);\n",
              "      fill: #174EA6;\n",
              "    }\n",
              "\n",
              "    .colab-df-buttons div {\n",
              "      margin-bottom: 4px;\n",
              "    }\n",
              "\n",
              "    [theme=dark] .colab-df-convert {\n",
              "      background-color: #3B4455;\n",
              "      fill: #D2E3FC;\n",
              "    }\n",
              "\n",
              "    [theme=dark] .colab-df-convert:hover {\n",
              "      background-color: #434B5C;\n",
              "      box-shadow: 0px 1px 3px 1px rgba(0, 0, 0, 0.15);\n",
              "      filter: drop-shadow(0px 1px 2px rgba(0, 0, 0, 0.3));\n",
              "      fill: #FFFFFF;\n",
              "    }\n",
              "  </style>\n",
              "\n",
              "    <script>\n",
              "      const buttonEl =\n",
              "        document.querySelector('#df-484e9b12-9184-4dcf-ab13-28ee8fcbee02 button.colab-df-convert');\n",
              "      buttonEl.style.display =\n",
              "        google.colab.kernel.accessAllowed ? 'block' : 'none';\n",
              "\n",
              "      async function convertToInteractive(key) {\n",
              "        const element = document.querySelector('#df-484e9b12-9184-4dcf-ab13-28ee8fcbee02');\n",
              "        const dataTable =\n",
              "          await google.colab.kernel.invokeFunction('convertToInteractive',\n",
              "                                                    [key], {});\n",
              "        if (!dataTable) return;\n",
              "\n",
              "        const docLinkHtml = 'Like what you see? Visit the ' +\n",
              "          '<a target=\"_blank\" href=https://colab.research.google.com/notebooks/data_table.ipynb>data table notebook</a>'\n",
              "          + ' to learn more about interactive tables.';\n",
              "        element.innerHTML = '';\n",
              "        dataTable['output_type'] = 'display_data';\n",
              "        await google.colab.output.renderOutput(dataTable, element);\n",
              "        const docLink = document.createElement('div');\n",
              "        docLink.innerHTML = docLinkHtml;\n",
              "        element.appendChild(docLink);\n",
              "      }\n",
              "    </script>\n",
              "  </div>\n",
              "\n",
              "\n",
              "<div id=\"df-6aa2a392-b125-4049-92ab-2b4e31cf5eba\">\n",
              "  <button class=\"colab-df-quickchart\" onclick=\"quickchart('df-6aa2a392-b125-4049-92ab-2b4e31cf5eba')\"\n",
              "            title=\"Suggest charts\"\n",
              "            style=\"display:none;\">\n",
              "\n",
              "<svg xmlns=\"http://www.w3.org/2000/svg\" height=\"24px\"viewBox=\"0 0 24 24\"\n",
              "     width=\"24px\">\n",
              "    <g>\n",
              "        <path d=\"M19 3H5c-1.1 0-2 .9-2 2v14c0 1.1.9 2 2 2h14c1.1 0 2-.9 2-2V5c0-1.1-.9-2-2-2zM9 17H7v-7h2v7zm4 0h-2V7h2v10zm4 0h-2v-4h2v4z\"/>\n",
              "    </g>\n",
              "</svg>\n",
              "  </button>\n",
              "\n",
              "<style>\n",
              "  .colab-df-quickchart {\n",
              "      --bg-color: #E8F0FE;\n",
              "      --fill-color: #1967D2;\n",
              "      --hover-bg-color: #E2EBFA;\n",
              "      --hover-fill-color: #174EA6;\n",
              "      --disabled-fill-color: #AAA;\n",
              "      --disabled-bg-color: #DDD;\n",
              "  }\n",
              "\n",
              "  [theme=dark] .colab-df-quickchart {\n",
              "      --bg-color: #3B4455;\n",
              "      --fill-color: #D2E3FC;\n",
              "      --hover-bg-color: #434B5C;\n",
              "      --hover-fill-color: #FFFFFF;\n",
              "      --disabled-bg-color: #3B4455;\n",
              "      --disabled-fill-color: #666;\n",
              "  }\n",
              "\n",
              "  .colab-df-quickchart {\n",
              "    background-color: var(--bg-color);\n",
              "    border: none;\n",
              "    border-radius: 50%;\n",
              "    cursor: pointer;\n",
              "    display: none;\n",
              "    fill: var(--fill-color);\n",
              "    height: 32px;\n",
              "    padding: 0;\n",
              "    width: 32px;\n",
              "  }\n",
              "\n",
              "  .colab-df-quickchart:hover {\n",
              "    background-color: var(--hover-bg-color);\n",
              "    box-shadow: 0 1px 2px rgba(60, 64, 67, 0.3), 0 1px 3px 1px rgba(60, 64, 67, 0.15);\n",
              "    fill: var(--button-hover-fill-color);\n",
              "  }\n",
              "\n",
              "  .colab-df-quickchart-complete:disabled,\n",
              "  .colab-df-quickchart-complete:disabled:hover {\n",
              "    background-color: var(--disabled-bg-color);\n",
              "    fill: var(--disabled-fill-color);\n",
              "    box-shadow: none;\n",
              "  }\n",
              "\n",
              "  .colab-df-spinner {\n",
              "    border: 2px solid var(--fill-color);\n",
              "    border-color: transparent;\n",
              "    border-bottom-color: var(--fill-color);\n",
              "    animation:\n",
              "      spin 1s steps(1) infinite;\n",
              "  }\n",
              "\n",
              "  @keyframes spin {\n",
              "    0% {\n",
              "      border-color: transparent;\n",
              "      border-bottom-color: var(--fill-color);\n",
              "      border-left-color: var(--fill-color);\n",
              "    }\n",
              "    20% {\n",
              "      border-color: transparent;\n",
              "      border-left-color: var(--fill-color);\n",
              "      border-top-color: var(--fill-color);\n",
              "    }\n",
              "    30% {\n",
              "      border-color: transparent;\n",
              "      border-left-color: var(--fill-color);\n",
              "      border-top-color: var(--fill-color);\n",
              "      border-right-color: var(--fill-color);\n",
              "    }\n",
              "    40% {\n",
              "      border-color: transparent;\n",
              "      border-right-color: var(--fill-color);\n",
              "      border-top-color: var(--fill-color);\n",
              "    }\n",
              "    60% {\n",
              "      border-color: transparent;\n",
              "      border-right-color: var(--fill-color);\n",
              "    }\n",
              "    80% {\n",
              "      border-color: transparent;\n",
              "      border-right-color: var(--fill-color);\n",
              "      border-bottom-color: var(--fill-color);\n",
              "    }\n",
              "    90% {\n",
              "      border-color: transparent;\n",
              "      border-bottom-color: var(--fill-color);\n",
              "    }\n",
              "  }\n",
              "</style>\n",
              "\n",
              "  <script>\n",
              "    async function quickchart(key) {\n",
              "      const quickchartButtonEl =\n",
              "        document.querySelector('#' + key + ' button');\n",
              "      quickchartButtonEl.disabled = true;  // To prevent multiple clicks.\n",
              "      quickchartButtonEl.classList.add('colab-df-spinner');\n",
              "      try {\n",
              "        const charts = await google.colab.kernel.invokeFunction(\n",
              "            'suggestCharts', [key], {});\n",
              "      } catch (error) {\n",
              "        console.error('Error during call to suggestCharts:', error);\n",
              "      }\n",
              "      quickchartButtonEl.classList.remove('colab-df-spinner');\n",
              "      quickchartButtonEl.classList.add('colab-df-quickchart-complete');\n",
              "    }\n",
              "    (() => {\n",
              "      let quickchartButtonEl =\n",
              "        document.querySelector('#df-6aa2a392-b125-4049-92ab-2b4e31cf5eba button');\n",
              "      quickchartButtonEl.style.display =\n",
              "        google.colab.kernel.accessAllowed ? 'block' : 'none';\n",
              "    })();\n",
              "  </script>\n",
              "</div>\n",
              "\n",
              "  <div id=\"id_0ca63c38-1da9-48b4-810b-21d6fa68bc90\">\n",
              "    <style>\n",
              "      .colab-df-generate {\n",
              "        background-color: #E8F0FE;\n",
              "        border: none;\n",
              "        border-radius: 50%;\n",
              "        cursor: pointer;\n",
              "        display: none;\n",
              "        fill: #1967D2;\n",
              "        height: 32px;\n",
              "        padding: 0 0 0 0;\n",
              "        width: 32px;\n",
              "      }\n",
              "\n",
              "      .colab-df-generate:hover {\n",
              "        background-color: #E2EBFA;\n",
              "        box-shadow: 0px 1px 2px rgba(60, 64, 67, 0.3), 0px 1px 3px 1px rgba(60, 64, 67, 0.15);\n",
              "        fill: #174EA6;\n",
              "      }\n",
              "\n",
              "      [theme=dark] .colab-df-generate {\n",
              "        background-color: #3B4455;\n",
              "        fill: #D2E3FC;\n",
              "      }\n",
              "\n",
              "      [theme=dark] .colab-df-generate:hover {\n",
              "        background-color: #434B5C;\n",
              "        box-shadow: 0px 1px 3px 1px rgba(0, 0, 0, 0.15);\n",
              "        filter: drop-shadow(0px 1px 2px rgba(0, 0, 0, 0.3));\n",
              "        fill: #FFFFFF;\n",
              "      }\n",
              "    </style>\n",
              "    <button class=\"colab-df-generate\" onclick=\"generateWithVariable('df')\"\n",
              "            title=\"Generate code using this dataframe.\"\n",
              "            style=\"display:none;\">\n",
              "\n",
              "  <svg xmlns=\"http://www.w3.org/2000/svg\" height=\"24px\"viewBox=\"0 0 24 24\"\n",
              "       width=\"24px\">\n",
              "    <path d=\"M7,19H8.4L18.45,9,17,7.55,7,17.6ZM5,21V16.75L18.45,3.32a2,2,0,0,1,2.83,0l1.4,1.43a1.91,1.91,0,0,1,.58,1.4,1.91,1.91,0,0,1-.58,1.4L9.25,21ZM18.45,9,17,7.55Zm-12,3A5.31,5.31,0,0,0,4.9,8.1,5.31,5.31,0,0,0,1,6.5,5.31,5.31,0,0,0,4.9,4.9,5.31,5.31,0,0,0,6.5,1,5.31,5.31,0,0,0,8.1,4.9,5.31,5.31,0,0,0,12,6.5,5.46,5.46,0,0,0,6.5,12Z\"/>\n",
              "  </svg>\n",
              "    </button>\n",
              "    <script>\n",
              "      (() => {\n",
              "      const buttonEl =\n",
              "        document.querySelector('#id_0ca63c38-1da9-48b4-810b-21d6fa68bc90 button.colab-df-generate');\n",
              "      buttonEl.style.display =\n",
              "        google.colab.kernel.accessAllowed ? 'block' : 'none';\n",
              "\n",
              "      buttonEl.onclick = () => {\n",
              "        google.colab.notebook.generateWithVariable('df');\n",
              "      }\n",
              "      })();\n",
              "    </script>\n",
              "  </div>\n",
              "\n",
              "    </div>\n",
              "  </div>\n"
            ],
            "application/vnd.google.colaboratory.intrinsic+json": {
              "type": "dataframe",
              "variable_name": "df"
            }
          },
          "metadata": {},
          "execution_count": 15
        }
      ]
    },
    {
      "cell_type": "code",
      "source": [
        "df.shape[0], df.target.sum()"
      ],
      "metadata": {
        "papermill": {
          "duration": 0.020088,
          "end_time": "2024-06-29T23:17:58.441777",
          "exception": false,
          "start_time": "2024-06-29T23:17:58.421689",
          "status": "completed"
        },
        "tags": [],
        "execution": {
          "iopub.status.busy": "2024-08-17T02:04:09.617796Z",
          "iopub.execute_input": "2024-08-17T02:04:09.618184Z",
          "iopub.status.idle": "2024-08-17T02:04:09.626652Z",
          "shell.execute_reply.started": "2024-08-17T02:04:09.618148Z",
          "shell.execute_reply": "2024-08-17T02:04:09.625816Z"
        },
        "trusted": true,
        "colab": {
          "base_uri": "https://localhost:8080/"
        },
        "id": "_ksICw24e78K",
        "outputId": "fec937c6-0e0a-4974-94ad-1bd784893233"
      },
      "execution_count": 16,
      "outputs": [
        {
          "output_type": "execute_result",
          "data": {
            "text/plain": [
              "(8253, 393)"
            ]
          },
          "metadata": {},
          "execution_count": 16
        }
      ]
    },
    {
      "cell_type": "code",
      "source": [
        "CONFIG['T_max'] = df.shape[0] * (CONFIG[\"n_fold\"]-1) * CONFIG['epochs'] // CONFIG['train_batch_size'] // CONFIG[\"n_fold\"]\n",
        "CONFIG['T_max']"
      ],
      "metadata": {
        "papermill": {
          "duration": 0.020234,
          "end_time": "2024-06-29T23:17:58.473737",
          "exception": false,
          "start_time": "2024-06-29T23:17:58.453503",
          "status": "completed"
        },
        "tags": [],
        "execution": {
          "iopub.status.busy": "2024-08-17T02:04:09.630818Z",
          "iopub.execute_input": "2024-08-17T02:04:09.631132Z",
          "iopub.status.idle": "2024-08-17T02:04:09.638254Z",
          "shell.execute_reply.started": "2024-08-17T02:04:09.631106Z",
          "shell.execute_reply": "2024-08-17T02:04:09.637286Z"
        },
        "trusted": true,
        "colab": {
          "base_uri": "https://localhost:8080/"
        },
        "id": "PS8ADUd9e78K",
        "outputId": "9ddcb86e-44bb-4284-e0be-82679af8b437"
      },
      "execution_count": 17,
      "outputs": [
        {
          "output_type": "execute_result",
          "data": {
            "text/plain": [
              "10316"
            ]
          },
          "metadata": {},
          "execution_count": 17
        }
      ]
    },
    {
      "cell_type": "markdown",
      "source": [
        "# <span><h1 style = \"font-family: garamond; font-size: 40px; font-style: normal; letter-spcaing: 3px; background-color: #f6f5f5; color :#fe346e; border-radius: 100px 100px; text-align:center\">Create Folds</h1></span>"
      ],
      "metadata": {
        "papermill": {
          "duration": 0.011432,
          "end_time": "2024-06-29T23:17:58.497492",
          "exception": false,
          "start_time": "2024-06-29T23:17:58.48606",
          "status": "completed"
        },
        "tags": [],
        "id": "8UGRJcIie78K"
      }
    },
    {
      "cell_type": "code",
      "source": [
        "sgkf = StratifiedGroupKFold(n_splits=CONFIG['n_fold'])\n",
        "\n",
        "for fold, ( _, val_) in enumerate(sgkf.split(df, df.target,df.patient_id)):\n",
        "      df.loc[val_ , \"kfold\"] = int(fold)"
      ],
      "metadata": {
        "papermill": {
          "duration": 0.466594,
          "end_time": "2024-06-29T23:17:58.975943",
          "exception": false,
          "start_time": "2024-06-29T23:17:58.509349",
          "status": "completed"
        },
        "tags": [],
        "execution": {
          "iopub.status.busy": "2024-08-17T02:04:09.639484Z",
          "iopub.execute_input": "2024-08-17T02:04:09.639769Z",
          "iopub.status.idle": "2024-08-17T02:04:10.103075Z",
          "shell.execute_reply.started": "2024-08-17T02:04:09.639737Z",
          "shell.execute_reply": "2024-08-17T02:04:10.101955Z"
        },
        "trusted": true,
        "id": "5xXfWnpie78K"
      },
      "execution_count": 18,
      "outputs": []
    },
    {
      "cell_type": "markdown",
      "source": [
        "# <span><h1 style = \"font-family: garamond; font-size: 40px; font-style: normal; letter-spcaing: 3px; background-color: #f6f5f5; color :#fe346e; border-radius: 100px 100px; text-align:center\">Dataset Class</h1></span>"
      ],
      "metadata": {
        "papermill": {
          "duration": 0.011734,
          "end_time": "2024-06-29T23:17:58.999956",
          "exception": false,
          "start_time": "2024-06-29T23:17:58.988222",
          "status": "completed"
        },
        "tags": [],
        "id": "Rmx-ld-we78K"
      }
    },
    {
      "cell_type": "code",
      "source": [
        "class ISICDataset_for_Train(Dataset):\n",
        "    def __init__(self, df, transforms=None):\n",
        "        self.df_positive = df[df[\"target\"] == 1].reset_index()\n",
        "        self.df_negative = df[df[\"target\"] == 0].reset_index()\n",
        "        self.file_names_positive = self.df_positive['file_path'].values\n",
        "        self.file_names_negative = self.df_negative['file_path'].values\n",
        "        self.targets_positive = self.df_positive['target'].values\n",
        "        self.targets_negative = self.df_negative['target'].values\n",
        "        self.transforms = transforms\n",
        "\n",
        "    def __len__(self):\n",
        "        return len(self.df_positive) * 2\n",
        "\n",
        "    def __getitem__(self, index):\n",
        "        if random.random() >= 0.5:\n",
        "            df = self.df_positive\n",
        "            file_names = self.file_names_positive\n",
        "            targets = self.targets_positive\n",
        "        else:\n",
        "            df = self.df_negative\n",
        "            file_names = self.file_names_negative\n",
        "            targets = self.targets_negative\n",
        "        index = index % df.shape[0]\n",
        "\n",
        "        img_path = file_names[index]\n",
        "        img = cv2.imread(img_path)\n",
        "        img = cv2.cvtColor(img, cv2.COLOR_BGR2RGB)\n",
        "        target = targets[index]\n",
        "\n",
        "        if self.transforms:\n",
        "            img = self.transforms(image=img)[\"image\"]\n",
        "\n",
        "        return {\n",
        "            'image': img,\n",
        "            'target': target\n",
        "        }\n",
        "\n",
        "class ISICDataset(Dataset):\n",
        "    def __init__(self, df, transforms=None):\n",
        "        self.df = df\n",
        "        self.file_names = df['file_path'].values\n",
        "        self.targets = df['target'].values\n",
        "        self.transforms = transforms\n",
        "\n",
        "    def __len__(self):\n",
        "        return len(self.df)\n",
        "\n",
        "    def __getitem__(self, index):\n",
        "        img_path = self.file_names[index]\n",
        "        img = cv2.imread(img_path)\n",
        "        img = cv2.cvtColor(img, cv2.COLOR_BGR2RGB)\n",
        "        target = self.targets[index]\n",
        "\n",
        "        if self.transforms:\n",
        "            img = self.transforms(image=img)[\"image\"]\n",
        "\n",
        "        return {\n",
        "            'image': img,\n",
        "            'target': target\n",
        "        }"
      ],
      "metadata": {
        "papermill": {
          "duration": 0.027666,
          "end_time": "2024-06-29T23:17:59.039604",
          "exception": false,
          "start_time": "2024-06-29T23:17:59.011938",
          "status": "completed"
        },
        "tags": [],
        "execution": {
          "iopub.status.busy": "2024-08-17T02:04:10.104333Z",
          "iopub.execute_input": "2024-08-17T02:04:10.104617Z",
          "iopub.status.idle": "2024-08-17T02:04:10.13297Z",
          "shell.execute_reply.started": "2024-08-17T02:04:10.104593Z",
          "shell.execute_reply": "2024-08-17T02:04:10.132018Z"
        },
        "trusted": true,
        "id": "F2pmOuGre78K"
      },
      "execution_count": 19,
      "outputs": []
    },
    {
      "cell_type": "markdown",
      "source": [
        "# <span><h1 style = \"font-family: garamond; font-size: 40px; font-style: normal; letter-spcaing: 3px; background-color: #f6f5f5; color :#fe346e; border-radius: 100px 100px; text-align:center\">Augmentations</h1></span>"
      ],
      "metadata": {
        "papermill": {
          "duration": 0.011484,
          "end_time": "2024-06-29T23:17:59.062869",
          "exception": false,
          "start_time": "2024-06-29T23:17:59.051385",
          "status": "completed"
        },
        "tags": [],
        "id": "OoNatyTFe78K"
      }
    },
    {
      "cell_type": "code",
      "source": [
        "data_transforms = {\n",
        "    \"train\": A.Compose([\n",
        "        A.Resize(CONFIG['img_size'], CONFIG['img_size']),\n",
        "        A.RandomRotate90(p=0.5),\n",
        "        A.Flip(p=0.5),\n",
        "        A.Downscale(p=0.25),\n",
        "        A.ShiftScaleRotate(shift_limit=0.1,\n",
        "                           scale_limit=0.15,\n",
        "                           rotate_limit=60,\n",
        "                           p=0.5),\n",
        "        A.HueSaturationValue(\n",
        "                hue_shift_limit=0.2,\n",
        "                sat_shift_limit=0.2,\n",
        "                val_shift_limit=0.2,\n",
        "                p=0.5\n",
        "            ),\n",
        "        A.RandomBrightnessContrast(\n",
        "                brightness_limit=(-0.1,0.1),\n",
        "                contrast_limit=(-0.1, 0.1),\n",
        "                p=0.5\n",
        "            ),\n",
        "        A.Normalize(\n",
        "                mean=[0.485, 0.456, 0.406],\n",
        "                std=[0.229, 0.224, 0.225],\n",
        "                max_pixel_value=255.0,\n",
        "                p=1.0\n",
        "            ),\n",
        "        ToTensorV2()], p=1.),\n",
        "\n",
        "    \"valid\": A.Compose([\n",
        "        A.Resize(CONFIG['img_size'], CONFIG['img_size']),\n",
        "        A.Normalize(\n",
        "                mean=[0.485, 0.456, 0.406],\n",
        "                std=[0.229, 0.224, 0.225],\n",
        "                max_pixel_value=255.0,\n",
        "                p=1.0\n",
        "            ),\n",
        "        ToTensorV2()], p=1.)\n",
        "}"
      ],
      "metadata": {
        "papermill": {
          "duration": 0.023138,
          "end_time": "2024-06-29T23:17:59.09779",
          "exception": false,
          "start_time": "2024-06-29T23:17:59.074652",
          "status": "completed"
        },
        "tags": [],
        "execution": {
          "iopub.status.busy": "2024-08-17T02:04:10.134141Z",
          "iopub.execute_input": "2024-08-17T02:04:10.134457Z",
          "iopub.status.idle": "2024-08-17T02:04:10.148304Z",
          "shell.execute_reply.started": "2024-08-17T02:04:10.134432Z",
          "shell.execute_reply": "2024-08-17T02:04:10.147254Z"
        },
        "trusted": true,
        "id": "bnbRSiIle78K"
      },
      "execution_count": 20,
      "outputs": []
    },
    {
      "cell_type": "markdown",
      "source": [
        "# <span><h1 style = \"font-family: garamond; font-size: 40px; font-style: normal; letter-spcaing: 3px; background-color: #f6f5f5; color :#fe346e; border-radius: 100px 100px; text-align:center\">Create Model</h1></span>"
      ],
      "metadata": {
        "papermill": {
          "duration": 0.011546,
          "end_time": "2024-06-29T23:17:59.179102",
          "exception": false,
          "start_time": "2024-06-29T23:17:59.167556",
          "status": "completed"
        },
        "tags": [],
        "id": "pwOsfmeLe78K"
      }
    },
    {
      "cell_type": "code",
      "source": [
        "class ISICModel(nn.Module):\n",
        "    def __init__(self, model_name, num_classes=1):\n",
        "        super(ISICModel, self).__init__()\n",
        "        self.model = torch.hub.load('pytorch/vision:v0.10.0', model_name, pretrained=True)\n",
        "\n",
        "        in_features = self.model.fc.in_features\n",
        "        self.model.fc = nn.Identity()  # Ignore the final classification layer\n",
        "        self.linear = nn.Linear(in_features, num_classes)\n",
        "        self.sigmoid = nn.Sigmoid()\n",
        "\n",
        "    def forward(self, images):\n",
        "        features = self.model(images)\n",
        "        output = self.sigmoid(self.linear(features))\n",
        "        return output\n",
        "\n",
        "model = ISICModel('resnext50_32x4d')\n",
        "model.to(CONFIG['device']);\n",
        "wandb.watch(model, log=\"all\")"
      ],
      "metadata": {
        "papermill": {
          "duration": 1.183958,
          "end_time": "2024-06-29T23:18:00.375162",
          "exception": false,
          "start_time": "2024-06-29T23:17:59.191204",
          "status": "completed"
        },
        "tags": [],
        "execution": {
          "iopub.status.busy": "2024-08-17T02:04:10.163977Z",
          "iopub.execute_input": "2024-08-17T02:04:10.165264Z",
          "iopub.status.idle": "2024-08-17T02:04:11.348737Z",
          "shell.execute_reply.started": "2024-08-17T02:04:10.16522Z",
          "shell.execute_reply": "2024-08-17T02:04:11.347803Z"
        },
        "trusted": true,
        "colab": {
          "base_uri": "https://localhost:8080/"
        },
        "id": "aLQvH6Ree78L",
        "outputId": "a7e3a1ce-6945-4c60-8d3c-4fb011a4f996"
      },
      "execution_count": 21,
      "outputs": [
        {
          "output_type": "stream",
          "name": "stderr",
          "text": [
            "Downloading: \"https://github.com/pytorch/vision/zipball/v0.10.0\" to /root/.cache/torch/hub/v0.10.0.zip\n",
            "Downloading: \"https://download.pytorch.org/models/resnext50_32x4d-7cdf4587.pth\" to /root/.cache/torch/hub/checkpoints/resnext50_32x4d-7cdf4587.pth\n",
            "100%|██████████| 95.8M/95.8M [00:00<00:00, 185MB/s]\n"
          ]
        },
        {
          "output_type": "execute_result",
          "data": {
            "text/plain": [
              "[]"
            ]
          },
          "metadata": {},
          "execution_count": 21
        }
      ]
    },
    {
      "cell_type": "markdown",
      "source": [
        "# <span><h1 style = \"font-family: garamond; font-size: 40px; font-style: normal; letter-spcaing: 3px; background-color: #f6f5f5; color :#fe346e; border-radius: 100px 100px; text-align:center\">Loss Function</h1></span>"
      ],
      "metadata": {
        "papermill": {
          "duration": 0.012134,
          "end_time": "2024-06-29T23:18:00.400146",
          "exception": false,
          "start_time": "2024-06-29T23:18:00.388012",
          "status": "completed"
        },
        "tags": [],
        "id": "pwYqUORSe78L"
      }
    },
    {
      "cell_type": "code",
      "source": [
        "def criterion(outputs, targets):\n",
        "    return nn.BCELoss()(outputs, targets)"
      ],
      "metadata": {
        "papermill": {
          "duration": 0.020023,
          "end_time": "2024-06-29T23:18:00.432262",
          "exception": false,
          "start_time": "2024-06-29T23:18:00.412239",
          "status": "completed"
        },
        "tags": [],
        "execution": {
          "iopub.status.busy": "2024-08-17T02:04:11.35005Z",
          "iopub.execute_input": "2024-08-17T02:04:11.350421Z",
          "iopub.status.idle": "2024-08-17T02:04:11.356316Z",
          "shell.execute_reply.started": "2024-08-17T02:04:11.350388Z",
          "shell.execute_reply": "2024-08-17T02:04:11.355399Z"
        },
        "trusted": true,
        "id": "DGC6KKu9e78L"
      },
      "execution_count": 22,
      "outputs": []
    },
    {
      "cell_type": "markdown",
      "source": [
        "# <span><h1 style = \"font-family: garamond; font-size: 40px; font-style: normal; letter-spcaing: 3px; background-color: #f6f5f5; color :#fe346e; border-radius: 100px 100px; text-align:center\">Training Function</h1></span>"
      ],
      "metadata": {
        "papermill": {
          "duration": 0.011944,
          "end_time": "2024-06-29T23:18:00.456944",
          "exception": false,
          "start_time": "2024-06-29T23:18:00.445",
          "status": "completed"
        },
        "tags": [],
        "id": "ShUra5Tge78L"
      }
    },
    {
      "cell_type": "code",
      "source": [
        "def train_one_epoch(model, optimizer, scheduler, dataloader, device, epoch):\n",
        "    model.train()\n",
        "\n",
        "    dataset_size = 0\n",
        "    running_loss = 0.0\n",
        "    running_auroc  = 0.0\n",
        "\n",
        "    all_targets = []\n",
        "    all_outputs = []\n",
        "\n",
        "    bar = tqdm(enumerate(dataloader), total=len(dataloader))\n",
        "    for step, data in bar:\n",
        "        images = data['image'].to(device, dtype=torch.float)\n",
        "        targets = data['target'].to(device, dtype=torch.float)\n",
        "\n",
        "        batch_size = images.size(0)\n",
        "\n",
        "        outputs = model(images).squeeze()\n",
        "        loss = criterion(outputs, targets)\n",
        "        loss = loss / CONFIG['n_accumulate']\n",
        "\n",
        "        loss.backward()\n",
        "\n",
        "        if (step + 1) % CONFIG['n_accumulate'] == 0:\n",
        "            optimizer.step()\n",
        "\n",
        "            # zero the parameter gradients\n",
        "            optimizer.zero_grad()\n",
        "\n",
        "            if scheduler is not None:\n",
        "                scheduler.step()\n",
        "\n",
        "        auroc = binary_auroc(input=outputs.squeeze(), target=targets).item()\n",
        "\n",
        "        running_loss += (loss.item() * batch_size)\n",
        "        #running_auroc  += (auroc * batch_size)\n",
        "        dataset_size += batch_size\n",
        "\n",
        "        epoch_loss = running_loss / dataset_size\n",
        "        #epoch_auroc = running_auroc / dataset_size\n",
        "        all_outputs.extend(outputs.cpu().detach().numpy())\n",
        "        all_targets.extend(targets.cpu().numpy())\n",
        "        bar.set_postfix(Epoch=epoch, Train_Loss=epoch_loss,\n",
        "                        LR=optimizer.param_groups[0]['lr'])\n",
        "    epoch_auroc = roc_auc_score(all_targets, all_outputs)\n",
        "    gc.collect()\n",
        "\n",
        "    return epoch_loss, epoch_auroc"
      ],
      "metadata": {
        "papermill": {
          "duration": 0.024329,
          "end_time": "2024-06-29T23:18:00.493233",
          "exception": false,
          "start_time": "2024-06-29T23:18:00.468904",
          "status": "completed"
        },
        "tags": [],
        "execution": {
          "iopub.status.busy": "2024-08-17T02:04:11.3574Z",
          "iopub.execute_input": "2024-08-17T02:04:11.357657Z",
          "iopub.status.idle": "2024-08-17T02:04:11.369863Z",
          "shell.execute_reply.started": "2024-08-17T02:04:11.357634Z",
          "shell.execute_reply": "2024-08-17T02:04:11.368954Z"
        },
        "trusted": true,
        "id": "A73Dfeo6e78L"
      },
      "execution_count": 23,
      "outputs": []
    },
    {
      "cell_type": "markdown",
      "source": [
        "# <span><h1 style = \"font-family: garamond; font-size: 40px; font-style: normal; letter-spcaing: 3px; background-color: #f6f5f5; color :#fe346e; border-radius: 100px 100px; text-align:center\">Validation Function</h1></span>"
      ],
      "metadata": {
        "papermill": {
          "duration": 0.011634,
          "end_time": "2024-06-29T23:18:00.516892",
          "exception": false,
          "start_time": "2024-06-29T23:18:00.505258",
          "status": "completed"
        },
        "tags": [],
        "id": "3NG3OiVue78L"
      }
    },
    {
      "cell_type": "code",
      "source": [
        "@torch.inference_mode()\n",
        "def valid_one_epoch(model, dataloader, device, epoch):\n",
        "    model.eval()\n",
        "\n",
        "    dataset_size = 0\n",
        "    running_loss = 0.0\n",
        "    running_auroc = 0.0\n",
        "\n",
        "    epoch_loss = None\n",
        "    epoch_auroc = None\n",
        "    all_targets = []\n",
        "    all_outputs = []\n",
        "\n",
        "    bar = tqdm(enumerate(dataloader), total=len(dataloader))\n",
        "    for step, data in bar:\n",
        "        images = data['image'].to(device, dtype=torch.float)\n",
        "        targets = data['target'].to(device, dtype=torch.float)\n",
        "\n",
        "        batch_size = images.size(0)\n",
        "\n",
        "        outputs = model(images).squeeze()\n",
        "        loss = criterion(outputs, targets)\n",
        "\n",
        "        auroc = binary_auroc(input=outputs.squeeze(), target=targets).item()\n",
        "        running_loss += (loss.item() * batch_size)\n",
        "        running_auroc  += (auroc * batch_size)\n",
        "        dataset_size += batch_size\n",
        "\n",
        "        epoch_loss = running_loss / dataset_size\n",
        "#        epoch_auroc = running_auroc / dataset_size\n",
        "        all_outputs.extend(outputs.cpu().detach().numpy())\n",
        "        all_targets.extend(targets.cpu().numpy())\n",
        "\n",
        "        bar.set_postfix(Epoch=epoch, Valid_Loss=epoch_loss, #Valid_Auroc=epoch_auroc,\n",
        "                        LR=optimizer.param_groups[0]['lr'])\n",
        "    epoch_auroc = roc_auc_score(all_targets, all_outputs)\n",
        "    gc.collect()\n",
        "\n",
        "    return epoch_loss, epoch_auroc"
      ],
      "metadata": {
        "papermill": {
          "duration": 0.02315,
          "end_time": "2024-06-29T23:18:00.551972",
          "exception": false,
          "start_time": "2024-06-29T23:18:00.528822",
          "status": "completed"
        },
        "tags": [],
        "execution": {
          "iopub.status.busy": "2024-08-17T02:04:11.371035Z",
          "iopub.execute_input": "2024-08-17T02:04:11.371324Z",
          "iopub.status.idle": "2024-08-17T02:04:11.38638Z",
          "shell.execute_reply.started": "2024-08-17T02:04:11.371301Z",
          "shell.execute_reply": "2024-08-17T02:04:11.385365Z"
        },
        "trusted": true,
        "id": "itWCUxkge78L"
      },
      "execution_count": 24,
      "outputs": []
    },
    {
      "cell_type": "markdown",
      "source": [
        "# <span><h1 style = \"font-family: garamond; font-size: 40px; font-style: normal; letter-spcaing: 3px; background-color: #f6f5f5; color :#fe346e; border-radius: 100px 100px; text-align:center\">Run Training</h1></span>"
      ],
      "metadata": {
        "papermill": {
          "duration": 0.011798,
          "end_time": "2024-06-29T23:18:00.575765",
          "exception": false,
          "start_time": "2024-06-29T23:18:00.563967",
          "status": "completed"
        },
        "tags": [],
        "id": "M--Frcxie78L"
      }
    },
    {
      "cell_type": "code",
      "source": [
        "def run_training(model, optimizer, scheduler, device, num_epochs):\n",
        "    if torch.cuda.is_available():\n",
        "        print(\"[INFO] Using GPU: {}\\n\".format(torch.cuda.get_device_name()))\n",
        "\n",
        "    start = time.time()\n",
        "    best_model_wts = copy.deepcopy(model.state_dict())\n",
        "    best_epoch_auroc = -np.inf\n",
        "    history = defaultdict(list)\n",
        "\n",
        "    for epoch in range(1, num_epochs + 1):\n",
        "        gc.collect()\n",
        "        train_epoch_loss, train_epoch_auroc = train_one_epoch(model, optimizer, scheduler,\n",
        "                                           dataloader=train_loader,\n",
        "                                           device=CONFIG['device'], epoch=epoch)\n",
        "\n",
        "        val_epoch_loss, val_epoch_auroc = valid_one_epoch(model, valid_loader, device=CONFIG['device'],\n",
        "                                         epoch=epoch)\n",
        "        print(f\"[Epoch {epoch}] Validation AUROC: {val_epoch_auroc}\\n\")\n",
        "\n",
        "        history['Train Loss'].append(train_epoch_loss)\n",
        "        history['Valid Loss'].append(val_epoch_loss)\n",
        "        history['Train AUROC'].append(train_epoch_auroc)\n",
        "        history['Valid AUROC'].append(val_epoch_auroc)\n",
        "        history['lr'].append( scheduler.get_lr()[0] )\n",
        "\n",
        "        # deep copy the model\n",
        "        if best_epoch_auroc <= val_epoch_auroc:\n",
        "            print(f\"{b_}Validation AUROC Improved ({best_epoch_auroc} ---> {val_epoch_auroc})\")\n",
        "            best_epoch_auroc = val_epoch_auroc\n",
        "            best_model_wts = copy.deepcopy(model.state_dict())\n",
        "            PATH = \"/kaggle/working/AUROC{:.4f}_Loss{:.4f}_epoch{:.0f}.bin\".format(val_epoch_auroc, val_epoch_loss, epoch)\n",
        "            torch.save(model.state_dict(), PATH)\n",
        "            # Save a model file from the current directory\n",
        "            print(f\"Model Saved{sr_}\")\n",
        "\n",
        "        wandb.log({\n",
        "            'Train Loss': train_epoch_loss,\n",
        "            'Valid Loss': val_epoch_loss,\n",
        "            'Train AUROC': train_epoch_auroc,\n",
        "            'Valid AUROC': val_epoch_auroc\n",
        "        })\n",
        "\n",
        "        print()\n",
        "\n",
        "    end = time.time()\n",
        "    time_elapsed = end - start\n",
        "    print('Training complete in {:.0f}h {:.0f}m {:.0f}s'.format(\n",
        "        time_elapsed // 3600, (time_elapsed % 3600) // 60, (time_elapsed % 3600) % 60))\n",
        "    print(\"Best AUROC: {:.4f}\".format(best_epoch_auroc))\n",
        "\n",
        "    # load best model weights\n",
        "    model.load_state_dict(best_model_wts)\n",
        "\n",
        "    return model, history"
      ],
      "metadata": {
        "papermill": {
          "duration": 0.026227,
          "end_time": "2024-06-29T23:18:00.614057",
          "exception": false,
          "start_time": "2024-06-29T23:18:00.58783",
          "status": "completed"
        },
        "tags": [],
        "execution": {
          "iopub.status.busy": "2024-08-17T02:04:11.388152Z",
          "iopub.execute_input": "2024-08-17T02:04:11.388469Z",
          "iopub.status.idle": "2024-08-17T02:04:11.407149Z",
          "shell.execute_reply.started": "2024-08-17T02:04:11.388444Z",
          "shell.execute_reply": "2024-08-17T02:04:11.405433Z"
        },
        "trusted": true,
        "id": "HAzIAI1ue78L"
      },
      "execution_count": 25,
      "outputs": []
    },
    {
      "cell_type": "code",
      "source": [
        "def fetch_scheduler(optimizer):\n",
        "    if CONFIG['scheduler'] == 'CosineAnnealingLR':\n",
        "        scheduler = lr_scheduler.CosineAnnealingLR(optimizer,T_max=CONFIG['T_max'],\n",
        "                                                   eta_min=CONFIG['min_lr'])\n",
        "    elif CONFIG['scheduler'] == 'CosineAnnealingWarmRestarts':\n",
        "        scheduler = lr_scheduler.CosineAnnealingWarmRestarts(optimizer,T_0=CONFIG['T_0'],\n",
        "                                                             eta_min=CONFIG['min_lr'])\n",
        "    elif CONFIG['scheduler'] == None:\n",
        "        return None\n",
        "\n",
        "    return scheduler"
      ],
      "metadata": {
        "papermill": {
          "duration": 0.020426,
          "end_time": "2024-06-29T23:18:00.646386",
          "exception": false,
          "start_time": "2024-06-29T23:18:00.62596",
          "status": "completed"
        },
        "tags": [],
        "execution": {
          "iopub.status.busy": "2024-08-17T02:04:11.410496Z",
          "iopub.execute_input": "2024-08-17T02:04:11.410795Z",
          "iopub.status.idle": "2024-08-17T02:04:11.421963Z",
          "shell.execute_reply.started": "2024-08-17T02:04:11.410769Z",
          "shell.execute_reply": "2024-08-17T02:04:11.420848Z"
        },
        "trusted": true,
        "id": "nlzr3j_qe78L"
      },
      "execution_count": 26,
      "outputs": []
    },
    {
      "cell_type": "code",
      "source": [
        "def prepare_loaders(df, fold):\n",
        "    df_train = df[df.kfold != fold].reset_index(drop=True)\n",
        "    df_valid = df[df.kfold == fold].reset_index(drop=True)\n",
        "\n",
        "    train_dataset = ISICDataset_for_Train(df_train, transforms=data_transforms[\"train\"])\n",
        "    valid_dataset = ISICDataset(df_valid, transforms=data_transforms[\"valid\"])\n",
        "\n",
        "    train_loader = DataLoader(train_dataset, batch_size=CONFIG['train_batch_size'],\n",
        "                              num_workers=2, shuffle=True, pin_memory=True, drop_last=True)\n",
        "    valid_loader = DataLoader(valid_dataset, batch_size=CONFIG['valid_batch_size'],\n",
        "                              num_workers=2, shuffle=False, pin_memory=True)\n",
        "\n",
        "    return train_loader, valid_loader"
      ],
      "metadata": {
        "papermill": {
          "duration": 0.02047,
          "end_time": "2024-06-29T23:18:00.678761",
          "exception": false,
          "start_time": "2024-06-29T23:18:00.658291",
          "status": "completed"
        },
        "tags": [],
        "execution": {
          "iopub.status.busy": "2024-08-17T02:04:11.423469Z",
          "iopub.execute_input": "2024-08-17T02:04:11.424185Z",
          "iopub.status.idle": "2024-08-17T02:04:11.433345Z",
          "shell.execute_reply.started": "2024-08-17T02:04:11.424155Z",
          "shell.execute_reply": "2024-08-17T02:04:11.432516Z"
        },
        "trusted": true,
        "id": "-ljDieH7e78L"
      },
      "execution_count": 27,
      "outputs": []
    },
    {
      "cell_type": "markdown",
      "source": [
        "<span style=\"color: #000508; font-family: Segoe UI; font-size: 1.5em; font-weight: 300;\">Prepare Dataloaders</span>"
      ],
      "metadata": {
        "papermill": {
          "duration": 0.011803,
          "end_time": "2024-06-29T23:18:00.702461",
          "exception": false,
          "start_time": "2024-06-29T23:18:00.690658",
          "status": "completed"
        },
        "tags": [],
        "id": "crMGy8YQe78P"
      }
    },
    {
      "cell_type": "code",
      "source": [
        "train_loader, valid_loader = prepare_loaders(df, fold=CONFIG[\"fold\"])"
      ],
      "metadata": {
        "papermill": {
          "duration": 0.033503,
          "end_time": "2024-06-29T23:18:00.747996",
          "exception": false,
          "start_time": "2024-06-29T23:18:00.714493",
          "status": "completed"
        },
        "tags": [],
        "execution": {
          "iopub.status.busy": "2024-08-17T02:04:11.43458Z",
          "iopub.execute_input": "2024-08-17T02:04:11.435201Z",
          "iopub.status.idle": "2024-08-17T02:04:11.464946Z",
          "shell.execute_reply.started": "2024-08-17T02:04:11.435175Z",
          "shell.execute_reply": "2024-08-17T02:04:11.463783Z"
        },
        "trusted": true,
        "id": "hpmNJD4ve78P"
      },
      "execution_count": 28,
      "outputs": []
    },
    {
      "cell_type": "markdown",
      "source": [
        "<span style=\"color: #000508; font-family: Segoe UI; font-size: 1.5em; font-weight: 300;\">Define Optimizer and Scheduler</span>"
      ],
      "metadata": {
        "papermill": {
          "duration": 0.012164,
          "end_time": "2024-06-29T23:18:00.772504",
          "exception": false,
          "start_time": "2024-06-29T23:18:00.76034",
          "status": "completed"
        },
        "tags": [],
        "id": "HGE3p5OBe78P"
      }
    },
    {
      "cell_type": "code",
      "source": [
        "optimizer = optim.Adam(model.parameters(), lr=CONFIG['learning_rate'],\n",
        "                       weight_decay=CONFIG['weight_decay'])\n",
        "scheduler = fetch_scheduler(optimizer)"
      ],
      "metadata": {
        "papermill": {
          "duration": 0.021007,
          "end_time": "2024-06-29T23:18:00.805494",
          "exception": false,
          "start_time": "2024-06-29T23:18:00.784487",
          "status": "completed"
        },
        "tags": [],
        "execution": {
          "iopub.status.busy": "2024-08-17T02:04:11.466435Z",
          "iopub.execute_input": "2024-08-17T02:04:11.466757Z",
          "iopub.status.idle": "2024-08-17T02:04:11.475938Z",
          "shell.execute_reply.started": "2024-08-17T02:04:11.466723Z",
          "shell.execute_reply": "2024-08-17T02:04:11.474972Z"
        },
        "trusted": true,
        "id": "iz3td9dKe78P"
      },
      "execution_count": 29,
      "outputs": []
    },
    {
      "cell_type": "markdown",
      "source": [
        "<span style=\"color: #000508; font-family: Segoe UI; font-size: 1.5em; font-weight: 300;\">Start Training</span>"
      ],
      "metadata": {
        "papermill": {
          "duration": 0.011766,
          "end_time": "2024-06-29T23:18:00.872059",
          "exception": false,
          "start_time": "2024-06-29T23:18:00.860293",
          "status": "completed"
        },
        "tags": [],
        "id": "JNSVDOqie78P"
      }
    },
    {
      "cell_type": "code",
      "source": [
        "model, history = run_training(model, optimizer, scheduler,\n",
        "                              device=CONFIG['device'],\n",
        "                              num_epochs=CONFIG['epochs'])"
      ],
      "metadata": {
        "papermill": {
          "duration": 745.635338,
          "end_time": "2024-06-29T23:30:26.519348",
          "exception": false,
          "start_time": "2024-06-29T23:18:00.88401",
          "status": "completed"
        },
        "tags": [],
        "execution": {
          "iopub.status.busy": "2024-08-17T02:04:11.477437Z",
          "iopub.execute_input": "2024-08-17T02:04:11.477777Z",
          "iopub.status.idle": "2024-08-17T02:17:19.655342Z",
          "shell.execute_reply.started": "2024-08-17T02:04:11.477748Z",
          "shell.execute_reply": "2024-08-17T02:17:19.65412Z"
        },
        "trusted": true,
        "colab": {
          "base_uri": "https://localhost:8080/"
        },
        "id": "FPfchUKTe78Q",
        "outputId": "f763fb62-fc57-4c59-d157-8a1a314df7ad"
      },
      "execution_count": 33,
      "outputs": [
        {
          "metadata": {
            "tags": null
          },
          "name": "stdout",
          "output_type": "stream",
          "text": [
            "[INFO] Using GPU: Tesla T4\n",
            "\n"
          ]
        },
        {
          "metadata": {
            "tags": null
          },
          "name": "stderr",
          "output_type": "stream",
          "text": [
            "100%|██████████| 19/19 [00:38<00:00,  2.02s/it, Epoch=1, LR=0.0001, Train_Loss=0.508]\n",
            "100%|██████████| 52/52 [00:20<00:00,  2.49it/s, Epoch=1, LR=0.0001, Valid_Loss=0.489]\n"
          ]
        },
        {
          "metadata": {
            "tags": null
          },
          "name": "stdout",
          "output_type": "stream",
          "text": [
            "\u001b[34mValidation AUROC Improved (-inf ---> 0.8799159339066577)\n",
            "Model Saved\u001b[0m\n",
            "\n"
          ]
        },
        {
          "metadata": {
            "tags": null
          },
          "name": "stderr",
          "output_type": "stream",
          "text": [
            "100%|██████████| 19/19 [00:29<00:00,  1.57s/it, Epoch=2, LR=0.0001, Train_Loss=0.452]\n",
            "100%|██████████| 52/52 [00:22<00:00,  2.30it/s, Epoch=2, LR=0.0001, Valid_Loss=0.426]\n"
          ]
        },
        {
          "metadata": {
            "tags": null
          },
          "name": "stdout",
          "output_type": "stream",
          "text": [
            "\u001b[34mValidation AUROC Improved (0.8799159339066577 ---> 0.9060537249975843)\n",
            "Model Saved\u001b[0m\n",
            "\n"
          ]
        },
        {
          "metadata": {
            "tags": null
          },
          "name": "stderr",
          "output_type": "stream",
          "text": [
            "100%|██████████| 19/19 [00:33<00:00,  1.79s/it, Epoch=3, LR=0.0001, Train_Loss=0.389]\n",
            "100%|██████████| 52/52 [00:21<00:00,  2.44it/s, Epoch=3, LR=0.0001, Valid_Loss=0.35]\n"
          ]
        },
        {
          "metadata": {
            "tags": null
          },
          "name": "stdout",
          "output_type": "stream",
          "text": [
            "\n"
          ]
        },
        {
          "metadata": {
            "tags": null
          },
          "name": "stderr",
          "output_type": "stream",
          "text": [
            "100%|██████████| 19/19 [00:30<00:00,  1.59s/it, Epoch=4, LR=0.0001, Train_Loss=0.357]\n",
            "100%|██████████| 52/52 [00:23<00:00,  2.21it/s, Epoch=4, LR=0.0001, Valid_Loss=0.251]\n"
          ]
        },
        {
          "metadata": {
            "tags": null
          },
          "name": "stdout",
          "output_type": "stream",
          "text": [
            "\n"
          ]
        },
        {
          "metadata": {
            "tags": null
          },
          "name": "stderr",
          "output_type": "stream",
          "text": [
            "100%|██████████| 19/19 [00:29<00:00,  1.56s/it, Epoch=5, LR=0.0001, Train_Loss=0.307]\n",
            "100%|██████████| 52/52 [00:21<00:00,  2.47it/s, Epoch=5, LR=0.0001, Valid_Loss=0.36]\n"
          ]
        },
        {
          "metadata": {
            "tags": null
          },
          "name": "stdout",
          "output_type": "stream",
          "text": [
            "\u001b[34mValidation AUROC Improved (0.9060537249975843 ---> 0.938021386929494)\n",
            "Model Saved\u001b[0m\n",
            "\n"
          ]
        },
        {
          "metadata": {
            "tags": null
          },
          "name": "stderr",
          "output_type": "stream",
          "text": [
            "100%|██████████| 19/19 [00:30<00:00,  1.61s/it, Epoch=6, LR=0.0001, Train_Loss=0.319]\n",
            "100%|██████████| 52/52 [00:22<00:00,  2.26it/s, Epoch=6, LR=0.0001, Valid_Loss=0.606]\n"
          ]
        },
        {
          "metadata": {
            "tags": null
          },
          "name": "stdout",
          "output_type": "stream",
          "text": [
            "\n"
          ]
        },
        {
          "metadata": {
            "tags": null
          },
          "name": "stderr",
          "output_type": "stream",
          "text": [
            "100%|██████████| 19/19 [00:29<00:00,  1.55s/it, Epoch=7, LR=0.0001, Train_Loss=0.318]\n",
            "100%|██████████| 52/52 [00:20<00:00,  2.48it/s, Epoch=7, LR=0.0001, Valid_Loss=0.273]\n"
          ]
        },
        {
          "metadata": {
            "tags": null
          },
          "name": "stdout",
          "output_type": "stream",
          "text": [
            "\n"
          ]
        },
        {
          "metadata": {
            "tags": null
          },
          "name": "stderr",
          "output_type": "stream",
          "text": [
            "100%|██████████| 19/19 [00:29<00:00,  1.58s/it, Epoch=8, LR=9.99e-5, Train_Loss=0.278]\n",
            "100%|██████████| 52/52 [00:21<00:00,  2.37it/s, Epoch=8, LR=9.99e-5, Valid_Loss=0.933]\n"
          ]
        },
        {
          "metadata": {
            "tags": null
          },
          "name": "stdout",
          "output_type": "stream",
          "text": [
            "\n"
          ]
        },
        {
          "metadata": {
            "tags": null
          },
          "name": "stderr",
          "output_type": "stream",
          "text": [
            "100%|██████████| 19/19 [00:29<00:00,  1.55s/it, Epoch=9, LR=9.99e-5, Train_Loss=0.254]\n",
            "100%|██████████| 52/52 [00:20<00:00,  2.52it/s, Epoch=9, LR=9.99e-5, Valid_Loss=0.199]\n"
          ]
        },
        {
          "metadata": {
            "tags": null
          },
          "name": "stdout",
          "output_type": "stream",
          "text": [
            "\n"
          ]
        },
        {
          "metadata": {
            "tags": null
          },
          "name": "stderr",
          "output_type": "stream",
          "text": [
            "100%|██████████| 19/19 [00:29<00:00,  1.58s/it, Epoch=10, LR=9.99e-5, Train_Loss=0.254]\n",
            "100%|██████████| 52/52 [00:21<00:00,  2.43it/s, Epoch=10, LR=9.99e-5, Valid_Loss=0.455]\n"
          ]
        },
        {
          "metadata": {
            "tags": null
          },
          "name": "stdout",
          "output_type": "stream",
          "text": [
            "\n"
          ]
        },
        {
          "metadata": {
            "tags": null
          },
          "name": "stderr",
          "output_type": "stream",
          "text": [
            "100%|██████████| 19/19 [00:29<00:00,  1.56s/it, Epoch=11, LR=9.99e-5, Train_Loss=0.268]\n",
            "100%|██████████| 52/52 [00:20<00:00,  2.49it/s, Epoch=11, LR=9.99e-5, Valid_Loss=0.487]\n"
          ]
        },
        {
          "metadata": {
            "tags": null
          },
          "name": "stdout",
          "output_type": "stream",
          "text": [
            "\n"
          ]
        },
        {
          "metadata": {
            "tags": null
          },
          "name": "stderr",
          "output_type": "stream",
          "text": [
            "100%|██████████| 19/19 [00:30<00:00,  1.58s/it, Epoch=12, LR=9.99e-5, Train_Loss=0.206]\n",
            "100%|██████████| 52/52 [00:21<00:00,  2.45it/s, Epoch=12, LR=9.99e-5, Valid_Loss=0.411]\n"
          ]
        },
        {
          "metadata": {
            "tags": null
          },
          "name": "stdout",
          "output_type": "stream",
          "text": [
            "\n"
          ]
        },
        {
          "metadata": {
            "tags": null
          },
          "name": "stderr",
          "output_type": "stream",
          "text": [
            "100%|██████████| 19/19 [00:30<00:00,  1.58s/it, Epoch=13, LR=9.99e-5, Train_Loss=0.226]\n",
            "100%|██████████| 52/52 [00:21<00:00,  2.48it/s, Epoch=13, LR=9.99e-5, Valid_Loss=0.339]\n"
          ]
        },
        {
          "metadata": {
            "tags": null
          },
          "name": "stdout",
          "output_type": "stream",
          "text": [
            "\n"
          ]
        },
        {
          "metadata": {
            "tags": null
          },
          "name": "stderr",
          "output_type": "stream",
          "text": [
            "100%|██████████| 19/19 [00:30<00:00,  1.58s/it, Epoch=14, LR=9.98e-5, Train_Loss=0.204]\n",
            "100%|██████████| 52/52 [00:21<00:00,  2.42it/s, Epoch=14, LR=9.98e-5, Valid_Loss=0.461]\n"
          ]
        },
        {
          "metadata": {
            "tags": null
          },
          "name": "stdout",
          "output_type": "stream",
          "text": [
            "\n"
          ]
        },
        {
          "metadata": {
            "tags": null
          },
          "name": "stderr",
          "output_type": "stream",
          "text": [
            "100%|██████████| 19/19 [00:29<00:00,  1.57s/it, Epoch=15, LR=9.98e-5, Train_Loss=0.164]\n",
            "100%|██████████| 52/52 [00:20<00:00,  2.51it/s, Epoch=15, LR=9.98e-5, Valid_Loss=0.33]\n"
          ]
        },
        {
          "metadata": {
            "tags": null
          },
          "name": "stdout",
          "output_type": "stream",
          "text": [
            "\n"
          ]
        },
        {
          "metadata": {
            "tags": null
          },
          "name": "stderr",
          "output_type": "stream",
          "text": [
            "100%|██████████| 19/19 [00:29<00:00,  1.56s/it, Epoch=16, LR=9.98e-5, Train_Loss=0.19]\n",
            "100%|██████████| 52/52 [00:20<00:00,  2.55it/s, Epoch=16, LR=9.98e-5, Valid_Loss=0.333]\n"
          ]
        },
        {
          "metadata": {
            "tags": null
          },
          "name": "stdout",
          "output_type": "stream",
          "text": [
            "\n"
          ]
        },
        {
          "metadata": {
            "tags": null
          },
          "name": "stderr",
          "output_type": "stream",
          "text": [
            "100%|██████████| 19/19 [00:30<00:00,  1.62s/it, Epoch=17, LR=9.98e-5, Train_Loss=0.174]\n",
            "100%|██████████| 52/52 [00:20<00:00,  2.53it/s, Epoch=17, LR=9.98e-5, Valid_Loss=0.334]\n"
          ]
        },
        {
          "metadata": {
            "tags": null
          },
          "name": "stdout",
          "output_type": "stream",
          "text": [
            "\n"
          ]
        },
        {
          "output_type": "stream",
          "name": "stderr",
          "text": [
            "100%|██████████| 19/19 [00:29<00:00,  1.55s/it, Epoch=18, LR=9.97e-5, Train_Loss=0.175]\n",
            "100%|██████████| 52/52 [00:20<00:00,  2.53it/s, Epoch=18, LR=9.97e-5, Valid_Loss=0.444]\n"
          ]
        },
        {
          "output_type": "stream",
          "name": "stdout",
          "text": [
            "\n"
          ]
        },
        {
          "output_type": "stream",
          "name": "stderr",
          "text": [
            "100%|██████████| 19/19 [00:29<00:00,  1.57s/it, Epoch=19, LR=9.97e-5, Train_Loss=0.181]\n",
            "100%|██████████| 52/52 [00:20<00:00,  2.48it/s, Epoch=19, LR=9.97e-5, Valid_Loss=0.324]\n"
          ]
        },
        {
          "output_type": "stream",
          "name": "stdout",
          "text": [
            "\n"
          ]
        },
        {
          "output_type": "stream",
          "name": "stderr",
          "text": [
            "100%|██████████| 19/19 [00:29<00:00,  1.56s/it, Epoch=20, LR=9.97e-5, Train_Loss=0.149]\n",
            "100%|██████████| 52/52 [00:20<00:00,  2.54it/s, Epoch=20, LR=9.97e-5, Valid_Loss=0.352]\n"
          ]
        },
        {
          "output_type": "stream",
          "name": "stdout",
          "text": [
            "\n"
          ]
        },
        {
          "output_type": "stream",
          "name": "stderr",
          "text": [
            "100%|██████████| 19/19 [00:29<00:00,  1.56s/it, Epoch=21, LR=9.96e-5, Train_Loss=0.139]\n",
            "100%|██████████| 52/52 [00:20<00:00,  2.55it/s, Epoch=21, LR=9.96e-5, Valid_Loss=0.336]\n"
          ]
        },
        {
          "output_type": "stream",
          "name": "stdout",
          "text": [
            "\n"
          ]
        },
        {
          "output_type": "stream",
          "name": "stderr",
          "text": [
            "100%|██████████| 19/19 [00:29<00:00,  1.57s/it, Epoch=22, LR=9.96e-5, Train_Loss=0.15]\n",
            "100%|██████████| 52/52 [00:20<00:00,  2.48it/s, Epoch=22, LR=9.96e-5, Valid_Loss=0.265]\n"
          ]
        },
        {
          "output_type": "stream",
          "name": "stdout",
          "text": [
            "\n"
          ]
        },
        {
          "output_type": "stream",
          "name": "stderr",
          "text": [
            "100%|██████████| 19/19 [00:29<00:00,  1.55s/it, Epoch=23, LR=9.96e-5, Train_Loss=0.115]\n",
            "100%|██████████| 52/52 [00:21<00:00,  2.42it/s, Epoch=23, LR=9.96e-5, Valid_Loss=0.528]\n"
          ]
        },
        {
          "output_type": "stream",
          "name": "stdout",
          "text": [
            "\n"
          ]
        },
        {
          "output_type": "stream",
          "name": "stderr",
          "text": [
            "100%|██████████| 19/19 [00:29<00:00,  1.57s/it, Epoch=24, LR=9.95e-5, Train_Loss=0.164]\n",
            "100%|██████████| 52/52 [00:21<00:00,  2.46it/s, Epoch=24, LR=9.95e-5, Valid_Loss=0.335]\n"
          ]
        },
        {
          "output_type": "stream",
          "name": "stdout",
          "text": [
            "\n"
          ]
        },
        {
          "output_type": "stream",
          "name": "stderr",
          "text": [
            "100%|██████████| 19/19 [00:29<00:00,  1.55s/it, Epoch=25, LR=9.95e-5, Train_Loss=0.125]\n",
            "100%|██████████| 52/52 [00:21<00:00,  2.41it/s, Epoch=25, LR=9.95e-5, Valid_Loss=0.31]\n"
          ]
        },
        {
          "output_type": "stream",
          "name": "stdout",
          "text": [
            "\n"
          ]
        },
        {
          "output_type": "stream",
          "name": "stderr",
          "text": [
            "100%|██████████| 19/19 [00:29<00:00,  1.55s/it, Epoch=26, LR=9.94e-5, Train_Loss=0.163]\n",
            "100%|██████████| 52/52 [00:20<00:00,  2.53it/s, Epoch=26, LR=9.94e-5, Valid_Loss=0.473]\n"
          ]
        },
        {
          "output_type": "stream",
          "name": "stdout",
          "text": [
            "\n"
          ]
        },
        {
          "output_type": "stream",
          "name": "stderr",
          "text": [
            "100%|██████████| 19/19 [00:29<00:00,  1.55s/it, Epoch=27, LR=9.94e-5, Train_Loss=0.143]\n",
            "100%|██████████| 52/52 [00:22<00:00,  2.35it/s, Epoch=27, LR=9.94e-5, Valid_Loss=0.41]\n"
          ]
        },
        {
          "output_type": "stream",
          "name": "stdout",
          "text": [
            "\n"
          ]
        },
        {
          "output_type": "stream",
          "name": "stderr",
          "text": [
            "100%|██████████| 19/19 [00:29<00:00,  1.56s/it, Epoch=28, LR=9.93e-5, Train_Loss=0.149]\n",
            "100%|██████████| 52/52 [00:20<00:00,  2.51it/s, Epoch=28, LR=9.93e-5, Valid_Loss=0.274]\n"
          ]
        },
        {
          "output_type": "stream",
          "name": "stdout",
          "text": [
            "\n"
          ]
        },
        {
          "output_type": "stream",
          "name": "stderr",
          "text": [
            "100%|██████████| 19/19 [00:30<00:00,  1.58s/it, Epoch=29, LR=9.93e-5, Train_Loss=0.127]\n",
            "100%|██████████| 52/52 [00:20<00:00,  2.49it/s, Epoch=29, LR=9.93e-5, Valid_Loss=0.276]\n"
          ]
        },
        {
          "output_type": "stream",
          "name": "stdout",
          "text": [
            "\n"
          ]
        },
        {
          "output_type": "stream",
          "name": "stderr",
          "text": [
            "100%|██████████| 19/19 [00:30<00:00,  1.58s/it, Epoch=30, LR=9.92e-5, Train_Loss=0.0941]\n",
            "100%|██████████| 52/52 [00:21<00:00,  2.47it/s, Epoch=30, LR=9.92e-5, Valid_Loss=0.354]\n"
          ]
        },
        {
          "output_type": "stream",
          "name": "stdout",
          "text": [
            "\n"
          ]
        },
        {
          "output_type": "stream",
          "name": "stderr",
          "text": [
            "100%|██████████| 19/19 [00:29<00:00,  1.54s/it, Epoch=31, LR=9.92e-5, Train_Loss=0.0816]\n",
            "100%|██████████| 52/52 [00:20<00:00,  2.52it/s, Epoch=31, LR=9.92e-5, Valid_Loss=0.32]\n"
          ]
        },
        {
          "output_type": "stream",
          "name": "stdout",
          "text": [
            "\n"
          ]
        },
        {
          "output_type": "stream",
          "name": "stderr",
          "text": [
            "100%|██████████| 19/19 [00:30<00:00,  1.62s/it, Epoch=32, LR=9.91e-5, Train_Loss=0.0953]\n",
            "100%|██████████| 52/52 [00:20<00:00,  2.52it/s, Epoch=32, LR=9.91e-5, Valid_Loss=0.306]\n"
          ]
        },
        {
          "output_type": "stream",
          "name": "stdout",
          "text": [
            "\n"
          ]
        },
        {
          "output_type": "stream",
          "name": "stderr",
          "text": [
            "100%|██████████| 19/19 [00:29<00:00,  1.53s/it, Epoch=33, LR=9.91e-5, Train_Loss=0.118]\n",
            "100%|██████████| 52/52 [00:20<00:00,  2.55it/s, Epoch=33, LR=9.91e-5, Valid_Loss=0.322]\n"
          ]
        },
        {
          "output_type": "stream",
          "name": "stdout",
          "text": [
            "\n"
          ]
        },
        {
          "output_type": "stream",
          "name": "stderr",
          "text": [
            "100%|██████████| 19/19 [00:30<00:00,  1.60s/it, Epoch=34, LR=9.9e-5, Train_Loss=0.116]\n",
            "100%|██████████| 52/52 [00:21<00:00,  2.46it/s, Epoch=34, LR=9.9e-5, Valid_Loss=0.377]\n"
          ]
        },
        {
          "output_type": "stream",
          "name": "stdout",
          "text": [
            "\n"
          ]
        },
        {
          "output_type": "stream",
          "name": "stderr",
          "text": [
            "100%|██████████| 19/19 [00:29<00:00,  1.54s/it, Epoch=35, LR=9.9e-5, Train_Loss=0.0932]\n",
            "100%|██████████| 52/52 [00:20<00:00,  2.49it/s, Epoch=35, LR=9.9e-5, Valid_Loss=0.312]\n"
          ]
        },
        {
          "output_type": "stream",
          "name": "stdout",
          "text": [
            "\u001b[34mValidation AUROC Improved (0.938021386929494 ---> 0.9390279254034206)\n",
            "Model Saved\u001b[0m\n",
            "\n"
          ]
        },
        {
          "output_type": "stream",
          "name": "stderr",
          "text": [
            "100%|██████████| 19/19 [00:29<00:00,  1.57s/it, Epoch=36, LR=9.89e-5, Train_Loss=0.0853]\n",
            "100%|██████████| 52/52 [00:20<00:00,  2.48it/s, Epoch=36, LR=9.89e-5, Valid_Loss=0.422]\n"
          ]
        },
        {
          "output_type": "stream",
          "name": "stdout",
          "text": [
            "\n"
          ]
        },
        {
          "output_type": "stream",
          "name": "stderr",
          "text": [
            "100%|██████████| 19/19 [00:30<00:00,  1.60s/it, Epoch=37, LR=9.89e-5, Train_Loss=0.0796]\n",
            "100%|██████████| 52/52 [00:20<00:00,  2.51it/s, Epoch=37, LR=9.89e-5, Valid_Loss=0.257]\n"
          ]
        },
        {
          "output_type": "stream",
          "name": "stdout",
          "text": [
            "\n"
          ]
        },
        {
          "output_type": "stream",
          "name": "stderr",
          "text": [
            "100%|██████████| 19/19 [00:29<00:00,  1.54s/it, Epoch=38, LR=9.88e-5, Train_Loss=0.0605]\n",
            "100%|██████████| 52/52 [00:21<00:00,  2.42it/s, Epoch=38, LR=9.88e-5, Valid_Loss=0.426]\n"
          ]
        },
        {
          "output_type": "stream",
          "name": "stdout",
          "text": [
            "\n"
          ]
        },
        {
          "output_type": "stream",
          "name": "stderr",
          "text": [
            "100%|██████████| 19/19 [00:29<00:00,  1.55s/it, Epoch=39, LR=9.87e-5, Train_Loss=0.059]\n",
            "100%|██████████| 52/52 [00:20<00:00,  2.54it/s, Epoch=39, LR=9.87e-5, Valid_Loss=0.324]\n"
          ]
        },
        {
          "output_type": "stream",
          "name": "stdout",
          "text": [
            "\n"
          ]
        },
        {
          "output_type": "stream",
          "name": "stderr",
          "text": [
            "100%|██████████| 19/19 [00:29<00:00,  1.57s/it, Epoch=40, LR=9.87e-5, Train_Loss=0.0954]\n",
            "100%|██████████| 52/52 [00:21<00:00,  2.41it/s, Epoch=40, LR=9.87e-5, Valid_Loss=0.343]\n"
          ]
        },
        {
          "output_type": "stream",
          "name": "stdout",
          "text": [
            "\n"
          ]
        },
        {
          "output_type": "stream",
          "name": "stderr",
          "text": [
            "100%|██████████| 19/19 [00:29<00:00,  1.55s/it, Epoch=41, LR=9.86e-5, Train_Loss=0.0956]\n",
            "100%|██████████| 52/52 [00:20<00:00,  2.48it/s, Epoch=41, LR=9.86e-5, Valid_Loss=0.423]\n"
          ]
        },
        {
          "output_type": "stream",
          "name": "stdout",
          "text": [
            "\n"
          ]
        },
        {
          "output_type": "stream",
          "name": "stderr",
          "text": [
            "100%|██████████| 19/19 [00:29<00:00,  1.56s/it, Epoch=42, LR=9.85e-5, Train_Loss=0.0956]\n",
            "100%|██████████| 52/52 [00:20<00:00,  2.49it/s, Epoch=42, LR=9.85e-5, Valid_Loss=0.535]\n"
          ]
        },
        {
          "output_type": "stream",
          "name": "stdout",
          "text": [
            "\u001b[34mValidation AUROC Improved (0.9390279254034206 ---> 0.9489725255258157)\n",
            "Model Saved\u001b[0m\n",
            "\n"
          ]
        },
        {
          "output_type": "stream",
          "name": "stderr",
          "text": [
            "100%|██████████| 19/19 [00:31<00:00,  1.67s/it, Epoch=43, LR=9.85e-5, Train_Loss=0.0792]\n",
            "100%|██████████| 52/52 [00:22<00:00,  2.35it/s, Epoch=43, LR=9.85e-5, Valid_Loss=0.342]\n"
          ]
        },
        {
          "output_type": "stream",
          "name": "stdout",
          "text": [
            "\n"
          ]
        },
        {
          "output_type": "stream",
          "name": "stderr",
          "text": [
            "100%|██████████| 19/19 [00:29<00:00,  1.56s/it, Epoch=44, LR=9.84e-5, Train_Loss=0.0914]\n",
            "100%|██████████| 52/52 [00:21<00:00,  2.47it/s, Epoch=44, LR=9.84e-5, Valid_Loss=0.266]\n"
          ]
        },
        {
          "output_type": "stream",
          "name": "stdout",
          "text": [
            "\n"
          ]
        },
        {
          "output_type": "stream",
          "name": "stderr",
          "text": [
            "100%|██████████| 19/19 [00:30<00:00,  1.60s/it, Epoch=45, LR=9.83e-5, Train_Loss=0.0912]\n",
            "100%|██████████| 52/52 [00:20<00:00,  2.52it/s, Epoch=45, LR=9.83e-5, Valid_Loss=0.472]\n"
          ]
        },
        {
          "output_type": "stream",
          "name": "stdout",
          "text": [
            "\n"
          ]
        },
        {
          "output_type": "stream",
          "name": "stderr",
          "text": [
            "100%|██████████| 19/19 [00:29<00:00,  1.54s/it, Epoch=46, LR=9.82e-5, Train_Loss=0.0623]\n",
            "100%|██████████| 52/52 [00:20<00:00,  2.49it/s, Epoch=46, LR=9.82e-5, Valid_Loss=0.444]\n"
          ]
        },
        {
          "output_type": "stream",
          "name": "stdout",
          "text": [
            "\n"
          ]
        },
        {
          "output_type": "stream",
          "name": "stderr",
          "text": [
            "100%|██████████| 19/19 [00:30<00:00,  1.58s/it, Epoch=47, LR=9.82e-5, Train_Loss=0.0431]\n",
            "100%|██████████| 52/52 [00:20<00:00,  2.52it/s, Epoch=47, LR=9.82e-5, Valid_Loss=0.405]\n"
          ]
        },
        {
          "output_type": "stream",
          "name": "stdout",
          "text": [
            "\n"
          ]
        },
        {
          "output_type": "stream",
          "name": "stderr",
          "text": [
            "100%|██████████| 19/19 [00:29<00:00,  1.56s/it, Epoch=48, LR=9.81e-5, Train_Loss=0.0568]\n",
            "100%|██████████| 52/52 [00:20<00:00,  2.52it/s, Epoch=48, LR=9.81e-5, Valid_Loss=0.624]\n"
          ]
        },
        {
          "output_type": "stream",
          "name": "stdout",
          "text": [
            "\n"
          ]
        },
        {
          "output_type": "stream",
          "name": "stderr",
          "text": [
            "100%|██████████| 19/19 [00:30<00:00,  1.59s/it, Epoch=49, LR=9.8e-5, Train_Loss=0.0598]\n",
            "100%|██████████| 52/52 [00:20<00:00,  2.49it/s, Epoch=49, LR=9.8e-5, Valid_Loss=0.364]\n"
          ]
        },
        {
          "output_type": "stream",
          "name": "stdout",
          "text": [
            "\n"
          ]
        },
        {
          "output_type": "stream",
          "name": "stderr",
          "text": [
            "100%|██████████| 19/19 [00:29<00:00,  1.54s/it, Epoch=50, LR=9.79e-5, Train_Loss=0.0744]\n",
            "100%|██████████| 52/52 [00:20<00:00,  2.54it/s, Epoch=50, LR=9.79e-5, Valid_Loss=0.295]\n"
          ]
        },
        {
          "output_type": "stream",
          "name": "stdout",
          "text": [
            "\n",
            "Training complete in 0h 43m 59s\n",
            "Best AUROC: 0.9490\n"
          ]
        }
      ]
    },
    {
      "cell_type": "code",
      "source": [
        "`history = pd.DataFrame.from_dict(history)\n",
        "history.to_csv(\"history.csv\", index=False)"
      ],
      "metadata": {
        "papermill": {
          "duration": 0.408452,
          "end_time": "2024-06-29T23:30:27.325321",
          "exception": false,
          "start_time": "2024-06-29T23:30:26.916869",
          "status": "completed"
        },
        "tags": [],
        "execution": {
          "iopub.status.busy": "2024-08-17T02:17:19.656876Z",
          "iopub.execute_input": "2024-08-17T02:17:19.657287Z",
          "iopub.status.idle": "2024-08-17T02:17:19.668713Z",
          "shell.execute_reply.started": "2024-08-17T02:17:19.657246Z",
          "shell.execute_reply": "2024-08-17T02:17:19.667592Z"
        },
        "trusted": true,
        "id": "fvOrg3y1e78Q"
      },
      "execution_count": null,
      "outputs": []
    },
    {
      "cell_type": "markdown",
      "source": [
        "# <span><h1 style = \"font-family: garamond; font-size: 40px; font-style: normal; letter-spcaing: 3px; background-color: #f6f5f5; color :#fe346e; border-radius: 100px 100px; text-align:center\">Logs</h1></span>"
      ],
      "metadata": {
        "papermill": {
          "duration": 0.390665,
          "end_time": "2024-06-29T23:30:28.107797",
          "exception": false,
          "start_time": "2024-06-29T23:30:27.717132",
          "status": "completed"
        },
        "tags": [],
        "id": "bCbJF7oAe78Q"
      }
    },
    {
      "cell_type": "code",
      "source": [
        "plt.plot( range(history.shape[0]), history[\"Train Loss\"].values, label=\"Train Loss\")\n",
        "plt.plot( range(history.shape[0]), history[\"Valid Loss\"].values, label=\"Valid Loss\")\n",
        "plt.xlabel(\"epochs\")\n",
        "plt.ylabel(\"Loss\")\n",
        "plt.grid()\n",
        "plt.legend()\n",
        "plt.show()"
      ],
      "metadata": {
        "papermill": {
          "duration": 0.673512,
          "end_time": "2024-06-29T23:30:29.236485",
          "exception": false,
          "start_time": "2024-06-29T23:30:28.562973",
          "status": "completed"
        },
        "tags": [],
        "execution": {
          "iopub.status.busy": "2024-08-17T02:17:19.670524Z",
          "iopub.execute_input": "2024-08-17T02:17:19.670881Z",
          "iopub.status.idle": "2024-08-17T02:17:19.961328Z",
          "shell.execute_reply.started": "2024-08-17T02:17:19.67085Z",
          "shell.execute_reply": "2024-08-17T02:17:19.96005Z"
        },
        "trusted": true,
        "id": "M_NQBHK7e78Q"
      },
      "execution_count": null,
      "outputs": []
    },
    {
      "cell_type": "code",
      "source": [
        "plt.plot( range(history.shape[0]), history[\"Train AUROC\"].values, label=\"Train AUROC\")\n",
        "plt.plot( range(history.shape[0]), history[\"Valid AUROC\"].values, label=\"Valid AUROC\")\n",
        "plt.xlabel(\"epochs\")\n",
        "plt.ylabel(\"AUROC\")\n",
        "plt.grid()\n",
        "plt.legend()\n",
        "plt.show()"
      ],
      "metadata": {
        "papermill": {
          "duration": 0.648584,
          "end_time": "2024-06-29T23:30:30.277915",
          "exception": false,
          "start_time": "2024-06-29T23:30:29.629331",
          "status": "completed"
        },
        "tags": [],
        "execution": {
          "iopub.status.busy": "2024-08-17T02:17:19.962906Z",
          "iopub.execute_input": "2024-08-17T02:17:19.963368Z",
          "iopub.status.idle": "2024-08-17T02:17:20.237223Z",
          "shell.execute_reply.started": "2024-08-17T02:17:19.963327Z",
          "shell.execute_reply": "2024-08-17T02:17:20.235489Z"
        },
        "trusted": true,
        "id": "66lUZhMse78Q"
      },
      "execution_count": null,
      "outputs": []
    },
    {
      "cell_type": "code",
      "source": [
        "plt.plot( range(history.shape[0]), history[\"lr\"].values, label=\"lr\")\n",
        "plt.xlabel(\"epochs\")\n",
        "plt.ylabel(\"lr\")\n",
        "plt.grid()\n",
        "plt.legend()\n",
        "plt.show()"
      ],
      "metadata": {
        "papermill": {
          "duration": 0.617692,
          "end_time": "2024-06-29T23:30:31.290602",
          "exception": false,
          "start_time": "2024-06-29T23:30:30.67291",
          "status": "completed"
        },
        "tags": [],
        "execution": {
          "iopub.status.busy": "2024-08-17T02:17:20.23862Z",
          "iopub.execute_input": "2024-08-17T02:17:20.239024Z",
          "iopub.status.idle": "2024-08-17T02:17:20.494973Z",
          "shell.execute_reply.started": "2024-08-17T02:17:20.238974Z",
          "shell.execute_reply": "2024-08-17T02:17:20.493843Z"
        },
        "trusted": true,
        "id": "hnaREItie78Q"
      },
      "execution_count": null,
      "outputs": []
    },
    {
      "cell_type": "code",
      "source": [],
      "metadata": {
        "id": "nf4kTpFde78Q"
      },
      "execution_count": null,
      "outputs": []
    }
  ]
}