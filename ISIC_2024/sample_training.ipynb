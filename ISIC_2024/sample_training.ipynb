{
 "cells": [
  {
   "cell_type": "markdown",
   "id": "7fe312e0",
   "metadata": {
    "papermill": {
     "duration": 0.014898,
     "end_time": "2024-08-17T02:45:23.091960",
     "exception": false,
     "start_time": "2024-08-17T02:45:23.077062",
     "status": "completed"
    },
    "tags": []
   },
   "source": [
    "# <span><h1 style = \"font-family: garamond; font-size: 40px; font-style: normal; letter-spcaing: 3px; background-color: #f6f5f5; color :#fe346e; border-radius: 100px 100px; text-align:center\">Import Required Libraries 📚</h1></span>"
   ]
  },
  {
   "cell_type": "code",
   "execution_count": 1,
   "id": "99f659e9",
   "metadata": {
    "execution": {
     "iopub.execute_input": "2024-08-17T02:45:23.122646Z",
     "iopub.status.busy": "2024-08-17T02:45:23.122305Z",
     "iopub.status.idle": "2024-08-17T02:45:36.991720Z",
     "shell.execute_reply": "2024-08-17T02:45:36.990695Z"
    },
    "papermill": {
     "duration": 13.887418,
     "end_time": "2024-08-17T02:45:36.994019",
     "exception": false,
     "start_time": "2024-08-17T02:45:23.106601",
     "status": "completed"
    },
    "tags": []
   },
   "outputs": [
    {
     "name": "stdout",
     "output_type": "stream",
     "text": [
      "Collecting torcheval\r\n",
      "  Downloading torcheval-0.0.7-py3-none-any.whl.metadata (8.6 kB)\r\n",
      "Requirement already satisfied: typing-extensions in /opt/conda/lib/python3.10/site-packages (from torcheval) (4.9.0)\r\n",
      "Downloading torcheval-0.0.7-py3-none-any.whl (179 kB)\r\n",
      "\u001b[2K   \u001b[90m━━━━━━━━━━━━━━━━━━━━━━━━━━━━━━━━━━━━━━━━\u001b[0m \u001b[32m179.2/179.2 kB\u001b[0m \u001b[31m4.1 MB/s\u001b[0m eta \u001b[36m0:00:00\u001b[0m\r\n",
      "\u001b[?25hInstalling collected packages: torcheval\r\n",
      "Successfully installed torcheval-0.0.7\r\n"
     ]
    }
   ],
   "source": [
    "!pip install torcheval"
   ]
  },
  {
   "cell_type": "code",
   "execution_count": 2,
   "id": "85c1e0cc",
   "metadata": {
    "execution": {
     "iopub.execute_input": "2024-08-17T02:45:37.025334Z",
     "iopub.status.busy": "2024-08-17T02:45:37.025035Z",
     "iopub.status.idle": "2024-08-17T02:45:49.223701Z",
     "shell.execute_reply": "2024-08-17T02:45:49.222586Z"
    },
    "papermill": {
     "duration": 12.216915,
     "end_time": "2024-08-17T02:45:49.226201",
     "exception": false,
     "start_time": "2024-08-17T02:45:37.009286",
     "status": "completed"
    },
    "tags": []
   },
   "outputs": [],
   "source": [
    "!pip install --quiet wandb"
   ]
  },
  {
   "cell_type": "code",
   "execution_count": 3,
   "id": "05174495",
   "metadata": {
    "execution": {
     "iopub.execute_input": "2024-08-17T02:45:49.260187Z",
     "iopub.status.busy": "2024-08-17T02:45:49.259880Z",
     "iopub.status.idle": "2024-08-17T02:46:01.784724Z",
     "shell.execute_reply": "2024-08-17T02:46:01.783562Z"
    },
    "papermill": {
     "duration": 12.544665,
     "end_time": "2024-08-17T02:46:01.787367",
     "exception": false,
     "start_time": "2024-08-17T02:45:49.242702",
     "status": "completed"
    },
    "tags": []
   },
   "outputs": [],
   "source": [
    "!pip install --quiet --pre timm"
   ]
  },
  {
   "cell_type": "code",
   "execution_count": 4,
   "id": "c9ec34b7",
   "metadata": {
    "execution": {
     "iopub.execute_input": "2024-08-17T02:46:01.820282Z",
     "iopub.status.busy": "2024-08-17T02:46:01.819976Z",
     "iopub.status.idle": "2024-08-17T02:46:05.218872Z",
     "shell.execute_reply": "2024-08-17T02:46:05.217947Z"
    },
    "papermill": {
     "duration": 3.417692,
     "end_time": "2024-08-17T02:46:05.221318",
     "exception": false,
     "start_time": "2024-08-17T02:46:01.803626",
     "status": "completed"
    },
    "tags": []
   },
   "outputs": [
    {
     "name": "stdout",
     "output_type": "stream",
     "text": [
      "\u001b[34m\u001b[1mwandb\u001b[0m: \u001b[33mWARNING\u001b[0m If you're specifying your api key in code, ensure this code is not shared publicly.\r\n",
      "\u001b[34m\u001b[1mwandb\u001b[0m: \u001b[33mWARNING\u001b[0m Consider setting the WANDB_API_KEY environment variable, or running `wandb login` from the command line.\r\n",
      "\u001b[34m\u001b[1mwandb\u001b[0m: Appending key for api.wandb.ai to your netrc file: /root/.netrc\r\n"
     ]
    }
   ],
   "source": [
    "!wandb login 38797e5fb1be476dd3af2891a6182c18cfd5a10a"
   ]
  },
  {
   "cell_type": "code",
   "execution_count": 5,
   "id": "acbf04ad",
   "metadata": {
    "execution": {
     "iopub.execute_input": "2024-08-17T02:46:05.254400Z",
     "iopub.status.busy": "2024-08-17T02:46:05.254089Z",
     "iopub.status.idle": "2024-08-17T02:46:23.284215Z",
     "shell.execute_reply": "2024-08-17T02:46:23.283045Z"
    },
    "papermill": {
     "duration": 18.049537,
     "end_time": "2024-08-17T02:46:23.286943",
     "exception": false,
     "start_time": "2024-08-17T02:46:05.237406",
     "status": "completed"
    },
    "tags": []
   },
   "outputs": [
    {
     "name": "stderr",
     "output_type": "stream",
     "text": [
      "\u001b[34m\u001b[1mwandb\u001b[0m: Currently logged in as: \u001b[33m9-coding-lab\u001b[0m (\u001b[33m9-coding\u001b[0m). Use \u001b[1m`wandb login --relogin`\u001b[0m to force relogin\n",
      "\u001b[34m\u001b[1mwandb\u001b[0m: wandb version 0.17.7 is available!  To upgrade, please run:\n",
      "\u001b[34m\u001b[1mwandb\u001b[0m:  $ pip install wandb --upgrade\n",
      "\u001b[34m\u001b[1mwandb\u001b[0m: Tracking run with wandb version 0.17.4\n",
      "\u001b[34m\u001b[1mwandb\u001b[0m: Run data is saved locally in \u001b[35m\u001b[1m/kaggle/working/wandb/run-20240817_024607-4as83gu2\u001b[0m\n",
      "\u001b[34m\u001b[1mwandb\u001b[0m: Run \u001b[1m`wandb offline`\u001b[0m to turn off syncing.\n",
      "\u001b[34m\u001b[1mwandb\u001b[0m: Syncing run \u001b[33mbreezy-bush-37\u001b[0m\n",
      "\u001b[34m\u001b[1mwandb\u001b[0m: ⭐️ View project at \u001b[34m\u001b[4mhttps://wandb.ai/9-coding/ISIC_2024\u001b[0m\n",
      "\u001b[34m\u001b[1mwandb\u001b[0m: 🚀 View run at \u001b[34m\u001b[4mhttps://wandb.ai/9-coding/ISIC_2024/runs/4as83gu2\u001b[0m\n"
     ]
    }
   ],
   "source": [
    "import wandb\n",
    "wandb.init(project='ISIC_2024')\n",
    "wandb.run.name = 'efficient-b0_lr-0.001_Adam'"
   ]
  },
  {
   "cell_type": "code",
   "execution_count": 6,
   "id": "7141226e",
   "metadata": {
    "execution": {
     "iopub.execute_input": "2024-08-17T02:46:23.323031Z",
     "iopub.status.busy": "2024-08-17T02:46:23.322702Z",
     "iopub.status.idle": "2024-08-17T02:46:31.842031Z",
     "shell.execute_reply": "2024-08-17T02:46:31.841193Z"
    },
    "papermill": {
     "duration": 8.541644,
     "end_time": "2024-08-17T02:46:31.844373",
     "exception": false,
     "start_time": "2024-08-17T02:46:23.302729",
     "status": "completed"
    },
    "tags": []
   },
   "outputs": [],
   "source": [
    "import os\n",
    "import gc\n",
    "import cv2\n",
    "import math\n",
    "import copy\n",
    "import time\n",
    "import random\n",
    "import glob\n",
    "from matplotlib import pyplot as plt\n",
    "\n",
    "# For data manipulation\n",
    "import numpy as np\n",
    "import pandas as pd\n",
    "\n",
    "# Pytorch Imports\n",
    "import torch\n",
    "import torch.nn as nn\n",
    "import torch.optim as optim\n",
    "import torch.nn.functional as F\n",
    "from torch.optim import lr_scheduler\n",
    "from torch.utils.data import Dataset, DataLoader\n",
    "from torch.cuda import amp\n",
    "import torchvision\n",
    "from torcheval.metrics.functional import binary_auroc\n",
    "\n",
    "import torchvision.models as models\n",
    "from sklearn.metrics import roc_auc_score\n",
    "\n",
    "# Utils\n",
    "import joblib\n",
    "from tqdm import tqdm\n",
    "from collections import defaultdict\n",
    "\n",
    "# Sklearn Imports\n",
    "from sklearn.preprocessing import LabelEncoder\n",
    "from sklearn.model_selection import StratifiedKFold, StratifiedGroupKFold \n",
    "\n",
    "# For Image Models\n",
    "import timm\n",
    "\n",
    "# Albumentations for augmentations\n",
    "import albumentations as A\n",
    "from albumentations.pytorch import ToTensorV2\n",
    "\n",
    "# For colored terminal text\n",
    "from colorama import Fore, Back, Style\n",
    "b_ = Fore.BLUE\n",
    "sr_ = Style.RESET_ALL\n",
    "\n",
    "import warnings\n",
    "warnings.filterwarnings(\"ignore\")\n",
    "\n",
    "# For descriptive error messages\n",
    "os.environ['CUDA_LAUNCH_BLOCKING'] = \"1\""
   ]
  },
  {
   "cell_type": "markdown",
   "id": "71d3b6c5",
   "metadata": {
    "papermill": {
     "duration": 0.015174,
     "end_time": "2024-08-17T02:46:31.876370",
     "exception": false,
     "start_time": "2024-08-17T02:46:31.861196",
     "status": "completed"
    },
    "tags": []
   },
   "source": [
    "# <span><h1 style = \"font-family: garamond; font-size: 40px; font-style: normal; letter-spcaing: 3px; background-color: #f6f5f5; color :#fe346e; border-radius: 100px 100px; text-align:center\">Training Configuration ⚙️</h1></span>"
   ]
  },
  {
   "cell_type": "code",
   "execution_count": 7,
   "id": "c3f4f312",
   "metadata": {
    "execution": {
     "iopub.execute_input": "2024-08-17T02:46:31.908233Z",
     "iopub.status.busy": "2024-08-17T02:46:31.907730Z",
     "iopub.status.idle": "2024-08-17T02:46:31.970600Z",
     "shell.execute_reply": "2024-08-17T02:46:31.969827Z"
    },
    "papermill": {
     "duration": 0.080919,
     "end_time": "2024-08-17T02:46:31.972622",
     "exception": false,
     "start_time": "2024-08-17T02:46:31.891703",
     "status": "completed"
    },
    "tags": []
   },
   "outputs": [],
   "source": [
    "CONFIG = {\n",
    "    \"seed\": 42,\n",
    "    \"epochs\": 50,\n",
    "    \"img_size\": 384,\n",
    "    \"model_name\": \"tf_efficientnet_b0_ns\",\n",
    "    \"checkpoint_path\" : \"/kaggle/input/tf-efficientnet/pytorch/tf-efficientnet-b0/1/tf_efficientnet_b0_aa-827b6e33.pth\",\n",
    "    \"train_batch_size\": 32,\n",
    "    \"valid_batch_size\": 64,\n",
    "    \"learning_rate\": 1e-3,\n",
    "    \"scheduler\": 'CosineAnnealingLR',\n",
    "    \"min_lr\": 1e-6,\n",
    "    \"T_max\": 500,\n",
    "    \"weight_decay\": 1e-6,\n",
    "    \"fold\" : 0,\n",
    "    \"n_fold\": 5,\n",
    "    \"n_accumulate\": 1,\n",
    "    \"device\": torch.device(\"cuda:0\" if torch.cuda.is_available() else \"cpu\"),\n",
    "}"
   ]
  },
  {
   "cell_type": "markdown",
   "id": "c5f5b211",
   "metadata": {
    "papermill": {
     "duration": 0.015104,
     "end_time": "2024-08-17T02:46:32.003462",
     "exception": false,
     "start_time": "2024-08-17T02:46:31.988358",
     "status": "completed"
    },
    "tags": []
   },
   "source": [
    "# <span><h1 style = \"font-family: garamond; font-size: 40px; font-style: normal; letter-spcaing: 3px; background-color: #f6f5f5; color :#fe346e; border-radius: 100px 100px; text-align:center\">Set Seed for Reproducibility</h1></span>"
   ]
  },
  {
   "cell_type": "code",
   "execution_count": 8,
   "id": "a5f19c6d",
   "metadata": {
    "execution": {
     "iopub.execute_input": "2024-08-17T02:46:32.035319Z",
     "iopub.status.busy": "2024-08-17T02:46:32.035021Z",
     "iopub.status.idle": "2024-08-17T02:46:32.043469Z",
     "shell.execute_reply": "2024-08-17T02:46:32.042748Z"
    },
    "papermill": {
     "duration": 0.026685,
     "end_time": "2024-08-17T02:46:32.045468",
     "exception": false,
     "start_time": "2024-08-17T02:46:32.018783",
     "status": "completed"
    },
    "tags": []
   },
   "outputs": [],
   "source": [
    "def set_seed(seed=42):\n",
    "    '''Sets the seed of the entire notebook so results are the same every time we run.\n",
    "    This is for REPRODUCIBILITY.'''\n",
    "    np.random.seed(seed)\n",
    "    torch.manual_seed(seed)\n",
    "    torch.cuda.manual_seed(seed)\n",
    "    # When running on the CuDNN backend, two further options must be set\n",
    "    torch.backends.cudnn.deterministic = True\n",
    "    torch.backends.cudnn.benchmark = False\n",
    "    # Set a fixed value for the hash seed\n",
    "    os.environ['PYTHONHASHSEED'] = str(seed)\n",
    "    \n",
    "set_seed(CONFIG['seed'])"
   ]
  },
  {
   "cell_type": "code",
   "execution_count": 9,
   "id": "b23f095f",
   "metadata": {
    "execution": {
     "iopub.execute_input": "2024-08-17T02:46:32.078701Z",
     "iopub.status.busy": "2024-08-17T02:46:32.078415Z",
     "iopub.status.idle": "2024-08-17T02:46:32.082034Z",
     "shell.execute_reply": "2024-08-17T02:46:32.081228Z"
    },
    "papermill": {
     "duration": 0.022511,
     "end_time": "2024-08-17T02:46:32.083916",
     "exception": false,
     "start_time": "2024-08-17T02:46:32.061405",
     "status": "completed"
    },
    "tags": []
   },
   "outputs": [],
   "source": [
    "ROOT_DIR = \"/kaggle/input/isic-2024-challenge\"\n",
    "TRAIN_DIR = f'{ROOT_DIR}/train-image/image'"
   ]
  },
  {
   "cell_type": "code",
   "execution_count": 10,
   "id": "64f56419",
   "metadata": {
    "execution": {
     "iopub.execute_input": "2024-08-17T02:46:32.117246Z",
     "iopub.status.busy": "2024-08-17T02:46:32.116734Z",
     "iopub.status.idle": "2024-08-17T02:46:32.120700Z",
     "shell.execute_reply": "2024-08-17T02:46:32.119820Z"
    },
    "papermill": {
     "duration": 0.022588,
     "end_time": "2024-08-17T02:46:32.122631",
     "exception": false,
     "start_time": "2024-08-17T02:46:32.100043",
     "status": "completed"
    },
    "tags": []
   },
   "outputs": [],
   "source": [
    "def get_train_file_path(image_id):\n",
    "    return f\"{TRAIN_DIR}/{image_id}.jpg\""
   ]
  },
  {
   "cell_type": "markdown",
   "id": "bb3039d9",
   "metadata": {
    "papermill": {
     "duration": 0.015182,
     "end_time": "2024-08-17T02:46:32.154018",
     "exception": false,
     "start_time": "2024-08-17T02:46:32.138836",
     "status": "completed"
    },
    "tags": []
   },
   "source": [
    "# <h1 style = \"font-family: garamond; font-size: 40px; font-style: normal; letter-spcaing: 3px; background-color: #f6f5f5; color :#fe346e; border-radius: 100px 100px; text-align:center\">Read the Data 📖</h1>"
   ]
  },
  {
   "cell_type": "code",
   "execution_count": 11,
   "id": "d61e016d",
   "metadata": {
    "execution": {
     "iopub.execute_input": "2024-08-17T02:46:32.185735Z",
     "iopub.status.busy": "2024-08-17T02:46:32.185460Z",
     "iopub.status.idle": "2024-08-17T02:46:36.207798Z",
     "shell.execute_reply": "2024-08-17T02:46:36.206571Z"
    },
    "papermill": {
     "duration": 4.040899,
     "end_time": "2024-08-17T02:46:36.210282",
     "exception": false,
     "start_time": "2024-08-17T02:46:32.169383",
     "status": "completed"
    },
    "tags": []
   },
   "outputs": [],
   "source": [
    "train_images = sorted(glob.glob(f\"{TRAIN_DIR}/*.jpg\"))"
   ]
  },
  {
   "cell_type": "code",
   "execution_count": 12,
   "id": "338fe106",
   "metadata": {
    "execution": {
     "iopub.execute_input": "2024-08-17T02:46:36.243262Z",
     "iopub.status.busy": "2024-08-17T02:46:36.242938Z",
     "iopub.status.idle": "2024-08-17T02:46:43.525929Z",
     "shell.execute_reply": "2024-08-17T02:46:43.525060Z"
    },
    "papermill": {
     "duration": 7.302235,
     "end_time": "2024-08-17T02:46:43.528364",
     "exception": false,
     "start_time": "2024-08-17T02:46:36.226129",
     "status": "completed"
    },
    "tags": []
   },
   "outputs": [
    {
     "name": "stdout",
     "output_type": "stream",
     "text": [
      "        df.shape, # of positive cases, # of patients\n",
      "original> (401059, 55) 393 (1042,)\n",
      "filtered> (8253, 55) 393 (950,)\n"
     ]
    },
    {
     "data": {
      "text/html": [
       "<div>\n",
       "<style scoped>\n",
       "    .dataframe tbody tr th:only-of-type {\n",
       "        vertical-align: middle;\n",
       "    }\n",
       "\n",
       "    .dataframe tbody tr th {\n",
       "        vertical-align: top;\n",
       "    }\n",
       "\n",
       "    .dataframe thead th {\n",
       "        text-align: right;\n",
       "    }\n",
       "</style>\n",
       "<table border=\"1\" class=\"dataframe\">\n",
       "  <thead>\n",
       "    <tr style=\"text-align: right;\">\n",
       "      <th></th>\n",
       "      <th>isic_id</th>\n",
       "      <th>target</th>\n",
       "      <th>patient_id</th>\n",
       "      <th>age_approx</th>\n",
       "      <th>sex</th>\n",
       "      <th>anatom_site_general</th>\n",
       "      <th>clin_size_long_diam_mm</th>\n",
       "      <th>image_type</th>\n",
       "      <th>tbp_tile_type</th>\n",
       "      <th>tbp_lv_A</th>\n",
       "      <th>...</th>\n",
       "      <th>iddx_full</th>\n",
       "      <th>iddx_1</th>\n",
       "      <th>iddx_2</th>\n",
       "      <th>iddx_3</th>\n",
       "      <th>iddx_4</th>\n",
       "      <th>iddx_5</th>\n",
       "      <th>mel_mitotic_index</th>\n",
       "      <th>mel_thick_mm</th>\n",
       "      <th>tbp_lv_dnn_lesion_confidence</th>\n",
       "      <th>file_path</th>\n",
       "    </tr>\n",
       "  </thead>\n",
       "  <tbody>\n",
       "    <tr>\n",
       "      <th>0</th>\n",
       "      <td>ISIC_0082829</td>\n",
       "      <td>1</td>\n",
       "      <td>IP_3249371</td>\n",
       "      <td>80.0</td>\n",
       "      <td>female</td>\n",
       "      <td>anterior torso</td>\n",
       "      <td>9.27</td>\n",
       "      <td>TBP tile: close-up</td>\n",
       "      <td>3D: XP</td>\n",
       "      <td>18.093368</td>\n",
       "      <td>...</td>\n",
       "      <td>Malignant::Malignant epidermal proliferations:...</td>\n",
       "      <td>Malignant</td>\n",
       "      <td>Malignant epidermal proliferations</td>\n",
       "      <td>Squamous cell carcinoma in situ</td>\n",
       "      <td>NaN</td>\n",
       "      <td>NaN</td>\n",
       "      <td>NaN</td>\n",
       "      <td>NaN</td>\n",
       "      <td>72.211683</td>\n",
       "      <td>/kaggle/input/isic-2024-challenge/train-image/...</td>\n",
       "    </tr>\n",
       "    <tr>\n",
       "      <th>1</th>\n",
       "      <td>ISIC_0096034</td>\n",
       "      <td>1</td>\n",
       "      <td>IP_6723298</td>\n",
       "      <td>75.0</td>\n",
       "      <td>male</td>\n",
       "      <td>head/neck</td>\n",
       "      <td>3.88</td>\n",
       "      <td>TBP tile: close-up</td>\n",
       "      <td>3D: white</td>\n",
       "      <td>26.187010</td>\n",
       "      <td>...</td>\n",
       "      <td>Malignant::Malignant adnexal epithelial prolif...</td>\n",
       "      <td>Malignant</td>\n",
       "      <td>Malignant adnexal epithelial proliferations - ...</td>\n",
       "      <td>Basal cell carcinoma</td>\n",
       "      <td>Basal cell carcinoma, Nodular</td>\n",
       "      <td>NaN</td>\n",
       "      <td>NaN</td>\n",
       "      <td>NaN</td>\n",
       "      <td>94.559590</td>\n",
       "      <td>/kaggle/input/isic-2024-challenge/train-image/...</td>\n",
       "    </tr>\n",
       "    <tr>\n",
       "      <th>2</th>\n",
       "      <td>ISIC_0104229</td>\n",
       "      <td>1</td>\n",
       "      <td>IP_9057861</td>\n",
       "      <td>80.0</td>\n",
       "      <td>male</td>\n",
       "      <td>anterior torso</td>\n",
       "      <td>6.55</td>\n",
       "      <td>TBP tile: close-up</td>\n",
       "      <td>3D: white</td>\n",
       "      <td>33.480140</td>\n",
       "      <td>...</td>\n",
       "      <td>Malignant::Malignant adnexal epithelial prolif...</td>\n",
       "      <td>Malignant</td>\n",
       "      <td>Malignant adnexal epithelial proliferations - ...</td>\n",
       "      <td>Basal cell carcinoma</td>\n",
       "      <td>Basal cell carcinoma, Nodular</td>\n",
       "      <td>NaN</td>\n",
       "      <td>NaN</td>\n",
       "      <td>NaN</td>\n",
       "      <td>66.196170</td>\n",
       "      <td>/kaggle/input/isic-2024-challenge/train-image/...</td>\n",
       "    </tr>\n",
       "    <tr>\n",
       "      <th>3</th>\n",
       "      <td>ISIC_0119495</td>\n",
       "      <td>1</td>\n",
       "      <td>IP_6856511</td>\n",
       "      <td>60.0</td>\n",
       "      <td>male</td>\n",
       "      <td>upper extremity</td>\n",
       "      <td>5.27</td>\n",
       "      <td>TBP tile: close-up</td>\n",
       "      <td>3D: white</td>\n",
       "      <td>25.872050</td>\n",
       "      <td>...</td>\n",
       "      <td>Malignant::Malignant epidermal proliferations:...</td>\n",
       "      <td>Malignant</td>\n",
       "      <td>Malignant epidermal proliferations</td>\n",
       "      <td>Squamous cell carcinoma, Invasive</td>\n",
       "      <td>NaN</td>\n",
       "      <td>NaN</td>\n",
       "      <td>NaN</td>\n",
       "      <td>NaN</td>\n",
       "      <td>99.991270</td>\n",
       "      <td>/kaggle/input/isic-2024-challenge/train-image/...</td>\n",
       "    </tr>\n",
       "    <tr>\n",
       "      <th>4</th>\n",
       "      <td>ISIC_0157834</td>\n",
       "      <td>1</td>\n",
       "      <td>IP_3927284</td>\n",
       "      <td>55.0</td>\n",
       "      <td>male</td>\n",
       "      <td>posterior torso</td>\n",
       "      <td>5.29</td>\n",
       "      <td>TBP tile: close-up</td>\n",
       "      <td>3D: white</td>\n",
       "      <td>30.966662</td>\n",
       "      <td>...</td>\n",
       "      <td>Malignant::Malignant adnexal epithelial prolif...</td>\n",
       "      <td>Malignant</td>\n",
       "      <td>Malignant adnexal epithelial proliferations - ...</td>\n",
       "      <td>Basal cell carcinoma</td>\n",
       "      <td>Basal cell carcinoma, Superficial</td>\n",
       "      <td>NaN</td>\n",
       "      <td>NaN</td>\n",
       "      <td>NaN</td>\n",
       "      <td>99.960846</td>\n",
       "      <td>/kaggle/input/isic-2024-challenge/train-image/...</td>\n",
       "    </tr>\n",
       "    <tr>\n",
       "      <th>...</th>\n",
       "      <td>...</td>\n",
       "      <td>...</td>\n",
       "      <td>...</td>\n",
       "      <td>...</td>\n",
       "      <td>...</td>\n",
       "      <td>...</td>\n",
       "      <td>...</td>\n",
       "      <td>...</td>\n",
       "      <td>...</td>\n",
       "      <td>...</td>\n",
       "      <td>...</td>\n",
       "      <td>...</td>\n",
       "      <td>...</td>\n",
       "      <td>...</td>\n",
       "      <td>...</td>\n",
       "      <td>...</td>\n",
       "      <td>...</td>\n",
       "      <td>...</td>\n",
       "      <td>...</td>\n",
       "      <td>...</td>\n",
       "      <td>...</td>\n",
       "    </tr>\n",
       "    <tr>\n",
       "      <th>8248</th>\n",
       "      <td>ISIC_0267522</td>\n",
       "      <td>0</td>\n",
       "      <td>IP_9577633</td>\n",
       "      <td>50.0</td>\n",
       "      <td>male</td>\n",
       "      <td>lower extremity</td>\n",
       "      <td>4.94</td>\n",
       "      <td>TBP tile: close-up</td>\n",
       "      <td>3D: XP</td>\n",
       "      <td>21.738880</td>\n",
       "      <td>...</td>\n",
       "      <td>Benign</td>\n",
       "      <td>Benign</td>\n",
       "      <td>NaN</td>\n",
       "      <td>NaN</td>\n",
       "      <td>NaN</td>\n",
       "      <td>NaN</td>\n",
       "      <td>NaN</td>\n",
       "      <td>NaN</td>\n",
       "      <td>96.325510</td>\n",
       "      <td>/kaggle/input/isic-2024-challenge/train-image/...</td>\n",
       "    </tr>\n",
       "    <tr>\n",
       "      <th>8249</th>\n",
       "      <td>ISIC_0267560</td>\n",
       "      <td>0</td>\n",
       "      <td>IP_7746572</td>\n",
       "      <td>80.0</td>\n",
       "      <td>male</td>\n",
       "      <td>anterior torso</td>\n",
       "      <td>9.32</td>\n",
       "      <td>TBP tile: close-up</td>\n",
       "      <td>3D: white</td>\n",
       "      <td>18.481750</td>\n",
       "      <td>...</td>\n",
       "      <td>Benign</td>\n",
       "      <td>Benign</td>\n",
       "      <td>NaN</td>\n",
       "      <td>NaN</td>\n",
       "      <td>NaN</td>\n",
       "      <td>NaN</td>\n",
       "      <td>NaN</td>\n",
       "      <td>NaN</td>\n",
       "      <td>97.022320</td>\n",
       "      <td>/kaggle/input/isic-2024-challenge/train-image/...</td>\n",
       "    </tr>\n",
       "    <tr>\n",
       "      <th>8250</th>\n",
       "      <td>ISIC_0267568</td>\n",
       "      <td>0</td>\n",
       "      <td>IP_0379091</td>\n",
       "      <td>60.0</td>\n",
       "      <td>male</td>\n",
       "      <td>anterior torso</td>\n",
       "      <td>3.45</td>\n",
       "      <td>TBP tile: close-up</td>\n",
       "      <td>3D: white</td>\n",
       "      <td>13.901465</td>\n",
       "      <td>...</td>\n",
       "      <td>Benign</td>\n",
       "      <td>Benign</td>\n",
       "      <td>NaN</td>\n",
       "      <td>NaN</td>\n",
       "      <td>NaN</td>\n",
       "      <td>NaN</td>\n",
       "      <td>NaN</td>\n",
       "      <td>NaN</td>\n",
       "      <td>72.961688</td>\n",
       "      <td>/kaggle/input/isic-2024-challenge/train-image/...</td>\n",
       "    </tr>\n",
       "    <tr>\n",
       "      <th>8251</th>\n",
       "      <td>ISIC_0267594</td>\n",
       "      <td>0</td>\n",
       "      <td>IP_1433033</td>\n",
       "      <td>70.0</td>\n",
       "      <td>NaN</td>\n",
       "      <td>lower extremity</td>\n",
       "      <td>3.00</td>\n",
       "      <td>TBP tile: close-up</td>\n",
       "      <td>3D: XP</td>\n",
       "      <td>17.986882</td>\n",
       "      <td>...</td>\n",
       "      <td>Benign</td>\n",
       "      <td>Benign</td>\n",
       "      <td>NaN</td>\n",
       "      <td>NaN</td>\n",
       "      <td>NaN</td>\n",
       "      <td>NaN</td>\n",
       "      <td>NaN</td>\n",
       "      <td>NaN</td>\n",
       "      <td>99.899274</td>\n",
       "      <td>/kaggle/input/isic-2024-challenge/train-image/...</td>\n",
       "    </tr>\n",
       "    <tr>\n",
       "      <th>8252</th>\n",
       "      <td>ISIC_0267606</td>\n",
       "      <td>0</td>\n",
       "      <td>IP_8565023</td>\n",
       "      <td>30.0</td>\n",
       "      <td>male</td>\n",
       "      <td>head/neck</td>\n",
       "      <td>3.10</td>\n",
       "      <td>TBP tile: close-up</td>\n",
       "      <td>3D: XP</td>\n",
       "      <td>13.420060</td>\n",
       "      <td>...</td>\n",
       "      <td>Benign</td>\n",
       "      <td>Benign</td>\n",
       "      <td>NaN</td>\n",
       "      <td>NaN</td>\n",
       "      <td>NaN</td>\n",
       "      <td>NaN</td>\n",
       "      <td>NaN</td>\n",
       "      <td>NaN</td>\n",
       "      <td>99.449560</td>\n",
       "      <td>/kaggle/input/isic-2024-challenge/train-image/...</td>\n",
       "    </tr>\n",
       "  </tbody>\n",
       "</table>\n",
       "<p>8253 rows × 56 columns</p>\n",
       "</div>"
      ],
      "text/plain": [
       "           isic_id  target  patient_id  age_approx     sex  \\\n",
       "0     ISIC_0082829       1  IP_3249371        80.0  female   \n",
       "1     ISIC_0096034       1  IP_6723298        75.0    male   \n",
       "2     ISIC_0104229       1  IP_9057861        80.0    male   \n",
       "3     ISIC_0119495       1  IP_6856511        60.0    male   \n",
       "4     ISIC_0157834       1  IP_3927284        55.0    male   \n",
       "...            ...     ...         ...         ...     ...   \n",
       "8248  ISIC_0267522       0  IP_9577633        50.0    male   \n",
       "8249  ISIC_0267560       0  IP_7746572        80.0    male   \n",
       "8250  ISIC_0267568       0  IP_0379091        60.0    male   \n",
       "8251  ISIC_0267594       0  IP_1433033        70.0     NaN   \n",
       "8252  ISIC_0267606       0  IP_8565023        30.0    male   \n",
       "\n",
       "     anatom_site_general  clin_size_long_diam_mm          image_type  \\\n",
       "0         anterior torso                    9.27  TBP tile: close-up   \n",
       "1              head/neck                    3.88  TBP tile: close-up   \n",
       "2         anterior torso                    6.55  TBP tile: close-up   \n",
       "3        upper extremity                    5.27  TBP tile: close-up   \n",
       "4        posterior torso                    5.29  TBP tile: close-up   \n",
       "...                  ...                     ...                 ...   \n",
       "8248     lower extremity                    4.94  TBP tile: close-up   \n",
       "8249      anterior torso                    9.32  TBP tile: close-up   \n",
       "8250      anterior torso                    3.45  TBP tile: close-up   \n",
       "8251     lower extremity                    3.00  TBP tile: close-up   \n",
       "8252           head/neck                    3.10  TBP tile: close-up   \n",
       "\n",
       "     tbp_tile_type   tbp_lv_A  ...  \\\n",
       "0           3D: XP  18.093368  ...   \n",
       "1        3D: white  26.187010  ...   \n",
       "2        3D: white  33.480140  ...   \n",
       "3        3D: white  25.872050  ...   \n",
       "4        3D: white  30.966662  ...   \n",
       "...            ...        ...  ...   \n",
       "8248        3D: XP  21.738880  ...   \n",
       "8249     3D: white  18.481750  ...   \n",
       "8250     3D: white  13.901465  ...   \n",
       "8251        3D: XP  17.986882  ...   \n",
       "8252        3D: XP  13.420060  ...   \n",
       "\n",
       "                                              iddx_full     iddx_1  \\\n",
       "0     Malignant::Malignant epidermal proliferations:...  Malignant   \n",
       "1     Malignant::Malignant adnexal epithelial prolif...  Malignant   \n",
       "2     Malignant::Malignant adnexal epithelial prolif...  Malignant   \n",
       "3     Malignant::Malignant epidermal proliferations:...  Malignant   \n",
       "4     Malignant::Malignant adnexal epithelial prolif...  Malignant   \n",
       "...                                                 ...        ...   \n",
       "8248                                             Benign     Benign   \n",
       "8249                                             Benign     Benign   \n",
       "8250                                             Benign     Benign   \n",
       "8251                                             Benign     Benign   \n",
       "8252                                             Benign     Benign   \n",
       "\n",
       "                                                 iddx_2  \\\n",
       "0                    Malignant epidermal proliferations   \n",
       "1     Malignant adnexal epithelial proliferations - ...   \n",
       "2     Malignant adnexal epithelial proliferations - ...   \n",
       "3                    Malignant epidermal proliferations   \n",
       "4     Malignant adnexal epithelial proliferations - ...   \n",
       "...                                                 ...   \n",
       "8248                                                NaN   \n",
       "8249                                                NaN   \n",
       "8250                                                NaN   \n",
       "8251                                                NaN   \n",
       "8252                                                NaN   \n",
       "\n",
       "                                 iddx_3                             iddx_4  \\\n",
       "0       Squamous cell carcinoma in situ                                NaN   \n",
       "1                  Basal cell carcinoma      Basal cell carcinoma, Nodular   \n",
       "2                  Basal cell carcinoma      Basal cell carcinoma, Nodular   \n",
       "3     Squamous cell carcinoma, Invasive                                NaN   \n",
       "4                  Basal cell carcinoma  Basal cell carcinoma, Superficial   \n",
       "...                                 ...                                ...   \n",
       "8248                                NaN                                NaN   \n",
       "8249                                NaN                                NaN   \n",
       "8250                                NaN                                NaN   \n",
       "8251                                NaN                                NaN   \n",
       "8252                                NaN                                NaN   \n",
       "\n",
       "      iddx_5  mel_mitotic_index  mel_thick_mm  tbp_lv_dnn_lesion_confidence  \\\n",
       "0        NaN                NaN           NaN                     72.211683   \n",
       "1        NaN                NaN           NaN                     94.559590   \n",
       "2        NaN                NaN           NaN                     66.196170   \n",
       "3        NaN                NaN           NaN                     99.991270   \n",
       "4        NaN                NaN           NaN                     99.960846   \n",
       "...      ...                ...           ...                           ...   \n",
       "8248     NaN                NaN           NaN                     96.325510   \n",
       "8249     NaN                NaN           NaN                     97.022320   \n",
       "8250     NaN                NaN           NaN                     72.961688   \n",
       "8251     NaN                NaN           NaN                     99.899274   \n",
       "8252     NaN                NaN           NaN                     99.449560   \n",
       "\n",
       "                                              file_path  \n",
       "0     /kaggle/input/isic-2024-challenge/train-image/...  \n",
       "1     /kaggle/input/isic-2024-challenge/train-image/...  \n",
       "2     /kaggle/input/isic-2024-challenge/train-image/...  \n",
       "3     /kaggle/input/isic-2024-challenge/train-image/...  \n",
       "4     /kaggle/input/isic-2024-challenge/train-image/...  \n",
       "...                                                 ...  \n",
       "8248  /kaggle/input/isic-2024-challenge/train-image/...  \n",
       "8249  /kaggle/input/isic-2024-challenge/train-image/...  \n",
       "8250  /kaggle/input/isic-2024-challenge/train-image/...  \n",
       "8251  /kaggle/input/isic-2024-challenge/train-image/...  \n",
       "8252  /kaggle/input/isic-2024-challenge/train-image/...  \n",
       "\n",
       "[8253 rows x 56 columns]"
      ]
     },
     "execution_count": 12,
     "metadata": {},
     "output_type": "execute_result"
    }
   ],
   "source": [
    "df = pd.read_csv(f\"{ROOT_DIR}/train-metadata.csv\")\n",
    "\n",
    "print(\"        df.shape, # of positive cases, # of patients\")\n",
    "print(\"original>\", df.shape, df.target.sum(), df[\"patient_id\"].unique().shape)\n",
    "\n",
    "df_positive = df[df[\"target\"] == 1].reset_index(drop=True)\n",
    "df_negative = df[df[\"target\"] == 0].reset_index(drop=True)\n",
    "\n",
    "df = pd.concat([df_positive, df_negative.iloc[:df_positive.shape[0]*20, :]])  # positive:negative = 1:20\n",
    "print(\"filtered>\", df.shape, df.target.sum(), df[\"patient_id\"].unique().shape)\n",
    "\n",
    "df['file_path'] = df['isic_id'].apply(get_train_file_path)\n",
    "df = df[ df[\"file_path\"].isin(train_images) ].reset_index(drop=True)\n",
    "df"
   ]
  },
  {
   "cell_type": "code",
   "execution_count": 13,
   "id": "74e057a7",
   "metadata": {
    "execution": {
     "iopub.execute_input": "2024-08-17T02:46:43.563178Z",
     "iopub.status.busy": "2024-08-17T02:46:43.562903Z",
     "iopub.status.idle": "2024-08-17T02:46:43.568820Z",
     "shell.execute_reply": "2024-08-17T02:46:43.567966Z"
    },
    "papermill": {
     "duration": 0.025159,
     "end_time": "2024-08-17T02:46:43.570679",
     "exception": false,
     "start_time": "2024-08-17T02:46:43.545520",
     "status": "completed"
    },
    "tags": []
   },
   "outputs": [
    {
     "data": {
      "text/plain": [
       "(8253, 393)"
      ]
     },
     "execution_count": 13,
     "metadata": {},
     "output_type": "execute_result"
    }
   ],
   "source": [
    "df.shape[0], df.target.sum()"
   ]
  },
  {
   "cell_type": "code",
   "execution_count": 14,
   "id": "3e0f1fd7",
   "metadata": {
    "execution": {
     "iopub.execute_input": "2024-08-17T02:46:43.603851Z",
     "iopub.status.busy": "2024-08-17T02:46:43.603566Z",
     "iopub.status.idle": "2024-08-17T02:46:43.609549Z",
     "shell.execute_reply": "2024-08-17T02:46:43.608772Z"
    },
    "papermill": {
     "duration": 0.024803,
     "end_time": "2024-08-17T02:46:43.611396",
     "exception": false,
     "start_time": "2024-08-17T02:46:43.586593",
     "status": "completed"
    },
    "tags": []
   },
   "outputs": [
    {
     "data": {
      "text/plain": [
       "10316"
      ]
     },
     "execution_count": 14,
     "metadata": {},
     "output_type": "execute_result"
    }
   ],
   "source": [
    "CONFIG['T_max'] = df.shape[0] * (CONFIG[\"n_fold\"]-1) * CONFIG['epochs'] // CONFIG['train_batch_size'] // CONFIG[\"n_fold\"]\n",
    "CONFIG['T_max']"
   ]
  },
  {
   "cell_type": "markdown",
   "id": "029baa8a",
   "metadata": {
    "papermill": {
     "duration": 0.016193,
     "end_time": "2024-08-17T02:46:43.643885",
     "exception": false,
     "start_time": "2024-08-17T02:46:43.627692",
     "status": "completed"
    },
    "tags": []
   },
   "source": [
    "# <span><h1 style = \"font-family: garamond; font-size: 40px; font-style: normal; letter-spcaing: 3px; background-color: #f6f5f5; color :#fe346e; border-radius: 100px 100px; text-align:center\">Create Folds</h1></span>"
   ]
  },
  {
   "cell_type": "code",
   "execution_count": 15,
   "id": "0b16b4f7",
   "metadata": {
    "execution": {
     "iopub.execute_input": "2024-08-17T02:46:43.677562Z",
     "iopub.status.busy": "2024-08-17T02:46:43.677301Z",
     "iopub.status.idle": "2024-08-17T02:46:44.138570Z",
     "shell.execute_reply": "2024-08-17T02:46:44.137621Z"
    },
    "papermill": {
     "duration": 0.48081,
     "end_time": "2024-08-17T02:46:44.140957",
     "exception": false,
     "start_time": "2024-08-17T02:46:43.660147",
     "status": "completed"
    },
    "tags": []
   },
   "outputs": [],
   "source": [
    "sgkf = StratifiedGroupKFold(n_splits=CONFIG['n_fold'])\n",
    "\n",
    "for fold, ( _, val_) in enumerate(sgkf.split(df, df.target,df.patient_id)):\n",
    "      df.loc[val_ , \"kfold\"] = int(fold)"
   ]
  },
  {
   "cell_type": "markdown",
   "id": "9762b956",
   "metadata": {
    "papermill": {
     "duration": 0.016695,
     "end_time": "2024-08-17T02:46:44.174846",
     "exception": false,
     "start_time": "2024-08-17T02:46:44.158151",
     "status": "completed"
    },
    "tags": []
   },
   "source": [
    "# <span><h1 style = \"font-family: garamond; font-size: 40px; font-style: normal; letter-spcaing: 3px; background-color: #f6f5f5; color :#fe346e; border-radius: 100px 100px; text-align:center\">Dataset Class</h1></span>"
   ]
  },
  {
   "cell_type": "code",
   "execution_count": 16,
   "id": "e465687f",
   "metadata": {
    "execution": {
     "iopub.execute_input": "2024-08-17T02:46:44.250589Z",
     "iopub.status.busy": "2024-08-17T02:46:44.250184Z",
     "iopub.status.idle": "2024-08-17T02:46:44.263553Z",
     "shell.execute_reply": "2024-08-17T02:46:44.262641Z"
    },
    "papermill": {
     "duration": 0.074075,
     "end_time": "2024-08-17T02:46:44.265460",
     "exception": false,
     "start_time": "2024-08-17T02:46:44.191385",
     "status": "completed"
    },
    "tags": []
   },
   "outputs": [],
   "source": [
    "class ISICDataset_for_Train(Dataset):\n",
    "    def __init__(self, df, transforms=None):\n",
    "        self.df_positive = df[df[\"target\"] == 1].reset_index()\n",
    "        self.df_negative = df[df[\"target\"] == 0].reset_index()\n",
    "        self.file_names_positive = self.df_positive['file_path'].values\n",
    "        self.file_names_negative = self.df_negative['file_path'].values\n",
    "        self.targets_positive = self.df_positive['target'].values\n",
    "        self.targets_negative = self.df_negative['target'].values\n",
    "        self.transforms = transforms\n",
    "        \n",
    "    def __len__(self):\n",
    "        return len(self.df_positive) * 2\n",
    "    \n",
    "    def __getitem__(self, index):\n",
    "        if random.random() >= 0.5:\n",
    "            df = self.df_positive\n",
    "            file_names = self.file_names_positive\n",
    "            targets = self.targets_positive\n",
    "        else:\n",
    "            df = self.df_negative\n",
    "            file_names = self.file_names_negative\n",
    "            targets = self.targets_negative\n",
    "        index = index % df.shape[0]\n",
    "        \n",
    "        img_path = file_names[index]\n",
    "        img = cv2.imread(img_path)\n",
    "        img = cv2.cvtColor(img, cv2.COLOR_BGR2RGB)\n",
    "        target = targets[index]\n",
    "        \n",
    "        if self.transforms:\n",
    "            img = self.transforms(image=img)[\"image\"]\n",
    "            \n",
    "        return {\n",
    "            'image': img,\n",
    "            'target': target\n",
    "        }\n",
    "    \n",
    "class ISICDataset(Dataset):\n",
    "    def __init__(self, df, transforms=None):\n",
    "        self.df = df\n",
    "        self.file_names = df['file_path'].values\n",
    "        self.targets = df['target'].values\n",
    "        self.transforms = transforms\n",
    "        \n",
    "    def __len__(self):\n",
    "        return len(self.df)\n",
    "    \n",
    "    def __getitem__(self, index):\n",
    "        img_path = self.file_names[index]\n",
    "        img = cv2.imread(img_path)\n",
    "        img = cv2.cvtColor(img, cv2.COLOR_BGR2RGB)\n",
    "        target = self.targets[index]\n",
    "        \n",
    "        if self.transforms:\n",
    "            img = self.transforms(image=img)[\"image\"]\n",
    "            \n",
    "        return {\n",
    "            'image': img,\n",
    "            'target': target\n",
    "        }"
   ]
  },
  {
   "cell_type": "markdown",
   "id": "843b3508",
   "metadata": {
    "papermill": {
     "duration": 0.016059,
     "end_time": "2024-08-17T02:46:44.298129",
     "exception": false,
     "start_time": "2024-08-17T02:46:44.282070",
     "status": "completed"
    },
    "tags": []
   },
   "source": [
    "# <span><h1 style = \"font-family: garamond; font-size: 40px; font-style: normal; letter-spcaing: 3px; background-color: #f6f5f5; color :#fe346e; border-radius: 100px 100px; text-align:center\">Augmentations</h1></span>"
   ]
  },
  {
   "cell_type": "code",
   "execution_count": 17,
   "id": "9bf391cc",
   "metadata": {
    "execution": {
     "iopub.execute_input": "2024-08-17T02:46:44.332346Z",
     "iopub.status.busy": "2024-08-17T02:46:44.332031Z",
     "iopub.status.idle": "2024-08-17T02:46:44.341417Z",
     "shell.execute_reply": "2024-08-17T02:46:44.340439Z"
    },
    "papermill": {
     "duration": 0.029221,
     "end_time": "2024-08-17T02:46:44.343684",
     "exception": false,
     "start_time": "2024-08-17T02:46:44.314463",
     "status": "completed"
    },
    "tags": []
   },
   "outputs": [],
   "source": [
    "data_transforms = {\n",
    "    \"train\": A.Compose([\n",
    "        A.Resize(CONFIG['img_size'], CONFIG['img_size']),\n",
    "        A.RandomRotate90(p=0.5),\n",
    "        A.Flip(p=0.5),\n",
    "        A.Downscale(p=0.25),\n",
    "        A.ShiftScaleRotate(shift_limit=0.1, \n",
    "                           scale_limit=0.15, \n",
    "                           rotate_limit=60, \n",
    "                           p=0.5),\n",
    "        A.HueSaturationValue(\n",
    "                hue_shift_limit=0.2, \n",
    "                sat_shift_limit=0.2, \n",
    "                val_shift_limit=0.2, \n",
    "                p=0.5\n",
    "            ),\n",
    "        A.RandomBrightnessContrast(\n",
    "                brightness_limit=(-0.1,0.1), \n",
    "                contrast_limit=(-0.1, 0.1), \n",
    "                p=0.5\n",
    "            ),\n",
    "        A.Normalize(\n",
    "                mean=[0.485, 0.456, 0.406], \n",
    "                std=[0.229, 0.224, 0.225], \n",
    "                max_pixel_value=255.0, \n",
    "                p=1.0\n",
    "            ),\n",
    "        ToTensorV2()], p=1.),\n",
    "    \n",
    "    \"valid\": A.Compose([\n",
    "        A.Resize(CONFIG['img_size'], CONFIG['img_size']),\n",
    "        A.Normalize(\n",
    "                mean=[0.485, 0.456, 0.406], \n",
    "                std=[0.229, 0.224, 0.225], \n",
    "                max_pixel_value=255.0, \n",
    "                p=1.0\n",
    "            ),\n",
    "        ToTensorV2()], p=1.)\n",
    "}"
   ]
  },
  {
   "cell_type": "markdown",
   "id": "9572eb60",
   "metadata": {
    "papermill": {
     "duration": 0.017057,
     "end_time": "2024-08-17T02:46:44.378298",
     "exception": false,
     "start_time": "2024-08-17T02:46:44.361241",
     "status": "completed"
    },
    "tags": []
   },
   "source": [
    "# <span><h1 style = \"font-family: garamond; font-size: 40px; font-style: normal; letter-spcaing: 3px; background-color: #f6f5f5; color :#fe346e; border-radius: 100px 100px; text-align:center\">GeM Pooling</h1></span>"
   ]
  },
  {
   "cell_type": "code",
   "execution_count": 18,
   "id": "f65cc1d9",
   "metadata": {
    "execution": {
     "iopub.execute_input": "2024-08-17T02:46:44.414808Z",
     "iopub.status.busy": "2024-08-17T02:46:44.414489Z",
     "iopub.status.idle": "2024-08-17T02:46:44.422458Z",
     "shell.execute_reply": "2024-08-17T02:46:44.421569Z"
    },
    "papermill": {
     "duration": 0.028743,
     "end_time": "2024-08-17T02:46:44.424424",
     "exception": false,
     "start_time": "2024-08-17T02:46:44.395681",
     "status": "completed"
    },
    "tags": []
   },
   "outputs": [],
   "source": [
    "class GeM(nn.Module):\n",
    "    def __init__(self, p=3, eps=1e-6):\n",
    "        super(GeM, self).__init__()\n",
    "        self.p = nn.Parameter(torch.ones(1)*p)\n",
    "        self.eps = eps\n",
    "\n",
    "    def forward(self, x):\n",
    "        return self.gem(x, p=self.p, eps=self.eps)\n",
    "        \n",
    "    def gem(self, x, p=3, eps=1e-6):\n",
    "        return F.avg_pool2d(x.clamp(min=eps).pow(p), (x.size(-2), x.size(-1))).pow(1./p)\n",
    "        \n",
    "    def __repr__(self):\n",
    "        return self.__class__.__name__ + \\\n",
    "                '(' + 'p=' + '{:.4f}'.format(self.p.data.tolist()[0]) + \\\n",
    "                ', ' + 'eps=' + str(self.eps) + ')'"
   ]
  },
  {
   "cell_type": "markdown",
   "id": "9b3b9e10",
   "metadata": {
    "papermill": {
     "duration": 0.016411,
     "end_time": "2024-08-17T02:46:44.459110",
     "exception": false,
     "start_time": "2024-08-17T02:46:44.442699",
     "status": "completed"
    },
    "tags": []
   },
   "source": [
    "# <span><h1 style = \"font-family: garamond; font-size: 40px; font-style: normal; letter-spcaing: 3px; background-color: #f6f5f5; color :#fe346e; border-radius: 100px 100px; text-align:center\">Create Model</h1></span>"
   ]
  },
  {
   "cell_type": "code",
   "execution_count": 19,
   "id": "b53b855e",
   "metadata": {
    "execution": {
     "iopub.execute_input": "2024-08-17T02:46:44.493042Z",
     "iopub.status.busy": "2024-08-17T02:46:44.492290Z",
     "iopub.status.idle": "2024-08-17T02:46:45.540083Z",
     "shell.execute_reply": "2024-08-17T02:46:45.539140Z"
    },
    "papermill": {
     "duration": 1.06691,
     "end_time": "2024-08-17T02:46:45.542191",
     "exception": false,
     "start_time": "2024-08-17T02:46:44.475281",
     "status": "completed"
    },
    "tags": []
   },
   "outputs": [
    {
     "data": {
      "application/vnd.jupyter.widget-view+json": {
       "model_id": "ac163be835b3411a9ec8f67caece2a14",
       "version_major": 2,
       "version_minor": 0
      },
      "text/plain": [
       "model.safetensors:   0%|          | 0.00/21.4M [00:00<?, ?B/s]"
      ]
     },
     "metadata": {},
     "output_type": "display_data"
    },
    {
     "data": {
      "text/plain": [
       "[]"
      ]
     },
     "execution_count": 19,
     "metadata": {},
     "output_type": "execute_result"
    }
   ],
   "source": [
    "class ISICModel(nn.Module):\n",
    "    def __init__(self, model_name, num_classes=1, pretrained=True, checkpoint_path=None):\n",
    "        super(ISICModel, self).__init__()\n",
    "        self.model = timm.create_model(model_name, pretrained=pretrained, checkpoint_path=checkpoint_path)\n",
    "\n",
    "        in_features = self.model.classifier.in_features\n",
    "        self.model.classifier = nn.Identity()\n",
    "        self.model.global_pool = nn.Identity()\n",
    "        self.pooling = GeM()\n",
    "        self.linear = nn.Linear(in_features, num_classes)\n",
    "        self.sigmoid = nn.Sigmoid()\n",
    "\n",
    "    def forward(self, images):\n",
    "        features = self.model(images)\n",
    "        pooled_features = self.pooling(features).flatten(1)\n",
    "        output = self.sigmoid(self.linear(pooled_features))\n",
    "        return output\n",
    "\n",
    "model = ISICModel(CONFIG['model_name'], checkpoint_path=CONFIG['checkpoint_path'])\n",
    "model.to(CONFIG['device']);\n",
    "wandb.watch(model, log=\"all\")"
   ]
  },
  {
   "cell_type": "markdown",
   "id": "a3b373e7",
   "metadata": {
    "papermill": {
     "duration": 0.016417,
     "end_time": "2024-08-17T02:46:45.575877",
     "exception": false,
     "start_time": "2024-08-17T02:46:45.559460",
     "status": "completed"
    },
    "tags": []
   },
   "source": [
    "# <span><h1 style = \"font-family: garamond; font-size: 40px; font-style: normal; letter-spcaing: 3px; background-color: #f6f5f5; color :#fe346e; border-radius: 100px 100px; text-align:center\">Loss Function</h1></span>"
   ]
  },
  {
   "cell_type": "code",
   "execution_count": 20,
   "id": "97d72cf3",
   "metadata": {
    "execution": {
     "iopub.execute_input": "2024-08-17T02:46:45.610356Z",
     "iopub.status.busy": "2024-08-17T02:46:45.610039Z",
     "iopub.status.idle": "2024-08-17T02:46:45.614275Z",
     "shell.execute_reply": "2024-08-17T02:46:45.613488Z"
    },
    "papermill": {
     "duration": 0.023665,
     "end_time": "2024-08-17T02:46:45.616166",
     "exception": false,
     "start_time": "2024-08-17T02:46:45.592501",
     "status": "completed"
    },
    "tags": []
   },
   "outputs": [],
   "source": [
    "def criterion(outputs, targets):\n",
    "    return nn.BCELoss()(outputs, targets)"
   ]
  },
  {
   "cell_type": "markdown",
   "id": "a57ab628",
   "metadata": {
    "papermill": {
     "duration": 0.016373,
     "end_time": "2024-08-17T02:46:45.649025",
     "exception": false,
     "start_time": "2024-08-17T02:46:45.632652",
     "status": "completed"
    },
    "tags": []
   },
   "source": [
    "# <span><h1 style = \"font-family: garamond; font-size: 40px; font-style: normal; letter-spcaing: 3px; background-color: #f6f5f5; color :#fe346e; border-radius: 100px 100px; text-align:center\">Training Function</h1></span>"
   ]
  },
  {
   "cell_type": "code",
   "execution_count": 21,
   "id": "1c14f51d",
   "metadata": {
    "execution": {
     "iopub.execute_input": "2024-08-17T02:46:45.683634Z",
     "iopub.status.busy": "2024-08-17T02:46:45.683356Z",
     "iopub.status.idle": "2024-08-17T02:46:45.693479Z",
     "shell.execute_reply": "2024-08-17T02:46:45.692775Z"
    },
    "papermill": {
     "duration": 0.029618,
     "end_time": "2024-08-17T02:46:45.695317",
     "exception": false,
     "start_time": "2024-08-17T02:46:45.665699",
     "status": "completed"
    },
    "tags": []
   },
   "outputs": [],
   "source": [
    "def train_one_epoch(model, optimizer, scheduler, dataloader, device, epoch):\n",
    "    model.train()\n",
    "    \n",
    "    dataset_size = 0\n",
    "    running_loss = 0.0\n",
    "    running_auroc  = 0.0\n",
    "    \n",
    "    all_targets = []\n",
    "    all_outputs = []\n",
    "    \n",
    "    bar = tqdm(enumerate(dataloader), total=len(dataloader))\n",
    "    for step, data in bar:\n",
    "        images = data['image'].to(device, dtype=torch.float)\n",
    "        targets = data['target'].to(device, dtype=torch.float)\n",
    "        \n",
    "        batch_size = images.size(0)\n",
    "        \n",
    "        outputs = model(images).squeeze()\n",
    "        loss = criterion(outputs, targets)\n",
    "        loss = loss / CONFIG['n_accumulate']\n",
    "            \n",
    "        loss.backward()\n",
    "    \n",
    "        if (step + 1) % CONFIG['n_accumulate'] == 0:\n",
    "            optimizer.step()\n",
    "\n",
    "            # zero the parameter gradients\n",
    "            optimizer.zero_grad()\n",
    "\n",
    "            if scheduler is not None:\n",
    "                scheduler.step()\n",
    "                \n",
    "        auroc = binary_auroc(input=outputs.squeeze(), target=targets).item()\n",
    "        \n",
    "        running_loss += (loss.item() * batch_size)\n",
    "        #running_auroc  += (auroc * batch_size)\n",
    "        dataset_size += batch_size\n",
    "        \n",
    "        epoch_loss = running_loss / dataset_size\n",
    "        #epoch_auroc = running_auroc / dataset_size\n",
    "        all_outputs.extend(outputs.cpu().detach().numpy())\n",
    "        all_targets.extend(targets.cpu().numpy())\n",
    "        bar.set_postfix(Epoch=epoch, Train_Loss=epoch_loss, \n",
    "                        LR=optimizer.param_groups[0]['lr'])\n",
    "    epoch_auroc = roc_auc_score(all_targets, all_outputs)\n",
    "    gc.collect()\n",
    "    \n",
    "    \n",
    "    \n",
    "    return epoch_loss, epoch_auroc"
   ]
  },
  {
   "cell_type": "markdown",
   "id": "91388ca6",
   "metadata": {
    "papermill": {
     "duration": 0.016184,
     "end_time": "2024-08-17T02:46:45.728062",
     "exception": false,
     "start_time": "2024-08-17T02:46:45.711878",
     "status": "completed"
    },
    "tags": []
   },
   "source": [
    "# <span><h1 style = \"font-family: garamond; font-size: 40px; font-style: normal; letter-spcaing: 3px; background-color: #f6f5f5; color :#fe346e; border-radius: 100px 100px; text-align:center\">Validation Function</h1></span>"
   ]
  },
  {
   "cell_type": "code",
   "execution_count": 22,
   "id": "0f53bd1f",
   "metadata": {
    "execution": {
     "iopub.execute_input": "2024-08-17T02:46:45.762409Z",
     "iopub.status.busy": "2024-08-17T02:46:45.762145Z",
     "iopub.status.idle": "2024-08-17T02:46:45.771283Z",
     "shell.execute_reply": "2024-08-17T02:46:45.770522Z"
    },
    "papermill": {
     "duration": 0.028366,
     "end_time": "2024-08-17T02:46:45.773072",
     "exception": false,
     "start_time": "2024-08-17T02:46:45.744706",
     "status": "completed"
    },
    "tags": []
   },
   "outputs": [],
   "source": [
    "@torch.inference_mode()\n",
    "def valid_one_epoch(model, dataloader, device, epoch):\n",
    "    model.eval()\n",
    "    \n",
    "    dataset_size = 0\n",
    "    running_loss = 0.0\n",
    "    running_auroc = 0.0\n",
    "    \n",
    "    epoch_loss = None\n",
    "    epoch_auroc = None\n",
    "    all_targets = []\n",
    "    all_outputs = []\n",
    "    \n",
    "    bar = tqdm(enumerate(dataloader), total=len(dataloader))\n",
    "    for step, data in bar:        \n",
    "        images = data['image'].to(device, dtype=torch.float)\n",
    "        targets = data['target'].to(device, dtype=torch.float)\n",
    "        \n",
    "        batch_size = images.size(0)\n",
    "\n",
    "        outputs = model(images).squeeze()\n",
    "        loss = criterion(outputs, targets)\n",
    "\n",
    "        auroc = binary_auroc(input=outputs.squeeze(), target=targets).item()\n",
    "        running_loss += (loss.item() * batch_size)\n",
    "        running_auroc  += (auroc * batch_size)\n",
    "        dataset_size += batch_size\n",
    "        \n",
    "        epoch_loss = running_loss / dataset_size\n",
    "#        epoch_auroc = running_auroc / dataset_size\n",
    "        all_outputs.extend(outputs.cpu().detach().numpy())\n",
    "        all_targets.extend(targets.cpu().numpy())\n",
    "        \n",
    "        bar.set_postfix(Epoch=epoch, Valid_Loss=epoch_loss, #Valid_Auroc=epoch_auroc,\n",
    "                        LR=optimizer.param_groups[0]['lr'])   \n",
    "    epoch_auroc = roc_auc_score(all_targets, all_outputs)\n",
    "    gc.collect()\n",
    "    \n",
    "    return epoch_loss, epoch_auroc"
   ]
  },
  {
   "cell_type": "markdown",
   "id": "2b592f71",
   "metadata": {
    "papermill": {
     "duration": 0.016293,
     "end_time": "2024-08-17T02:46:45.805909",
     "exception": false,
     "start_time": "2024-08-17T02:46:45.789616",
     "status": "completed"
    },
    "tags": []
   },
   "source": [
    "# <span><h1 style = \"font-family: garamond; font-size: 40px; font-style: normal; letter-spcaing: 3px; background-color: #f6f5f5; color :#fe346e; border-radius: 100px 100px; text-align:center\">Run Training</h1></span>"
   ]
  },
  {
   "cell_type": "code",
   "execution_count": 23,
   "id": "2087c5b0",
   "metadata": {
    "execution": {
     "iopub.execute_input": "2024-08-17T02:46:45.840776Z",
     "iopub.status.busy": "2024-08-17T02:46:45.840448Z",
     "iopub.status.idle": "2024-08-17T02:46:45.853515Z",
     "shell.execute_reply": "2024-08-17T02:46:45.852649Z"
    },
    "papermill": {
     "duration": 0.032837,
     "end_time": "2024-08-17T02:46:45.855534",
     "exception": false,
     "start_time": "2024-08-17T02:46:45.822697",
     "status": "completed"
    },
    "tags": []
   },
   "outputs": [],
   "source": [
    "def run_training(model, optimizer, scheduler, device, num_epochs):\n",
    "    if torch.cuda.is_available():\n",
    "        print(\"[INFO] Using GPU: {}\\n\".format(torch.cuda.get_device_name()))\n",
    "    \n",
    "    start = time.time()\n",
    "    best_model_wts = copy.deepcopy(model.state_dict())\n",
    "    best_epoch_auroc = -np.inf\n",
    "    history = defaultdict(list)\n",
    "    \n",
    "    for epoch in range(1, num_epochs + 1): \n",
    "        gc.collect()\n",
    "        train_epoch_loss, train_epoch_auroc = train_one_epoch(model, optimizer, scheduler, \n",
    "                                           dataloader=train_loader, \n",
    "                                           device=CONFIG['device'], epoch=epoch)\n",
    "        \n",
    "        val_epoch_loss, val_epoch_auroc = valid_one_epoch(model, valid_loader, device=CONFIG['device'], \n",
    "                                         epoch=epoch)\n",
    "    \n",
    "        history['Train Loss'].append(train_epoch_loss)\n",
    "        history['Valid Loss'].append(val_epoch_loss)\n",
    "        history['Train AUROC'].append(train_epoch_auroc)\n",
    "        history['Valid AUROC'].append(val_epoch_auroc)\n",
    "        history['lr'].append( scheduler.get_lr()[0] )\n",
    "        \n",
    "        # deep copy the model\n",
    "        if best_epoch_auroc <= val_epoch_auroc:\n",
    "            print(f\"{b_}Validation AUROC Improved ({best_epoch_auroc} ---> {val_epoch_auroc})\")\n",
    "            best_epoch_auroc = val_epoch_auroc\n",
    "            best_model_wts = copy.deepcopy(model.state_dict())\n",
    "            PATH = \"/kaggle/working/AUROC{:.4f}_Loss{:.4f}_epoch{:.0f}.bin\".format(val_epoch_auroc, val_epoch_loss, epoch)\n",
    "            torch.save(model.state_dict(), PATH)\n",
    "            # Save a model file from the current directory\n",
    "            print(f\"Model Saved{sr_}\")\n",
    "            \n",
    "        wandb.log({\n",
    "            'Train Loss': train_epoch_loss,\n",
    "            'Valid Loss': val_epoch_loss,\n",
    "            'Train AUROC': train_epoch_auroc,\n",
    "            'Valid AUROC': val_epoch_auroc\n",
    "        })\n",
    "            \n",
    "        print()\n",
    "    \n",
    "    end = time.time()\n",
    "    time_elapsed = end - start\n",
    "    print('Training complete in {:.0f}h {:.0f}m {:.0f}s'.format(\n",
    "        time_elapsed // 3600, (time_elapsed % 3600) // 60, (time_elapsed % 3600) % 60))\n",
    "    print(\"Best AUROC: {:.4f}\".format(best_epoch_auroc))\n",
    "    \n",
    "    # load best model weights\n",
    "    model.load_state_dict(best_model_wts)\n",
    "    \n",
    "    return model, history"
   ]
  },
  {
   "cell_type": "code",
   "execution_count": 24,
   "id": "62cd0d30",
   "metadata": {
    "execution": {
     "iopub.execute_input": "2024-08-17T02:46:45.890612Z",
     "iopub.status.busy": "2024-08-17T02:46:45.890332Z",
     "iopub.status.idle": "2024-08-17T02:46:45.897243Z",
     "shell.execute_reply": "2024-08-17T02:46:45.896352Z"
    },
    "papermill": {
     "duration": 0.026473,
     "end_time": "2024-08-17T02:46:45.899205",
     "exception": false,
     "start_time": "2024-08-17T02:46:45.872732",
     "status": "completed"
    },
    "tags": []
   },
   "outputs": [],
   "source": [
    "def fetch_scheduler(optimizer):\n",
    "    if CONFIG['scheduler'] == 'CosineAnnealingLR':\n",
    "        scheduler = lr_scheduler.CosineAnnealingLR(optimizer,T_max=CONFIG['T_max'], \n",
    "                                                   eta_min=CONFIG['min_lr'])\n",
    "    elif CONFIG['scheduler'] == 'CosineAnnealingWarmRestarts':\n",
    "        scheduler = lr_scheduler.CosineAnnealingWarmRestarts(optimizer,T_0=CONFIG['T_0'], \n",
    "                                                             eta_min=CONFIG['min_lr'])\n",
    "    elif CONFIG['scheduler'] == None:\n",
    "        return None\n",
    "        \n",
    "    return scheduler"
   ]
  },
  {
   "cell_type": "code",
   "execution_count": 25,
   "id": "57901686",
   "metadata": {
    "execution": {
     "iopub.execute_input": "2024-08-17T02:46:45.933631Z",
     "iopub.status.busy": "2024-08-17T02:46:45.933369Z",
     "iopub.status.idle": "2024-08-17T02:46:45.940351Z",
     "shell.execute_reply": "2024-08-17T02:46:45.939702Z"
    },
    "papermill": {
     "duration": 0.026347,
     "end_time": "2024-08-17T02:46:45.942317",
     "exception": false,
     "start_time": "2024-08-17T02:46:45.915970",
     "status": "completed"
    },
    "tags": []
   },
   "outputs": [],
   "source": [
    "def prepare_loaders(df, fold):\n",
    "    df_train = df[df.kfold != fold].reset_index(drop=True)\n",
    "    df_valid = df[df.kfold == fold].reset_index(drop=True)\n",
    "    \n",
    "    train_dataset = ISICDataset_for_Train(df_train, transforms=data_transforms[\"train\"])\n",
    "    valid_dataset = ISICDataset(df_valid, transforms=data_transforms[\"valid\"])\n",
    "\n",
    "    train_loader = DataLoader(train_dataset, batch_size=CONFIG['train_batch_size'], \n",
    "                              num_workers=2, shuffle=True, pin_memory=True, drop_last=True)\n",
    "    valid_loader = DataLoader(valid_dataset, batch_size=CONFIG['valid_batch_size'], \n",
    "                              num_workers=2, shuffle=False, pin_memory=True)\n",
    "    \n",
    "    return train_loader, valid_loader"
   ]
  },
  {
   "cell_type": "markdown",
   "id": "fe810fab",
   "metadata": {
    "papermill": {
     "duration": 0.016274,
     "end_time": "2024-08-17T02:46:45.975185",
     "exception": false,
     "start_time": "2024-08-17T02:46:45.958911",
     "status": "completed"
    },
    "tags": []
   },
   "source": [
    "<span style=\"color: #000508; font-family: Segoe UI; font-size: 1.5em; font-weight: 300;\">Prepare Dataloaders</span>"
   ]
  },
  {
   "cell_type": "code",
   "execution_count": 26,
   "id": "dfbc43aa",
   "metadata": {
    "execution": {
     "iopub.execute_input": "2024-08-17T02:46:46.009666Z",
     "iopub.status.busy": "2024-08-17T02:46:46.009186Z",
     "iopub.status.idle": "2024-08-17T02:46:46.026813Z",
     "shell.execute_reply": "2024-08-17T02:46:46.026128Z"
    },
    "papermill": {
     "duration": 0.037073,
     "end_time": "2024-08-17T02:46:46.028908",
     "exception": false,
     "start_time": "2024-08-17T02:46:45.991835",
     "status": "completed"
    },
    "tags": []
   },
   "outputs": [],
   "source": [
    "train_loader, valid_loader = prepare_loaders(df, fold=CONFIG[\"fold\"])"
   ]
  },
  {
   "cell_type": "markdown",
   "id": "b14edae4",
   "metadata": {
    "papermill": {
     "duration": 0.01691,
     "end_time": "2024-08-17T02:46:46.064066",
     "exception": false,
     "start_time": "2024-08-17T02:46:46.047156",
     "status": "completed"
    },
    "tags": []
   },
   "source": [
    "<span style=\"color: #000508; font-family: Segoe UI; font-size: 1.5em; font-weight: 300;\">Define Optimizer and Scheduler</span>"
   ]
  },
  {
   "cell_type": "code",
   "execution_count": 27,
   "id": "99593a33",
   "metadata": {
    "execution": {
     "iopub.execute_input": "2024-08-17T02:46:46.098126Z",
     "iopub.status.busy": "2024-08-17T02:46:46.097867Z",
     "iopub.status.idle": "2024-08-17T02:46:46.104128Z",
     "shell.execute_reply": "2024-08-17T02:46:46.103352Z"
    },
    "papermill": {
     "duration": 0.025747,
     "end_time": "2024-08-17T02:46:46.106083",
     "exception": false,
     "start_time": "2024-08-17T02:46:46.080336",
     "status": "completed"
    },
    "tags": []
   },
   "outputs": [],
   "source": [
    "optimizer = optim.Adam(model.parameters(), lr=CONFIG['learning_rate'],\n",
    "                       weight_decay=CONFIG['weight_decay'])\n",
    "scheduler = fetch_scheduler(optimizer)"
   ]
  },
  {
   "cell_type": "markdown",
   "id": "d50cd060",
   "metadata": {
    "papermill": {
     "duration": 0.016843,
     "end_time": "2024-08-17T02:46:46.139916",
     "exception": false,
     "start_time": "2024-08-17T02:46:46.123073",
     "status": "completed"
    },
    "tags": []
   },
   "source": [
    "<span style=\"color: #000508; font-family: Segoe UI; font-size: 1.5em; font-weight: 300;\">Start Training</span>"
   ]
  },
  {
   "cell_type": "code",
   "execution_count": 28,
   "id": "e0c4e961",
   "metadata": {
    "execution": {
     "iopub.execute_input": "2024-08-17T02:46:46.175618Z",
     "iopub.status.busy": "2024-08-17T02:46:46.175107Z",
     "iopub.status.idle": "2024-08-17T02:59:29.365786Z",
     "shell.execute_reply": "2024-08-17T02:59:29.364714Z"
    },
    "papermill": {
     "duration": 763.210896,
     "end_time": "2024-08-17T02:59:29.368225",
     "exception": false,
     "start_time": "2024-08-17T02:46:46.157329",
     "status": "completed"
    },
    "tags": []
   },
   "outputs": [
    {
     "name": "stdout",
     "output_type": "stream",
     "text": [
      "[INFO] Using GPU: Tesla P100-PCIE-16GB\n",
      "\n"
     ]
    },
    {
     "name": "stderr",
     "output_type": "stream",
     "text": [
      "100%|██████████| 19/19 [00:09<00:00,  1.90it/s, Epoch=1, LR=0.001, Train_Loss=0.654]\n",
      "100%|██████████| 26/26 [00:08<00:00,  2.96it/s, Epoch=1, LR=0.001, Valid_Loss=0.956]\n"
     ]
    },
    {
     "name": "stdout",
     "output_type": "stream",
     "text": [
      "\u001b[34mValidation AUROC Improved (-inf ---> 0.6836811930299224)\n",
      "Model Saved\u001b[0m\n",
      "\n"
     ]
    },
    {
     "name": "stderr",
     "output_type": "stream",
     "text": [
      "100%|██████████| 19/19 [00:07<00:00,  2.53it/s, Epoch=2, LR=0.001, Train_Loss=0.556]\n",
      "100%|██████████| 26/26 [00:07<00:00,  3.64it/s, Epoch=2, LR=0.001, Valid_Loss=0.577]\n"
     ]
    },
    {
     "name": "stdout",
     "output_type": "stream",
     "text": [
      "\u001b[34mValidation AUROC Improved (0.6836811930299224 ---> 0.8682239829935261)\n",
      "Model Saved\u001b[0m\n",
      "\n"
     ]
    },
    {
     "name": "stderr",
     "output_type": "stream",
     "text": [
      "100%|██████████| 19/19 [00:07<00:00,  2.52it/s, Epoch=3, LR=0.001, Train_Loss=0.464]\n",
      "100%|██████████| 26/26 [00:06<00:00,  3.96it/s, Epoch=3, LR=0.001, Valid_Loss=0.538]\n"
     ]
    },
    {
     "name": "stdout",
     "output_type": "stream",
     "text": [
      "\u001b[34mValidation AUROC Improved (0.8682239829935261 ---> 0.8914548909717525)\n",
      "Model Saved\u001b[0m\n",
      "\n"
     ]
    },
    {
     "name": "stderr",
     "output_type": "stream",
     "text": [
      "100%|██████████| 19/19 [00:07<00:00,  2.52it/s, Epoch=4, LR=0.001, Train_Loss=0.415]\n",
      "100%|██████████| 26/26 [00:06<00:00,  3.82it/s, Epoch=4, LR=0.001, Valid_Loss=0.475]\n"
     ]
    },
    {
     "name": "stdout",
     "output_type": "stream",
     "text": [
      "\u001b[34mValidation AUROC Improved (0.8914548909717525 ---> 0.9156198666537829)\n",
      "Model Saved\u001b[0m\n",
      "\n"
     ]
    },
    {
     "name": "stderr",
     "output_type": "stream",
     "text": [
      "100%|██████████| 19/19 [00:07<00:00,  2.53it/s, Epoch=5, LR=0.001, Train_Loss=0.363]\n",
      "100%|██████████| 26/26 [00:06<00:00,  3.72it/s, Epoch=5, LR=0.001, Valid_Loss=0.217]\n"
     ]
    },
    {
     "name": "stdout",
     "output_type": "stream",
     "text": [
      "\n"
     ]
    },
    {
     "name": "stderr",
     "output_type": "stream",
     "text": [
      "100%|██████████| 19/19 [00:07<00:00,  2.53it/s, Epoch=6, LR=0.001, Train_Loss=0.339]\n",
      "100%|██████████| 26/26 [00:06<00:00,  3.77it/s, Epoch=6, LR=0.001, Valid_Loss=0.369]\n"
     ]
    },
    {
     "name": "stdout",
     "output_type": "stream",
     "text": [
      "\u001b[34mValidation AUROC Improved (0.9156198666537829 ---> 0.9156842851161143)\n",
      "Model Saved\u001b[0m\n",
      "\n"
     ]
    },
    {
     "name": "stderr",
     "output_type": "stream",
     "text": [
      "100%|██████████| 19/19 [00:07<00:00,  2.55it/s, Epoch=7, LR=0.001, Train_Loss=0.319]\n",
      "100%|██████████| 26/26 [00:06<00:00,  3.75it/s, Epoch=7, LR=0.001, Valid_Loss=0.521]\n"
     ]
    },
    {
     "name": "stdout",
     "output_type": "stream",
     "text": [
      "\n"
     ]
    },
    {
     "name": "stderr",
     "output_type": "stream",
     "text": [
      "100%|██████████| 19/19 [00:07<00:00,  2.54it/s, Epoch=8, LR=0.000999, Train_Loss=0.353]\n",
      "100%|██████████| 26/26 [00:06<00:00,  3.96it/s, Epoch=8, LR=0.000999, Valid_Loss=0.487]\n"
     ]
    },
    {
     "name": "stdout",
     "output_type": "stream",
     "text": [
      "\n"
     ]
    },
    {
     "name": "stderr",
     "output_type": "stream",
     "text": [
      "100%|██████████| 19/19 [00:07<00:00,  2.51it/s, Epoch=9, LR=0.000999, Train_Loss=0.266]\n",
      "100%|██████████| 26/26 [00:06<00:00,  3.79it/s, Epoch=9, LR=0.000999, Valid_Loss=0.502]\n"
     ]
    },
    {
     "name": "stdout",
     "output_type": "stream",
     "text": [
      "\u001b[34mValidation AUROC Improved (0.9156842851161143 ---> 0.9403364254195252)\n",
      "Model Saved\u001b[0m\n",
      "\n"
     ]
    },
    {
     "name": "stderr",
     "output_type": "stream",
     "text": [
      "100%|██████████| 19/19 [00:07<00:00,  2.52it/s, Epoch=10, LR=0.000999, Train_Loss=0.246]\n",
      "100%|██████████| 26/26 [00:06<00:00,  3.84it/s, Epoch=10, LR=0.000999, Valid_Loss=0.395]\n"
     ]
    },
    {
     "name": "stdout",
     "output_type": "stream",
     "text": [
      "\n"
     ]
    },
    {
     "name": "stderr",
     "output_type": "stream",
     "text": [
      "100%|██████████| 19/19 [00:07<00:00,  2.55it/s, Epoch=11, LR=0.000999, Train_Loss=0.284]\n",
      "100%|██████████| 26/26 [00:06<00:00,  3.83it/s, Epoch=11, LR=0.000999, Valid_Loss=0.397]\n"
     ]
    },
    {
     "name": "stdout",
     "output_type": "stream",
     "text": [
      "\n"
     ]
    },
    {
     "name": "stderr",
     "output_type": "stream",
     "text": [
      "100%|██████████| 19/19 [00:07<00:00,  2.52it/s, Epoch=12, LR=0.000999, Train_Loss=0.282]\n",
      "100%|██████████| 26/26 [00:06<00:00,  3.85it/s, Epoch=12, LR=0.000999, Valid_Loss=0.248]\n"
     ]
    },
    {
     "name": "stdout",
     "output_type": "stream",
     "text": [
      "\n"
     ]
    },
    {
     "name": "stderr",
     "output_type": "stream",
     "text": [
      "100%|██████████| 19/19 [00:07<00:00,  2.53it/s, Epoch=13, LR=0.000999, Train_Loss=0.293]\n",
      "100%|██████████| 26/26 [00:06<00:00,  3.92it/s, Epoch=13, LR=0.000999, Valid_Loss=0.206]\n"
     ]
    },
    {
     "name": "stdout",
     "output_type": "stream",
     "text": [
      "\n"
     ]
    },
    {
     "name": "stderr",
     "output_type": "stream",
     "text": [
      "100%|██████████| 19/19 [00:07<00:00,  2.44it/s, Epoch=14, LR=0.000998, Train_Loss=0.267]\n",
      "100%|██████████| 26/26 [00:07<00:00,  3.67it/s, Epoch=14, LR=0.000998, Valid_Loss=0.291]\n"
     ]
    },
    {
     "name": "stdout",
     "output_type": "stream",
     "text": [
      "\n"
     ]
    },
    {
     "name": "stderr",
     "output_type": "stream",
     "text": [
      "100%|██████████| 19/19 [00:07<00:00,  2.54it/s, Epoch=15, LR=0.000998, Train_Loss=0.292]\n",
      "100%|██████████| 26/26 [00:06<00:00,  3.87it/s, Epoch=15, LR=0.000998, Valid_Loss=0.299]\n"
     ]
    },
    {
     "name": "stdout",
     "output_type": "stream",
     "text": [
      "\n"
     ]
    },
    {
     "name": "stderr",
     "output_type": "stream",
     "text": [
      "100%|██████████| 19/19 [00:07<00:00,  2.52it/s, Epoch=16, LR=0.000998, Train_Loss=0.257]\n",
      "100%|██████████| 26/26 [00:06<00:00,  3.77it/s, Epoch=16, LR=0.000998, Valid_Loss=0.301]\n"
     ]
    },
    {
     "name": "stdout",
     "output_type": "stream",
     "text": [
      "\n"
     ]
    },
    {
     "name": "stderr",
     "output_type": "stream",
     "text": [
      "100%|██████████| 19/19 [00:07<00:00,  2.52it/s, Epoch=17, LR=0.000998, Train_Loss=0.226]\n",
      "100%|██████████| 26/26 [00:06<00:00,  3.96it/s, Epoch=17, LR=0.000998, Valid_Loss=0.482]\n"
     ]
    },
    {
     "name": "stdout",
     "output_type": "stream",
     "text": [
      "\n"
     ]
    },
    {
     "name": "stderr",
     "output_type": "stream",
     "text": [
      "100%|██████████| 19/19 [00:07<00:00,  2.52it/s, Epoch=18, LR=0.000997, Train_Loss=0.235]\n",
      "100%|██████████| 26/26 [00:06<00:00,  3.83it/s, Epoch=18, LR=0.000997, Valid_Loss=0.351]\n"
     ]
    },
    {
     "name": "stdout",
     "output_type": "stream",
     "text": [
      "\n"
     ]
    },
    {
     "name": "stderr",
     "output_type": "stream",
     "text": [
      "100%|██████████| 19/19 [00:07<00:00,  2.54it/s, Epoch=19, LR=0.000997, Train_Loss=0.222]\n",
      "100%|██████████| 26/26 [00:06<00:00,  3.98it/s, Epoch=19, LR=0.000997, Valid_Loss=0.302]\n"
     ]
    },
    {
     "name": "stdout",
     "output_type": "stream",
     "text": [
      "\n"
     ]
    },
    {
     "name": "stderr",
     "output_type": "stream",
     "text": [
      "100%|██████████| 19/19 [00:07<00:00,  2.52it/s, Epoch=20, LR=0.000997, Train_Loss=0.211]\n",
      "100%|██████████| 26/26 [00:06<00:00,  3.84it/s, Epoch=20, LR=0.000997, Valid_Loss=0.221]\n"
     ]
    },
    {
     "name": "stdout",
     "output_type": "stream",
     "text": [
      "\n"
     ]
    },
    {
     "name": "stderr",
     "output_type": "stream",
     "text": [
      "100%|██████████| 19/19 [00:07<00:00,  2.52it/s, Epoch=21, LR=0.000996, Train_Loss=0.173]\n",
      "100%|██████████| 26/26 [00:06<00:00,  4.00it/s, Epoch=21, LR=0.000996, Valid_Loss=0.338]\n"
     ]
    },
    {
     "name": "stdout",
     "output_type": "stream",
     "text": [
      "\n"
     ]
    },
    {
     "name": "stderr",
     "output_type": "stream",
     "text": [
      "100%|██████████| 19/19 [00:07<00:00,  2.53it/s, Epoch=22, LR=0.000996, Train_Loss=0.241]\n",
      "100%|██████████| 26/26 [00:06<00:00,  3.80it/s, Epoch=22, LR=0.000996, Valid_Loss=0.388]\n"
     ]
    },
    {
     "name": "stdout",
     "output_type": "stream",
     "text": [
      "\n"
     ]
    },
    {
     "name": "stderr",
     "output_type": "stream",
     "text": [
      "100%|██████████| 19/19 [00:07<00:00,  2.46it/s, Epoch=23, LR=0.000996, Train_Loss=0.247]\n",
      "100%|██████████| 26/26 [00:06<00:00,  3.81it/s, Epoch=23, LR=0.000996, Valid_Loss=0.366]\n"
     ]
    },
    {
     "name": "stdout",
     "output_type": "stream",
     "text": [
      "\n"
     ]
    },
    {
     "name": "stderr",
     "output_type": "stream",
     "text": [
      "100%|██████████| 19/19 [00:07<00:00,  2.56it/s, Epoch=24, LR=0.000995, Train_Loss=0.176]\n",
      "100%|██████████| 26/26 [00:06<00:00,  3.77it/s, Epoch=24, LR=0.000995, Valid_Loss=0.351]\n"
     ]
    },
    {
     "name": "stdout",
     "output_type": "stream",
     "text": [
      "\n"
     ]
    },
    {
     "name": "stderr",
     "output_type": "stream",
     "text": [
      "100%|██████████| 19/19 [00:07<00:00,  2.53it/s, Epoch=25, LR=0.000995, Train_Loss=0.201]\n",
      "100%|██████████| 26/26 [00:06<00:00,  3.87it/s, Epoch=25, LR=0.000995, Valid_Loss=0.5]\n"
     ]
    },
    {
     "name": "stdout",
     "output_type": "stream",
     "text": [
      "\n"
     ]
    },
    {
     "name": "stderr",
     "output_type": "stream",
     "text": [
      "100%|██████████| 19/19 [00:07<00:00,  2.54it/s, Epoch=26, LR=0.000994, Train_Loss=0.121]\n",
      "100%|██████████| 26/26 [00:07<00:00,  3.57it/s, Epoch=26, LR=0.000994, Valid_Loss=0.552]\n"
     ]
    },
    {
     "name": "stdout",
     "output_type": "stream",
     "text": [
      "\n"
     ]
    },
    {
     "name": "stderr",
     "output_type": "stream",
     "text": [
      "100%|██████████| 19/19 [00:07<00:00,  2.55it/s, Epoch=27, LR=0.000994, Train_Loss=0.205]\n",
      "100%|██████████| 26/26 [00:06<00:00,  3.81it/s, Epoch=27, LR=0.000994, Valid_Loss=0.233]\n"
     ]
    },
    {
     "name": "stdout",
     "output_type": "stream",
     "text": [
      "\n"
     ]
    },
    {
     "name": "stderr",
     "output_type": "stream",
     "text": [
      "100%|██████████| 19/19 [00:07<00:00,  2.54it/s, Epoch=28, LR=0.000993, Train_Loss=0.178]\n",
      "100%|██████████| 26/26 [00:07<00:00,  3.55it/s, Epoch=28, LR=0.000993, Valid_Loss=0.391]\n"
     ]
    },
    {
     "name": "stdout",
     "output_type": "stream",
     "text": [
      "\n"
     ]
    },
    {
     "name": "stderr",
     "output_type": "stream",
     "text": [
      "100%|██████████| 19/19 [00:07<00:00,  2.53it/s, Epoch=29, LR=0.000993, Train_Loss=0.138]\n",
      "100%|██████████| 26/26 [00:06<00:00,  3.77it/s, Epoch=29, LR=0.000993, Valid_Loss=0.347]\n"
     ]
    },
    {
     "name": "stdout",
     "output_type": "stream",
     "text": [
      "\n"
     ]
    },
    {
     "name": "stderr",
     "output_type": "stream",
     "text": [
      "100%|██████████| 19/19 [00:07<00:00,  2.53it/s, Epoch=30, LR=0.000992, Train_Loss=0.178]\n",
      "100%|██████████| 26/26 [00:07<00:00,  3.51it/s, Epoch=30, LR=0.000992, Valid_Loss=0.472]\n"
     ]
    },
    {
     "name": "stdout",
     "output_type": "stream",
     "text": [
      "\n"
     ]
    },
    {
     "name": "stderr",
     "output_type": "stream",
     "text": [
      "100%|██████████| 19/19 [00:07<00:00,  2.55it/s, Epoch=31, LR=0.000992, Train_Loss=0.191]\n",
      "100%|██████████| 26/26 [00:06<00:00,  3.77it/s, Epoch=31, LR=0.000992, Valid_Loss=0.331]\n"
     ]
    },
    {
     "name": "stdout",
     "output_type": "stream",
     "text": [
      "\n"
     ]
    },
    {
     "name": "stderr",
     "output_type": "stream",
     "text": [
      "100%|██████████| 19/19 [00:07<00:00,  2.53it/s, Epoch=32, LR=0.000991, Train_Loss=0.16]\n",
      "100%|██████████| 26/26 [00:07<00:00,  3.54it/s, Epoch=32, LR=0.000991, Valid_Loss=0.3]\n"
     ]
    },
    {
     "name": "stdout",
     "output_type": "stream",
     "text": [
      "\n"
     ]
    },
    {
     "name": "stderr",
     "output_type": "stream",
     "text": [
      "100%|██████████| 19/19 [00:07<00:00,  2.49it/s, Epoch=33, LR=0.000991, Train_Loss=0.175]\n",
      "100%|██████████| 26/26 [00:07<00:00,  3.68it/s, Epoch=33, LR=0.000991, Valid_Loss=0.825]\n"
     ]
    },
    {
     "name": "stdout",
     "output_type": "stream",
     "text": [
      "\n"
     ]
    },
    {
     "name": "stderr",
     "output_type": "stream",
     "text": [
      "100%|██████████| 19/19 [00:07<00:00,  2.53it/s, Epoch=34, LR=0.00099, Train_Loss=0.153]\n",
      "100%|██████████| 26/26 [00:07<00:00,  3.45it/s, Epoch=34, LR=0.00099, Valid_Loss=0.417]\n"
     ]
    },
    {
     "name": "stdout",
     "output_type": "stream",
     "text": [
      "\n"
     ]
    },
    {
     "name": "stderr",
     "output_type": "stream",
     "text": [
      "100%|██████████| 19/19 [00:07<00:00,  2.53it/s, Epoch=35, LR=0.00099, Train_Loss=0.141]\n",
      "100%|██████████| 26/26 [00:06<00:00,  3.90it/s, Epoch=35, LR=0.00099, Valid_Loss=0.39]\n"
     ]
    },
    {
     "name": "stdout",
     "output_type": "stream",
     "text": [
      "\n"
     ]
    },
    {
     "name": "stderr",
     "output_type": "stream",
     "text": [
      "100%|██████████| 19/19 [00:07<00:00,  2.51it/s, Epoch=36, LR=0.000989, Train_Loss=0.149]\n",
      "100%|██████████| 26/26 [00:06<00:00,  3.76it/s, Epoch=36, LR=0.000989, Valid_Loss=0.305]\n"
     ]
    },
    {
     "name": "stdout",
     "output_type": "stream",
     "text": [
      "\n"
     ]
    },
    {
     "name": "stderr",
     "output_type": "stream",
     "text": [
      "100%|██████████| 19/19 [00:07<00:00,  2.51it/s, Epoch=37, LR=0.000989, Train_Loss=0.18]\n",
      "100%|██████████| 26/26 [00:07<00:00,  3.68it/s, Epoch=37, LR=0.000989, Valid_Loss=0.355]\n"
     ]
    },
    {
     "name": "stdout",
     "output_type": "stream",
     "text": [
      "\n"
     ]
    },
    {
     "name": "stderr",
     "output_type": "stream",
     "text": [
      "100%|██████████| 19/19 [00:07<00:00,  2.53it/s, Epoch=38, LR=0.000988, Train_Loss=0.127]\n",
      "100%|██████████| 26/26 [00:06<00:00,  3.76it/s, Epoch=38, LR=0.000988, Valid_Loss=0.423]\n"
     ]
    },
    {
     "name": "stdout",
     "output_type": "stream",
     "text": [
      "\n"
     ]
    },
    {
     "name": "stderr",
     "output_type": "stream",
     "text": [
      "100%|██████████| 19/19 [00:07<00:00,  2.45it/s, Epoch=39, LR=0.000987, Train_Loss=0.133]\n",
      "100%|██████████| 26/26 [00:07<00:00,  3.69it/s, Epoch=39, LR=0.000987, Valid_Loss=0.335]\n"
     ]
    },
    {
     "name": "stdout",
     "output_type": "stream",
     "text": [
      "\n"
     ]
    },
    {
     "name": "stderr",
     "output_type": "stream",
     "text": [
      "100%|██████████| 19/19 [00:07<00:00,  2.54it/s, Epoch=40, LR=0.000987, Train_Loss=0.118]\n",
      "100%|██████████| 26/26 [00:06<00:00,  3.78it/s, Epoch=40, LR=0.000987, Valid_Loss=0.423]\n"
     ]
    },
    {
     "name": "stdout",
     "output_type": "stream",
     "text": [
      "\n"
     ]
    },
    {
     "name": "stderr",
     "output_type": "stream",
     "text": [
      "100%|██████████| 19/19 [00:07<00:00,  2.51it/s, Epoch=41, LR=0.000986, Train_Loss=0.128]\n",
      "100%|██████████| 26/26 [00:07<00:00,  3.69it/s, Epoch=41, LR=0.000986, Valid_Loss=0.648]\n"
     ]
    },
    {
     "name": "stdout",
     "output_type": "stream",
     "text": [
      "\n"
     ]
    },
    {
     "name": "stderr",
     "output_type": "stream",
     "text": [
      "100%|██████████| 19/19 [00:07<00:00,  2.53it/s, Epoch=42, LR=0.000985, Train_Loss=0.157]\n",
      "100%|██████████| 26/26 [00:07<00:00,  3.65it/s, Epoch=42, LR=0.000985, Valid_Loss=0.341]\n"
     ]
    },
    {
     "name": "stdout",
     "output_type": "stream",
     "text": [
      "\n"
     ]
    },
    {
     "name": "stderr",
     "output_type": "stream",
     "text": [
      "100%|██████████| 19/19 [00:07<00:00,  2.51it/s, Epoch=43, LR=0.000985, Train_Loss=0.116]\n",
      "100%|██████████| 26/26 [00:06<00:00,  3.84it/s, Epoch=43, LR=0.000985, Valid_Loss=0.316]\n"
     ]
    },
    {
     "name": "stdout",
     "output_type": "stream",
     "text": [
      "\n"
     ]
    },
    {
     "name": "stderr",
     "output_type": "stream",
     "text": [
      "100%|██████████| 19/19 [00:07<00:00,  2.52it/s, Epoch=44, LR=0.000984, Train_Loss=0.155]\n",
      "100%|██████████| 26/26 [00:06<00:00,  3.90it/s, Epoch=44, LR=0.000984, Valid_Loss=0.328]\n"
     ]
    },
    {
     "name": "stdout",
     "output_type": "stream",
     "text": [
      "\n"
     ]
    },
    {
     "name": "stderr",
     "output_type": "stream",
     "text": [
      "100%|██████████| 19/19 [00:07<00:00,  2.53it/s, Epoch=45, LR=0.000983, Train_Loss=0.0959]\n",
      "100%|██████████| 26/26 [00:07<00:00,  3.69it/s, Epoch=45, LR=0.000983, Valid_Loss=0.328]\n"
     ]
    },
    {
     "name": "stdout",
     "output_type": "stream",
     "text": [
      "\n"
     ]
    },
    {
     "name": "stderr",
     "output_type": "stream",
     "text": [
      "100%|██████████| 19/19 [00:07<00:00,  2.53it/s, Epoch=46, LR=0.000982, Train_Loss=0.078]\n",
      "100%|██████████| 26/26 [00:06<00:00,  3.72it/s, Epoch=46, LR=0.000982, Valid_Loss=0.324]\n"
     ]
    },
    {
     "name": "stdout",
     "output_type": "stream",
     "text": [
      "\n"
     ]
    },
    {
     "name": "stderr",
     "output_type": "stream",
     "text": [
      "100%|██████████| 19/19 [00:07<00:00,  2.53it/s, Epoch=47, LR=0.000982, Train_Loss=0.0581]\n",
      "100%|██████████| 26/26 [00:06<00:00,  3.82it/s, Epoch=47, LR=0.000982, Valid_Loss=0.387]\n"
     ]
    },
    {
     "name": "stdout",
     "output_type": "stream",
     "text": [
      "\n"
     ]
    },
    {
     "name": "stderr",
     "output_type": "stream",
     "text": [
      "100%|██████████| 19/19 [00:07<00:00,  2.53it/s, Epoch=48, LR=0.000981, Train_Loss=0.14]\n",
      "100%|██████████| 26/26 [00:06<00:00,  3.83it/s, Epoch=48, LR=0.000981, Valid_Loss=0.316]\n"
     ]
    },
    {
     "name": "stdout",
     "output_type": "stream",
     "text": [
      "\n"
     ]
    },
    {
     "name": "stderr",
     "output_type": "stream",
     "text": [
      "100%|██████████| 19/19 [00:07<00:00,  2.51it/s, Epoch=49, LR=0.00098, Train_Loss=0.144]\n",
      "100%|██████████| 26/26 [00:07<00:00,  3.71it/s, Epoch=49, LR=0.00098, Valid_Loss=0.444]\n"
     ]
    },
    {
     "name": "stdout",
     "output_type": "stream",
     "text": [
      "\n"
     ]
    },
    {
     "name": "stderr",
     "output_type": "stream",
     "text": [
      "100%|██████████| 19/19 [00:07<00:00,  2.52it/s, Epoch=50, LR=0.000979, Train_Loss=0.11]\n",
      "100%|██████████| 26/26 [00:06<00:00,  3.73it/s, Epoch=50, LR=0.000979, Valid_Loss=0.425]\n"
     ]
    },
    {
     "name": "stdout",
     "output_type": "stream",
     "text": [
      "\n",
      "Training complete in 0h 12m 43s\n",
      "Best AUROC: 0.9403\n"
     ]
    }
   ],
   "source": [
    "model, history = run_training(model, optimizer, scheduler,\n",
    "                              device=CONFIG['device'],\n",
    "                              num_epochs=CONFIG['epochs'])"
   ]
  },
  {
   "cell_type": "code",
   "execution_count": 29,
   "id": "eae7cda1",
   "metadata": {
    "execution": {
     "iopub.execute_input": "2024-08-17T02:59:30.187980Z",
     "iopub.status.busy": "2024-08-17T02:59:30.187510Z",
     "iopub.status.idle": "2024-08-17T02:59:30.196608Z",
     "shell.execute_reply": "2024-08-17T02:59:30.195897Z"
    },
    "papermill": {
     "duration": 0.402246,
     "end_time": "2024-08-17T02:59:30.198534",
     "exception": false,
     "start_time": "2024-08-17T02:59:29.796288",
     "status": "completed"
    },
    "tags": []
   },
   "outputs": [],
   "source": [
    "history = pd.DataFrame.from_dict(history)\n",
    "history.to_csv(\"history.csv\", index=False)"
   ]
  },
  {
   "cell_type": "markdown",
   "id": "e80fc18e",
   "metadata": {
    "papermill": {
     "duration": 0.39203,
     "end_time": "2024-08-17T02:59:31.031318",
     "exception": false,
     "start_time": "2024-08-17T02:59:30.639288",
     "status": "completed"
    },
    "tags": []
   },
   "source": [
    "# <span><h1 style = \"font-family: garamond; font-size: 40px; font-style: normal; letter-spcaing: 3px; background-color: #f6f5f5; color :#fe346e; border-radius: 100px 100px; text-align:center\">Logs</h1></span>"
   ]
  },
  {
   "cell_type": "code",
   "execution_count": 30,
   "id": "630702fc",
   "metadata": {
    "execution": {
     "iopub.execute_input": "2024-08-17T02:59:31.833205Z",
     "iopub.status.busy": "2024-08-17T02:59:31.832503Z",
     "iopub.status.idle": "2024-08-17T02:59:32.113357Z",
     "shell.execute_reply": "2024-08-17T02:59:32.112140Z"
    },
    "papermill": {
     "duration": 0.68296,
     "end_time": "2024-08-17T02:59:32.115247",
     "exception": false,
     "start_time": "2024-08-17T02:59:31.432287",
     "status": "completed"
    },
    "tags": []
   },
   "outputs": [
    {
     "data": {
      "image/png": "[encoded data removed]",
      "text/plain": [
       "<Figure size 640x480 with 1 Axes>"
      ]
     },
     "metadata": {},
     "output_type": "display_data"
    }
   ],
   "source": [
    "plt.plot( range(history.shape[0]), history[\"Train Loss\"].values, label=\"Train Loss\")\n",
    "plt.plot( range(history.shape[0]), history[\"Valid Loss\"].values, label=\"Valid Loss\")\n",
    "plt.xlabel(\"epochs\")\n",
    "plt.ylabel(\"Loss\")\n",
    "plt.grid()\n",
    "plt.legend()\n",
    "plt.show()"
   ]
  },
  {
   "cell_type": "code",
   "execution_count": 31,
   "id": "3b2c0b16",
   "metadata": {
    "execution": {
     "iopub.execute_input": "2024-08-17T02:59:32.942194Z",
     "iopub.status.busy": "2024-08-17T02:59:32.941396Z",
     "iopub.status.idle": "2024-08-17T02:59:33.210889Z",
     "shell.execute_reply": "2024-08-17T02:59:33.210003Z"
    },
    "papermill": {
     "duration": 0.691812,
     "end_time": "2024-08-17T02:59:33.212966",
     "exception": false,
     "start_time": "2024-08-17T02:59:32.521154",
     "status": "completed"
    },
    "tags": []
   },
   "outputs": [
    {
     "data": {
      "image/png": "[encoded data removed]",
      "text/plain": [
       "<Figure size 640x480 with 1 Axes>"
      ]
     },
     "metadata": {},
     "output_type": "display_data"
    }
   ],
   "source": [
    "plt.plot( range(history.shape[0]), history[\"Train AUROC\"].values, label=\"Train AUROC\")\n",
    "plt.plot( range(history.shape[0]), history[\"Valid AUROC\"].values, label=\"Valid AUROC\")\n",
    "plt.xlabel(\"epochs\")\n",
    "plt.ylabel(\"AUROC\")\n",
    "plt.grid()\n",
    "plt.legend()\n",
    "plt.show()"
   ]
  },
  {
   "cell_type": "code",
   "execution_count": 32,
   "id": "07fa5806",
   "metadata": {
    "execution": {
     "iopub.execute_input": "2024-08-17T02:59:34.071999Z",
     "iopub.status.busy": "2024-08-17T02:59:34.071596Z",
     "iopub.status.idle": "2024-08-17T02:59:34.312645Z",
     "shell.execute_reply": "2024-08-17T02:59:34.311766Z"
    },
    "papermill": {
     "duration": 0.643827,
     "end_time": "2024-08-17T02:59:34.314677",
     "exception": false,
     "start_time": "2024-08-17T02:59:33.670850",
     "status": "completed"
    },
    "tags": []
   },
   "outputs": [
    {
     "data": {
      "image/png": "[encoded data removed]",
      "text/plain": [
       "<Figure size 640x480 with 1 Axes>"
      ]
     },
     "metadata": {},
     "output_type": "display_data"
    }
   ],
   "source": [
    "plt.plot( range(history.shape[0]), history[\"lr\"].values, label=\"lr\")\n",
    "plt.xlabel(\"epochs\")\n",
    "plt.ylabel(\"lr\")\n",
    "plt.grid()\n",
    "plt.legend()\n",
    "plt.show()"
   ]
  },
  {
   "cell_type": "code",
   "execution_count": null,
   "id": "abe29faf",
   "metadata": {
    "papermill": {
     "duration": 0.396343,
     "end_time": "2024-08-17T02:59:35.106939",
     "exception": false,
     "start_time": "2024-08-17T02:59:34.710596",
     "status": "completed"
    },
    "tags": []
   },
   "outputs": [],
   "source": []
  }
 ],
 "metadata": {
  "kaggle": {
   "accelerator": "gpu",
   "dataSources": [
    {
     "databundleVersionId": 9094797,
     "sourceId": 63056,
     "sourceType": "competition"
    },
    {
     "modelId": 312,
     "modelInstanceId": 2656,
     "sourceId": 3729,
     "sourceType": "modelInstanceVersion"
    },
    {
     "isSourceIdPinned": true,
     "modelId": 312,
     "modelInstanceId": 2658,
     "sourceId": 3731,
     "sourceType": "modelInstanceVersion"
    },
    {
     "modelId": 312,
     "modelInstanceId": 2659,
     "sourceId": 3732,
     "sourceType": "modelInstanceVersion"
    }
   ],
   "isGpuEnabled": true,
   "isInternetEnabled": true,
   "language": "python",
   "sourceType": "notebook"
  },
  "kernelspec": {
   "display_name": "Python 3",
   "language": "python",
   "name": "python3"
  },
  "language_info": {
   "codemirror_mode": {
    "name": "ipython",
    "version": 3
   },
   "file_extension": ".py",
   "mimetype": "text/x-python",
   "name": "python",
   "nbconvert_exporter": "python",
   "pygments_lexer": "ipython3",
   "version": "3.10.13"
  },
  "papermill": {
   "default_parameters": {},
   "duration": 858.065799,
   "end_time": "2024-08-17T02:59:38.333517",
   "environment_variables": {},
   "exception": null,
   "input_path": "__notebook__.ipynb",
   "output_path": "__notebook__.ipynb",
   "parameters": {},
   "start_time": "2024-08-17T02:45:20.267718",
   "version": "2.5.0"
  },
  "widgets": {
   "application/vnd.jupyter.widget-state+json": {
    "state": {
     "031a65f630e34be69984a445f91e6aed": {
      "model_module": "@jupyter-widgets/base",
      "model_module_version": "1.2.0",
      "model_name": "LayoutModel",
      "state": {
       "_model_module": "@jupyter-widgets/base",
       "_model_module_version": "1.2.0",
       "_model_name": "LayoutModel",
       "_view_count": null,
       "_view_module": "@jupyter-widgets/base",
       "_view_module_version": "1.2.0",
       "_view_name": "LayoutView",
       "align_content": null,
       "align_items": null,
       "align_self": null,
       "border": null,
       "bottom": null,
       "display": null,
       "flex": null,
       "flex_flow": null,
       "grid_area": null,
       "grid_auto_columns": null,
       "grid_auto_flow": null,
       "grid_auto_rows": null,
       "grid_column": null,
       "grid_gap": null,
       "grid_row": null,
       "grid_template_areas": null,
       "grid_template_columns": null,
       "grid_template_rows": null,
       "height": null,
       "justify_content": null,
       "justify_items": null,
       "left": null,
       "margin": null,
       "max_height": null,
       "max_width": null,
       "min_height": null,
       "min_width": null,
       "object_fit": null,
       "object_position": null,
       "order": null,
       "overflow": null,
       "overflow_x": null,
       "overflow_y": null,
       "padding": null,
       "right": null,
       "top": null,
       "visibility": null,
       "width": null
      }
     },
     "03ffe3ec9ae24df6ac237479559c0921": {
      "model_module": "@jupyter-widgets/controls",
      "model_module_version": "1.5.0",
      "model_name": "HTMLModel",
      "state": {
       "_dom_classes": [],
       "_model_module": "@jupyter-widgets/controls",
       "_model_module_version": "1.5.0",
       "_model_name": "HTMLModel",
       "_view_count": null,
       "_view_module": "@jupyter-widgets/controls",
       "_view_module_version": "1.5.0",
       "_view_name": "HTMLView",
       "description": "",
       "description_tooltip": null,
       "layout": "IPY_MODEL_4e0d62fd6c4e40e294f64fc9282c97a2",
       "placeholder": "​",
       "style": "IPY_MODEL_ea659e88511c423aa8d3f04167b7e8ae",
       "value": "model.safetensors: 100%"
      }
     },
     "0b3589139440444aac8645294bbe7e9d": {
      "model_module": "@jupyter-widgets/controls",
      "model_module_version": "1.5.0",
      "model_name": "DescriptionStyleModel",
      "state": {
       "_model_module": "@jupyter-widgets/controls",
       "_model_module_version": "1.5.0",
       "_model_name": "DescriptionStyleModel",
       "_view_count": null,
       "_view_module": "@jupyter-widgets/base",
       "_view_module_version": "1.2.0",
       "_view_name": "StyleView",
       "description_width": ""
      }
     },
     "2fddc08124794e0395bea84579641673": {
      "model_module": "@jupyter-widgets/base",
      "model_module_version": "1.2.0",
      "model_name": "LayoutModel",
      "state": {
       "_model_module": "@jupyter-widgets/base",
       "_model_module_version": "1.2.0",
       "_model_name": "LayoutModel",
       "_view_count": null,
       "_view_module": "@jupyter-widgets/base",
       "_view_module_version": "1.2.0",
       "_view_name": "LayoutView",
       "align_content": null,
       "align_items": null,
       "align_self": null,
       "border": null,
       "bottom": null,
       "display": null,
       "flex": null,
       "flex_flow": null,
       "grid_area": null,
       "grid_auto_columns": null,
       "grid_auto_flow": null,
       "grid_auto_rows": null,
       "grid_column": null,
       "grid_gap": null,
       "grid_row": null,
       "grid_template_areas": null,
       "grid_template_columns": null,
       "grid_template_rows": null,
       "height": null,
       "justify_content": null,
       "justify_items": null,
       "left": null,
       "margin": null,
       "max_height": null,
       "max_width": null,
       "min_height": null,
       "min_width": null,
       "object_fit": null,
       "object_position": null,
       "order": null,
       "overflow": null,
       "overflow_x": null,
       "overflow_y": null,
       "padding": null,
       "right": null,
       "top": null,
       "visibility": null,
       "width": null
      }
     },
     "42d2cb3dc9254d8297146215ba664517": {
      "model_module": "@jupyter-widgets/controls",
      "model_module_version": "1.5.0",
      "model_name": "HTMLModel",
      "state": {
       "_dom_classes": [],
       "_model_module": "@jupyter-widgets/controls",
       "_model_module_version": "1.5.0",
       "_model_name": "HTMLModel",
       "_view_count": null,
       "_view_module": "@jupyter-widgets/controls",
       "_view_module_version": "1.5.0",
       "_view_name": "HTMLView",
       "description": "",
       "description_tooltip": null,
       "layout": "IPY_MODEL_031a65f630e34be69984a445f91e6aed",
       "placeholder": "​",
       "style": "IPY_MODEL_0b3589139440444aac8645294bbe7e9d",
       "value": " 21.4M/21.4M [00:00&lt;00:00, 46.4MB/s]"
      }
     },
     "4e0d62fd6c4e40e294f64fc9282c97a2": {
      "model_module": "@jupyter-widgets/base",
      "model_module_version": "1.2.0",
      "model_name": "LayoutModel",
      "state": {
       "_model_module": "@jupyter-widgets/base",
       "_model_module_version": "1.2.0",
       "_model_name": "LayoutModel",
       "_view_count": null,
       "_view_module": "@jupyter-widgets/base",
       "_view_module_version": "1.2.0",
       "_view_name": "LayoutView",
       "align_content": null,
       "align_items": null,
       "align_self": null,
       "border": null,
       "bottom": null,
       "display": null,
       "flex": null,
       "flex_flow": null,
       "grid_area": null,
       "grid_auto_columns": null,
       "grid_auto_flow": null,
       "grid_auto_rows": null,
       "grid_column": null,
       "grid_gap": null,
       "grid_row": null,
       "grid_template_areas": null,
       "grid_template_columns": null,
       "grid_template_rows": null,
       "height": null,
       "justify_content": null,
       "justify_items": null,
       "left": null,
       "margin": null,
       "max_height": null,
       "max_width": null,
       "min_height": null,
       "min_width": null,
       "object_fit": null,
       "object_position": null,
       "order": null,
       "overflow": null,
       "overflow_x": null,
       "overflow_y": null,
       "padding": null,
       "right": null,
       "top": null,
       "visibility": null,
       "width": null
      }
     },
     "ac163be835b3411a9ec8f67caece2a14": {
      "model_module": "@jupyter-widgets/controls",
      "model_module_version": "1.5.0",
      "model_name": "HBoxModel",
      "state": {
       "_dom_classes": [],
       "_model_module": "@jupyter-widgets/controls",
       "_model_module_version": "1.5.0",
       "_model_name": "HBoxModel",
       "_view_count": null,
       "_view_module": "@jupyter-widgets/controls",
       "_view_module_version": "1.5.0",
       "_view_name": "HBoxView",
       "box_style": "",
       "children": [
        "IPY_MODEL_03ffe3ec9ae24df6ac237479559c0921",
        "IPY_MODEL_d40747b4500f491e986b5b5a3dafd0fa",
        "IPY_MODEL_42d2cb3dc9254d8297146215ba664517"
       ],
       "layout": "IPY_MODEL_2fddc08124794e0395bea84579641673"
      }
     },
     "b4ee16c7e0a4410a8d2afa56a62629d0": {
      "model_module": "@jupyter-widgets/base",
      "model_module_version": "1.2.0",
      "model_name": "LayoutModel",
      "state": {
       "_model_module": "@jupyter-widgets/base",
       "_model_module_version": "1.2.0",
       "_model_name": "LayoutModel",
       "_view_count": null,
       "_view_module": "@jupyter-widgets/base",
       "_view_module_version": "1.2.0",
       "_view_name": "LayoutView",
       "align_content": null,
       "align_items": null,
       "align_self": null,
       "border": null,
       "bottom": null,
       "display": null,
       "flex": null,
       "flex_flow": null,
       "grid_area": null,
       "grid_auto_columns": null,
       "grid_auto_flow": null,
       "grid_auto_rows": null,
       "grid_column": null,
       "grid_gap": null,
       "grid_row": null,
       "grid_template_areas": null,
       "grid_template_columns": null,
       "grid_template_rows": null,
       "height": null,
       "justify_content": null,
       "justify_items": null,
       "left": null,
       "margin": null,
       "max_height": null,
       "max_width": null,
       "min_height": null,
       "min_width": null,
       "object_fit": null,
       "object_position": null,
       "order": null,
       "overflow": null,
       "overflow_x": null,
       "overflow_y": null,
       "padding": null,
       "right": null,
       "top": null,
       "visibility": null,
       "width": null
      }
     },
     "d40747b4500f491e986b5b5a3dafd0fa": {
      "model_module": "@jupyter-widgets/controls",
      "model_module_version": "1.5.0",
      "model_name": "FloatProgressModel",
      "state": {
       "_dom_classes": [],
       "_model_module": "@jupyter-widgets/controls",
       "_model_module_version": "1.5.0",
       "_model_name": "FloatProgressModel",
       "_view_count": null,
       "_view_module": "@jupyter-widgets/controls",
       "_view_module_version": "1.5.0",
       "_view_name": "ProgressView",
       "bar_style": "success",
       "description": "",
       "description_tooltip": null,
       "layout": "IPY_MODEL_b4ee16c7e0a4410a8d2afa56a62629d0",
       "max": 21355344.0,
       "min": 0.0,
       "orientation": "horizontal",
       "style": "IPY_MODEL_de47820d4a0845ce91db269b31ec92bd",
       "value": 21355344.0
      }
     },
     "de47820d4a0845ce91db269b31ec92bd": {
      "model_module": "@jupyter-widgets/controls",
      "model_module_version": "1.5.0",
      "model_name": "ProgressStyleModel",
      "state": {
       "_model_module": "@jupyter-widgets/controls",
       "_model_module_version": "1.5.0",
       "_model_name": "ProgressStyleModel",
       "_view_count": null,
       "_view_module": "@jupyter-widgets/base",
       "_view_module_version": "1.2.0",
       "_view_name": "StyleView",
       "bar_color": null,
       "description_width": ""
      }
     },
     "ea659e88511c423aa8d3f04167b7e8ae": {
      "model_module": "@jupyter-widgets/controls",
      "model_module_version": "1.5.0",
      "model_name": "DescriptionStyleModel",
      "state": {
       "_model_module": "@jupyter-widgets/controls",
       "_model_module_version": "1.5.0",
       "_model_name": "DescriptionStyleModel",
       "_view_count": null,
       "_view_module": "@jupyter-widgets/base",
       "_view_module_version": "1.2.0",
       "_view_name": "StyleView",
       "description_width": ""
      }
     }
    },
    "version_major": 2,
    "version_minor": 0
   }
  }
 },
 "nbformat": 4,
 "nbformat_minor": 5
}
