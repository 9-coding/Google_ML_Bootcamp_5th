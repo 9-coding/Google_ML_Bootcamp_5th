{
 "cells": [
  {
   "cell_type": "markdown",
   "id": "27189220",
   "metadata": {
    "papermill": {
     "duration": 0.016373,
     "end_time": "2024-08-20T05:03:56.170372",
     "exception": false,
     "start_time": "2024-08-20T05:03:56.153999",
     "status": "completed"
    },
    "tags": []
   },
   "source": [
    "# <span><h1 style = \"font-family: garamond; font-size: 40px; font-style: normal; letter-spcaing: 3px; background-color: #f6f5f5; color :#fe346e; border-radius: 100px 100px; text-align:center\">Import Required Libraries 📚</h1></span>"
   ]
  },
  {
   "cell_type": "code",
   "execution_count": 1,
   "id": "878d1f1d",
   "metadata": {
    "execution": {
     "iopub.execute_input": "2024-08-20T05:03:56.204084Z",
     "iopub.status.busy": "2024-08-20T05:03:56.203724Z",
     "iopub.status.idle": "2024-08-20T05:04:11.986058Z",
     "shell.execute_reply": "2024-08-20T05:04:11.984995Z"
    },
    "papermill": {
     "duration": 15.801913,
     "end_time": "2024-08-20T05:04:11.988655",
     "exception": false,
     "start_time": "2024-08-20T05:03:56.186742",
     "status": "completed"
    },
    "tags": []
   },
   "outputs": [
    {
     "name": "stdout",
     "output_type": "stream",
     "text": [
      "Collecting torcheval\r\n",
      "  Downloading torcheval-0.0.7-py3-none-any.whl.metadata (8.6 kB)\r\n",
      "Requirement already satisfied: typing-extensions in /opt/conda/lib/python3.10/site-packages (from torcheval) (4.9.0)\r\n",
      "Downloading torcheval-0.0.7-py3-none-any.whl (179 kB)\r\n",
      "\u001b[2K   \u001b[90m━━━━━━━━━━━━━━━━━━━━━━━━━━━━━━━━━━━━━━━━\u001b[0m \u001b[32m179.2/179.2 kB\u001b[0m \u001b[31m3.3 MB/s\u001b[0m eta \u001b[36m0:00:00\u001b[0m\r\n",
      "\u001b[?25hInstalling collected packages: torcheval\r\n",
      "Successfully installed torcheval-0.0.7\r\n"
     ]
    }
   ],
   "source": [
    "!pip install torcheval"
   ]
  },
  {
   "cell_type": "code",
   "execution_count": 2,
   "id": "bb5edad9",
   "metadata": {
    "execution": {
     "iopub.execute_input": "2024-08-20T05:04:12.024000Z",
     "iopub.status.busy": "2024-08-20T05:04:12.023418Z",
     "iopub.status.idle": "2024-08-20T05:04:26.156930Z",
     "shell.execute_reply": "2024-08-20T05:04:26.155432Z"
    },
    "papermill": {
     "duration": 14.154316,
     "end_time": "2024-08-20T05:04:26.159949",
     "exception": false,
     "start_time": "2024-08-20T05:04:12.005633",
     "status": "completed"
    },
    "tags": []
   },
   "outputs": [],
   "source": [
    "!pip install --quiet wandb"
   ]
  },
  {
   "cell_type": "code",
   "execution_count": 3,
   "id": "4d614fd4",
   "metadata": {
    "execution": {
     "iopub.execute_input": "2024-08-20T05:04:26.198051Z",
     "iopub.status.busy": "2024-08-20T05:04:26.197638Z",
     "iopub.status.idle": "2024-08-20T05:04:40.327141Z",
     "shell.execute_reply": "2024-08-20T05:04:40.325835Z"
    },
    "papermill": {
     "duration": 14.151389,
     "end_time": "2024-08-20T05:04:40.329859",
     "exception": false,
     "start_time": "2024-08-20T05:04:26.178470",
     "status": "completed"
    },
    "tags": []
   },
   "outputs": [],
   "source": [
    "!pip install --quiet --pre timm"
   ]
  },
  {
   "cell_type": "code",
   "execution_count": 4,
   "id": "b7094d66",
   "metadata": {
    "execution": {
     "iopub.execute_input": "2024-08-20T05:04:40.367306Z",
     "iopub.status.busy": "2024-08-20T05:04:40.366566Z",
     "iopub.status.idle": "2024-08-20T05:04:44.331883Z",
     "shell.execute_reply": "2024-08-20T05:04:44.330830Z"
    },
    "papermill": {
     "duration": 3.986035,
     "end_time": "2024-08-20T05:04:44.334499",
     "exception": false,
     "start_time": "2024-08-20T05:04:40.348464",
     "status": "completed"
    },
    "tags": []
   },
   "outputs": [
    {
     "name": "stdout",
     "output_type": "stream",
     "text": [
      "\u001b[34m\u001b[1mwandb\u001b[0m: \u001b[33mWARNING\u001b[0m If you're specifying your api key in code, ensure this code is not shared publicly.\r\n",
      "\u001b[34m\u001b[1mwandb\u001b[0m: \u001b[33mWARNING\u001b[0m Consider setting the WANDB_API_KEY environment variable, or running `wandb login` from the command line.\r\n",
      "\u001b[34m\u001b[1mwandb\u001b[0m: Appending key for api.wandb.ai to your netrc file: /root/.netrc\r\n"
     ]
    }
   ],
   "source": [
    "!wandb login 38797e5fb1be476dd3af2891a6182c18cfd5a10a"
   ]
  },
  {
   "cell_type": "code",
   "execution_count": 5,
   "id": "595e4ec5",
   "metadata": {
    "execution": {
     "iopub.execute_input": "2024-08-20T05:04:44.370521Z",
     "iopub.status.busy": "2024-08-20T05:04:44.370114Z",
     "iopub.status.idle": "2024-08-20T05:05:02.745214Z",
     "shell.execute_reply": "2024-08-20T05:05:02.744046Z"
    },
    "papermill": {
     "duration": 18.396625,
     "end_time": "2024-08-20T05:05:02.747944",
     "exception": false,
     "start_time": "2024-08-20T05:04:44.351319",
     "status": "completed"
    },
    "tags": []
   },
   "outputs": [
    {
     "name": "stderr",
     "output_type": "stream",
     "text": [
      "\u001b[34m\u001b[1mwandb\u001b[0m: Currently logged in as: \u001b[33m9-coding-lab\u001b[0m (\u001b[33m9-coding\u001b[0m). Use \u001b[1m`wandb login --relogin`\u001b[0m to force relogin\n",
      "\u001b[34m\u001b[1mwandb\u001b[0m: wandb version 0.17.7 is available!  To upgrade, please run:\n",
      "\u001b[34m\u001b[1mwandb\u001b[0m:  $ pip install wandb --upgrade\n",
      "\u001b[34m\u001b[1mwandb\u001b[0m: Tracking run with wandb version 0.17.4\n",
      "\u001b[34m\u001b[1mwandb\u001b[0m: Run data is saved locally in \u001b[35m\u001b[1m/kaggle/working/wandb/run-20240820_050446-gaw37l3x\u001b[0m\n",
      "\u001b[34m\u001b[1mwandb\u001b[0m: Run \u001b[1m`wandb offline`\u001b[0m to turn off syncing.\n",
      "\u001b[34m\u001b[1mwandb\u001b[0m: Syncing run \u001b[33mdeft-eon-49\u001b[0m\n",
      "\u001b[34m\u001b[1mwandb\u001b[0m: ⭐️ View project at \u001b[34m\u001b[4mhttps://wandb.ai/9-coding/ISIC_2024\u001b[0m\n",
      "\u001b[34m\u001b[1mwandb\u001b[0m: 🚀 View run at \u001b[34m\u001b[4mhttps://wandb.ai/9-coding/ISIC_2024/runs/gaw37l3x\u001b[0m\n"
     ]
    }
   ],
   "source": [
    "import wandb\n",
    "wandb.init(project='ISIC_2024')\n",
    "wandb.run.name = 'resnext50_lr-0.0001_Adam'"
   ]
  },
  {
   "cell_type": "code",
   "execution_count": 6,
   "id": "e7b8e5db",
   "metadata": {
    "execution": {
     "iopub.execute_input": "2024-08-20T05:05:02.787038Z",
     "iopub.status.busy": "2024-08-20T05:05:02.786618Z",
     "iopub.status.idle": "2024-08-20T05:05:12.047718Z",
     "shell.execute_reply": "2024-08-20T05:05:12.046668Z"
    },
    "papermill": {
     "duration": 9.283722,
     "end_time": "2024-08-20T05:05:12.050345",
     "exception": false,
     "start_time": "2024-08-20T05:05:02.766623",
     "status": "completed"
    },
    "tags": []
   },
   "outputs": [],
   "source": [
    "import os\n",
    "import gc\n",
    "import cv2\n",
    "import math\n",
    "import copy\n",
    "import time\n",
    "import random\n",
    "import glob\n",
    "from matplotlib import pyplot as plt\n",
    "\n",
    "# For data manipulation\n",
    "import numpy as np\n",
    "import pandas as pd\n",
    "\n",
    "# Pytorch Imports\n",
    "import torch\n",
    "import torch.nn as nn\n",
    "import torch.optim as optim\n",
    "import torch.nn.functional as F\n",
    "from torch.optim import lr_scheduler\n",
    "from torch.utils.data import Dataset, DataLoader\n",
    "from torch.cuda import amp\n",
    "import torchvision\n",
    "from torcheval.metrics.functional import binary_auroc\n",
    "\n",
    "import torchvision.models as models\n",
    "from sklearn.metrics import roc_auc_score\n",
    "\n",
    "# Utils\n",
    "import joblib\n",
    "from tqdm import tqdm\n",
    "from collections import defaultdict\n",
    "\n",
    "# Sklearn Imports\n",
    "from sklearn.preprocessing import LabelEncoder\n",
    "from sklearn.model_selection import StratifiedKFold, StratifiedGroupKFold \n",
    "\n",
    "# For Image Models\n",
    "import timm\n",
    "\n",
    "# Albumentations for augmentations\n",
    "import albumentations as A\n",
    "from albumentations.pytorch import ToTensorV2\n",
    "\n",
    "# For colored terminal text\n",
    "from colorama import Fore, Back, Style\n",
    "b_ = Fore.BLUE\n",
    "sr_ = Style.RESET_ALL\n",
    "\n",
    "import warnings\n",
    "warnings.filterwarnings(\"ignore\")\n",
    "\n",
    "# For descriptive error messages\n",
    "os.environ['CUDA_LAUNCH_BLOCKING'] = \"1\""
   ]
  },
  {
   "cell_type": "markdown",
   "id": "dcdef223",
   "metadata": {
    "papermill": {
     "duration": 0.017066,
     "end_time": "2024-08-20T05:05:12.084712",
     "exception": false,
     "start_time": "2024-08-20T05:05:12.067646",
     "status": "completed"
    },
    "tags": []
   },
   "source": [
    "# <span><h1 style = \"font-family: garamond; font-size: 40px; font-style: normal; letter-spcaing: 3px; background-color: #f6f5f5; color :#fe346e; border-radius: 100px 100px; text-align:center\">Training Configuration ⚙️</h1></span>"
   ]
  },
  {
   "cell_type": "code",
   "execution_count": 7,
   "id": "8fe3f17f",
   "metadata": {
    "execution": {
     "iopub.execute_input": "2024-08-20T05:05:12.120982Z",
     "iopub.status.busy": "2024-08-20T05:05:12.119975Z",
     "iopub.status.idle": "2024-08-20T05:05:12.190226Z",
     "shell.execute_reply": "2024-08-20T05:05:12.189193Z"
    },
    "papermill": {
     "duration": 0.090906,
     "end_time": "2024-08-20T05:05:12.192522",
     "exception": false,
     "start_time": "2024-08-20T05:05:12.101616",
     "status": "completed"
    },
    "tags": []
   },
   "outputs": [],
   "source": [
    "CONFIG = {\n",
    "    \"seed\": 42,\n",
    "    \"epochs\": 50,\n",
    "    \"img_size\": 384,\n",
    "    \"model_name\": \"tf_efficientnet_b3\",\n",
    "    \"checkpoint_path\" : \"/kaggle/input/tf-efficientnet/pytorch/tf-efficientnet-b3/1/tf_efficientnet_b3_aa-84b4657e.pth\",\n",
    "    \"train_batch_size\": 32,\n",
    "    \"valid_batch_size\": 32,\n",
    "    \"learning_rate\": 1e-4,\n",
    "    \"scheduler\": 'CosineAnnealingLR',\n",
    "    \"min_lr\": 1e-6,\n",
    "    \"T_max\": 500,\n",
    "    \"weight_decay\": 1e-6,\n",
    "    \"fold\" : 0,\n",
    "    \"n_fold\": 5,\n",
    "    \"n_accumulate\": 1,\n",
    "    \"device\": torch.device(\"cuda:0\" if torch.cuda.is_available() else \"cpu\"),\n",
    "}"
   ]
  },
  {
   "cell_type": "markdown",
   "id": "64501872",
   "metadata": {
    "papermill": {
     "duration": 0.017088,
     "end_time": "2024-08-20T05:05:12.227200",
     "exception": false,
     "start_time": "2024-08-20T05:05:12.210112",
     "status": "completed"
    },
    "tags": []
   },
   "source": [
    "# <span><h1 style = \"font-family: garamond; font-size: 40px; font-style: normal; letter-spcaing: 3px; background-color: #f6f5f5; color :#fe346e; border-radius: 100px 100px; text-align:center\">Set Seed for Reproducibility</h1></span>"
   ]
  },
  {
   "cell_type": "code",
   "execution_count": 8,
   "id": "e72d9657",
   "metadata": {
    "execution": {
     "iopub.execute_input": "2024-08-20T05:05:12.262706Z",
     "iopub.status.busy": "2024-08-20T05:05:12.262336Z",
     "iopub.status.idle": "2024-08-20T05:05:12.272166Z",
     "shell.execute_reply": "2024-08-20T05:05:12.271246Z"
    },
    "papermill": {
     "duration": 0.030028,
     "end_time": "2024-08-20T05:05:12.274439",
     "exception": false,
     "start_time": "2024-08-20T05:05:12.244411",
     "status": "completed"
    },
    "tags": []
   },
   "outputs": [],
   "source": [
    "def set_seed(seed=42):\n",
    "    '''Sets the seed of the entire notebook so results are the same every time we run.\n",
    "    This is for REPRODUCIBILITY.'''\n",
    "    np.random.seed(seed)\n",
    "    torch.manual_seed(seed)\n",
    "    torch.cuda.manual_seed(seed)\n",
    "    # When running on the CuDNN backend, two further options must be set\n",
    "    torch.backends.cudnn.deterministic = True\n",
    "    torch.backends.cudnn.benchmark = False\n",
    "    # Set a fixed value for the hash seed\n",
    "    os.environ['PYTHONHASHSEED'] = str(seed)\n",
    "    \n",
    "set_seed(CONFIG['seed'])"
   ]
  },
  {
   "cell_type": "code",
   "execution_count": 9,
   "id": "cceafd89",
   "metadata": {
    "execution": {
     "iopub.execute_input": "2024-08-20T05:05:12.311367Z",
     "iopub.status.busy": "2024-08-20T05:05:12.310561Z",
     "iopub.status.idle": "2024-08-20T05:05:12.315273Z",
     "shell.execute_reply": "2024-08-20T05:05:12.314210Z"
    },
    "papermill": {
     "duration": 0.025657,
     "end_time": "2024-08-20T05:05:12.317567",
     "exception": false,
     "start_time": "2024-08-20T05:05:12.291910",
     "status": "completed"
    },
    "tags": []
   },
   "outputs": [],
   "source": [
    "ROOT_DIR = \"/kaggle/input/isic-2024-challenge\"\n",
    "TRAIN_DIR = f'{ROOT_DIR}/train-image/image'"
   ]
  },
  {
   "cell_type": "code",
   "execution_count": 10,
   "id": "b0d3de5c",
   "metadata": {
    "execution": {
     "iopub.execute_input": "2024-08-20T05:05:12.354026Z",
     "iopub.status.busy": "2024-08-20T05:05:12.353368Z",
     "iopub.status.idle": "2024-08-20T05:05:12.358280Z",
     "shell.execute_reply": "2024-08-20T05:05:12.357218Z"
    },
    "papermill": {
     "duration": 0.025038,
     "end_time": "2024-08-20T05:05:12.360503",
     "exception": false,
     "start_time": "2024-08-20T05:05:12.335465",
     "status": "completed"
    },
    "tags": []
   },
   "outputs": [],
   "source": [
    "def get_train_file_path(image_id):\n",
    "    return f\"{TRAIN_DIR}/{image_id}.jpg\""
   ]
  },
  {
   "cell_type": "markdown",
   "id": "4cb3b03c",
   "metadata": {
    "papermill": {
     "duration": 0.017252,
     "end_time": "2024-08-20T05:05:12.395404",
     "exception": false,
     "start_time": "2024-08-20T05:05:12.378152",
     "status": "completed"
    },
    "tags": []
   },
   "source": [
    "# <h1 style = \"font-family: garamond; font-size: 40px; font-style: normal; letter-spcaing: 3px; background-color: #f6f5f5; color :#fe346e; border-radius: 100px 100px; text-align:center\">Read the Data 📖</h1>"
   ]
  },
  {
   "cell_type": "code",
   "execution_count": 11,
   "id": "acf6ce02",
   "metadata": {
    "execution": {
     "iopub.execute_input": "2024-08-20T05:05:12.433603Z",
     "iopub.status.busy": "2024-08-20T05:05:12.432962Z",
     "iopub.status.idle": "2024-08-20T05:05:17.697114Z",
     "shell.execute_reply": "2024-08-20T05:05:17.695585Z"
    },
    "papermill": {
     "duration": 5.285867,
     "end_time": "2024-08-20T05:05:17.699855",
     "exception": false,
     "start_time": "2024-08-20T05:05:12.413988",
     "status": "completed"
    },
    "tags": []
   },
   "outputs": [],
   "source": [
    "train_images = sorted(glob.glob(f\"{TRAIN_DIR}/*.jpg\"))"
   ]
  },
  {
   "cell_type": "code",
   "execution_count": 12,
   "id": "b21c9eb2",
   "metadata": {
    "execution": {
     "iopub.execute_input": "2024-08-20T05:05:17.739857Z",
     "iopub.status.busy": "2024-08-20T05:05:17.739072Z",
     "iopub.status.idle": "2024-08-20T05:05:26.474910Z",
     "shell.execute_reply": "2024-08-20T05:05:26.473965Z"
    },
    "papermill": {
     "duration": 8.758051,
     "end_time": "2024-08-20T05:05:26.477157",
     "exception": false,
     "start_time": "2024-08-20T05:05:17.719106",
     "status": "completed"
    },
    "tags": []
   },
   "outputs": [
    {
     "name": "stdout",
     "output_type": "stream",
     "text": [
      "        df.shape, # of positive cases, # of patients\n",
      "original> (401059, 55) 393 (1042,)\n",
      "filtered> (8253, 55) 393 (950,)\n"
     ]
    },
    {
     "data": {
      "text/html": [
       "<div>\n",
       "<style scoped>\n",
       "    .dataframe tbody tr th:only-of-type {\n",
       "        vertical-align: middle;\n",
       "    }\n",
       "\n",
       "    .dataframe tbody tr th {\n",
       "        vertical-align: top;\n",
       "    }\n",
       "\n",
       "    .dataframe thead th {\n",
       "        text-align: right;\n",
       "    }\n",
       "</style>\n",
       "<table border=\"1\" class=\"dataframe\">\n",
       "  <thead>\n",
       "    <tr style=\"text-align: right;\">\n",
       "      <th></th>\n",
       "      <th>isic_id</th>\n",
       "      <th>target</th>\n",
       "      <th>patient_id</th>\n",
       "      <th>age_approx</th>\n",
       "      <th>sex</th>\n",
       "      <th>anatom_site_general</th>\n",
       "      <th>clin_size_long_diam_mm</th>\n",
       "      <th>image_type</th>\n",
       "      <th>tbp_tile_type</th>\n",
       "      <th>tbp_lv_A</th>\n",
       "      <th>...</th>\n",
       "      <th>iddx_full</th>\n",
       "      <th>iddx_1</th>\n",
       "      <th>iddx_2</th>\n",
       "      <th>iddx_3</th>\n",
       "      <th>iddx_4</th>\n",
       "      <th>iddx_5</th>\n",
       "      <th>mel_mitotic_index</th>\n",
       "      <th>mel_thick_mm</th>\n",
       "      <th>tbp_lv_dnn_lesion_confidence</th>\n",
       "      <th>file_path</th>\n",
       "    </tr>\n",
       "  </thead>\n",
       "  <tbody>\n",
       "    <tr>\n",
       "      <th>0</th>\n",
       "      <td>ISIC_0082829</td>\n",
       "      <td>1</td>\n",
       "      <td>IP_3249371</td>\n",
       "      <td>80.0</td>\n",
       "      <td>female</td>\n",
       "      <td>anterior torso</td>\n",
       "      <td>9.27</td>\n",
       "      <td>TBP tile: close-up</td>\n",
       "      <td>3D: XP</td>\n",
       "      <td>18.093368</td>\n",
       "      <td>...</td>\n",
       "      <td>Malignant::Malignant epidermal proliferations:...</td>\n",
       "      <td>Malignant</td>\n",
       "      <td>Malignant epidermal proliferations</td>\n",
       "      <td>Squamous cell carcinoma in situ</td>\n",
       "      <td>NaN</td>\n",
       "      <td>NaN</td>\n",
       "      <td>NaN</td>\n",
       "      <td>NaN</td>\n",
       "      <td>72.211683</td>\n",
       "      <td>/kaggle/input/isic-2024-challenge/train-image/...</td>\n",
       "    </tr>\n",
       "    <tr>\n",
       "      <th>1</th>\n",
       "      <td>ISIC_0096034</td>\n",
       "      <td>1</td>\n",
       "      <td>IP_6723298</td>\n",
       "      <td>75.0</td>\n",
       "      <td>male</td>\n",
       "      <td>head/neck</td>\n",
       "      <td>3.88</td>\n",
       "      <td>TBP tile: close-up</td>\n",
       "      <td>3D: white</td>\n",
       "      <td>26.187010</td>\n",
       "      <td>...</td>\n",
       "      <td>Malignant::Malignant adnexal epithelial prolif...</td>\n",
       "      <td>Malignant</td>\n",
       "      <td>Malignant adnexal epithelial proliferations - ...</td>\n",
       "      <td>Basal cell carcinoma</td>\n",
       "      <td>Basal cell carcinoma, Nodular</td>\n",
       "      <td>NaN</td>\n",
       "      <td>NaN</td>\n",
       "      <td>NaN</td>\n",
       "      <td>94.559590</td>\n",
       "      <td>/kaggle/input/isic-2024-challenge/train-image/...</td>\n",
       "    </tr>\n",
       "    <tr>\n",
       "      <th>2</th>\n",
       "      <td>ISIC_0104229</td>\n",
       "      <td>1</td>\n",
       "      <td>IP_9057861</td>\n",
       "      <td>80.0</td>\n",
       "      <td>male</td>\n",
       "      <td>anterior torso</td>\n",
       "      <td>6.55</td>\n",
       "      <td>TBP tile: close-up</td>\n",
       "      <td>3D: white</td>\n",
       "      <td>33.480140</td>\n",
       "      <td>...</td>\n",
       "      <td>Malignant::Malignant adnexal epithelial prolif...</td>\n",
       "      <td>Malignant</td>\n",
       "      <td>Malignant adnexal epithelial proliferations - ...</td>\n",
       "      <td>Basal cell carcinoma</td>\n",
       "      <td>Basal cell carcinoma, Nodular</td>\n",
       "      <td>NaN</td>\n",
       "      <td>NaN</td>\n",
       "      <td>NaN</td>\n",
       "      <td>66.196170</td>\n",
       "      <td>/kaggle/input/isic-2024-challenge/train-image/...</td>\n",
       "    </tr>\n",
       "    <tr>\n",
       "      <th>3</th>\n",
       "      <td>ISIC_0119495</td>\n",
       "      <td>1</td>\n",
       "      <td>IP_6856511</td>\n",
       "      <td>60.0</td>\n",
       "      <td>male</td>\n",
       "      <td>upper extremity</td>\n",
       "      <td>5.27</td>\n",
       "      <td>TBP tile: close-up</td>\n",
       "      <td>3D: white</td>\n",
       "      <td>25.872050</td>\n",
       "      <td>...</td>\n",
       "      <td>Malignant::Malignant epidermal proliferations:...</td>\n",
       "      <td>Malignant</td>\n",
       "      <td>Malignant epidermal proliferations</td>\n",
       "      <td>Squamous cell carcinoma, Invasive</td>\n",
       "      <td>NaN</td>\n",
       "      <td>NaN</td>\n",
       "      <td>NaN</td>\n",
       "      <td>NaN</td>\n",
       "      <td>99.991270</td>\n",
       "      <td>/kaggle/input/isic-2024-challenge/train-image/...</td>\n",
       "    </tr>\n",
       "    <tr>\n",
       "      <th>4</th>\n",
       "      <td>ISIC_0157834</td>\n",
       "      <td>1</td>\n",
       "      <td>IP_3927284</td>\n",
       "      <td>55.0</td>\n",
       "      <td>male</td>\n",
       "      <td>posterior torso</td>\n",
       "      <td>5.29</td>\n",
       "      <td>TBP tile: close-up</td>\n",
       "      <td>3D: white</td>\n",
       "      <td>30.966662</td>\n",
       "      <td>...</td>\n",
       "      <td>Malignant::Malignant adnexal epithelial prolif...</td>\n",
       "      <td>Malignant</td>\n",
       "      <td>Malignant adnexal epithelial proliferations - ...</td>\n",
       "      <td>Basal cell carcinoma</td>\n",
       "      <td>Basal cell carcinoma, Superficial</td>\n",
       "      <td>NaN</td>\n",
       "      <td>NaN</td>\n",
       "      <td>NaN</td>\n",
       "      <td>99.960846</td>\n",
       "      <td>/kaggle/input/isic-2024-challenge/train-image/...</td>\n",
       "    </tr>\n",
       "    <tr>\n",
       "      <th>...</th>\n",
       "      <td>...</td>\n",
       "      <td>...</td>\n",
       "      <td>...</td>\n",
       "      <td>...</td>\n",
       "      <td>...</td>\n",
       "      <td>...</td>\n",
       "      <td>...</td>\n",
       "      <td>...</td>\n",
       "      <td>...</td>\n",
       "      <td>...</td>\n",
       "      <td>...</td>\n",
       "      <td>...</td>\n",
       "      <td>...</td>\n",
       "      <td>...</td>\n",
       "      <td>...</td>\n",
       "      <td>...</td>\n",
       "      <td>...</td>\n",
       "      <td>...</td>\n",
       "      <td>...</td>\n",
       "      <td>...</td>\n",
       "      <td>...</td>\n",
       "    </tr>\n",
       "    <tr>\n",
       "      <th>8248</th>\n",
       "      <td>ISIC_0267522</td>\n",
       "      <td>0</td>\n",
       "      <td>IP_9577633</td>\n",
       "      <td>50.0</td>\n",
       "      <td>male</td>\n",
       "      <td>lower extremity</td>\n",
       "      <td>4.94</td>\n",
       "      <td>TBP tile: close-up</td>\n",
       "      <td>3D: XP</td>\n",
       "      <td>21.738880</td>\n",
       "      <td>...</td>\n",
       "      <td>Benign</td>\n",
       "      <td>Benign</td>\n",
       "      <td>NaN</td>\n",
       "      <td>NaN</td>\n",
       "      <td>NaN</td>\n",
       "      <td>NaN</td>\n",
       "      <td>NaN</td>\n",
       "      <td>NaN</td>\n",
       "      <td>96.325510</td>\n",
       "      <td>/kaggle/input/isic-2024-challenge/train-image/...</td>\n",
       "    </tr>\n",
       "    <tr>\n",
       "      <th>8249</th>\n",
       "      <td>ISIC_0267560</td>\n",
       "      <td>0</td>\n",
       "      <td>IP_7746572</td>\n",
       "      <td>80.0</td>\n",
       "      <td>male</td>\n",
       "      <td>anterior torso</td>\n",
       "      <td>9.32</td>\n",
       "      <td>TBP tile: close-up</td>\n",
       "      <td>3D: white</td>\n",
       "      <td>18.481750</td>\n",
       "      <td>...</td>\n",
       "      <td>Benign</td>\n",
       "      <td>Benign</td>\n",
       "      <td>NaN</td>\n",
       "      <td>NaN</td>\n",
       "      <td>NaN</td>\n",
       "      <td>NaN</td>\n",
       "      <td>NaN</td>\n",
       "      <td>NaN</td>\n",
       "      <td>97.022320</td>\n",
       "      <td>/kaggle/input/isic-2024-challenge/train-image/...</td>\n",
       "    </tr>\n",
       "    <tr>\n",
       "      <th>8250</th>\n",
       "      <td>ISIC_0267568</td>\n",
       "      <td>0</td>\n",
       "      <td>IP_0379091</td>\n",
       "      <td>60.0</td>\n",
       "      <td>male</td>\n",
       "      <td>anterior torso</td>\n",
       "      <td>3.45</td>\n",
       "      <td>TBP tile: close-up</td>\n",
       "      <td>3D: white</td>\n",
       "      <td>13.901465</td>\n",
       "      <td>...</td>\n",
       "      <td>Benign</td>\n",
       "      <td>Benign</td>\n",
       "      <td>NaN</td>\n",
       "      <td>NaN</td>\n",
       "      <td>NaN</td>\n",
       "      <td>NaN</td>\n",
       "      <td>NaN</td>\n",
       "      <td>NaN</td>\n",
       "      <td>72.961688</td>\n",
       "      <td>/kaggle/input/isic-2024-challenge/train-image/...</td>\n",
       "    </tr>\n",
       "    <tr>\n",
       "      <th>8251</th>\n",
       "      <td>ISIC_0267594</td>\n",
       "      <td>0</td>\n",
       "      <td>IP_1433033</td>\n",
       "      <td>70.0</td>\n",
       "      <td>NaN</td>\n",
       "      <td>lower extremity</td>\n",
       "      <td>3.00</td>\n",
       "      <td>TBP tile: close-up</td>\n",
       "      <td>3D: XP</td>\n",
       "      <td>17.986882</td>\n",
       "      <td>...</td>\n",
       "      <td>Benign</td>\n",
       "      <td>Benign</td>\n",
       "      <td>NaN</td>\n",
       "      <td>NaN</td>\n",
       "      <td>NaN</td>\n",
       "      <td>NaN</td>\n",
       "      <td>NaN</td>\n",
       "      <td>NaN</td>\n",
       "      <td>99.899274</td>\n",
       "      <td>/kaggle/input/isic-2024-challenge/train-image/...</td>\n",
       "    </tr>\n",
       "    <tr>\n",
       "      <th>8252</th>\n",
       "      <td>ISIC_0267606</td>\n",
       "      <td>0</td>\n",
       "      <td>IP_8565023</td>\n",
       "      <td>30.0</td>\n",
       "      <td>male</td>\n",
       "      <td>head/neck</td>\n",
       "      <td>3.10</td>\n",
       "      <td>TBP tile: close-up</td>\n",
       "      <td>3D: XP</td>\n",
       "      <td>13.420060</td>\n",
       "      <td>...</td>\n",
       "      <td>Benign</td>\n",
       "      <td>Benign</td>\n",
       "      <td>NaN</td>\n",
       "      <td>NaN</td>\n",
       "      <td>NaN</td>\n",
       "      <td>NaN</td>\n",
       "      <td>NaN</td>\n",
       "      <td>NaN</td>\n",
       "      <td>99.449560</td>\n",
       "      <td>/kaggle/input/isic-2024-challenge/train-image/...</td>\n",
       "    </tr>\n",
       "  </tbody>\n",
       "</table>\n",
       "<p>8253 rows × 56 columns</p>\n",
       "</div>"
      ],
      "text/plain": [
       "           isic_id  target  patient_id  age_approx     sex  \\\n",
       "0     ISIC_0082829       1  IP_3249371        80.0  female   \n",
       "1     ISIC_0096034       1  IP_6723298        75.0    male   \n",
       "2     ISIC_0104229       1  IP_9057861        80.0    male   \n",
       "3     ISIC_0119495       1  IP_6856511        60.0    male   \n",
       "4     ISIC_0157834       1  IP_3927284        55.0    male   \n",
       "...            ...     ...         ...         ...     ...   \n",
       "8248  ISIC_0267522       0  IP_9577633        50.0    male   \n",
       "8249  ISIC_0267560       0  IP_7746572        80.0    male   \n",
       "8250  ISIC_0267568       0  IP_0379091        60.0    male   \n",
       "8251  ISIC_0267594       0  IP_1433033        70.0     NaN   \n",
       "8252  ISIC_0267606       0  IP_8565023        30.0    male   \n",
       "\n",
       "     anatom_site_general  clin_size_long_diam_mm          image_type  \\\n",
       "0         anterior torso                    9.27  TBP tile: close-up   \n",
       "1              head/neck                    3.88  TBP tile: close-up   \n",
       "2         anterior torso                    6.55  TBP tile: close-up   \n",
       "3        upper extremity                    5.27  TBP tile: close-up   \n",
       "4        posterior torso                    5.29  TBP tile: close-up   \n",
       "...                  ...                     ...                 ...   \n",
       "8248     lower extremity                    4.94  TBP tile: close-up   \n",
       "8249      anterior torso                    9.32  TBP tile: close-up   \n",
       "8250      anterior torso                    3.45  TBP tile: close-up   \n",
       "8251     lower extremity                    3.00  TBP tile: close-up   \n",
       "8252           head/neck                    3.10  TBP tile: close-up   \n",
       "\n",
       "     tbp_tile_type   tbp_lv_A  ...  \\\n",
       "0           3D: XP  18.093368  ...   \n",
       "1        3D: white  26.187010  ...   \n",
       "2        3D: white  33.480140  ...   \n",
       "3        3D: white  25.872050  ...   \n",
       "4        3D: white  30.966662  ...   \n",
       "...            ...        ...  ...   \n",
       "8248        3D: XP  21.738880  ...   \n",
       "8249     3D: white  18.481750  ...   \n",
       "8250     3D: white  13.901465  ...   \n",
       "8251        3D: XP  17.986882  ...   \n",
       "8252        3D: XP  13.420060  ...   \n",
       "\n",
       "                                              iddx_full     iddx_1  \\\n",
       "0     Malignant::Malignant epidermal proliferations:...  Malignant   \n",
       "1     Malignant::Malignant adnexal epithelial prolif...  Malignant   \n",
       "2     Malignant::Malignant adnexal epithelial prolif...  Malignant   \n",
       "3     Malignant::Malignant epidermal proliferations:...  Malignant   \n",
       "4     Malignant::Malignant adnexal epithelial prolif...  Malignant   \n",
       "...                                                 ...        ...   \n",
       "8248                                             Benign     Benign   \n",
       "8249                                             Benign     Benign   \n",
       "8250                                             Benign     Benign   \n",
       "8251                                             Benign     Benign   \n",
       "8252                                             Benign     Benign   \n",
       "\n",
       "                                                 iddx_2  \\\n",
       "0                    Malignant epidermal proliferations   \n",
       "1     Malignant adnexal epithelial proliferations - ...   \n",
       "2     Malignant adnexal epithelial proliferations - ...   \n",
       "3                    Malignant epidermal proliferations   \n",
       "4     Malignant adnexal epithelial proliferations - ...   \n",
       "...                                                 ...   \n",
       "8248                                                NaN   \n",
       "8249                                                NaN   \n",
       "8250                                                NaN   \n",
       "8251                                                NaN   \n",
       "8252                                                NaN   \n",
       "\n",
       "                                 iddx_3                             iddx_4  \\\n",
       "0       Squamous cell carcinoma in situ                                NaN   \n",
       "1                  Basal cell carcinoma      Basal cell carcinoma, Nodular   \n",
       "2                  Basal cell carcinoma      Basal cell carcinoma, Nodular   \n",
       "3     Squamous cell carcinoma, Invasive                                NaN   \n",
       "4                  Basal cell carcinoma  Basal cell carcinoma, Superficial   \n",
       "...                                 ...                                ...   \n",
       "8248                                NaN                                NaN   \n",
       "8249                                NaN                                NaN   \n",
       "8250                                NaN                                NaN   \n",
       "8251                                NaN                                NaN   \n",
       "8252                                NaN                                NaN   \n",
       "\n",
       "      iddx_5  mel_mitotic_index  mel_thick_mm  tbp_lv_dnn_lesion_confidence  \\\n",
       "0        NaN                NaN           NaN                     72.211683   \n",
       "1        NaN                NaN           NaN                     94.559590   \n",
       "2        NaN                NaN           NaN                     66.196170   \n",
       "3        NaN                NaN           NaN                     99.991270   \n",
       "4        NaN                NaN           NaN                     99.960846   \n",
       "...      ...                ...           ...                           ...   \n",
       "8248     NaN                NaN           NaN                     96.325510   \n",
       "8249     NaN                NaN           NaN                     97.022320   \n",
       "8250     NaN                NaN           NaN                     72.961688   \n",
       "8251     NaN                NaN           NaN                     99.899274   \n",
       "8252     NaN                NaN           NaN                     99.449560   \n",
       "\n",
       "                                              file_path  \n",
       "0     /kaggle/input/isic-2024-challenge/train-image/...  \n",
       "1     /kaggle/input/isic-2024-challenge/train-image/...  \n",
       "2     /kaggle/input/isic-2024-challenge/train-image/...  \n",
       "3     /kaggle/input/isic-2024-challenge/train-image/...  \n",
       "4     /kaggle/input/isic-2024-challenge/train-image/...  \n",
       "...                                                 ...  \n",
       "8248  /kaggle/input/isic-2024-challenge/train-image/...  \n",
       "8249  /kaggle/input/isic-2024-challenge/train-image/...  \n",
       "8250  /kaggle/input/isic-2024-challenge/train-image/...  \n",
       "8251  /kaggle/input/isic-2024-challenge/train-image/...  \n",
       "8252  /kaggle/input/isic-2024-challenge/train-image/...  \n",
       "\n",
       "[8253 rows x 56 columns]"
      ]
     },
     "execution_count": 12,
     "metadata": {},
     "output_type": "execute_result"
    }
   ],
   "source": [
    "df = pd.read_csv(f\"{ROOT_DIR}/train-metadata.csv\")\n",
    "\n",
    "print(\"        df.shape, # of positive cases, # of patients\")\n",
    "print(\"original>\", df.shape, df.target.sum(), df[\"patient_id\"].unique().shape)\n",
    "\n",
    "df_positive = df[df[\"target\"] == 1].reset_index(drop=True)\n",
    "df_negative = df[df[\"target\"] == 0].reset_index(drop=True)\n",
    "\n",
    "df = pd.concat([df_positive, df_negative.iloc[:df_positive.shape[0]*20, :]])  # positive:negative = 1:20\n",
    "print(\"filtered>\", df.shape, df.target.sum(), df[\"patient_id\"].unique().shape)\n",
    "\n",
    "df['file_path'] = df['isic_id'].apply(get_train_file_path)\n",
    "df = df[ df[\"file_path\"].isin(train_images) ].reset_index(drop=True)\n",
    "df"
   ]
  },
  {
   "cell_type": "code",
   "execution_count": 13,
   "id": "ba10a0d3",
   "metadata": {
    "execution": {
     "iopub.execute_input": "2024-08-20T05:05:26.515839Z",
     "iopub.status.busy": "2024-08-20T05:05:26.515438Z",
     "iopub.status.idle": "2024-08-20T05:05:26.522858Z",
     "shell.execute_reply": "2024-08-20T05:05:26.521663Z"
    },
    "papermill": {
     "duration": 0.029487,
     "end_time": "2024-08-20T05:05:26.524972",
     "exception": false,
     "start_time": "2024-08-20T05:05:26.495485",
     "status": "completed"
    },
    "tags": []
   },
   "outputs": [
    {
     "data": {
      "text/plain": [
       "(8253, 393)"
      ]
     },
     "execution_count": 13,
     "metadata": {},
     "output_type": "execute_result"
    }
   ],
   "source": [
    "df.shape[0], df.target.sum()"
   ]
  },
  {
   "cell_type": "code",
   "execution_count": 14,
   "id": "c5ef87c8",
   "metadata": {
    "execution": {
     "iopub.execute_input": "2024-08-20T05:05:26.564723Z",
     "iopub.status.busy": "2024-08-20T05:05:26.563778Z",
     "iopub.status.idle": "2024-08-20T05:05:26.571150Z",
     "shell.execute_reply": "2024-08-20T05:05:26.570170Z"
    },
    "papermill": {
     "duration": 0.029907,
     "end_time": "2024-08-20T05:05:26.573622",
     "exception": false,
     "start_time": "2024-08-20T05:05:26.543715",
     "status": "completed"
    },
    "tags": []
   },
   "outputs": [
    {
     "data": {
      "text/plain": [
       "10316"
      ]
     },
     "execution_count": 14,
     "metadata": {},
     "output_type": "execute_result"
    }
   ],
   "source": [
    "CONFIG['T_max'] = df.shape[0] * (CONFIG[\"n_fold\"]-1) * CONFIG['epochs'] // CONFIG['train_batch_size'] // CONFIG[\"n_fold\"]\n",
    "CONFIG['T_max']"
   ]
  },
  {
   "cell_type": "markdown",
   "id": "e54978d0",
   "metadata": {
    "papermill": {
     "duration": 0.018871,
     "end_time": "2024-08-20T05:05:26.611961",
     "exception": false,
     "start_time": "2024-08-20T05:05:26.593090",
     "status": "completed"
    },
    "tags": []
   },
   "source": [
    "# <span><h1 style = \"font-family: garamond; font-size: 40px; font-style: normal; letter-spcaing: 3px; background-color: #f6f5f5; color :#fe346e; border-radius: 100px 100px; text-align:center\">Create Folds</h1></span>"
   ]
  },
  {
   "cell_type": "code",
   "execution_count": 15,
   "id": "60bb5b2f",
   "metadata": {
    "execution": {
     "iopub.execute_input": "2024-08-20T05:05:26.649727Z",
     "iopub.status.busy": "2024-08-20T05:05:26.648810Z",
     "iopub.status.idle": "2024-08-20T05:05:27.202426Z",
     "shell.execute_reply": "2024-08-20T05:05:27.201504Z"
    },
    "papermill": {
     "duration": 0.575199,
     "end_time": "2024-08-20T05:05:27.205231",
     "exception": false,
     "start_time": "2024-08-20T05:05:26.630032",
     "status": "completed"
    },
    "tags": []
   },
   "outputs": [],
   "source": [
    "sgkf = StratifiedGroupKFold(n_splits=CONFIG['n_fold'])\n",
    "\n",
    "for fold, ( _, val_) in enumerate(sgkf.split(df, df.target,df.patient_id)):\n",
    "      df.loc[val_ , \"kfold\"] = int(fold)"
   ]
  },
  {
   "cell_type": "markdown",
   "id": "a90fa63e",
   "metadata": {
    "papermill": {
     "duration": 0.019097,
     "end_time": "2024-08-20T05:05:27.245278",
     "exception": false,
     "start_time": "2024-08-20T05:05:27.226181",
     "status": "completed"
    },
    "tags": []
   },
   "source": [
    "# <span><h1 style = \"font-family: garamond; font-size: 40px; font-style: normal; letter-spcaing: 3px; background-color: #f6f5f5; color :#fe346e; border-radius: 100px 100px; text-align:center\">Dataset Class</h1></span>"
   ]
  },
  {
   "cell_type": "code",
   "execution_count": 16,
   "id": "28a1e09e",
   "metadata": {
    "execution": {
     "iopub.execute_input": "2024-08-20T05:05:27.338706Z",
     "iopub.status.busy": "2024-08-20T05:05:27.337853Z",
     "iopub.status.idle": "2024-08-20T05:05:27.352304Z",
     "shell.execute_reply": "2024-08-20T05:05:27.351437Z"
    },
    "papermill": {
     "duration": 0.089926,
     "end_time": "2024-08-20T05:05:27.354474",
     "exception": false,
     "start_time": "2024-08-20T05:05:27.264548",
     "status": "completed"
    },
    "tags": []
   },
   "outputs": [],
   "source": [
    "class ISICDataset_for_Train(Dataset):\n",
    "    def __init__(self, df, transforms=None):\n",
    "        self.df_positive = df[df[\"target\"] == 1].reset_index()\n",
    "        self.df_negative = df[df[\"target\"] == 0].reset_index()\n",
    "        self.file_names_positive = self.df_positive['file_path'].values\n",
    "        self.file_names_negative = self.df_negative['file_path'].values\n",
    "        self.targets_positive = self.df_positive['target'].values\n",
    "        self.targets_negative = self.df_negative['target'].values\n",
    "        self.transforms = transforms\n",
    "        \n",
    "    def __len__(self):\n",
    "        return len(self.df_positive) * 2\n",
    "    \n",
    "    def __getitem__(self, index):\n",
    "        if random.random() >= 0.5:\n",
    "            df = self.df_positive\n",
    "            file_names = self.file_names_positive\n",
    "            targets = self.targets_positive\n",
    "        else:\n",
    "            df = self.df_negative\n",
    "            file_names = self.file_names_negative\n",
    "            targets = self.targets_negative\n",
    "        index = index % df.shape[0]\n",
    "        \n",
    "        img_path = file_names[index]\n",
    "        img = cv2.imread(img_path)\n",
    "        img = cv2.cvtColor(img, cv2.COLOR_BGR2RGB)\n",
    "        target = targets[index]\n",
    "        \n",
    "        if self.transforms:\n",
    "            img = self.transforms(image=img)[\"image\"]\n",
    "            \n",
    "        return {\n",
    "            'image': img,\n",
    "            'target': target\n",
    "        }\n",
    "    \n",
    "class ISICDataset(Dataset):\n",
    "    def __init__(self, df, transforms=None):\n",
    "        self.df = df\n",
    "        self.file_names = df['file_path'].values\n",
    "        self.targets = df['target'].values\n",
    "        self.transforms = transforms\n",
    "        \n",
    "    def __len__(self):\n",
    "        return len(self.df)\n",
    "    \n",
    "    def __getitem__(self, index):\n",
    "        img_path = self.file_names[index]\n",
    "        img = cv2.imread(img_path)\n",
    "        img = cv2.cvtColor(img, cv2.COLOR_BGR2RGB)\n",
    "        target = self.targets[index]\n",
    "        \n",
    "        if self.transforms:\n",
    "            img = self.transforms(image=img)[\"image\"]\n",
    "            \n",
    "        return {\n",
    "            'image': img,\n",
    "            'target': target\n",
    "        }"
   ]
  },
  {
   "cell_type": "markdown",
   "id": "5418bc37",
   "metadata": {
    "papermill": {
     "duration": 0.017707,
     "end_time": "2024-08-20T05:05:27.390480",
     "exception": false,
     "start_time": "2024-08-20T05:05:27.372773",
     "status": "completed"
    },
    "tags": []
   },
   "source": [
    "# <span><h1 style = \"font-family: garamond; font-size: 40px; font-style: normal; letter-spcaing: 3px; background-color: #f6f5f5; color :#fe346e; border-radius: 100px 100px; text-align:center\">Augmentations</h1></span>"
   ]
  },
  {
   "cell_type": "code",
   "execution_count": 17,
   "id": "2f5af70b",
   "metadata": {
    "execution": {
     "iopub.execute_input": "2024-08-20T05:05:27.430505Z",
     "iopub.status.busy": "2024-08-20T05:05:27.430095Z",
     "iopub.status.idle": "2024-08-20T05:05:27.440762Z",
     "shell.execute_reply": "2024-08-20T05:05:27.439740Z"
    },
    "papermill": {
     "duration": 0.033383,
     "end_time": "2024-08-20T05:05:27.442868",
     "exception": false,
     "start_time": "2024-08-20T05:05:27.409485",
     "status": "completed"
    },
    "tags": []
   },
   "outputs": [],
   "source": [
    "data_transforms = {\n",
    "    \"train\": A.Compose([\n",
    "        A.Resize(CONFIG['img_size'], CONFIG['img_size']),\n",
    "        A.RandomRotate90(p=0.5),\n",
    "        A.Flip(p=0.5),\n",
    "        A.Downscale(p=0.25),\n",
    "        A.ShiftScaleRotate(shift_limit=0.1, \n",
    "                           scale_limit=0.15, \n",
    "                           rotate_limit=60, \n",
    "                           p=0.5),\n",
    "        A.HueSaturationValue(\n",
    "                hue_shift_limit=0.2, \n",
    "                sat_shift_limit=0.2, \n",
    "                val_shift_limit=0.2, \n",
    "                p=0.5\n",
    "            ),\n",
    "        A.RandomBrightnessContrast(\n",
    "                brightness_limit=(-0.1,0.1), \n",
    "                contrast_limit=(-0.1, 0.1), \n",
    "                p=0.5\n",
    "            ),\n",
    "        A.Normalize(\n",
    "                mean=[0.485, 0.456, 0.406], \n",
    "                std=[0.229, 0.224, 0.225], \n",
    "                max_pixel_value=255.0, \n",
    "                p=1.0\n",
    "            ),\n",
    "        ToTensorV2()], p=1.),\n",
    "    \n",
    "    \"valid\": A.Compose([\n",
    "        A.Resize(CONFIG['img_size'], CONFIG['img_size']),\n",
    "        A.Normalize(\n",
    "                mean=[0.485, 0.456, 0.406], \n",
    "                std=[0.229, 0.224, 0.225], \n",
    "                max_pixel_value=255.0, \n",
    "                p=1.0\n",
    "            ),\n",
    "        ToTensorV2()], p=1.)\n",
    "}"
   ]
  },
  {
   "cell_type": "markdown",
   "id": "534f7ad6",
   "metadata": {
    "papermill": {
     "duration": 0.018777,
     "end_time": "2024-08-20T05:05:27.481059",
     "exception": false,
     "start_time": "2024-08-20T05:05:27.462282",
     "status": "completed"
    },
    "tags": []
   },
   "source": [
    "# <span><h1 style = \"font-family: garamond; font-size: 40px; font-style: normal; letter-spcaing: 3px; background-color: #f6f5f5; color :#fe346e; border-radius: 100px 100px; text-align:center\">GeM Pooling</h1></span>"
   ]
  },
  {
   "cell_type": "code",
   "execution_count": 18,
   "id": "4a335171",
   "metadata": {
    "execution": {
     "iopub.execute_input": "2024-08-20T05:05:27.520076Z",
     "iopub.status.busy": "2024-08-20T05:05:27.519671Z",
     "iopub.status.idle": "2024-08-20T05:05:27.528714Z",
     "shell.execute_reply": "2024-08-20T05:05:27.527642Z"
    },
    "papermill": {
     "duration": 0.031281,
     "end_time": "2024-08-20T05:05:27.530984",
     "exception": false,
     "start_time": "2024-08-20T05:05:27.499703",
     "status": "completed"
    },
    "tags": []
   },
   "outputs": [],
   "source": [
    "class GeM(nn.Module):\n",
    "    def __init__(self, p=3, eps=1e-6):\n",
    "        super(GeM, self).__init__()\n",
    "        self.p = nn.Parameter(torch.ones(1) * p)\n",
    "        self.eps = eps\n",
    "\n",
    "    def forward(self, x):\n",
    "        if len(x.size()) != 4:\n",
    "            raise ValueError(f\"Expected 4D input (batch_size, channels, height, width), got {x.size()}\")\n",
    "        return self.gem(x, p=self.p, eps=self.eps)\n",
    "\n",
    "    def gem(self, x, p, eps):\n",
    "        # Global Average Pooling with clamping and power operations\n",
    "        return F.avg_pool2d(x.clamp(min=eps).pow(p), (x.size(-2), x.size(-1))).pow(1./p)\n",
    "\n",
    "    def __repr__(self):\n",
    "        return f\"{self.__class__.__name__}(p={self.p.item():.4f}, eps={self.eps})\"\n"
   ]
  },
  {
   "cell_type": "markdown",
   "id": "1e289dd9",
   "metadata": {
    "papermill": {
     "duration": 0.018321,
     "end_time": "2024-08-20T05:05:27.568451",
     "exception": false,
     "start_time": "2024-08-20T05:05:27.550130",
     "status": "completed"
    },
    "tags": []
   },
   "source": [
    "# <span><h1 style = \"font-family: garamond; font-size: 40px; font-style: normal; letter-spcaing: 3px; background-color: #f6f5f5; color :#fe346e; border-radius: 100px 100px; text-align:center\">Create Model</h1></span>"
   ]
  },
  {
   "cell_type": "code",
   "execution_count": 19,
   "id": "55ff327c",
   "metadata": {
    "execution": {
     "iopub.execute_input": "2024-08-20T05:05:27.608569Z",
     "iopub.status.busy": "2024-08-20T05:05:27.607615Z",
     "iopub.status.idle": "2024-08-20T05:05:30.785689Z",
     "shell.execute_reply": "2024-08-20T05:05:30.784437Z"
    },
    "papermill": {
     "duration": 3.200685,
     "end_time": "2024-08-20T05:05:30.788110",
     "exception": false,
     "start_time": "2024-08-20T05:05:27.587425",
     "status": "completed"
    },
    "tags": []
   },
   "outputs": [
    {
     "name": "stderr",
     "output_type": "stream",
     "text": [
      "Downloading: \"https://github.com/pytorch/vision/zipball/v0.10.0\" to /root/.cache/torch/hub/v0.10.0.zip\n",
      "Downloading: \"https://download.pytorch.org/models/resnext50_32x4d-7cdf4587.pth\" to /root/.cache/torch/hub/checkpoints/resnext50_32x4d-7cdf4587.pth\n",
      "100%|██████████| 95.8M/95.8M [00:00<00:00, 130MB/s]\n"
     ]
    },
    {
     "data": {
      "text/plain": [
       "[]"
      ]
     },
     "execution_count": 19,
     "metadata": {},
     "output_type": "execute_result"
    }
   ],
   "source": [
    "class ISICModel(nn.Module):\n",
    "    def __init__(self, model_name, num_classes=1):\n",
    "        super(ISICModel, self).__init__()\n",
    "        self.model = torch.hub.load('pytorch/vision:v0.10.0', model_name, pretrained=True)\n",
    "\n",
    "        in_features = self.model.fc.in_features\n",
    "        self.model.fc = nn.Identity()  # Ignore the final classification layer\n",
    "        self.linear = nn.Linear(in_features, num_classes)\n",
    "        self.sigmoid = nn.Sigmoid()\n",
    "\n",
    "    def forward(self, images):\n",
    "        features = self.model(images)\n",
    "        output = self.sigmoid(self.linear(features))\n",
    "        return output\n",
    "\n",
    "model = ISICModel('resnext50_32x4d')\n",
    "model.to(CONFIG['device']);\n",
    "wandb.watch(model, log=\"all\")"
   ]
  },
  {
   "cell_type": "markdown",
   "id": "0fc74c64",
   "metadata": {
    "papermill": {
     "duration": 0.018945,
     "end_time": "2024-08-20T05:05:30.828049",
     "exception": false,
     "start_time": "2024-08-20T05:05:30.809104",
     "status": "completed"
    },
    "tags": []
   },
   "source": [
    "# <span><h1 style = \"font-family: garamond; font-size: 40px; font-style: normal; letter-spcaing: 3px; background-color: #f6f5f5; color :#fe346e; border-radius: 100px 100px; text-align:center\">Loss Function</h1></span>"
   ]
  },
  {
   "cell_type": "code",
   "execution_count": 20,
   "id": "a0c1317c",
   "metadata": {
    "execution": {
     "iopub.execute_input": "2024-08-20T05:05:30.868316Z",
     "iopub.status.busy": "2024-08-20T05:05:30.867956Z",
     "iopub.status.idle": "2024-08-20T05:05:30.873018Z",
     "shell.execute_reply": "2024-08-20T05:05:30.872068Z"
    },
    "papermill": {
     "duration": 0.027495,
     "end_time": "2024-08-20T05:05:30.875000",
     "exception": false,
     "start_time": "2024-08-20T05:05:30.847505",
     "status": "completed"
    },
    "tags": []
   },
   "outputs": [],
   "source": [
    "def criterion(outputs, targets):\n",
    "    return nn.BCELoss()(outputs, targets)"
   ]
  },
  {
   "cell_type": "markdown",
   "id": "c5e0b9ac",
   "metadata": {
    "papermill": {
     "duration": 0.019226,
     "end_time": "2024-08-20T05:05:30.913734",
     "exception": false,
     "start_time": "2024-08-20T05:05:30.894508",
     "status": "completed"
    },
    "tags": []
   },
   "source": [
    "# <span><h1 style = \"font-family: garamond; font-size: 40px; font-style: normal; letter-spcaing: 3px; background-color: #f6f5f5; color :#fe346e; border-radius: 100px 100px; text-align:center\">Training Function</h1></span>"
   ]
  },
  {
   "cell_type": "code",
   "execution_count": 21,
   "id": "a1d750a9",
   "metadata": {
    "execution": {
     "iopub.execute_input": "2024-08-20T05:05:30.955744Z",
     "iopub.status.busy": "2024-08-20T05:05:30.955027Z",
     "iopub.status.idle": "2024-08-20T05:05:30.966899Z",
     "shell.execute_reply": "2024-08-20T05:05:30.965923Z"
    },
    "papermill": {
     "duration": 0.035415,
     "end_time": "2024-08-20T05:05:30.969386",
     "exception": false,
     "start_time": "2024-08-20T05:05:30.933971",
     "status": "completed"
    },
    "tags": []
   },
   "outputs": [],
   "source": [
    "def train_one_epoch(model, optimizer, scheduler, dataloader, device, epoch):\n",
    "    model.train()\n",
    "    \n",
    "    dataset_size = 0\n",
    "    running_loss = 0.0\n",
    "    running_auroc  = 0.0\n",
    "    \n",
    "    all_targets = []\n",
    "    all_outputs = []\n",
    "    \n",
    "    bar = tqdm(enumerate(dataloader), total=len(dataloader))\n",
    "    for step, data in bar:\n",
    "        images = data['image'].to(device, dtype=torch.float)\n",
    "        targets = data['target'].to(device, dtype=torch.float)\n",
    "        \n",
    "        batch_size = images.size(0)\n",
    "        \n",
    "        outputs = model(images).squeeze()\n",
    "        loss = criterion(outputs, targets)\n",
    "        loss = loss / CONFIG['n_accumulate']\n",
    "            \n",
    "        loss.backward()\n",
    "    \n",
    "        if (step + 1) % CONFIG['n_accumulate'] == 0:\n",
    "            optimizer.step()\n",
    "\n",
    "            # zero the parameter gradients\n",
    "            optimizer.zero_grad()\n",
    "\n",
    "            if scheduler is not None:\n",
    "                scheduler.step()\n",
    "                \n",
    "        auroc = binary_auroc(input=outputs.squeeze(), target=targets).item()\n",
    "        \n",
    "        running_loss += (loss.item() * batch_size)\n",
    "        #running_auroc  += (auroc * batch_size)\n",
    "        dataset_size += batch_size\n",
    "        \n",
    "        epoch_loss = running_loss / dataset_size\n",
    "        #epoch_auroc = running_auroc / dataset_size\n",
    "        all_outputs.extend(outputs.cpu().detach().numpy())\n",
    "        all_targets.extend(targets.cpu().numpy())\n",
    "        bar.set_postfix(Epoch=epoch, Train_Loss=epoch_loss, \n",
    "                        LR=optimizer.param_groups[0]['lr'])\n",
    "    epoch_auroc = roc_auc_score(all_targets, all_outputs)\n",
    "    gc.collect()\n",
    "    \n",
    "    \n",
    "    \n",
    "    return epoch_loss, epoch_auroc"
   ]
  },
  {
   "cell_type": "markdown",
   "id": "93b3125d",
   "metadata": {
    "papermill": {
     "duration": 0.020288,
     "end_time": "2024-08-20T05:05:31.011288",
     "exception": false,
     "start_time": "2024-08-20T05:05:30.991000",
     "status": "completed"
    },
    "tags": []
   },
   "source": [
    "# <span><h1 style = \"font-family: garamond; font-size: 40px; font-style: normal; letter-spcaing: 3px; background-color: #f6f5f5; color :#fe346e; border-radius: 100px 100px; text-align:center\">Validation Function</h1></span>"
   ]
  },
  {
   "cell_type": "code",
   "execution_count": 22,
   "id": "0477e05a",
   "metadata": {
    "execution": {
     "iopub.execute_input": "2024-08-20T05:05:31.061350Z",
     "iopub.status.busy": "2024-08-20T05:05:31.060701Z",
     "iopub.status.idle": "2024-08-20T05:05:31.076597Z",
     "shell.execute_reply": "2024-08-20T05:05:31.075479Z"
    },
    "papermill": {
     "duration": 0.04631,
     "end_time": "2024-08-20T05:05:31.079260",
     "exception": false,
     "start_time": "2024-08-20T05:05:31.032950",
     "status": "completed"
    },
    "tags": []
   },
   "outputs": [],
   "source": [
    "@torch.inference_mode()\n",
    "def valid_one_epoch(model, dataloader, device, epoch):\n",
    "    model.eval()\n",
    "    \n",
    "    dataset_size = 0\n",
    "    running_loss = 0.0\n",
    "    running_auroc = 0.0\n",
    "    \n",
    "    epoch_loss = None\n",
    "    epoch_auroc = None\n",
    "    all_targets = []\n",
    "    all_outputs = []\n",
    "    \n",
    "    bar = tqdm(enumerate(dataloader), total=len(dataloader))\n",
    "    for step, data in bar:        \n",
    "        images = data['image'].to(device, dtype=torch.float)\n",
    "        targets = data['target'].to(device, dtype=torch.float)\n",
    "        \n",
    "        batch_size = images.size(0)\n",
    "\n",
    "        outputs = model(images).squeeze()\n",
    "        loss = criterion(outputs, targets)\n",
    "\n",
    "        auroc = binary_auroc(input=outputs.squeeze(), target=targets).item()\n",
    "        running_loss += (loss.item() * batch_size)\n",
    "        running_auroc  += (auroc * batch_size)\n",
    "        dataset_size += batch_size\n",
    "        \n",
    "        epoch_loss = running_loss / dataset_size\n",
    "#        epoch_auroc = running_auroc / dataset_size\n",
    "        all_outputs.extend(outputs.cpu().detach().numpy())\n",
    "        all_targets.extend(targets.cpu().numpy())\n",
    "        \n",
    "        bar.set_postfix(Epoch=epoch, Valid_Loss=epoch_loss, #Valid_Auroc=epoch_auroc,\n",
    "                        LR=optimizer.param_groups[0]['lr'])   \n",
    "    epoch_auroc = roc_auc_score(all_targets, all_outputs)\n",
    "    gc.collect()\n",
    "    \n",
    "    return epoch_loss, epoch_auroc"
   ]
  },
  {
   "cell_type": "markdown",
   "id": "e6ab0887",
   "metadata": {
    "papermill": {
     "duration": 0.022085,
     "end_time": "2024-08-20T05:05:31.127543",
     "exception": false,
     "start_time": "2024-08-20T05:05:31.105458",
     "status": "completed"
    },
    "tags": []
   },
   "source": [
    "# <span><h1 style = \"font-family: garamond; font-size: 40px; font-style: normal; letter-spcaing: 3px; background-color: #f6f5f5; color :#fe346e; border-radius: 100px 100px; text-align:center\">Run Training</h1></span>"
   ]
  },
  {
   "cell_type": "code",
   "execution_count": 23,
   "id": "c9b55a22",
   "metadata": {
    "execution": {
     "iopub.execute_input": "2024-08-20T05:05:31.174142Z",
     "iopub.status.busy": "2024-08-20T05:05:31.173424Z",
     "iopub.status.idle": "2024-08-20T05:05:31.186094Z",
     "shell.execute_reply": "2024-08-20T05:05:31.185133Z"
    },
    "papermill": {
     "duration": 0.035987,
     "end_time": "2024-08-20T05:05:31.188245",
     "exception": false,
     "start_time": "2024-08-20T05:05:31.152258",
     "status": "completed"
    },
    "tags": []
   },
   "outputs": [],
   "source": [
    "def run_training(model, optimizer, scheduler, device, num_epochs):\n",
    "    if torch.cuda.is_available():\n",
    "        print(\"[INFO] Using GPU: {}\\n\".format(torch.cuda.get_device_name()))\n",
    "    \n",
    "    start = time.time()\n",
    "    best_model_wts = copy.deepcopy(model.state_dict())\n",
    "    best_epoch_auroc = -np.inf\n",
    "    history = defaultdict(list)\n",
    "    \n",
    "    for epoch in range(1, num_epochs + 1): \n",
    "        gc.collect()\n",
    "        train_epoch_loss, train_epoch_auroc = train_one_epoch(model, optimizer, scheduler, \n",
    "                                           dataloader=train_loader, \n",
    "                                           device=CONFIG['device'], epoch=epoch)\n",
    "        \n",
    "        val_epoch_loss, val_epoch_auroc = valid_one_epoch(model, valid_loader, device=CONFIG['device'], \n",
    "                                         epoch=epoch)\n",
    "    \n",
    "        history['Train Loss'].append(train_epoch_loss)\n",
    "        history['Valid Loss'].append(val_epoch_loss)\n",
    "        history['Train AUROC'].append(train_epoch_auroc)\n",
    "        history['Valid AUROC'].append(val_epoch_auroc)\n",
    "        history['lr'].append( scheduler.get_lr()[0] )\n",
    "        \n",
    "        # deep copy the model\n",
    "        if best_epoch_auroc <= val_epoch_auroc:\n",
    "            print(f\"{b_}Validation AUROC Improved ({best_epoch_auroc} ---> {val_epoch_auroc})\")\n",
    "            best_epoch_auroc = val_epoch_auroc\n",
    "            best_model_wts = copy.deepcopy(model.state_dict())\n",
    "            PATH = \"/kaggle/working/AUROC{:.4f}_Loss{:.4f}_epoch{:.0f}.bin\".format(val_epoch_auroc, val_epoch_loss, epoch)\n",
    "            torch.save(model.state_dict(), PATH)\n",
    "            # Save a model file from the current directory\n",
    "            print(f\"Model Saved{sr_}\")\n",
    "            \n",
    "        wandb.log({\n",
    "            'Train Loss': train_epoch_loss,\n",
    "            'Valid Loss': val_epoch_loss,\n",
    "            'Train AUROC': train_epoch_auroc,\n",
    "            'Valid AUROC': val_epoch_auroc\n",
    "        })\n",
    "            \n",
    "        print()\n",
    "    \n",
    "    end = time.time()\n",
    "    time_elapsed = end - start\n",
    "    print('Training complete in {:.0f}h {:.0f}m {:.0f}s'.format(\n",
    "        time_elapsed // 3600, (time_elapsed % 3600) // 60, (time_elapsed % 3600) % 60))\n",
    "    print(\"Best AUROC: {:.4f}\".format(best_epoch_auroc))\n",
    "    \n",
    "    # load best model weights\n",
    "    model.load_state_dict(best_model_wts)\n",
    "    \n",
    "    return model, history"
   ]
  },
  {
   "cell_type": "code",
   "execution_count": 24,
   "id": "662a20dd",
   "metadata": {
    "execution": {
     "iopub.execute_input": "2024-08-20T05:05:31.229640Z",
     "iopub.status.busy": "2024-08-20T05:05:31.229249Z",
     "iopub.status.idle": "2024-08-20T05:05:31.235905Z",
     "shell.execute_reply": "2024-08-20T05:05:31.234877Z"
    },
    "papermill": {
     "duration": 0.029789,
     "end_time": "2024-08-20T05:05:31.238161",
     "exception": false,
     "start_time": "2024-08-20T05:05:31.208372",
     "status": "completed"
    },
    "tags": []
   },
   "outputs": [],
   "source": [
    "def fetch_scheduler(optimizer):\n",
    "    if CONFIG['scheduler'] == 'CosineAnnealingLR':\n",
    "        scheduler = lr_scheduler.CosineAnnealingLR(optimizer,T_max=CONFIG['T_max'], \n",
    "                                                   eta_min=CONFIG['min_lr'])\n",
    "    elif CONFIG['scheduler'] == 'CosineAnnealingWarmRestarts':\n",
    "        scheduler = lr_scheduler.CosineAnnealingWarmRestarts(optimizer,T_0=CONFIG['T_0'], \n",
    "                                                             eta_min=CONFIG['min_lr'])\n",
    "    elif CONFIG['scheduler'] == None:\n",
    "        return None\n",
    "        \n",
    "    return scheduler"
   ]
  },
  {
   "cell_type": "code",
   "execution_count": 25,
   "id": "c5f69ada",
   "metadata": {
    "execution": {
     "iopub.execute_input": "2024-08-20T05:05:31.279949Z",
     "iopub.status.busy": "2024-08-20T05:05:31.279525Z",
     "iopub.status.idle": "2024-08-20T05:05:31.287986Z",
     "shell.execute_reply": "2024-08-20T05:05:31.287177Z"
    },
    "papermill": {
     "duration": 0.031746,
     "end_time": "2024-08-20T05:05:31.290086",
     "exception": false,
     "start_time": "2024-08-20T05:05:31.258340",
     "status": "completed"
    },
    "tags": []
   },
   "outputs": [],
   "source": [
    "def prepare_loaders(df, fold):\n",
    "    df_train = df[df.kfold != fold].reset_index(drop=True)\n",
    "    df_valid = df[df.kfold == fold].reset_index(drop=True)\n",
    "    \n",
    "    train_dataset = ISICDataset_for_Train(df_train, transforms=data_transforms[\"train\"])\n",
    "    valid_dataset = ISICDataset(df_valid, transforms=data_transforms[\"valid\"])\n",
    "\n",
    "    train_loader = DataLoader(train_dataset, batch_size=CONFIG['train_batch_size'], \n",
    "                              num_workers=2, shuffle=True, pin_memory=True, drop_last=True)\n",
    "    valid_loader = DataLoader(valid_dataset, batch_size=CONFIG['valid_batch_size'], \n",
    "                              num_workers=2, shuffle=False, pin_memory=True)\n",
    "    \n",
    "    return train_loader, valid_loader"
   ]
  },
  {
   "cell_type": "markdown",
   "id": "c3befa19",
   "metadata": {
    "papermill": {
     "duration": 0.019767,
     "end_time": "2024-08-20T05:05:31.329859",
     "exception": false,
     "start_time": "2024-08-20T05:05:31.310092",
     "status": "completed"
    },
    "tags": []
   },
   "source": [
    "<span style=\"color: #000508; font-family: Segoe UI; font-size: 1.5em; font-weight: 300;\">Prepare Dataloaders</span>"
   ]
  },
  {
   "cell_type": "code",
   "execution_count": 26,
   "id": "7d232de4",
   "metadata": {
    "execution": {
     "iopub.execute_input": "2024-08-20T05:05:31.371862Z",
     "iopub.status.busy": "2024-08-20T05:05:31.371449Z",
     "iopub.status.idle": "2024-08-20T05:05:31.394661Z",
     "shell.execute_reply": "2024-08-20T05:05:31.393514Z"
    },
    "papermill": {
     "duration": 0.047809,
     "end_time": "2024-08-20T05:05:31.397354",
     "exception": false,
     "start_time": "2024-08-20T05:05:31.349545",
     "status": "completed"
    },
    "tags": []
   },
   "outputs": [],
   "source": [
    "train_loader, valid_loader = prepare_loaders(df, fold=CONFIG[\"fold\"])"
   ]
  },
  {
   "cell_type": "markdown",
   "id": "85230fae",
   "metadata": {
    "papermill": {
     "duration": 0.02099,
     "end_time": "2024-08-20T05:05:31.439052",
     "exception": false,
     "start_time": "2024-08-20T05:05:31.418062",
     "status": "completed"
    },
    "tags": []
   },
   "source": [
    "<span style=\"color: #000508; font-family: Segoe UI; font-size: 1.5em; font-weight: 300;\">Define Optimizer and Scheduler</span>"
   ]
  },
  {
   "cell_type": "code",
   "execution_count": 27,
   "id": "f877b8cd",
   "metadata": {
    "execution": {
     "iopub.execute_input": "2024-08-20T05:05:31.482755Z",
     "iopub.status.busy": "2024-08-20T05:05:31.481816Z",
     "iopub.status.idle": "2024-08-20T05:05:31.488632Z",
     "shell.execute_reply": "2024-08-20T05:05:31.487664Z"
    },
    "papermill": {
     "duration": 0.03149,
     "end_time": "2024-08-20T05:05:31.490763",
     "exception": false,
     "start_time": "2024-08-20T05:05:31.459273",
     "status": "completed"
    },
    "tags": []
   },
   "outputs": [],
   "source": [
    "optimizer = optim.Adam(model.parameters(), lr=CONFIG['learning_rate'],\n",
    "                       weight_decay=CONFIG['weight_decay'])\n",
    "scheduler = fetch_scheduler(optimizer)"
   ]
  },
  {
   "cell_type": "markdown",
   "id": "b7d230ee",
   "metadata": {
    "papermill": {
     "duration": 0.020696,
     "end_time": "2024-08-20T05:05:31.532399",
     "exception": false,
     "start_time": "2024-08-20T05:05:31.511703",
     "status": "completed"
    },
    "tags": []
   },
   "source": [
    "<span style=\"color: #000508; font-family: Segoe UI; font-size: 1.5em; font-weight: 300;\">Start Training</span>"
   ]
  },
  {
   "cell_type": "code",
   "execution_count": 28,
   "id": "c96f1611",
   "metadata": {
    "execution": {
     "iopub.execute_input": "2024-08-20T05:05:31.575582Z",
     "iopub.status.busy": "2024-08-20T05:05:31.574698Z",
     "iopub.status.idle": "2024-08-20T05:55:44.381038Z",
     "shell.execute_reply": "2024-08-20T05:55:44.379873Z"
    },
    "papermill": {
     "duration": 3012.829893,
     "end_time": "2024-08-20T05:55:44.383256",
     "exception": false,
     "start_time": "2024-08-20T05:05:31.553363",
     "status": "completed"
    },
    "tags": []
   },
   "outputs": [
    {
     "name": "stdout",
     "output_type": "stream",
     "text": [
      "[INFO] Using GPU: Tesla P100-PCIE-16GB\n",
      "\n"
     ]
    },
    {
     "name": "stderr",
     "output_type": "stream",
     "text": [
      "100%|██████████| 19/19 [00:49<00:00,  2.61s/it, Epoch=1, LR=0.0001, Train_Loss=0.61]\n",
      "100%|██████████| 52/52 [00:12<00:00,  4.02it/s, Epoch=1, LR=0.0001, Valid_Loss=0.466]\n"
     ]
    },
    {
     "name": "stdout",
     "output_type": "stream",
     "text": [
      "\u001b[34mValidation AUROC Improved (-inf ---> 0.8607997552098431)\n",
      "Model Saved\u001b[0m\n",
      "\n"
     ]
    },
    {
     "name": "stderr",
     "output_type": "stream",
     "text": [
      "100%|██████████| 19/19 [00:46<00:00,  2.46s/it, Epoch=2, LR=0.0001, Train_Loss=0.49]\n",
      "100%|██████████| 52/52 [00:12<00:00,  4.06it/s, Epoch=2, LR=0.0001, Valid_Loss=0.359]\n"
     ]
    },
    {
     "name": "stdout",
     "output_type": "stream",
     "text": [
      "\u001b[34mValidation AUROC Improved (0.8607997552098431 ---> 0.8991448449125519)\n",
      "Model Saved\u001b[0m\n",
      "\n"
     ]
    },
    {
     "name": "stderr",
     "output_type": "stream",
     "text": [
      "100%|██████████| 19/19 [00:46<00:00,  2.46s/it, Epoch=3, LR=0.0001, Train_Loss=0.443]\n",
      "100%|██████████| 52/52 [00:12<00:00,  4.14it/s, Epoch=3, LR=0.0001, Valid_Loss=0.214]\n"
     ]
    },
    {
     "name": "stdout",
     "output_type": "stream",
     "text": [
      "\u001b[34mValidation AUROC Improved (0.8991448449125519 ---> 0.9028730634199761)\n",
      "Model Saved\u001b[0m\n",
      "\n"
     ]
    },
    {
     "name": "stderr",
     "output_type": "stream",
     "text": [
      "100%|██████████| 19/19 [00:46<00:00,  2.46s/it, Epoch=4, LR=0.0001, Train_Loss=0.384]\n",
      "100%|██████████| 52/52 [00:12<00:00,  4.13it/s, Epoch=4, LR=0.0001, Valid_Loss=0.235]\n"
     ]
    },
    {
     "name": "stdout",
     "output_type": "stream",
     "text": [
      "\u001b[34mValidation AUROC Improved (0.9028730634199761 ---> 0.9176732051405933)\n",
      "Model Saved\u001b[0m\n",
      "\n"
     ]
    },
    {
     "name": "stderr",
     "output_type": "stream",
     "text": [
      "100%|██████████| 19/19 [00:46<00:00,  2.46s/it, Epoch=5, LR=0.0001, Train_Loss=0.375]\n",
      "100%|██████████| 52/52 [00:12<00:00,  4.13it/s, Epoch=5, LR=0.0001, Valid_Loss=0.318]\n"
     ]
    },
    {
     "name": "stdout",
     "output_type": "stream",
     "text": [
      "\u001b[34mValidation AUROC Improved (0.9176732051405933 ---> 0.9236721744451959)\n",
      "Model Saved\u001b[0m\n",
      "\n"
     ]
    },
    {
     "name": "stderr",
     "output_type": "stream",
     "text": [
      "100%|██████████| 19/19 [00:46<00:00,  2.46s/it, Epoch=6, LR=0.0001, Train_Loss=0.333]\n",
      "100%|██████████| 52/52 [00:12<00:00,  4.18it/s, Epoch=6, LR=0.0001, Valid_Loss=0.346]\n"
     ]
    },
    {
     "name": "stdout",
     "output_type": "stream",
     "text": [
      "\n"
     ]
    },
    {
     "name": "stderr",
     "output_type": "stream",
     "text": [
      "100%|██████████| 19/19 [00:46<00:00,  2.47s/it, Epoch=7, LR=0.0001, Train_Loss=0.313]\n",
      "100%|██████████| 52/52 [00:12<00:00,  4.17it/s, Epoch=7, LR=0.0001, Valid_Loss=0.243]\n"
     ]
    },
    {
     "name": "stdout",
     "output_type": "stream",
     "text": [
      "\n"
     ]
    },
    {
     "name": "stderr",
     "output_type": "stream",
     "text": [
      "100%|██████████| 19/19 [00:46<00:00,  2.47s/it, Epoch=8, LR=9.99e-5, Train_Loss=0.324]\n",
      "100%|██████████| 52/52 [00:12<00:00,  4.21it/s, Epoch=8, LR=9.99e-5, Valid_Loss=0.384]\n"
     ]
    },
    {
     "name": "stdout",
     "output_type": "stream",
     "text": [
      "\n"
     ]
    },
    {
     "name": "stderr",
     "output_type": "stream",
     "text": [
      "100%|██████████| 19/19 [00:46<00:00,  2.46s/it, Epoch=9, LR=9.99e-5, Train_Loss=0.28]\n",
      "100%|██████████| 52/52 [00:12<00:00,  4.19it/s, Epoch=9, LR=9.99e-5, Valid_Loss=0.628]\n"
     ]
    },
    {
     "name": "stdout",
     "output_type": "stream",
     "text": [
      "\n"
     ]
    },
    {
     "name": "stderr",
     "output_type": "stream",
     "text": [
      "100%|██████████| 19/19 [00:46<00:00,  2.46s/it, Epoch=10, LR=9.99e-5, Train_Loss=0.266]\n",
      "100%|██████████| 52/52 [00:12<00:00,  4.17it/s, Epoch=10, LR=9.99e-5, Valid_Loss=0.19]\n"
     ]
    },
    {
     "name": "stdout",
     "output_type": "stream",
     "text": [
      "\n"
     ]
    },
    {
     "name": "stderr",
     "output_type": "stream",
     "text": [
      "100%|██████████| 19/19 [00:46<00:00,  2.46s/it, Epoch=11, LR=9.99e-5, Train_Loss=0.25]\n",
      "100%|██████████| 52/52 [00:12<00:00,  4.19it/s, Epoch=11, LR=9.99e-5, Valid_Loss=0.306]\n"
     ]
    },
    {
     "name": "stdout",
     "output_type": "stream",
     "text": [
      "\n"
     ]
    },
    {
     "name": "stderr",
     "output_type": "stream",
     "text": [
      "100%|██████████| 19/19 [00:46<00:00,  2.46s/it, Epoch=12, LR=9.99e-5, Train_Loss=0.247]\n",
      "100%|██████████| 52/52 [00:12<00:00,  4.14it/s, Epoch=12, LR=9.99e-5, Valid_Loss=0.282]\n"
     ]
    },
    {
     "name": "stdout",
     "output_type": "stream",
     "text": [
      "\n"
     ]
    },
    {
     "name": "stderr",
     "output_type": "stream",
     "text": [
      "100%|██████████| 19/19 [00:46<00:00,  2.46s/it, Epoch=13, LR=9.99e-5, Train_Loss=0.197]\n",
      "100%|██████████| 52/52 [00:12<00:00,  4.16it/s, Epoch=13, LR=9.99e-5, Valid_Loss=0.414]\n"
     ]
    },
    {
     "name": "stdout",
     "output_type": "stream",
     "text": [
      "\n"
     ]
    },
    {
     "name": "stderr",
     "output_type": "stream",
     "text": [
      "100%|██████████| 19/19 [00:46<00:00,  2.46s/it, Epoch=14, LR=9.98e-5, Train_Loss=0.188]\n",
      "100%|██████████| 52/52 [00:12<00:00,  4.15it/s, Epoch=14, LR=9.98e-5, Valid_Loss=0.404]\n"
     ]
    },
    {
     "name": "stdout",
     "output_type": "stream",
     "text": [
      "\n"
     ]
    },
    {
     "name": "stderr",
     "output_type": "stream",
     "text": [
      "100%|██████████| 19/19 [00:47<00:00,  2.49s/it, Epoch=15, LR=9.98e-5, Train_Loss=0.167]\n",
      "100%|██████████| 52/52 [00:12<00:00,  4.15it/s, Epoch=15, LR=9.98e-5, Valid_Loss=0.36]\n"
     ]
    },
    {
     "name": "stdout",
     "output_type": "stream",
     "text": [
      "\n"
     ]
    },
    {
     "name": "stderr",
     "output_type": "stream",
     "text": [
      "100%|██████████| 19/19 [00:46<00:00,  2.46s/it, Epoch=16, LR=9.98e-5, Train_Loss=0.216]\n",
      "100%|██████████| 52/52 [00:12<00:00,  4.15it/s, Epoch=16, LR=9.98e-5, Valid_Loss=0.443]\n"
     ]
    },
    {
     "name": "stdout",
     "output_type": "stream",
     "text": [
      "\n"
     ]
    },
    {
     "name": "stderr",
     "output_type": "stream",
     "text": [
      "100%|██████████| 19/19 [00:46<00:00,  2.46s/it, Epoch=17, LR=9.98e-5, Train_Loss=0.163]\n",
      "100%|██████████| 52/52 [00:12<00:00,  4.13it/s, Epoch=17, LR=9.98e-5, Valid_Loss=0.279]\n"
     ]
    },
    {
     "name": "stdout",
     "output_type": "stream",
     "text": [
      "\n"
     ]
    },
    {
     "name": "stderr",
     "output_type": "stream",
     "text": [
      "100%|██████████| 19/19 [00:46<00:00,  2.46s/it, Epoch=18, LR=9.97e-5, Train_Loss=0.195]\n",
      "100%|██████████| 52/52 [00:12<00:00,  4.14it/s, Epoch=18, LR=9.97e-5, Valid_Loss=0.339]\n"
     ]
    },
    {
     "name": "stdout",
     "output_type": "stream",
     "text": [
      "\n"
     ]
    },
    {
     "name": "stderr",
     "output_type": "stream",
     "text": [
      "100%|██████████| 19/19 [00:46<00:00,  2.46s/it, Epoch=19, LR=9.97e-5, Train_Loss=0.159]\n",
      "100%|██████████| 52/52 [00:12<00:00,  4.17it/s, Epoch=19, LR=9.97e-5, Valid_Loss=0.413]\n"
     ]
    },
    {
     "name": "stdout",
     "output_type": "stream",
     "text": [
      "\n"
     ]
    },
    {
     "name": "stderr",
     "output_type": "stream",
     "text": [
      "100%|██████████| 19/19 [00:46<00:00,  2.46s/it, Epoch=20, LR=9.97e-5, Train_Loss=0.157]\n",
      "100%|██████████| 52/52 [00:12<00:00,  4.16it/s, Epoch=20, LR=9.97e-5, Valid_Loss=0.278]\n"
     ]
    },
    {
     "name": "stdout",
     "output_type": "stream",
     "text": [
      "\n"
     ]
    },
    {
     "name": "stderr",
     "output_type": "stream",
     "text": [
      "100%|██████████| 19/19 [00:46<00:00,  2.46s/it, Epoch=21, LR=9.96e-5, Train_Loss=0.174]\n",
      "100%|██████████| 52/52 [00:12<00:00,  4.18it/s, Epoch=21, LR=9.96e-5, Valid_Loss=0.289]\n"
     ]
    },
    {
     "name": "stdout",
     "output_type": "stream",
     "text": [
      "\n"
     ]
    },
    {
     "name": "stderr",
     "output_type": "stream",
     "text": [
      "100%|██████████| 19/19 [00:46<00:00,  2.46s/it, Epoch=22, LR=9.96e-5, Train_Loss=0.111]\n",
      "100%|██████████| 52/52 [00:12<00:00,  4.17it/s, Epoch=22, LR=9.96e-5, Valid_Loss=0.429]\n"
     ]
    },
    {
     "name": "stdout",
     "output_type": "stream",
     "text": [
      "\n"
     ]
    },
    {
     "name": "stderr",
     "output_type": "stream",
     "text": [
      "100%|██████████| 19/19 [00:46<00:00,  2.47s/it, Epoch=23, LR=9.96e-5, Train_Loss=0.152]\n",
      "100%|██████████| 52/52 [00:12<00:00,  4.13it/s, Epoch=23, LR=9.96e-5, Valid_Loss=0.297]\n"
     ]
    },
    {
     "name": "stdout",
     "output_type": "stream",
     "text": [
      "\n"
     ]
    },
    {
     "name": "stderr",
     "output_type": "stream",
     "text": [
      "100%|██████████| 19/19 [00:46<00:00,  2.47s/it, Epoch=24, LR=9.95e-5, Train_Loss=0.16]\n",
      "100%|██████████| 52/52 [00:12<00:00,  4.14it/s, Epoch=24, LR=9.95e-5, Valid_Loss=0.407]\n"
     ]
    },
    {
     "name": "stdout",
     "output_type": "stream",
     "text": [
      "\n"
     ]
    },
    {
     "name": "stderr",
     "output_type": "stream",
     "text": [
      "100%|██████████| 19/19 [00:46<00:00,  2.46s/it, Epoch=25, LR=9.95e-5, Train_Loss=0.112]\n",
      "100%|██████████| 52/52 [00:12<00:00,  4.14it/s, Epoch=25, LR=9.95e-5, Valid_Loss=0.405]\n"
     ]
    },
    {
     "name": "stdout",
     "output_type": "stream",
     "text": [
      "\n"
     ]
    },
    {
     "name": "stderr",
     "output_type": "stream",
     "text": [
      "100%|██████████| 19/19 [00:46<00:00,  2.46s/it, Epoch=26, LR=9.94e-5, Train_Loss=0.114]\n",
      "100%|██████████| 52/52 [00:12<00:00,  4.16it/s, Epoch=26, LR=9.94e-5, Valid_Loss=0.475]\n"
     ]
    },
    {
     "name": "stdout",
     "output_type": "stream",
     "text": [
      "\n"
     ]
    },
    {
     "name": "stderr",
     "output_type": "stream",
     "text": [
      "100%|██████████| 19/19 [00:46<00:00,  2.46s/it, Epoch=27, LR=9.94e-5, Train_Loss=0.103]\n",
      "100%|██████████| 52/52 [00:12<00:00,  4.15it/s, Epoch=27, LR=9.94e-5, Valid_Loss=0.289]\n"
     ]
    },
    {
     "name": "stdout",
     "output_type": "stream",
     "text": [
      "\n"
     ]
    },
    {
     "name": "stderr",
     "output_type": "stream",
     "text": [
      "100%|██████████| 19/19 [00:46<00:00,  2.46s/it, Epoch=28, LR=9.94e-5, Train_Loss=0.158]\n",
      "100%|██████████| 52/52 [00:12<00:00,  4.16it/s, Epoch=28, LR=9.94e-5, Valid_Loss=0.489]\n"
     ]
    },
    {
     "name": "stdout",
     "output_type": "stream",
     "text": [
      "\n"
     ]
    },
    {
     "name": "stderr",
     "output_type": "stream",
     "text": [
      "100%|██████████| 19/19 [00:47<00:00,  2.49s/it, Epoch=29, LR=9.93e-5, Train_Loss=0.127]\n",
      "100%|██████████| 52/52 [00:12<00:00,  4.16it/s, Epoch=29, LR=9.93e-5, Valid_Loss=0.355]\n"
     ]
    },
    {
     "name": "stdout",
     "output_type": "stream",
     "text": [
      "\u001b[34mValidation AUROC Improved (0.9236721744451959 ---> 0.9290028022031115)\n",
      "Model Saved\u001b[0m\n",
      "\n"
     ]
    },
    {
     "name": "stderr",
     "output_type": "stream",
     "text": [
      "100%|██████████| 19/19 [00:46<00:00,  2.46s/it, Epoch=30, LR=9.93e-5, Train_Loss=0.105]\n",
      "100%|██████████| 52/52 [00:12<00:00,  4.16it/s, Epoch=30, LR=9.93e-5, Valid_Loss=0.361]\n"
     ]
    },
    {
     "name": "stdout",
     "output_type": "stream",
     "text": [
      "\n"
     ]
    },
    {
     "name": "stderr",
     "output_type": "stream",
     "text": [
      "100%|██████████| 19/19 [00:46<00:00,  2.46s/it, Epoch=31, LR=9.92e-5, Train_Loss=0.154]\n",
      "100%|██████████| 52/52 [00:12<00:00,  4.14it/s, Epoch=31, LR=9.92e-5, Valid_Loss=0.378]\n"
     ]
    },
    {
     "name": "stdout",
     "output_type": "stream",
     "text": [
      "\n"
     ]
    },
    {
     "name": "stderr",
     "output_type": "stream",
     "text": [
      "100%|██████████| 19/19 [00:46<00:00,  2.46s/it, Epoch=32, LR=9.92e-5, Train_Loss=0.146]\n",
      "100%|██████████| 52/52 [00:12<00:00,  4.15it/s, Epoch=32, LR=9.92e-5, Valid_Loss=0.414]\n"
     ]
    },
    {
     "name": "stdout",
     "output_type": "stream",
     "text": [
      "\n"
     ]
    },
    {
     "name": "stderr",
     "output_type": "stream",
     "text": [
      "100%|██████████| 19/19 [00:46<00:00,  2.46s/it, Epoch=33, LR=9.91e-5, Train_Loss=0.0918]\n",
      "100%|██████████| 52/52 [00:12<00:00,  4.12it/s, Epoch=33, LR=9.91e-5, Valid_Loss=0.366]\n"
     ]
    },
    {
     "name": "stdout",
     "output_type": "stream",
     "text": [
      "\n"
     ]
    },
    {
     "name": "stderr",
     "output_type": "stream",
     "text": [
      "100%|██████████| 19/19 [00:46<00:00,  2.46s/it, Epoch=34, LR=9.9e-5, Train_Loss=0.0926]\n",
      "100%|██████████| 52/52 [00:12<00:00,  4.12it/s, Epoch=34, LR=9.9e-5, Valid_Loss=0.358]\n"
     ]
    },
    {
     "name": "stdout",
     "output_type": "stream",
     "text": [
      "\n"
     ]
    },
    {
     "name": "stderr",
     "output_type": "stream",
     "text": [
      "100%|██████████| 19/19 [00:46<00:00,  2.46s/it, Epoch=35, LR=9.9e-5, Train_Loss=0.0929]\n",
      "100%|██████████| 52/52 [00:12<00:00,  4.16it/s, Epoch=35, LR=9.9e-5, Valid_Loss=0.326]\n"
     ]
    },
    {
     "name": "stdout",
     "output_type": "stream",
     "text": [
      "\n"
     ]
    },
    {
     "name": "stderr",
     "output_type": "stream",
     "text": [
      "100%|██████████| 19/19 [00:46<00:00,  2.46s/it, Epoch=36, LR=9.89e-5, Train_Loss=0.0946]\n",
      "100%|██████████| 52/52 [00:12<00:00,  4.10it/s, Epoch=36, LR=9.89e-5, Valid_Loss=0.462]\n"
     ]
    },
    {
     "name": "stdout",
     "output_type": "stream",
     "text": [
      "\n"
     ]
    },
    {
     "name": "stderr",
     "output_type": "stream",
     "text": [
      "100%|██████████| 19/19 [00:46<00:00,  2.46s/it, Epoch=37, LR=9.89e-5, Train_Loss=0.0971]\n",
      "100%|██████████| 52/52 [00:12<00:00,  4.15it/s, Epoch=37, LR=9.89e-5, Valid_Loss=0.394]\n"
     ]
    },
    {
     "name": "stdout",
     "output_type": "stream",
     "text": [
      "\n"
     ]
    },
    {
     "name": "stderr",
     "output_type": "stream",
     "text": [
      "100%|██████████| 19/19 [00:46<00:00,  2.46s/it, Epoch=38, LR=9.88e-5, Train_Loss=0.0609]\n",
      "100%|██████████| 52/52 [00:12<00:00,  4.16it/s, Epoch=38, LR=9.88e-5, Valid_Loss=0.417]\n"
     ]
    },
    {
     "name": "stdout",
     "output_type": "stream",
     "text": [
      "\n"
     ]
    },
    {
     "name": "stderr",
     "output_type": "stream",
     "text": [
      "100%|██████████| 19/19 [00:46<00:00,  2.46s/it, Epoch=39, LR=9.87e-5, Train_Loss=0.0717]\n",
      "100%|██████████| 52/52 [00:12<00:00,  4.15it/s, Epoch=39, LR=9.87e-5, Valid_Loss=0.394]\n"
     ]
    },
    {
     "name": "stdout",
     "output_type": "stream",
     "text": [
      "\n"
     ]
    },
    {
     "name": "stderr",
     "output_type": "stream",
     "text": [
      "100%|██████████| 19/19 [00:46<00:00,  2.46s/it, Epoch=40, LR=9.87e-5, Train_Loss=0.0807]\n",
      "100%|██████████| 52/52 [00:12<00:00,  4.18it/s, Epoch=40, LR=9.87e-5, Valid_Loss=0.301]\n"
     ]
    },
    {
     "name": "stdout",
     "output_type": "stream",
     "text": [
      "\n"
     ]
    },
    {
     "name": "stderr",
     "output_type": "stream",
     "text": [
      "100%|██████████| 19/19 [00:46<00:00,  2.46s/it, Epoch=41, LR=9.86e-5, Train_Loss=0.0703]\n",
      "100%|██████████| 52/52 [00:12<00:00,  4.16it/s, Epoch=41, LR=9.86e-5, Valid_Loss=0.663]\n"
     ]
    },
    {
     "name": "stdout",
     "output_type": "stream",
     "text": [
      "\n"
     ]
    },
    {
     "name": "stderr",
     "output_type": "stream",
     "text": [
      "100%|██████████| 19/19 [00:46<00:00,  2.46s/it, Epoch=42, LR=9.85e-5, Train_Loss=0.147]\n",
      "100%|██████████| 52/52 [00:12<00:00,  4.14it/s, Epoch=42, LR=9.85e-5, Valid_Loss=0.384]\n"
     ]
    },
    {
     "name": "stdout",
     "output_type": "stream",
     "text": [
      "\n"
     ]
    },
    {
     "name": "stderr",
     "output_type": "stream",
     "text": [
      "100%|██████████| 19/19 [00:47<00:00,  2.49s/it, Epoch=43, LR=9.85e-5, Train_Loss=0.103]\n",
      "100%|██████████| 52/52 [00:12<00:00,  4.16it/s, Epoch=43, LR=9.85e-5, Valid_Loss=0.358]\n"
     ]
    },
    {
     "name": "stdout",
     "output_type": "stream",
     "text": [
      "\n"
     ]
    },
    {
     "name": "stderr",
     "output_type": "stream",
     "text": [
      "100%|██████████| 19/19 [00:46<00:00,  2.46s/it, Epoch=44, LR=9.84e-5, Train_Loss=0.0588]\n",
      "100%|██████████| 52/52 [00:12<00:00,  4.16it/s, Epoch=44, LR=9.84e-5, Valid_Loss=0.375]\n"
     ]
    },
    {
     "name": "stdout",
     "output_type": "stream",
     "text": [
      "\n"
     ]
    },
    {
     "name": "stderr",
     "output_type": "stream",
     "text": [
      "100%|██████████| 19/19 [00:46<00:00,  2.46s/it, Epoch=45, LR=9.83e-5, Train_Loss=0.0745]\n",
      "100%|██████████| 52/52 [00:12<00:00,  4.16it/s, Epoch=45, LR=9.83e-5, Valid_Loss=0.406]\n"
     ]
    },
    {
     "name": "stdout",
     "output_type": "stream",
     "text": [
      "\n"
     ]
    },
    {
     "name": "stderr",
     "output_type": "stream",
     "text": [
      "100%|██████████| 19/19 [00:46<00:00,  2.46s/it, Epoch=46, LR=9.83e-5, Train_Loss=0.0749]\n",
      "100%|██████████| 52/52 [00:12<00:00,  4.16it/s, Epoch=46, LR=9.83e-5, Valid_Loss=0.496]\n"
     ]
    },
    {
     "name": "stdout",
     "output_type": "stream",
     "text": [
      "\n"
     ]
    },
    {
     "name": "stderr",
     "output_type": "stream",
     "text": [
      "100%|██████████| 19/19 [00:46<00:00,  2.46s/it, Epoch=47, LR=9.82e-5, Train_Loss=0.0746]\n",
      "100%|██████████| 52/52 [00:12<00:00,  4.16it/s, Epoch=47, LR=9.82e-5, Valid_Loss=0.404]\n"
     ]
    },
    {
     "name": "stdout",
     "output_type": "stream",
     "text": [
      "\n"
     ]
    },
    {
     "name": "stderr",
     "output_type": "stream",
     "text": [
      "100%|██████████| 19/19 [00:46<00:00,  2.46s/it, Epoch=48, LR=9.81e-5, Train_Loss=0.0479]\n",
      "100%|██████████| 52/52 [00:12<00:00,  4.16it/s, Epoch=48, LR=9.81e-5, Valid_Loss=0.561]\n"
     ]
    },
    {
     "name": "stdout",
     "output_type": "stream",
     "text": [
      "\n"
     ]
    },
    {
     "name": "stderr",
     "output_type": "stream",
     "text": [
      "100%|██████████| 19/19 [00:46<00:00,  2.47s/it, Epoch=49, LR=9.8e-5, Train_Loss=0.103]\n",
      "100%|██████████| 52/52 [00:12<00:00,  4.19it/s, Epoch=49, LR=9.8e-5, Valid_Loss=0.38]\n"
     ]
    },
    {
     "name": "stdout",
     "output_type": "stream",
     "text": [
      "\n"
     ]
    },
    {
     "name": "stderr",
     "output_type": "stream",
     "text": [
      "100%|██████████| 19/19 [00:46<00:00,  2.46s/it, Epoch=50, LR=9.79e-5, Train_Loss=0.0664]\n",
      "100%|██████████| 52/52 [00:12<00:00,  4.19it/s, Epoch=50, LR=9.79e-5, Valid_Loss=0.437]\n"
     ]
    },
    {
     "name": "stdout",
     "output_type": "stream",
     "text": [
      "\n",
      "Training complete in 0h 50m 13s\n",
      "Best AUROC: 0.9290\n"
     ]
    }
   ],
   "source": [
    "model, history = run_training(model, optimizer, scheduler,\n",
    "                              device=CONFIG['device'],\n",
    "                              num_epochs=CONFIG['epochs'])"
   ]
  },
  {
   "cell_type": "code",
   "execution_count": 29,
   "id": "7de3ccde",
   "metadata": {
    "execution": {
     "iopub.execute_input": "2024-08-20T05:55:45.824481Z",
     "iopub.status.busy": "2024-08-20T05:55:45.824083Z",
     "iopub.status.idle": "2024-08-20T05:55:45.834528Z",
     "shell.execute_reply": "2024-08-20T05:55:45.833641Z"
    },
    "papermill": {
     "duration": 0.700163,
     "end_time": "2024-08-20T05:55:45.836683",
     "exception": false,
     "start_time": "2024-08-20T05:55:45.136520",
     "status": "completed"
    },
    "tags": []
   },
   "outputs": [],
   "source": [
    "history = pd.DataFrame.from_dict(history)\n",
    "history.to_csv(\"history.csv\", index=False)"
   ]
  },
  {
   "cell_type": "markdown",
   "id": "224fe99b",
   "metadata": {
    "papermill": {
     "duration": 0.75584,
     "end_time": "2024-08-20T05:55:47.266535",
     "exception": false,
     "start_time": "2024-08-20T05:55:46.510695",
     "status": "completed"
    },
    "tags": []
   },
   "source": [
    "# <span><h1 style = \"font-family: garamond; font-size: 40px; font-style: normal; letter-spcaing: 3px; background-color: #f6f5f5; color :#fe346e; border-radius: 100px 100px; text-align:center\">Logs</h1></span>"
   ]
  },
  {
   "cell_type": "code",
   "execution_count": 30,
   "id": "92a8b403",
   "metadata": {
    "execution": {
     "iopub.execute_input": "2024-08-20T05:55:48.641089Z",
     "iopub.status.busy": "2024-08-20T05:55:48.640388Z",
     "iopub.status.idle": "2024-08-20T05:55:48.972959Z",
     "shell.execute_reply": "2024-08-20T05:55:48.971933Z"
    },
    "papermill": {
     "duration": 1.021836,
     "end_time": "2024-08-20T05:55:48.975541",
     "exception": false,
     "start_time": "2024-08-20T05:55:47.953705",
     "status": "completed"
    },
    "tags": []
   },
   "outputs": [
    {
     "data": {
      "image/png": "[encoded data removed]",
      "text/plain": [
       "<Figure size 640x480 with 1 Axes>"
      ]
     },
     "metadata": {},
     "output_type": "display_data"
    }
   ],
   "source": [
    "plt.plot( range(history.shape[0]), history[\"Train Loss\"].values, label=\"Train Loss\")\n",
    "plt.plot( range(history.shape[0]), history[\"Valid Loss\"].values, label=\"Valid Loss\")\n",
    "plt.xlabel(\"epochs\")\n",
    "plt.ylabel(\"Loss\")\n",
    "plt.grid()\n",
    "plt.legend()\n",
    "plt.show()"
   ]
  },
  {
   "cell_type": "code",
   "execution_count": 31,
   "id": "67458f36",
   "metadata": {
    "execution": {
     "iopub.execute_input": "2024-08-20T05:55:50.384301Z",
     "iopub.status.busy": "2024-08-20T05:55:50.383345Z",
     "iopub.status.idle": "2024-08-20T05:55:50.682122Z",
     "shell.execute_reply": "2024-08-20T05:55:50.681097Z"
    },
    "papermill": {
     "duration": 1.034512,
     "end_time": "2024-08-20T05:55:50.684830",
     "exception": false,
     "start_time": "2024-08-20T05:55:49.650318",
     "status": "completed"
    },
    "tags": []
   },
   "outputs": [
    {
     "data": {
      "image/png": "[encoded data removed]",
      "text/plain": [
       "<Figure size 640x480 with 1 Axes>"
      ]
     },
     "metadata": {},
     "output_type": "display_data"
    }
   ],
   "source": [
    "plt.plot( range(history.shape[0]), history[\"Train AUROC\"].values, label=\"Train AUROC\")\n",
    "plt.plot( range(history.shape[0]), history[\"Valid AUROC\"].values, label=\"Valid AUROC\")\n",
    "plt.xlabel(\"epochs\")\n",
    "plt.ylabel(\"AUROC\")\n",
    "plt.grid()\n",
    "plt.legend()\n",
    "plt.show()"
   ]
  },
  {
   "cell_type": "code",
   "execution_count": 32,
   "id": "97640589",
   "metadata": {
    "execution": {
     "iopub.execute_input": "2024-08-20T05:55:52.199713Z",
     "iopub.status.busy": "2024-08-20T05:55:52.198829Z",
     "iopub.status.idle": "2024-08-20T05:55:52.470999Z",
     "shell.execute_reply": "2024-08-20T05:55:52.470005Z"
    },
    "papermill": {
     "duration": 0.964315,
     "end_time": "2024-08-20T05:55:52.473380",
     "exception": false,
     "start_time": "2024-08-20T05:55:51.509065",
     "status": "completed"
    },
    "tags": []
   },
   "outputs": [
    {
     "data": {
      "image/png": "[encoded data removed]",
      "text/plain": [
       "<Figure size 640x480 with 1 Axes>"
      ]
     },
     "metadata": {},
     "output_type": "display_data"
    }
   ],
   "source": [
    "plt.plot( range(history.shape[0]), history[\"lr\"].values, label=\"lr\")\n",
    "plt.xlabel(\"epochs\")\n",
    "plt.ylabel(\"lr\")\n",
    "plt.grid()\n",
    "plt.legend()\n",
    "plt.show()"
   ]
  },
  {
   "cell_type": "code",
   "execution_count": null,
   "id": "7d85e18b",
   "metadata": {
    "papermill": {
     "duration": 0.75924,
     "end_time": "2024-08-20T05:55:53.914554",
     "exception": false,
     "start_time": "2024-08-20T05:55:53.155314",
     "status": "completed"
    },
    "tags": []
   },
   "outputs": [],
   "source": []
  }
 ],
 "metadata": {
  "kaggle": {
   "accelerator": "gpu",
   "dataSources": [
    {
     "databundleVersionId": 9094797,
     "sourceId": 63056,
     "sourceType": "competition"
    },
    {
     "modelId": 312,
     "modelInstanceId": 2656,
     "sourceId": 3729,
     "sourceType": "modelInstanceVersion"
    },
    {
     "isSourceIdPinned": true,
     "modelId": 312,
     "modelInstanceId": 2658,
     "sourceId": 3731,
     "sourceType": "modelInstanceVersion"
    },
    {
     "modelId": 312,
     "modelInstanceId": 2659,
     "sourceId": 3732,
     "sourceType": "modelInstanceVersion"
    }
   ],
   "isGpuEnabled": true,
   "isInternetEnabled": true,
   "language": "python",
   "sourceType": "notebook"
  },
  "kernelspec": {
   "display_name": "Python 3",
   "language": "python",
   "name": "python3"
  },
  "language_info": {
   "codemirror_mode": {
    "name": "ipython",
    "version": 3
   },
   "file_extension": ".py",
   "mimetype": "text/x-python",
   "name": "python",
   "nbconvert_exporter": "python",
   "pygments_lexer": "ipython3",
   "version": "3.10.13"
  },
  "papermill": {
   "default_parameters": {},
   "duration": 3124.364921,
   "end_time": "2024-08-20T05:55:57.426613",
   "environment_variables": {},
   "exception": null,
   "input_path": "__notebook__.ipynb",
   "output_path": "__notebook__.ipynb",
   "parameters": {},
   "start_time": "2024-08-20T05:03:53.061692",
   "version": "2.5.0"
  },
  "widgets": {
   "application/vnd.jupyter.widget-state+json": {
    "state": {
     "14f33eda98294bf7ab2c201ef8c071b0": {
      "model_module": "@jupyter-widgets/controls",
      "model_module_version": "1.5.0",
      "model_name": "HTMLModel",
      "state": {
       "_dom_classes": [],
       "_model_module": "@jupyter-widgets/controls",
       "_model_module_version": "1.5.0",
       "_model_name": "HTMLModel",
       "_view_count": null,
       "_view_module": "@jupyter-widgets/controls",
       "_view_module_version": "1.5.0",
       "_view_name": "HTMLView",
       "description": "",
       "description_tooltip": null,
       "layout": "IPY_MODEL_efc119d2e1e0456fa0a6593c16a85dc2",
       "placeholder": "​",
       "style": "IPY_MODEL_f4be4b7893f14d71a8658ad521e9d4e9",
       "value": " 21.4M/21.4M [00:00&lt;00:00, 41.1MB/s]"
      }
     },
     "18bdb1a4a13e4aee9cc51601b980aca0": {
      "model_module": "@jupyter-widgets/base",
      "model_module_version": "1.2.0",
      "model_name": "LayoutModel",
      "state": {
       "_model_module": "@jupyter-widgets/base",
       "_model_module_version": "1.2.0",
       "_model_name": "LayoutModel",
       "_view_count": null,
       "_view_module": "@jupyter-widgets/base",
       "_view_module_version": "1.2.0",
       "_view_name": "LayoutView",
       "align_content": null,
       "align_items": null,
       "align_self": null,
       "border": null,
       "bottom": null,
       "display": null,
       "flex": null,
       "flex_flow": null,
       "grid_area": null,
       "grid_auto_columns": null,
       "grid_auto_flow": null,
       "grid_auto_rows": null,
       "grid_column": null,
       "grid_gap": null,
       "grid_row": null,
       "grid_template_areas": null,
       "grid_template_columns": null,
       "grid_template_rows": null,
       "height": null,
       "justify_content": null,
       "justify_items": null,
       "left": null,
       "margin": null,
       "max_height": null,
       "max_width": null,
       "min_height": null,
       "min_width": null,
       "object_fit": null,
       "object_position": null,
       "order": null,
       "overflow": null,
       "overflow_x": null,
       "overflow_y": null,
       "padding": null,
       "right": null,
       "top": null,
       "visibility": null,
       "width": null
      }
     },
     "244eb860d230481c85c8db4fd77fb99a": {
      "model_module": "@jupyter-widgets/controls",
      "model_module_version": "1.5.0",
      "model_name": "HBoxModel",
      "state": {
       "_dom_classes": [],
       "_model_module": "@jupyter-widgets/controls",
       "_model_module_version": "1.5.0",
       "_model_name": "HBoxModel",
       "_view_count": null,
       "_view_module": "@jupyter-widgets/controls",
       "_view_module_version": "1.5.0",
       "_view_name": "HBoxView",
       "box_style": "",
       "children": [
        "IPY_MODEL_47503710d50a4aaba66bd273e31797b0",
        "IPY_MODEL_938dc29705ca4174ab708b0e84ac456c",
        "IPY_MODEL_14f33eda98294bf7ab2c201ef8c071b0"
       ],
       "layout": "IPY_MODEL_18bdb1a4a13e4aee9cc51601b980aca0"
      }
     },
     "256368e0b8da40ffaab43806b6e7bdfc": {
      "model_module": "@jupyter-widgets/controls",
      "model_module_version": "1.5.0",
      "model_name": "ProgressStyleModel",
      "state": {
       "_model_module": "@jupyter-widgets/controls",
       "_model_module_version": "1.5.0",
       "_model_name": "ProgressStyleModel",
       "_view_count": null,
       "_view_module": "@jupyter-widgets/base",
       "_view_module_version": "1.2.0",
       "_view_name": "StyleView",
       "bar_color": null,
       "description_width": ""
      }
     },
     "47503710d50a4aaba66bd273e31797b0": {
      "model_module": "@jupyter-widgets/controls",
      "model_module_version": "1.5.0",
      "model_name": "HTMLModel",
      "state": {
       "_dom_classes": [],
       "_model_module": "@jupyter-widgets/controls",
       "_model_module_version": "1.5.0",
       "_model_name": "HTMLModel",
       "_view_count": null,
       "_view_module": "@jupyter-widgets/controls",
       "_view_module_version": "1.5.0",
       "_view_name": "HTMLView",
       "description": "",
       "description_tooltip": null,
       "layout": "IPY_MODEL_a1c7099741224d6d95e8f291dac107aa",
       "placeholder": "​",
       "style": "IPY_MODEL_e70b5a1f96bf4ddf9ac9271b3aa6ad1a",
       "value": "model.safetensors: 100%"
      }
     },
     "938dc29705ca4174ab708b0e84ac456c": {
      "model_module": "@jupyter-widgets/controls",
      "model_module_version": "1.5.0",
      "model_name": "FloatProgressModel",
      "state": {
       "_dom_classes": [],
       "_model_module": "@jupyter-widgets/controls",
       "_model_module_version": "1.5.0",
       "_model_name": "FloatProgressModel",
       "_view_count": null,
       "_view_module": "@jupyter-widgets/controls",
       "_view_module_version": "1.5.0",
       "_view_name": "ProgressView",
       "bar_style": "success",
       "description": "",
       "description_tooltip": null,
       "layout": "IPY_MODEL_c198e83f65a043f6b6886c6984bf6303",
       "max": 21355344,
       "min": 0,
       "orientation": "horizontal",
       "style": "IPY_MODEL_256368e0b8da40ffaab43806b6e7bdfc",
       "value": 21355344
      }
     },
     "a1c7099741224d6d95e8f291dac107aa": {
      "model_module": "@jupyter-widgets/base",
      "model_module_version": "1.2.0",
      "model_name": "LayoutModel",
      "state": {
       "_model_module": "@jupyter-widgets/base",
       "_model_module_version": "1.2.0",
       "_model_name": "LayoutModel",
       "_view_count": null,
       "_view_module": "@jupyter-widgets/base",
       "_view_module_version": "1.2.0",
       "_view_name": "LayoutView",
       "align_content": null,
       "align_items": null,
       "align_self": null,
       "border": null,
       "bottom": null,
       "display": null,
       "flex": null,
       "flex_flow": null,
       "grid_area": null,
       "grid_auto_columns": null,
       "grid_auto_flow": null,
       "grid_auto_rows": null,
       "grid_column": null,
       "grid_gap": null,
       "grid_row": null,
       "grid_template_areas": null,
       "grid_template_columns": null,
       "grid_template_rows": null,
       "height": null,
       "justify_content": null,
       "justify_items": null,
       "left": null,
       "margin": null,
       "max_height": null,
       "max_width": null,
       "min_height": null,
       "min_width": null,
       "object_fit": null,
       "object_position": null,
       "order": null,
       "overflow": null,
       "overflow_x": null,
       "overflow_y": null,
       "padding": null,
       "right": null,
       "top": null,
       "visibility": null,
       "width": null
      }
     },
     "c198e83f65a043f6b6886c6984bf6303": {
      "model_module": "@jupyter-widgets/base",
      "model_module_version": "1.2.0",
      "model_name": "LayoutModel",
      "state": {
       "_model_module": "@jupyter-widgets/base",
       "_model_module_version": "1.2.0",
       "_model_name": "LayoutModel",
       "_view_count": null,
       "_view_module": "@jupyter-widgets/base",
       "_view_module_version": "1.2.0",
       "_view_name": "LayoutView",
       "align_content": null,
       "align_items": null,
       "align_self": null,
       "border": null,
       "bottom": null,
       "display": null,
       "flex": null,
       "flex_flow": null,
       "grid_area": null,
       "grid_auto_columns": null,
       "grid_auto_flow": null,
       "grid_auto_rows": null,
       "grid_column": null,
       "grid_gap": null,
       "grid_row": null,
       "grid_template_areas": null,
       "grid_template_columns": null,
       "grid_template_rows": null,
       "height": null,
       "justify_content": null,
       "justify_items": null,
       "left": null,
       "margin": null,
       "max_height": null,
       "max_width": null,
       "min_height": null,
       "min_width": null,
       "object_fit": null,
       "object_position": null,
       "order": null,
       "overflow": null,
       "overflow_x": null,
       "overflow_y": null,
       "padding": null,
       "right": null,
       "top": null,
       "visibility": null,
       "width": null
      }
     },
     "e70b5a1f96bf4ddf9ac9271b3aa6ad1a": {
      "model_module": "@jupyter-widgets/controls",
      "model_module_version": "1.5.0",
      "model_name": "DescriptionStyleModel",
      "state": {
       "_model_module": "@jupyter-widgets/controls",
       "_model_module_version": "1.5.0",
       "_model_name": "DescriptionStyleModel",
       "_view_count": null,
       "_view_module": "@jupyter-widgets/base",
       "_view_module_version": "1.2.0",
       "_view_name": "StyleView",
       "description_width": ""
      }
     },
     "efc119d2e1e0456fa0a6593c16a85dc2": {
      "model_module": "@jupyter-widgets/base",
      "model_module_version": "1.2.0",
      "model_name": "LayoutModel",
      "state": {
       "_model_module": "@jupyter-widgets/base",
       "_model_module_version": "1.2.0",
       "_model_name": "LayoutModel",
       "_view_count": null,
       "_view_module": "@jupyter-widgets/base",
       "_view_module_version": "1.2.0",
       "_view_name": "LayoutView",
       "align_content": null,
       "align_items": null,
       "align_self": null,
       "border": null,
       "bottom": null,
       "display": null,
       "flex": null,
       "flex_flow": null,
       "grid_area": null,
       "grid_auto_columns": null,
       "grid_auto_flow": null,
       "grid_auto_rows": null,
       "grid_column": null,
       "grid_gap": null,
       "grid_row": null,
       "grid_template_areas": null,
       "grid_template_columns": null,
       "grid_template_rows": null,
       "height": null,
       "justify_content": null,
       "justify_items": null,
       "left": null,
       "margin": null,
       "max_height": null,
       "max_width": null,
       "min_height": null,
       "min_width": null,
       "object_fit": null,
       "object_position": null,
       "order": null,
       "overflow": null,
       "overflow_x": null,
       "overflow_y": null,
       "padding": null,
       "right": null,
       "top": null,
       "visibility": null,
       "width": null
      }
     },
     "f4be4b7893f14d71a8658ad521e9d4e9": {
      "model_module": "@jupyter-widgets/controls",
      "model_module_version": "1.5.0",
      "model_name": "DescriptionStyleModel",
      "state": {
       "_model_module": "@jupyter-widgets/controls",
       "_model_module_version": "1.5.0",
       "_model_name": "DescriptionStyleModel",
       "_view_count": null,
       "_view_module": "@jupyter-widgets/base",
       "_view_module_version": "1.2.0",
       "_view_name": "StyleView",
       "description_width": ""
      }
     }
    },
    "version_major": 2,
    "version_minor": 0
   }
  }
 },
 "nbformat": 4,
 "nbformat_minor": 5
}
