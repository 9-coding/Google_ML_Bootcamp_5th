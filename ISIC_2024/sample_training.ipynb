{
 "cells": [
  {
   "cell_type": "markdown",
   "id": "a55dc82a",
   "metadata": {
    "papermill": {
     "duration": 0.013454,
     "end_time": "2024-08-18T03:25:36.264856",
     "exception": false,
     "start_time": "2024-08-18T03:25:36.251402",
     "status": "completed"
    },
    "tags": []
   },
   "source": [
    "# <span><h1 style = \"font-family: garamond; font-size: 40px; font-style: normal; letter-spcaing: 3px; background-color: #f6f5f5; color :#fe346e; border-radius: 100px 100px; text-align:center\">Import Required Libraries 📚</h1></span>"
   ]
  },
  {
   "cell_type": "code",
   "execution_count": 1,
   "id": "be2f443c",
   "metadata": {
    "execution": {
     "iopub.execute_input": "2024-08-18T03:25:36.292297Z",
     "iopub.status.busy": "2024-08-18T03:25:36.291474Z",
     "iopub.status.idle": "2024-08-18T03:25:50.096123Z",
     "shell.execute_reply": "2024-08-18T03:25:50.095120Z"
    },
    "papermill": {
     "duration": 13.82085,
     "end_time": "2024-08-18T03:25:50.098626",
     "exception": false,
     "start_time": "2024-08-18T03:25:36.277776",
     "status": "completed"
    },
    "tags": []
   },
   "outputs": [
    {
     "name": "stdout",
     "output_type": "stream",
     "text": [
      "Collecting torcheval\r\n",
      "  Downloading torcheval-0.0.7-py3-none-any.whl.metadata (8.6 kB)\r\n",
      "Requirement already satisfied: typing-extensions in /opt/conda/lib/python3.10/site-packages (from torcheval) (4.9.0)\r\n",
      "Downloading torcheval-0.0.7-py3-none-any.whl (179 kB)\r\n",
      "\u001b[2K   \u001b[90m━━━━━━━━━━━━━━━━━━━━━━━━━━━━━━━━━━━━━━━━\u001b[0m \u001b[32m179.2/179.2 kB\u001b[0m \u001b[31m10.4 MB/s\u001b[0m eta \u001b[36m0:00:00\u001b[0m\r\n",
      "\u001b[?25hInstalling collected packages: torcheval\r\n",
      "Successfully installed torcheval-0.0.7\r\n"
     ]
    }
   ],
   "source": [
    "!pip install torcheval"
   ]
  },
  {
   "cell_type": "code",
   "execution_count": 2,
   "id": "6367b1c0",
   "metadata": {
    "execution": {
     "iopub.execute_input": "2024-08-18T03:25:50.126560Z",
     "iopub.status.busy": "2024-08-18T03:25:50.125996Z",
     "iopub.status.idle": "2024-08-18T03:26:02.089043Z",
     "shell.execute_reply": "2024-08-18T03:26:02.087983Z"
    },
    "papermill": {
     "duration": 11.979571,
     "end_time": "2024-08-18T03:26:02.091558",
     "exception": false,
     "start_time": "2024-08-18T03:25:50.111987",
     "status": "completed"
    },
    "tags": []
   },
   "outputs": [],
   "source": [
    "!pip install --quiet wandb"
   ]
  },
  {
   "cell_type": "code",
   "execution_count": 3,
   "id": "1ae0112d",
   "metadata": {
    "execution": {
     "iopub.execute_input": "2024-08-18T03:26:02.122732Z",
     "iopub.status.busy": "2024-08-18T03:26:02.122192Z",
     "iopub.status.idle": "2024-08-18T03:26:14.322245Z",
     "shell.execute_reply": "2024-08-18T03:26:14.320932Z"
    },
    "papermill": {
     "duration": 12.218921,
     "end_time": "2024-08-18T03:26:14.324754",
     "exception": false,
     "start_time": "2024-08-18T03:26:02.105833",
     "status": "completed"
    },
    "tags": []
   },
   "outputs": [],
   "source": [
    "!pip install --quiet --pre timm"
   ]
  },
  {
   "cell_type": "code",
   "execution_count": 4,
   "id": "89d4d33e",
   "metadata": {
    "execution": {
     "iopub.execute_input": "2024-08-18T03:26:14.353734Z",
     "iopub.status.busy": "2024-08-18T03:26:14.352876Z",
     "iopub.status.idle": "2024-08-18T03:26:17.680877Z",
     "shell.execute_reply": "2024-08-18T03:26:17.679598Z"
    },
    "papermill": {
     "duration": 3.345168,
     "end_time": "2024-08-18T03:26:17.683567",
     "exception": false,
     "start_time": "2024-08-18T03:26:14.338399",
     "status": "completed"
    },
    "tags": []
   },
   "outputs": [
    {
     "name": "stdout",
     "output_type": "stream",
     "text": [
      "\u001b[34m\u001b[1mwandb\u001b[0m: \u001b[33mWARNING\u001b[0m If you're specifying your api key in code, ensure this code is not shared publicly.\r\n",
      "\u001b[34m\u001b[1mwandb\u001b[0m: \u001b[33mWARNING\u001b[0m Consider setting the WANDB_API_KEY environment variable, or running `wandb login` from the command line.\r\n",
      "\u001b[34m\u001b[1mwandb\u001b[0m: Appending key for api.wandb.ai to your netrc file: /root/.netrc\r\n"
     ]
    }
   ],
   "source": [
    "!wandb login 38797e5fb1be476dd3af2891a6182c18cfd5a10a"
   ]
  },
  {
   "cell_type": "code",
   "execution_count": 5,
   "id": "4247bf3f",
   "metadata": {
    "execution": {
     "iopub.execute_input": "2024-08-18T03:26:17.717276Z",
     "iopub.status.busy": "2024-08-18T03:26:17.716679Z",
     "iopub.status.idle": "2024-08-18T03:26:36.211543Z",
     "shell.execute_reply": "2024-08-18T03:26:36.210550Z"
    },
    "papermill": {
     "duration": 18.513914,
     "end_time": "2024-08-18T03:26:36.213882",
     "exception": false,
     "start_time": "2024-08-18T03:26:17.699968",
     "status": "completed"
    },
    "tags": []
   },
   "outputs": [
    {
     "name": "stderr",
     "output_type": "stream",
     "text": [
      "\u001b[34m\u001b[1mwandb\u001b[0m: Currently logged in as: \u001b[33m9-coding-lab\u001b[0m (\u001b[33m9-coding\u001b[0m). Use \u001b[1m`wandb login --relogin`\u001b[0m to force relogin\n",
      "\u001b[34m\u001b[1mwandb\u001b[0m: wandb version 0.17.7 is available!  To upgrade, please run:\n",
      "\u001b[34m\u001b[1mwandb\u001b[0m:  $ pip install wandb --upgrade\n",
      "\u001b[34m\u001b[1mwandb\u001b[0m: Tracking run with wandb version 0.17.4\n",
      "\u001b[34m\u001b[1mwandb\u001b[0m: Run data is saved locally in \u001b[35m\u001b[1m/kaggle/working/wandb/run-20240818_032619-ggmtax1l\u001b[0m\n",
      "\u001b[34m\u001b[1mwandb\u001b[0m: Run \u001b[1m`wandb offline`\u001b[0m to turn off syncing.\n",
      "\u001b[34m\u001b[1mwandb\u001b[0m: Syncing run \u001b[33mdevout-lion-40\u001b[0m\n",
      "\u001b[34m\u001b[1mwandb\u001b[0m: ⭐️ View project at \u001b[34m\u001b[4mhttps://wandb.ai/9-coding/ISIC_2024\u001b[0m\n",
      "\u001b[34m\u001b[1mwandb\u001b[0m: 🚀 View run at \u001b[34m\u001b[4mhttps://wandb.ai/9-coding/ISIC_2024/runs/ggmtax1l\u001b[0m\n"
     ]
    }
   ],
   "source": [
    "import wandb\n",
    "wandb.init(project='ISIC_2024')\n",
    "wandb.run.name = 'efficient-b3_lr-0.0001_Adam'"
   ]
  },
  {
   "cell_type": "code",
   "execution_count": 6,
   "id": "c6aaf753",
   "metadata": {
    "execution": {
     "iopub.execute_input": "2024-08-18T03:26:36.244338Z",
     "iopub.status.busy": "2024-08-18T03:26:36.244070Z",
     "iopub.status.idle": "2024-08-18T03:26:44.280364Z",
     "shell.execute_reply": "2024-08-18T03:26:44.279430Z"
    },
    "papermill": {
     "duration": 8.053268,
     "end_time": "2024-08-18T03:26:44.282825",
     "exception": false,
     "start_time": "2024-08-18T03:26:36.229557",
     "status": "completed"
    },
    "tags": []
   },
   "outputs": [],
   "source": [
    "import os\n",
    "import gc\n",
    "import cv2\n",
    "import math\n",
    "import copy\n",
    "import time\n",
    "import random\n",
    "import glob\n",
    "from matplotlib import pyplot as plt\n",
    "\n",
    "# For data manipulation\n",
    "import numpy as np\n",
    "import pandas as pd\n",
    "\n",
    "# Pytorch Imports\n",
    "import torch\n",
    "import torch.nn as nn\n",
    "import torch.optim as optim\n",
    "import torch.nn.functional as F\n",
    "from torch.optim import lr_scheduler\n",
    "from torch.utils.data import Dataset, DataLoader\n",
    "from torch.cuda import amp\n",
    "import torchvision\n",
    "from torcheval.metrics.functional import binary_auroc\n",
    "\n",
    "import torchvision.models as models\n",
    "from sklearn.metrics import roc_auc_score\n",
    "\n",
    "# Utils\n",
    "import joblib\n",
    "from tqdm import tqdm\n",
    "from collections import defaultdict\n",
    "\n",
    "# Sklearn Imports\n",
    "from sklearn.preprocessing import LabelEncoder\n",
    "from sklearn.model_selection import StratifiedKFold, StratifiedGroupKFold \n",
    "\n",
    "# For Image Models\n",
    "import timm\n",
    "\n",
    "# Albumentations for augmentations\n",
    "import albumentations as A\n",
    "from albumentations.pytorch import ToTensorV2\n",
    "\n",
    "# For colored terminal text\n",
    "from colorama import Fore, Back, Style\n",
    "b_ = Fore.BLUE\n",
    "sr_ = Style.RESET_ALL\n",
    "\n",
    "import warnings\n",
    "warnings.filterwarnings(\"ignore\")\n",
    "\n",
    "# For descriptive error messages\n",
    "os.environ['CUDA_LAUNCH_BLOCKING'] = \"1\""
   ]
  },
  {
   "cell_type": "markdown",
   "id": "21a2da7e",
   "metadata": {
    "papermill": {
     "duration": 0.013542,
     "end_time": "2024-08-18T03:26:44.310676",
     "exception": false,
     "start_time": "2024-08-18T03:26:44.297134",
     "status": "completed"
    },
    "tags": []
   },
   "source": [
    "# <span><h1 style = \"font-family: garamond; font-size: 40px; font-style: normal; letter-spcaing: 3px; background-color: #f6f5f5; color :#fe346e; border-radius: 100px 100px; text-align:center\">Training Configuration ⚙️</h1></span>"
   ]
  },
  {
   "cell_type": "code",
   "execution_count": 7,
   "id": "53922795",
   "metadata": {
    "execution": {
     "iopub.execute_input": "2024-08-18T03:26:44.339935Z",
     "iopub.status.busy": "2024-08-18T03:26:44.339379Z",
     "iopub.status.idle": "2024-08-18T03:26:44.395549Z",
     "shell.execute_reply": "2024-08-18T03:26:44.394619Z"
    },
    "papermill": {
     "duration": 0.072835,
     "end_time": "2024-08-18T03:26:44.397430",
     "exception": false,
     "start_time": "2024-08-18T03:26:44.324595",
     "status": "completed"
    },
    "tags": []
   },
   "outputs": [],
   "source": [
    "CONFIG = {\n",
    "    \"seed\": 42,\n",
    "    \"epochs\": 50,\n",
    "    \"img_size\": 384,\n",
    "    \"model_name\": \"tf_efficientnet_b3\",\n",
    "    \"checkpoint_path\" : \"/kaggle/input/tf-efficientnet/pytorch/tf-efficientnet-b3/1/tf_efficientnet_b3_aa-84b4657e.pth\",\n",
    "    \"train_batch_size\": 16,\n",
    "    \"valid_batch_size\": 32,\n",
    "    \"learning_rate\": 1e-4,\n",
    "    \"scheduler\": 'CosineAnnealingLR',\n",
    "    \"min_lr\": 1e-6,\n",
    "    \"T_max\": 500,\n",
    "    \"weight_decay\": 1e-6,\n",
    "    \"fold\" : 0,\n",
    "    \"n_fold\": 5,\n",
    "    \"n_accumulate\": 1,\n",
    "    \"device\": torch.device(\"cuda:0\" if torch.cuda.is_available() else \"cpu\"),\n",
    "}"
   ]
  },
  {
   "cell_type": "markdown",
   "id": "2b28ccc1",
   "metadata": {
    "papermill": {
     "duration": 0.013469,
     "end_time": "2024-08-18T03:26:44.424743",
     "exception": false,
     "start_time": "2024-08-18T03:26:44.411274",
     "status": "completed"
    },
    "tags": []
   },
   "source": [
    "# <span><h1 style = \"font-family: garamond; font-size: 40px; font-style: normal; letter-spcaing: 3px; background-color: #f6f5f5; color :#fe346e; border-radius: 100px 100px; text-align:center\">Set Seed for Reproducibility</h1></span>"
   ]
  },
  {
   "cell_type": "code",
   "execution_count": 8,
   "id": "6aff5748",
   "metadata": {
    "execution": {
     "iopub.execute_input": "2024-08-18T03:26:44.452980Z",
     "iopub.status.busy": "2024-08-18T03:26:44.452676Z",
     "iopub.status.idle": "2024-08-18T03:26:44.460773Z",
     "shell.execute_reply": "2024-08-18T03:26:44.460095Z"
    },
    "papermill": {
     "duration": 0.024317,
     "end_time": "2024-08-18T03:26:44.462599",
     "exception": false,
     "start_time": "2024-08-18T03:26:44.438282",
     "status": "completed"
    },
    "tags": []
   },
   "outputs": [],
   "source": [
    "def set_seed(seed=42):\n",
    "    '''Sets the seed of the entire notebook so results are the same every time we run.\n",
    "    This is for REPRODUCIBILITY.'''\n",
    "    np.random.seed(seed)\n",
    "    torch.manual_seed(seed)\n",
    "    torch.cuda.manual_seed(seed)\n",
    "    # When running on the CuDNN backend, two further options must be set\n",
    "    torch.backends.cudnn.deterministic = True\n",
    "    torch.backends.cudnn.benchmark = False\n",
    "    # Set a fixed value for the hash seed\n",
    "    os.environ['PYTHONHASHSEED'] = str(seed)\n",
    "    \n",
    "set_seed(CONFIG['seed'])"
   ]
  },
  {
   "cell_type": "code",
   "execution_count": 9,
   "id": "8c972433",
   "metadata": {
    "execution": {
     "iopub.execute_input": "2024-08-18T03:26:44.491346Z",
     "iopub.status.busy": "2024-08-18T03:26:44.490563Z",
     "iopub.status.idle": "2024-08-18T03:26:44.494968Z",
     "shell.execute_reply": "2024-08-18T03:26:44.494140Z"
    },
    "papermill": {
     "duration": 0.020821,
     "end_time": "2024-08-18T03:26:44.496925",
     "exception": false,
     "start_time": "2024-08-18T03:26:44.476104",
     "status": "completed"
    },
    "tags": []
   },
   "outputs": [],
   "source": [
    "ROOT_DIR = \"/kaggle/input/isic-2024-challenge\"\n",
    "TRAIN_DIR = f'{ROOT_DIR}/train-image/image'"
   ]
  },
  {
   "cell_type": "code",
   "execution_count": 10,
   "id": "ee2f2111",
   "metadata": {
    "execution": {
     "iopub.execute_input": "2024-08-18T03:26:44.525603Z",
     "iopub.status.busy": "2024-08-18T03:26:44.525106Z",
     "iopub.status.idle": "2024-08-18T03:26:44.529047Z",
     "shell.execute_reply": "2024-08-18T03:26:44.528208Z"
    },
    "papermill": {
     "duration": 0.020414,
     "end_time": "2024-08-18T03:26:44.531042",
     "exception": false,
     "start_time": "2024-08-18T03:26:44.510628",
     "status": "completed"
    },
    "tags": []
   },
   "outputs": [],
   "source": [
    "def get_train_file_path(image_id):\n",
    "    return f\"{TRAIN_DIR}/{image_id}.jpg\""
   ]
  },
  {
   "cell_type": "markdown",
   "id": "d90a12a0",
   "metadata": {
    "papermill": {
     "duration": 0.013624,
     "end_time": "2024-08-18T03:26:44.558545",
     "exception": false,
     "start_time": "2024-08-18T03:26:44.544921",
     "status": "completed"
    },
    "tags": []
   },
   "source": [
    "# <h1 style = \"font-family: garamond; font-size: 40px; font-style: normal; letter-spcaing: 3px; background-color: #f6f5f5; color :#fe346e; border-radius: 100px 100px; text-align:center\">Read the Data 📖</h1>"
   ]
  },
  {
   "cell_type": "code",
   "execution_count": 11,
   "id": "b7961e70",
   "metadata": {
    "execution": {
     "iopub.execute_input": "2024-08-18T03:26:44.587016Z",
     "iopub.status.busy": "2024-08-18T03:26:44.586726Z",
     "iopub.status.idle": "2024-08-18T03:26:49.742042Z",
     "shell.execute_reply": "2024-08-18T03:26:49.741204Z"
    },
    "papermill": {
     "duration": 5.17224,
     "end_time": "2024-08-18T03:26:49.744386",
     "exception": false,
     "start_time": "2024-08-18T03:26:44.572146",
     "status": "completed"
    },
    "tags": []
   },
   "outputs": [],
   "source": [
    "train_images = sorted(glob.glob(f\"{TRAIN_DIR}/*.jpg\"))"
   ]
  },
  {
   "cell_type": "code",
   "execution_count": 12,
   "id": "b4af7421",
   "metadata": {
    "execution": {
     "iopub.execute_input": "2024-08-18T03:26:49.774562Z",
     "iopub.status.busy": "2024-08-18T03:26:49.773979Z",
     "iopub.status.idle": "2024-08-18T03:26:57.368238Z",
     "shell.execute_reply": "2024-08-18T03:26:57.367305Z"
    },
    "papermill": {
     "duration": 7.611619,
     "end_time": "2024-08-18T03:26:57.370574",
     "exception": false,
     "start_time": "2024-08-18T03:26:49.758955",
     "status": "completed"
    },
    "tags": []
   },
   "outputs": [
    {
     "name": "stdout",
     "output_type": "stream",
     "text": [
      "        df.shape, # of positive cases, # of patients\n",
      "original> (401059, 55) 393 (1042,)\n",
      "filtered> (8253, 55) 393 (950,)\n"
     ]
    },
    {
     "data": {
      "text/html": [
       "<div>\n",
       "<style scoped>\n",
       "    .dataframe tbody tr th:only-of-type {\n",
       "        vertical-align: middle;\n",
       "    }\n",
       "\n",
       "    .dataframe tbody tr th {\n",
       "        vertical-align: top;\n",
       "    }\n",
       "\n",
       "    .dataframe thead th {\n",
       "        text-align: right;\n",
       "    }\n",
       "</style>\n",
       "<table border=\"1\" class=\"dataframe\">\n",
       "  <thead>\n",
       "    <tr style=\"text-align: right;\">\n",
       "      <th></th>\n",
       "      <th>isic_id</th>\n",
       "      <th>target</th>\n",
       "      <th>patient_id</th>\n",
       "      <th>age_approx</th>\n",
       "      <th>sex</th>\n",
       "      <th>anatom_site_general</th>\n",
       "      <th>clin_size_long_diam_mm</th>\n",
       "      <th>image_type</th>\n",
       "      <th>tbp_tile_type</th>\n",
       "      <th>tbp_lv_A</th>\n",
       "      <th>...</th>\n",
       "      <th>iddx_full</th>\n",
       "      <th>iddx_1</th>\n",
       "      <th>iddx_2</th>\n",
       "      <th>iddx_3</th>\n",
       "      <th>iddx_4</th>\n",
       "      <th>iddx_5</th>\n",
       "      <th>mel_mitotic_index</th>\n",
       "      <th>mel_thick_mm</th>\n",
       "      <th>tbp_lv_dnn_lesion_confidence</th>\n",
       "      <th>file_path</th>\n",
       "    </tr>\n",
       "  </thead>\n",
       "  <tbody>\n",
       "    <tr>\n",
       "      <th>0</th>\n",
       "      <td>ISIC_0082829</td>\n",
       "      <td>1</td>\n",
       "      <td>IP_3249371</td>\n",
       "      <td>80.0</td>\n",
       "      <td>female</td>\n",
       "      <td>anterior torso</td>\n",
       "      <td>9.27</td>\n",
       "      <td>TBP tile: close-up</td>\n",
       "      <td>3D: XP</td>\n",
       "      <td>18.093368</td>\n",
       "      <td>...</td>\n",
       "      <td>Malignant::Malignant epidermal proliferations:...</td>\n",
       "      <td>Malignant</td>\n",
       "      <td>Malignant epidermal proliferations</td>\n",
       "      <td>Squamous cell carcinoma in situ</td>\n",
       "      <td>NaN</td>\n",
       "      <td>NaN</td>\n",
       "      <td>NaN</td>\n",
       "      <td>NaN</td>\n",
       "      <td>72.211683</td>\n",
       "      <td>/kaggle/input/isic-2024-challenge/train-image/...</td>\n",
       "    </tr>\n",
       "    <tr>\n",
       "      <th>1</th>\n",
       "      <td>ISIC_0096034</td>\n",
       "      <td>1</td>\n",
       "      <td>IP_6723298</td>\n",
       "      <td>75.0</td>\n",
       "      <td>male</td>\n",
       "      <td>head/neck</td>\n",
       "      <td>3.88</td>\n",
       "      <td>TBP tile: close-up</td>\n",
       "      <td>3D: white</td>\n",
       "      <td>26.187010</td>\n",
       "      <td>...</td>\n",
       "      <td>Malignant::Malignant adnexal epithelial prolif...</td>\n",
       "      <td>Malignant</td>\n",
       "      <td>Malignant adnexal epithelial proliferations - ...</td>\n",
       "      <td>Basal cell carcinoma</td>\n",
       "      <td>Basal cell carcinoma, Nodular</td>\n",
       "      <td>NaN</td>\n",
       "      <td>NaN</td>\n",
       "      <td>NaN</td>\n",
       "      <td>94.559590</td>\n",
       "      <td>/kaggle/input/isic-2024-challenge/train-image/...</td>\n",
       "    </tr>\n",
       "    <tr>\n",
       "      <th>2</th>\n",
       "      <td>ISIC_0104229</td>\n",
       "      <td>1</td>\n",
       "      <td>IP_9057861</td>\n",
       "      <td>80.0</td>\n",
       "      <td>male</td>\n",
       "      <td>anterior torso</td>\n",
       "      <td>6.55</td>\n",
       "      <td>TBP tile: close-up</td>\n",
       "      <td>3D: white</td>\n",
       "      <td>33.480140</td>\n",
       "      <td>...</td>\n",
       "      <td>Malignant::Malignant adnexal epithelial prolif...</td>\n",
       "      <td>Malignant</td>\n",
       "      <td>Malignant adnexal epithelial proliferations - ...</td>\n",
       "      <td>Basal cell carcinoma</td>\n",
       "      <td>Basal cell carcinoma, Nodular</td>\n",
       "      <td>NaN</td>\n",
       "      <td>NaN</td>\n",
       "      <td>NaN</td>\n",
       "      <td>66.196170</td>\n",
       "      <td>/kaggle/input/isic-2024-challenge/train-image/...</td>\n",
       "    </tr>\n",
       "    <tr>\n",
       "      <th>3</th>\n",
       "      <td>ISIC_0119495</td>\n",
       "      <td>1</td>\n",
       "      <td>IP_6856511</td>\n",
       "      <td>60.0</td>\n",
       "      <td>male</td>\n",
       "      <td>upper extremity</td>\n",
       "      <td>5.27</td>\n",
       "      <td>TBP tile: close-up</td>\n",
       "      <td>3D: white</td>\n",
       "      <td>25.872050</td>\n",
       "      <td>...</td>\n",
       "      <td>Malignant::Malignant epidermal proliferations:...</td>\n",
       "      <td>Malignant</td>\n",
       "      <td>Malignant epidermal proliferations</td>\n",
       "      <td>Squamous cell carcinoma, Invasive</td>\n",
       "      <td>NaN</td>\n",
       "      <td>NaN</td>\n",
       "      <td>NaN</td>\n",
       "      <td>NaN</td>\n",
       "      <td>99.991270</td>\n",
       "      <td>/kaggle/input/isic-2024-challenge/train-image/...</td>\n",
       "    </tr>\n",
       "    <tr>\n",
       "      <th>4</th>\n",
       "      <td>ISIC_0157834</td>\n",
       "      <td>1</td>\n",
       "      <td>IP_3927284</td>\n",
       "      <td>55.0</td>\n",
       "      <td>male</td>\n",
       "      <td>posterior torso</td>\n",
       "      <td>5.29</td>\n",
       "      <td>TBP tile: close-up</td>\n",
       "      <td>3D: white</td>\n",
       "      <td>30.966662</td>\n",
       "      <td>...</td>\n",
       "      <td>Malignant::Malignant adnexal epithelial prolif...</td>\n",
       "      <td>Malignant</td>\n",
       "      <td>Malignant adnexal epithelial proliferations - ...</td>\n",
       "      <td>Basal cell carcinoma</td>\n",
       "      <td>Basal cell carcinoma, Superficial</td>\n",
       "      <td>NaN</td>\n",
       "      <td>NaN</td>\n",
       "      <td>NaN</td>\n",
       "      <td>99.960846</td>\n",
       "      <td>/kaggle/input/isic-2024-challenge/train-image/...</td>\n",
       "    </tr>\n",
       "    <tr>\n",
       "      <th>...</th>\n",
       "      <td>...</td>\n",
       "      <td>...</td>\n",
       "      <td>...</td>\n",
       "      <td>...</td>\n",
       "      <td>...</td>\n",
       "      <td>...</td>\n",
       "      <td>...</td>\n",
       "      <td>...</td>\n",
       "      <td>...</td>\n",
       "      <td>...</td>\n",
       "      <td>...</td>\n",
       "      <td>...</td>\n",
       "      <td>...</td>\n",
       "      <td>...</td>\n",
       "      <td>...</td>\n",
       "      <td>...</td>\n",
       "      <td>...</td>\n",
       "      <td>...</td>\n",
       "      <td>...</td>\n",
       "      <td>...</td>\n",
       "      <td>...</td>\n",
       "    </tr>\n",
       "    <tr>\n",
       "      <th>8248</th>\n",
       "      <td>ISIC_0267522</td>\n",
       "      <td>0</td>\n",
       "      <td>IP_9577633</td>\n",
       "      <td>50.0</td>\n",
       "      <td>male</td>\n",
       "      <td>lower extremity</td>\n",
       "      <td>4.94</td>\n",
       "      <td>TBP tile: close-up</td>\n",
       "      <td>3D: XP</td>\n",
       "      <td>21.738880</td>\n",
       "      <td>...</td>\n",
       "      <td>Benign</td>\n",
       "      <td>Benign</td>\n",
       "      <td>NaN</td>\n",
       "      <td>NaN</td>\n",
       "      <td>NaN</td>\n",
       "      <td>NaN</td>\n",
       "      <td>NaN</td>\n",
       "      <td>NaN</td>\n",
       "      <td>96.325510</td>\n",
       "      <td>/kaggle/input/isic-2024-challenge/train-image/...</td>\n",
       "    </tr>\n",
       "    <tr>\n",
       "      <th>8249</th>\n",
       "      <td>ISIC_0267560</td>\n",
       "      <td>0</td>\n",
       "      <td>IP_7746572</td>\n",
       "      <td>80.0</td>\n",
       "      <td>male</td>\n",
       "      <td>anterior torso</td>\n",
       "      <td>9.32</td>\n",
       "      <td>TBP tile: close-up</td>\n",
       "      <td>3D: white</td>\n",
       "      <td>18.481750</td>\n",
       "      <td>...</td>\n",
       "      <td>Benign</td>\n",
       "      <td>Benign</td>\n",
       "      <td>NaN</td>\n",
       "      <td>NaN</td>\n",
       "      <td>NaN</td>\n",
       "      <td>NaN</td>\n",
       "      <td>NaN</td>\n",
       "      <td>NaN</td>\n",
       "      <td>97.022320</td>\n",
       "      <td>/kaggle/input/isic-2024-challenge/train-image/...</td>\n",
       "    </tr>\n",
       "    <tr>\n",
       "      <th>8250</th>\n",
       "      <td>ISIC_0267568</td>\n",
       "      <td>0</td>\n",
       "      <td>IP_0379091</td>\n",
       "      <td>60.0</td>\n",
       "      <td>male</td>\n",
       "      <td>anterior torso</td>\n",
       "      <td>3.45</td>\n",
       "      <td>TBP tile: close-up</td>\n",
       "      <td>3D: white</td>\n",
       "      <td>13.901465</td>\n",
       "      <td>...</td>\n",
       "      <td>Benign</td>\n",
       "      <td>Benign</td>\n",
       "      <td>NaN</td>\n",
       "      <td>NaN</td>\n",
       "      <td>NaN</td>\n",
       "      <td>NaN</td>\n",
       "      <td>NaN</td>\n",
       "      <td>NaN</td>\n",
       "      <td>72.961688</td>\n",
       "      <td>/kaggle/input/isic-2024-challenge/train-image/...</td>\n",
       "    </tr>\n",
       "    <tr>\n",
       "      <th>8251</th>\n",
       "      <td>ISIC_0267594</td>\n",
       "      <td>0</td>\n",
       "      <td>IP_1433033</td>\n",
       "      <td>70.0</td>\n",
       "      <td>NaN</td>\n",
       "      <td>lower extremity</td>\n",
       "      <td>3.00</td>\n",
       "      <td>TBP tile: close-up</td>\n",
       "      <td>3D: XP</td>\n",
       "      <td>17.986882</td>\n",
       "      <td>...</td>\n",
       "      <td>Benign</td>\n",
       "      <td>Benign</td>\n",
       "      <td>NaN</td>\n",
       "      <td>NaN</td>\n",
       "      <td>NaN</td>\n",
       "      <td>NaN</td>\n",
       "      <td>NaN</td>\n",
       "      <td>NaN</td>\n",
       "      <td>99.899274</td>\n",
       "      <td>/kaggle/input/isic-2024-challenge/train-image/...</td>\n",
       "    </tr>\n",
       "    <tr>\n",
       "      <th>8252</th>\n",
       "      <td>ISIC_0267606</td>\n",
       "      <td>0</td>\n",
       "      <td>IP_8565023</td>\n",
       "      <td>30.0</td>\n",
       "      <td>male</td>\n",
       "      <td>head/neck</td>\n",
       "      <td>3.10</td>\n",
       "      <td>TBP tile: close-up</td>\n",
       "      <td>3D: XP</td>\n",
       "      <td>13.420060</td>\n",
       "      <td>...</td>\n",
       "      <td>Benign</td>\n",
       "      <td>Benign</td>\n",
       "      <td>NaN</td>\n",
       "      <td>NaN</td>\n",
       "      <td>NaN</td>\n",
       "      <td>NaN</td>\n",
       "      <td>NaN</td>\n",
       "      <td>NaN</td>\n",
       "      <td>99.449560</td>\n",
       "      <td>/kaggle/input/isic-2024-challenge/train-image/...</td>\n",
       "    </tr>\n",
       "  </tbody>\n",
       "</table>\n",
       "<p>8253 rows × 56 columns</p>\n",
       "</div>"
      ],
      "text/plain": [
       "           isic_id  target  patient_id  age_approx     sex  \\\n",
       "0     ISIC_0082829       1  IP_3249371        80.0  female   \n",
       "1     ISIC_0096034       1  IP_6723298        75.0    male   \n",
       "2     ISIC_0104229       1  IP_9057861        80.0    male   \n",
       "3     ISIC_0119495       1  IP_6856511        60.0    male   \n",
       "4     ISIC_0157834       1  IP_3927284        55.0    male   \n",
       "...            ...     ...         ...         ...     ...   \n",
       "8248  ISIC_0267522       0  IP_9577633        50.0    male   \n",
       "8249  ISIC_0267560       0  IP_7746572        80.0    male   \n",
       "8250  ISIC_0267568       0  IP_0379091        60.0    male   \n",
       "8251  ISIC_0267594       0  IP_1433033        70.0     NaN   \n",
       "8252  ISIC_0267606       0  IP_8565023        30.0    male   \n",
       "\n",
       "     anatom_site_general  clin_size_long_diam_mm          image_type  \\\n",
       "0         anterior torso                    9.27  TBP tile: close-up   \n",
       "1              head/neck                    3.88  TBP tile: close-up   \n",
       "2         anterior torso                    6.55  TBP tile: close-up   \n",
       "3        upper extremity                    5.27  TBP tile: close-up   \n",
       "4        posterior torso                    5.29  TBP tile: close-up   \n",
       "...                  ...                     ...                 ...   \n",
       "8248     lower extremity                    4.94  TBP tile: close-up   \n",
       "8249      anterior torso                    9.32  TBP tile: close-up   \n",
       "8250      anterior torso                    3.45  TBP tile: close-up   \n",
       "8251     lower extremity                    3.00  TBP tile: close-up   \n",
       "8252           head/neck                    3.10  TBP tile: close-up   \n",
       "\n",
       "     tbp_tile_type   tbp_lv_A  ...  \\\n",
       "0           3D: XP  18.093368  ...   \n",
       "1        3D: white  26.187010  ...   \n",
       "2        3D: white  33.480140  ...   \n",
       "3        3D: white  25.872050  ...   \n",
       "4        3D: white  30.966662  ...   \n",
       "...            ...        ...  ...   \n",
       "8248        3D: XP  21.738880  ...   \n",
       "8249     3D: white  18.481750  ...   \n",
       "8250     3D: white  13.901465  ...   \n",
       "8251        3D: XP  17.986882  ...   \n",
       "8252        3D: XP  13.420060  ...   \n",
       "\n",
       "                                              iddx_full     iddx_1  \\\n",
       "0     Malignant::Malignant epidermal proliferations:...  Malignant   \n",
       "1     Malignant::Malignant adnexal epithelial prolif...  Malignant   \n",
       "2     Malignant::Malignant adnexal epithelial prolif...  Malignant   \n",
       "3     Malignant::Malignant epidermal proliferations:...  Malignant   \n",
       "4     Malignant::Malignant adnexal epithelial prolif...  Malignant   \n",
       "...                                                 ...        ...   \n",
       "8248                                             Benign     Benign   \n",
       "8249                                             Benign     Benign   \n",
       "8250                                             Benign     Benign   \n",
       "8251                                             Benign     Benign   \n",
       "8252                                             Benign     Benign   \n",
       "\n",
       "                                                 iddx_2  \\\n",
       "0                    Malignant epidermal proliferations   \n",
       "1     Malignant adnexal epithelial proliferations - ...   \n",
       "2     Malignant adnexal epithelial proliferations - ...   \n",
       "3                    Malignant epidermal proliferations   \n",
       "4     Malignant adnexal epithelial proliferations - ...   \n",
       "...                                                 ...   \n",
       "8248                                                NaN   \n",
       "8249                                                NaN   \n",
       "8250                                                NaN   \n",
       "8251                                                NaN   \n",
       "8252                                                NaN   \n",
       "\n",
       "                                 iddx_3                             iddx_4  \\\n",
       "0       Squamous cell carcinoma in situ                                NaN   \n",
       "1                  Basal cell carcinoma      Basal cell carcinoma, Nodular   \n",
       "2                  Basal cell carcinoma      Basal cell carcinoma, Nodular   \n",
       "3     Squamous cell carcinoma, Invasive                                NaN   \n",
       "4                  Basal cell carcinoma  Basal cell carcinoma, Superficial   \n",
       "...                                 ...                                ...   \n",
       "8248                                NaN                                NaN   \n",
       "8249                                NaN                                NaN   \n",
       "8250                                NaN                                NaN   \n",
       "8251                                NaN                                NaN   \n",
       "8252                                NaN                                NaN   \n",
       "\n",
       "      iddx_5  mel_mitotic_index  mel_thick_mm  tbp_lv_dnn_lesion_confidence  \\\n",
       "0        NaN                NaN           NaN                     72.211683   \n",
       "1        NaN                NaN           NaN                     94.559590   \n",
       "2        NaN                NaN           NaN                     66.196170   \n",
       "3        NaN                NaN           NaN                     99.991270   \n",
       "4        NaN                NaN           NaN                     99.960846   \n",
       "...      ...                ...           ...                           ...   \n",
       "8248     NaN                NaN           NaN                     96.325510   \n",
       "8249     NaN                NaN           NaN                     97.022320   \n",
       "8250     NaN                NaN           NaN                     72.961688   \n",
       "8251     NaN                NaN           NaN                     99.899274   \n",
       "8252     NaN                NaN           NaN                     99.449560   \n",
       "\n",
       "                                              file_path  \n",
       "0     /kaggle/input/isic-2024-challenge/train-image/...  \n",
       "1     /kaggle/input/isic-2024-challenge/train-image/...  \n",
       "2     /kaggle/input/isic-2024-challenge/train-image/...  \n",
       "3     /kaggle/input/isic-2024-challenge/train-image/...  \n",
       "4     /kaggle/input/isic-2024-challenge/train-image/...  \n",
       "...                                                 ...  \n",
       "8248  /kaggle/input/isic-2024-challenge/train-image/...  \n",
       "8249  /kaggle/input/isic-2024-challenge/train-image/...  \n",
       "8250  /kaggle/input/isic-2024-challenge/train-image/...  \n",
       "8251  /kaggle/input/isic-2024-challenge/train-image/...  \n",
       "8252  /kaggle/input/isic-2024-challenge/train-image/...  \n",
       "\n",
       "[8253 rows x 56 columns]"
      ]
     },
     "execution_count": 12,
     "metadata": {},
     "output_type": "execute_result"
    }
   ],
   "source": [
    "df = pd.read_csv(f\"{ROOT_DIR}/train-metadata.csv\")\n",
    "\n",
    "print(\"        df.shape, # of positive cases, # of patients\")\n",
    "print(\"original>\", df.shape, df.target.sum(), df[\"patient_id\"].unique().shape)\n",
    "\n",
    "df_positive = df[df[\"target\"] == 1].reset_index(drop=True)\n",
    "df_negative = df[df[\"target\"] == 0].reset_index(drop=True)\n",
    "\n",
    "df = pd.concat([df_positive, df_negative.iloc[:df_positive.shape[0]*20, :]])  # positive:negative = 1:20\n",
    "print(\"filtered>\", df.shape, df.target.sum(), df[\"patient_id\"].unique().shape)\n",
    "\n",
    "df['file_path'] = df['isic_id'].apply(get_train_file_path)\n",
    "df = df[ df[\"file_path\"].isin(train_images) ].reset_index(drop=True)\n",
    "df"
   ]
  },
  {
   "cell_type": "code",
   "execution_count": 13,
   "id": "ffc47e53",
   "metadata": {
    "execution": {
     "iopub.execute_input": "2024-08-18T03:26:57.401915Z",
     "iopub.status.busy": "2024-08-18T03:26:57.401261Z",
     "iopub.status.idle": "2024-08-18T03:26:57.407190Z",
     "shell.execute_reply": "2024-08-18T03:26:57.406417Z"
    },
    "papermill": {
     "duration": 0.023251,
     "end_time": "2024-08-18T03:26:57.409023",
     "exception": false,
     "start_time": "2024-08-18T03:26:57.385772",
     "status": "completed"
    },
    "tags": []
   },
   "outputs": [
    {
     "data": {
      "text/plain": [
       "(8253, 393)"
      ]
     },
     "execution_count": 13,
     "metadata": {},
     "output_type": "execute_result"
    }
   ],
   "source": [
    "df.shape[0], df.target.sum()"
   ]
  },
  {
   "cell_type": "code",
   "execution_count": 14,
   "id": "ca04455a",
   "metadata": {
    "execution": {
     "iopub.execute_input": "2024-08-18T03:26:57.441226Z",
     "iopub.status.busy": "2024-08-18T03:26:57.440917Z",
     "iopub.status.idle": "2024-08-18T03:26:57.446918Z",
     "shell.execute_reply": "2024-08-18T03:26:57.446095Z"
    },
    "papermill": {
     "duration": 0.023469,
     "end_time": "2024-08-18T03:26:57.448810",
     "exception": false,
     "start_time": "2024-08-18T03:26:57.425341",
     "status": "completed"
    },
    "tags": []
   },
   "outputs": [
    {
     "data": {
      "text/plain": [
       "20632"
      ]
     },
     "execution_count": 14,
     "metadata": {},
     "output_type": "execute_result"
    }
   ],
   "source": [
    "CONFIG['T_max'] = df.shape[0] * (CONFIG[\"n_fold\"]-1) * CONFIG['epochs'] // CONFIG['train_batch_size'] // CONFIG[\"n_fold\"]\n",
    "CONFIG['T_max']"
   ]
  },
  {
   "cell_type": "markdown",
   "id": "f5cad9eb",
   "metadata": {
    "papermill": {
     "duration": 0.014909,
     "end_time": "2024-08-18T03:26:57.478715",
     "exception": false,
     "start_time": "2024-08-18T03:26:57.463806",
     "status": "completed"
    },
    "tags": []
   },
   "source": [
    "# <span><h1 style = \"font-family: garamond; font-size: 40px; font-style: normal; letter-spcaing: 3px; background-color: #f6f5f5; color :#fe346e; border-radius: 100px 100px; text-align:center\">Create Folds</h1></span>"
   ]
  },
  {
   "cell_type": "code",
   "execution_count": 15,
   "id": "22c5f413",
   "metadata": {
    "execution": {
     "iopub.execute_input": "2024-08-18T03:26:57.509567Z",
     "iopub.status.busy": "2024-08-18T03:26:57.509287Z",
     "iopub.status.idle": "2024-08-18T03:26:57.949812Z",
     "shell.execute_reply": "2024-08-18T03:26:57.949049Z"
    },
    "papermill": {
     "duration": 0.458296,
     "end_time": "2024-08-18T03:26:57.951973",
     "exception": false,
     "start_time": "2024-08-18T03:26:57.493677",
     "status": "completed"
    },
    "tags": []
   },
   "outputs": [],
   "source": [
    "sgkf = StratifiedGroupKFold(n_splits=CONFIG['n_fold'])\n",
    "\n",
    "for fold, ( _, val_) in enumerate(sgkf.split(df, df.target,df.patient_id)):\n",
    "      df.loc[val_ , \"kfold\"] = int(fold)"
   ]
  },
  {
   "cell_type": "markdown",
   "id": "2c2d2e14",
   "metadata": {
    "papermill": {
     "duration": 0.014953,
     "end_time": "2024-08-18T03:26:57.982409",
     "exception": false,
     "start_time": "2024-08-18T03:26:57.967456",
     "status": "completed"
    },
    "tags": []
   },
   "source": [
    "# <span><h1 style = \"font-family: garamond; font-size: 40px; font-style: normal; letter-spcaing: 3px; background-color: #f6f5f5; color :#fe346e; border-radius: 100px 100px; text-align:center\">Dataset Class</h1></span>"
   ]
  },
  {
   "cell_type": "code",
   "execution_count": 16,
   "id": "7a06963b",
   "metadata": {
    "execution": {
     "iopub.execute_input": "2024-08-18T03:26:58.056666Z",
     "iopub.status.busy": "2024-08-18T03:26:58.055848Z",
     "iopub.status.idle": "2024-08-18T03:26:58.068530Z",
     "shell.execute_reply": "2024-08-18T03:26:58.067676Z"
    },
    "papermill": {
     "duration": 0.073048,
     "end_time": "2024-08-18T03:26:58.070452",
     "exception": false,
     "start_time": "2024-08-18T03:26:57.997404",
     "status": "completed"
    },
    "tags": []
   },
   "outputs": [],
   "source": [
    "class ISICDataset_for_Train(Dataset):\n",
    "    def __init__(self, df, transforms=None):\n",
    "        self.df_positive = df[df[\"target\"] == 1].reset_index()\n",
    "        self.df_negative = df[df[\"target\"] == 0].reset_index()\n",
    "        self.file_names_positive = self.df_positive['file_path'].values\n",
    "        self.file_names_negative = self.df_negative['file_path'].values\n",
    "        self.targets_positive = self.df_positive['target'].values\n",
    "        self.targets_negative = self.df_negative['target'].values\n",
    "        self.transforms = transforms\n",
    "        \n",
    "    def __len__(self):\n",
    "        return len(self.df_positive) * 2\n",
    "    \n",
    "    def __getitem__(self, index):\n",
    "        if random.random() >= 0.5:\n",
    "            df = self.df_positive\n",
    "            file_names = self.file_names_positive\n",
    "            targets = self.targets_positive\n",
    "        else:\n",
    "            df = self.df_negative\n",
    "            file_names = self.file_names_negative\n",
    "            targets = self.targets_negative\n",
    "        index = index % df.shape[0]\n",
    "        \n",
    "        img_path = file_names[index]\n",
    "        img = cv2.imread(img_path)\n",
    "        img = cv2.cvtColor(img, cv2.COLOR_BGR2RGB)\n",
    "        target = targets[index]\n",
    "        \n",
    "        if self.transforms:\n",
    "            img = self.transforms(image=img)[\"image\"]\n",
    "            \n",
    "        return {\n",
    "            'image': img,\n",
    "            'target': target\n",
    "        }\n",
    "    \n",
    "class ISICDataset(Dataset):\n",
    "    def __init__(self, df, transforms=None):\n",
    "        self.df = df\n",
    "        self.file_names = df['file_path'].values\n",
    "        self.targets = df['target'].values\n",
    "        self.transforms = transforms\n",
    "        \n",
    "    def __len__(self):\n",
    "        return len(self.df)\n",
    "    \n",
    "    def __getitem__(self, index):\n",
    "        img_path = self.file_names[index]\n",
    "        img = cv2.imread(img_path)\n",
    "        img = cv2.cvtColor(img, cv2.COLOR_BGR2RGB)\n",
    "        target = self.targets[index]\n",
    "        \n",
    "        if self.transforms:\n",
    "            img = self.transforms(image=img)[\"image\"]\n",
    "            \n",
    "        return {\n",
    "            'image': img,\n",
    "            'target': target\n",
    "        }"
   ]
  },
  {
   "cell_type": "markdown",
   "id": "efe5b3a9",
   "metadata": {
    "papermill": {
     "duration": 0.015544,
     "end_time": "2024-08-18T03:26:58.101514",
     "exception": false,
     "start_time": "2024-08-18T03:26:58.085970",
     "status": "completed"
    },
    "tags": []
   },
   "source": [
    "# <span><h1 style = \"font-family: garamond; font-size: 40px; font-style: normal; letter-spcaing: 3px; background-color: #f6f5f5; color :#fe346e; border-radius: 100px 100px; text-align:center\">Augmentations</h1></span>"
   ]
  },
  {
   "cell_type": "code",
   "execution_count": 17,
   "id": "a0dc360b",
   "metadata": {
    "execution": {
     "iopub.execute_input": "2024-08-18T03:26:58.133640Z",
     "iopub.status.busy": "2024-08-18T03:26:58.132897Z",
     "iopub.status.idle": "2024-08-18T03:26:58.141958Z",
     "shell.execute_reply": "2024-08-18T03:26:58.141116Z"
    },
    "papermill": {
     "duration": 0.0271,
     "end_time": "2024-08-18T03:26:58.143911",
     "exception": false,
     "start_time": "2024-08-18T03:26:58.116811",
     "status": "completed"
    },
    "tags": []
   },
   "outputs": [],
   "source": [
    "data_transforms = {\n",
    "    \"train\": A.Compose([\n",
    "        A.Resize(CONFIG['img_size'], CONFIG['img_size']),\n",
    "        A.RandomRotate90(p=0.5),\n",
    "        A.Flip(p=0.5),\n",
    "        A.Downscale(p=0.25),\n",
    "        A.ShiftScaleRotate(shift_limit=0.1, \n",
    "                           scale_limit=0.15, \n",
    "                           rotate_limit=60, \n",
    "                           p=0.5),\n",
    "        A.HueSaturationValue(\n",
    "                hue_shift_limit=0.2, \n",
    "                sat_shift_limit=0.2, \n",
    "                val_shift_limit=0.2, \n",
    "                p=0.5\n",
    "            ),\n",
    "        A.RandomBrightnessContrast(\n",
    "                brightness_limit=(-0.1,0.1), \n",
    "                contrast_limit=(-0.1, 0.1), \n",
    "                p=0.5\n",
    "            ),\n",
    "        A.Normalize(\n",
    "                mean=[0.485, 0.456, 0.406], \n",
    "                std=[0.229, 0.224, 0.225], \n",
    "                max_pixel_value=255.0, \n",
    "                p=1.0\n",
    "            ),\n",
    "        ToTensorV2()], p=1.),\n",
    "    \n",
    "    \"valid\": A.Compose([\n",
    "        A.Resize(CONFIG['img_size'], CONFIG['img_size']),\n",
    "        A.Normalize(\n",
    "                mean=[0.485, 0.456, 0.406], \n",
    "                std=[0.229, 0.224, 0.225], \n",
    "                max_pixel_value=255.0, \n",
    "                p=1.0\n",
    "            ),\n",
    "        ToTensorV2()], p=1.)\n",
    "}"
   ]
  },
  {
   "cell_type": "markdown",
   "id": "7e28d007",
   "metadata": {
    "papermill": {
     "duration": 0.015036,
     "end_time": "2024-08-18T03:26:58.174051",
     "exception": false,
     "start_time": "2024-08-18T03:26:58.159015",
     "status": "completed"
    },
    "tags": []
   },
   "source": [
    "# <span><h1 style = \"font-family: garamond; font-size: 40px; font-style: normal; letter-spcaing: 3px; background-color: #f6f5f5; color :#fe346e; border-radius: 100px 100px; text-align:center\">GeM Pooling</h1></span>"
   ]
  },
  {
   "cell_type": "code",
   "execution_count": 18,
   "id": "d07b2396",
   "metadata": {
    "execution": {
     "iopub.execute_input": "2024-08-18T03:26:58.206874Z",
     "iopub.status.busy": "2024-08-18T03:26:58.206149Z",
     "iopub.status.idle": "2024-08-18T03:26:58.213828Z",
     "shell.execute_reply": "2024-08-18T03:26:58.213038Z"
    },
    "papermill": {
     "duration": 0.026138,
     "end_time": "2024-08-18T03:26:58.215945",
     "exception": false,
     "start_time": "2024-08-18T03:26:58.189807",
     "status": "completed"
    },
    "tags": []
   },
   "outputs": [],
   "source": [
    "class GeM(nn.Module):\n",
    "    def __init__(self, p=3, eps=1e-6):\n",
    "        super(GeM, self).__init__()\n",
    "        self.p = nn.Parameter(torch.ones(1)*p)\n",
    "        self.eps = eps\n",
    "\n",
    "    def forward(self, x):\n",
    "        return self.gem(x, p=self.p, eps=self.eps)\n",
    "        \n",
    "    def gem(self, x, p=3, eps=1e-6):\n",
    "        return F.avg_pool2d(x.clamp(min=eps).pow(p), (x.size(-2), x.size(-1))).pow(1./p)\n",
    "        \n",
    "    def __repr__(self):\n",
    "        return self.__class__.__name__ + \\\n",
    "                '(' + 'p=' + '{:.4f}'.format(self.p.data.tolist()[0]) + \\\n",
    "                ', ' + 'eps=' + str(self.eps) + ')'"
   ]
  },
  {
   "cell_type": "markdown",
   "id": "69294460",
   "metadata": {
    "papermill": {
     "duration": 0.015194,
     "end_time": "2024-08-18T03:26:58.246654",
     "exception": false,
     "start_time": "2024-08-18T03:26:58.231460",
     "status": "completed"
    },
    "tags": []
   },
   "source": [
    "# <span><h1 style = \"font-family: garamond; font-size: 40px; font-style: normal; letter-spcaing: 3px; background-color: #f6f5f5; color :#fe346e; border-radius: 100px 100px; text-align:center\">Create Model</h1></span>"
   ]
  },
  {
   "cell_type": "code",
   "execution_count": 19,
   "id": "b670c19c",
   "metadata": {
    "execution": {
     "iopub.execute_input": "2024-08-18T03:26:58.278737Z",
     "iopub.status.busy": "2024-08-18T03:26:58.278412Z",
     "iopub.status.idle": "2024-08-18T03:27:01.745027Z",
     "shell.execute_reply": "2024-08-18T03:27:01.744117Z"
    },
    "papermill": {
     "duration": 3.485477,
     "end_time": "2024-08-18T03:27:01.747466",
     "exception": false,
     "start_time": "2024-08-18T03:26:58.261989",
     "status": "completed"
    },
    "tags": []
   },
   "outputs": [
    {
     "data": {
      "application/vnd.jupyter.widget-view+json": {
       "model_id": "1148561b76d941b5bdeab5d551c8b579",
       "version_major": 2,
       "version_minor": 0
      },
      "text/plain": [
       "model.safetensors:   0%|          | 0.00/49.3M [00:00<?, ?B/s]"
      ]
     },
     "metadata": {},
     "output_type": "display_data"
    },
    {
     "data": {
      "text/plain": [
       "[]"
      ]
     },
     "execution_count": 19,
     "metadata": {},
     "output_type": "execute_result"
    }
   ],
   "source": [
    "class ISICModel(nn.Module):\n",
    "    def __init__(self, model_name, num_classes=1, pretrained=True, checkpoint_path=None):\n",
    "        super(ISICModel, self).__init__()\n",
    "        self.model = timm.create_model(model_name, pretrained=pretrained, checkpoint_path=checkpoint_path)\n",
    "\n",
    "        in_features = self.model.classifier.in_features\n",
    "        self.model.classifier = nn.Identity()\n",
    "        self.model.global_pool = nn.Identity()\n",
    "        self.pooling = GeM()\n",
    "        self.linear = nn.Linear(in_features, num_classes)\n",
    "        self.sigmoid = nn.Sigmoid()\n",
    "\n",
    "    def forward(self, images):\n",
    "        features = self.model(images)\n",
    "        pooled_features = self.pooling(features).flatten(1)\n",
    "        output = self.sigmoid(self.linear(pooled_features))\n",
    "        return output\n",
    "\n",
    "model = ISICModel(CONFIG['model_name'], checkpoint_path=CONFIG['checkpoint_path'])\n",
    "model.to(CONFIG['device']);\n",
    "wandb.watch(model, log=\"all\")"
   ]
  },
  {
   "cell_type": "markdown",
   "id": "3314291f",
   "metadata": {
    "papermill": {
     "duration": 0.016029,
     "end_time": "2024-08-18T03:27:01.779620",
     "exception": false,
     "start_time": "2024-08-18T03:27:01.763591",
     "status": "completed"
    },
    "tags": []
   },
   "source": [
    "# <span><h1 style = \"font-family: garamond; font-size: 40px; font-style: normal; letter-spcaing: 3px; background-color: #f6f5f5; color :#fe346e; border-radius: 100px 100px; text-align:center\">Loss Function</h1></span>"
   ]
  },
  {
   "cell_type": "code",
   "execution_count": 20,
   "id": "a152aaac",
   "metadata": {
    "execution": {
     "iopub.execute_input": "2024-08-18T03:27:01.811977Z",
     "iopub.status.busy": "2024-08-18T03:27:01.811676Z",
     "iopub.status.idle": "2024-08-18T03:27:01.815972Z",
     "shell.execute_reply": "2024-08-18T03:27:01.815161Z"
    },
    "papermill": {
     "duration": 0.022887,
     "end_time": "2024-08-18T03:27:01.817898",
     "exception": false,
     "start_time": "2024-08-18T03:27:01.795011",
     "status": "completed"
    },
    "tags": []
   },
   "outputs": [],
   "source": [
    "def criterion(outputs, targets):\n",
    "    return nn.BCELoss()(outputs, targets)"
   ]
  },
  {
   "cell_type": "markdown",
   "id": "7816dd46",
   "metadata": {
    "papermill": {
     "duration": 0.015537,
     "end_time": "2024-08-18T03:27:01.849086",
     "exception": false,
     "start_time": "2024-08-18T03:27:01.833549",
     "status": "completed"
    },
    "tags": []
   },
   "source": [
    "# <span><h1 style = \"font-family: garamond; font-size: 40px; font-style: normal; letter-spcaing: 3px; background-color: #f6f5f5; color :#fe346e; border-radius: 100px 100px; text-align:center\">Training Function</h1></span>"
   ]
  },
  {
   "cell_type": "code",
   "execution_count": 21,
   "id": "5c72f589",
   "metadata": {
    "execution": {
     "iopub.execute_input": "2024-08-18T03:27:01.881740Z",
     "iopub.status.busy": "2024-08-18T03:27:01.881451Z",
     "iopub.status.idle": "2024-08-18T03:27:01.893038Z",
     "shell.execute_reply": "2024-08-18T03:27:01.892098Z"
    },
    "papermill": {
     "duration": 0.030339,
     "end_time": "2024-08-18T03:27:01.895177",
     "exception": false,
     "start_time": "2024-08-18T03:27:01.864838",
     "status": "completed"
    },
    "tags": []
   },
   "outputs": [],
   "source": [
    "def train_one_epoch(model, optimizer, scheduler, dataloader, device, epoch):\n",
    "    model.train()\n",
    "    \n",
    "    dataset_size = 0\n",
    "    running_loss = 0.0\n",
    "    running_auroc  = 0.0\n",
    "    \n",
    "    all_targets = []\n",
    "    all_outputs = []\n",
    "    \n",
    "    bar = tqdm(enumerate(dataloader), total=len(dataloader))\n",
    "    for step, data in bar:\n",
    "        images = data['image'].to(device, dtype=torch.float)\n",
    "        targets = data['target'].to(device, dtype=torch.float)\n",
    "        \n",
    "        batch_size = images.size(0)\n",
    "        \n",
    "        outputs = model(images).squeeze()\n",
    "        loss = criterion(outputs, targets)\n",
    "        loss = loss / CONFIG['n_accumulate']\n",
    "            \n",
    "        loss.backward()\n",
    "    \n",
    "        if (step + 1) % CONFIG['n_accumulate'] == 0:\n",
    "            optimizer.step()\n",
    "\n",
    "            # zero the parameter gradients\n",
    "            optimizer.zero_grad()\n",
    "\n",
    "            if scheduler is not None:\n",
    "                scheduler.step()\n",
    "                \n",
    "        auroc = binary_auroc(input=outputs.squeeze(), target=targets).item()\n",
    "        \n",
    "        running_loss += (loss.item() * batch_size)\n",
    "        #running_auroc  += (auroc * batch_size)\n",
    "        dataset_size += batch_size\n",
    "        \n",
    "        epoch_loss = running_loss / dataset_size\n",
    "        #epoch_auroc = running_auroc / dataset_size\n",
    "        all_outputs.extend(outputs.cpu().detach().numpy())\n",
    "        all_targets.extend(targets.cpu().numpy())\n",
    "        bar.set_postfix(Epoch=epoch, Train_Loss=epoch_loss, \n",
    "                        LR=optimizer.param_groups[0]['lr'])\n",
    "    epoch_auroc = roc_auc_score(all_targets, all_outputs)\n",
    "    gc.collect()\n",
    "    \n",
    "    \n",
    "    \n",
    "    return epoch_loss, epoch_auroc"
   ]
  },
  {
   "cell_type": "markdown",
   "id": "f6178cbf",
   "metadata": {
    "papermill": {
     "duration": 0.015846,
     "end_time": "2024-08-18T03:27:01.929217",
     "exception": false,
     "start_time": "2024-08-18T03:27:01.913371",
     "status": "completed"
    },
    "tags": []
   },
   "source": [
    "# <span><h1 style = \"font-family: garamond; font-size: 40px; font-style: normal; letter-spcaing: 3px; background-color: #f6f5f5; color :#fe346e; border-radius: 100px 100px; text-align:center\">Validation Function</h1></span>"
   ]
  },
  {
   "cell_type": "code",
   "execution_count": 22,
   "id": "9e9e590b",
   "metadata": {
    "execution": {
     "iopub.execute_input": "2024-08-18T03:27:01.962654Z",
     "iopub.status.busy": "2024-08-18T03:27:01.961853Z",
     "iopub.status.idle": "2024-08-18T03:27:01.971813Z",
     "shell.execute_reply": "2024-08-18T03:27:01.971108Z"
    },
    "papermill": {
     "duration": 0.02847,
     "end_time": "2024-08-18T03:27:01.973654",
     "exception": false,
     "start_time": "2024-08-18T03:27:01.945184",
     "status": "completed"
    },
    "tags": []
   },
   "outputs": [],
   "source": [
    "@torch.inference_mode()\n",
    "def valid_one_epoch(model, dataloader, device, epoch):\n",
    "    model.eval()\n",
    "    \n",
    "    dataset_size = 0\n",
    "    running_loss = 0.0\n",
    "    running_auroc = 0.0\n",
    "    \n",
    "    epoch_loss = None\n",
    "    epoch_auroc = None\n",
    "    all_targets = []\n",
    "    all_outputs = []\n",
    "    \n",
    "    bar = tqdm(enumerate(dataloader), total=len(dataloader))\n",
    "    for step, data in bar:        \n",
    "        images = data['image'].to(device, dtype=torch.float)\n",
    "        targets = data['target'].to(device, dtype=torch.float)\n",
    "        \n",
    "        batch_size = images.size(0)\n",
    "\n",
    "        outputs = model(images).squeeze()\n",
    "        loss = criterion(outputs, targets)\n",
    "\n",
    "        auroc = binary_auroc(input=outputs.squeeze(), target=targets).item()\n",
    "        running_loss += (loss.item() * batch_size)\n",
    "        running_auroc  += (auroc * batch_size)\n",
    "        dataset_size += batch_size\n",
    "        \n",
    "        epoch_loss = running_loss / dataset_size\n",
    "#        epoch_auroc = running_auroc / dataset_size\n",
    "        all_outputs.extend(outputs.cpu().detach().numpy())\n",
    "        all_targets.extend(targets.cpu().numpy())\n",
    "        \n",
    "        bar.set_postfix(Epoch=epoch, Valid_Loss=epoch_loss, #Valid_Auroc=epoch_auroc,\n",
    "                        LR=optimizer.param_groups[0]['lr'])   \n",
    "    epoch_auroc = roc_auc_score(all_targets, all_outputs)\n",
    "    gc.collect()\n",
    "    \n",
    "    return epoch_loss, epoch_auroc"
   ]
  },
  {
   "cell_type": "markdown",
   "id": "74ce9da7",
   "metadata": {
    "papermill": {
     "duration": 0.015543,
     "end_time": "2024-08-18T03:27:02.004785",
     "exception": false,
     "start_time": "2024-08-18T03:27:01.989242",
     "status": "completed"
    },
    "tags": []
   },
   "source": [
    "# <span><h1 style = \"font-family: garamond; font-size: 40px; font-style: normal; letter-spcaing: 3px; background-color: #f6f5f5; color :#fe346e; border-radius: 100px 100px; text-align:center\">Run Training</h1></span>"
   ]
  },
  {
   "cell_type": "code",
   "execution_count": 23,
   "id": "9d63aa24",
   "metadata": {
    "execution": {
     "iopub.execute_input": "2024-08-18T03:27:02.037621Z",
     "iopub.status.busy": "2024-08-18T03:27:02.037329Z",
     "iopub.status.idle": "2024-08-18T03:27:02.048682Z",
     "shell.execute_reply": "2024-08-18T03:27:02.047853Z"
    },
    "papermill": {
     "duration": 0.03008,
     "end_time": "2024-08-18T03:27:02.050478",
     "exception": false,
     "start_time": "2024-08-18T03:27:02.020398",
     "status": "completed"
    },
    "tags": []
   },
   "outputs": [],
   "source": [
    "def run_training(model, optimizer, scheduler, device, num_epochs):\n",
    "    if torch.cuda.is_available():\n",
    "        print(\"[INFO] Using GPU: {}\\n\".format(torch.cuda.get_device_name()))\n",
    "    \n",
    "    start = time.time()\n",
    "    best_model_wts = copy.deepcopy(model.state_dict())\n",
    "    best_epoch_auroc = -np.inf\n",
    "    history = defaultdict(list)\n",
    "    \n",
    "    for epoch in range(1, num_epochs + 1): \n",
    "        gc.collect()\n",
    "        train_epoch_loss, train_epoch_auroc = train_one_epoch(model, optimizer, scheduler, \n",
    "                                           dataloader=train_loader, \n",
    "                                           device=CONFIG['device'], epoch=epoch)\n",
    "        \n",
    "        val_epoch_loss, val_epoch_auroc = valid_one_epoch(model, valid_loader, device=CONFIG['device'], \n",
    "                                         epoch=epoch)\n",
    "    \n",
    "        history['Train Loss'].append(train_epoch_loss)\n",
    "        history['Valid Loss'].append(val_epoch_loss)\n",
    "        history['Train AUROC'].append(train_epoch_auroc)\n",
    "        history['Valid AUROC'].append(val_epoch_auroc)\n",
    "        history['lr'].append( scheduler.get_lr()[0] )\n",
    "        \n",
    "        # deep copy the model\n",
    "        if best_epoch_auroc <= val_epoch_auroc:\n",
    "            print(f\"{b_}Validation AUROC Improved ({best_epoch_auroc} ---> {val_epoch_auroc})\")\n",
    "            best_epoch_auroc = val_epoch_auroc\n",
    "            best_model_wts = copy.deepcopy(model.state_dict())\n",
    "            PATH = \"/kaggle/working/AUROC{:.4f}_Loss{:.4f}_epoch{:.0f}.bin\".format(val_epoch_auroc, val_epoch_loss, epoch)\n",
    "            torch.save(model.state_dict(), PATH)\n",
    "            # Save a model file from the current directory\n",
    "            print(f\"Model Saved{sr_}\")\n",
    "            \n",
    "        wandb.log({\n",
    "            'Train Loss': train_epoch_loss,\n",
    "            'Valid Loss': val_epoch_loss,\n",
    "            'Train AUROC': train_epoch_auroc,\n",
    "            'Valid AUROC': val_epoch_auroc\n",
    "        })\n",
    "            \n",
    "        print()\n",
    "    \n",
    "    end = time.time()\n",
    "    time_elapsed = end - start\n",
    "    print('Training complete in {:.0f}h {:.0f}m {:.0f}s'.format(\n",
    "        time_elapsed // 3600, (time_elapsed % 3600) // 60, (time_elapsed % 3600) % 60))\n",
    "    print(\"Best AUROC: {:.4f}\".format(best_epoch_auroc))\n",
    "    \n",
    "    # load best model weights\n",
    "    model.load_state_dict(best_model_wts)\n",
    "    \n",
    "    return model, history"
   ]
  },
  {
   "cell_type": "code",
   "execution_count": 24,
   "id": "62b5aacd",
   "metadata": {
    "execution": {
     "iopub.execute_input": "2024-08-18T03:27:02.092718Z",
     "iopub.status.busy": "2024-08-18T03:27:02.092297Z",
     "iopub.status.idle": "2024-08-18T03:27:02.099543Z",
     "shell.execute_reply": "2024-08-18T03:27:02.098411Z"
    },
    "papermill": {
     "duration": 0.035036,
     "end_time": "2024-08-18T03:27:02.101860",
     "exception": false,
     "start_time": "2024-08-18T03:27:02.066824",
     "status": "completed"
    },
    "tags": []
   },
   "outputs": [],
   "source": [
    "def fetch_scheduler(optimizer):\n",
    "    if CONFIG['scheduler'] == 'CosineAnnealingLR':\n",
    "        scheduler = lr_scheduler.CosineAnnealingLR(optimizer,T_max=CONFIG['T_max'], \n",
    "                                                   eta_min=CONFIG['min_lr'])\n",
    "    elif CONFIG['scheduler'] == 'CosineAnnealingWarmRestarts':\n",
    "        scheduler = lr_scheduler.CosineAnnealingWarmRestarts(optimizer,T_0=CONFIG['T_0'], \n",
    "                                                             eta_min=CONFIG['min_lr'])\n",
    "    elif CONFIG['scheduler'] == None:\n",
    "        return None\n",
    "        \n",
    "    return scheduler"
   ]
  },
  {
   "cell_type": "code",
   "execution_count": 25,
   "id": "d42f7003",
   "metadata": {
    "execution": {
     "iopub.execute_input": "2024-08-18T03:27:02.151091Z",
     "iopub.status.busy": "2024-08-18T03:27:02.150768Z",
     "iopub.status.idle": "2024-08-18T03:27:02.157289Z",
     "shell.execute_reply": "2024-08-18T03:27:02.156535Z"
    },
    "papermill": {
     "duration": 0.029437,
     "end_time": "2024-08-18T03:27:02.159250",
     "exception": false,
     "start_time": "2024-08-18T03:27:02.129813",
     "status": "completed"
    },
    "tags": []
   },
   "outputs": [],
   "source": [
    "def prepare_loaders(df, fold):\n",
    "    df_train = df[df.kfold != fold].reset_index(drop=True)\n",
    "    df_valid = df[df.kfold == fold].reset_index(drop=True)\n",
    "    \n",
    "    train_dataset = ISICDataset_for_Train(df_train, transforms=data_transforms[\"train\"])\n",
    "    valid_dataset = ISICDataset(df_valid, transforms=data_transforms[\"valid\"])\n",
    "\n",
    "    train_loader = DataLoader(train_dataset, batch_size=CONFIG['train_batch_size'], \n",
    "                              num_workers=2, shuffle=True, pin_memory=True, drop_last=True)\n",
    "    valid_loader = DataLoader(valid_dataset, batch_size=CONFIG['valid_batch_size'], \n",
    "                              num_workers=2, shuffle=False, pin_memory=True)\n",
    "    \n",
    "    return train_loader, valid_loader"
   ]
  },
  {
   "cell_type": "markdown",
   "id": "5a4bae31",
   "metadata": {
    "papermill": {
     "duration": 0.015923,
     "end_time": "2024-08-18T03:27:02.191141",
     "exception": false,
     "start_time": "2024-08-18T03:27:02.175218",
     "status": "completed"
    },
    "tags": []
   },
   "source": [
    "<span style=\"color: #000508; font-family: Segoe UI; font-size: 1.5em; font-weight: 300;\">Prepare Dataloaders</span>"
   ]
  },
  {
   "cell_type": "code",
   "execution_count": 26,
   "id": "22b1e2c9",
   "metadata": {
    "execution": {
     "iopub.execute_input": "2024-08-18T03:27:02.224710Z",
     "iopub.status.busy": "2024-08-18T03:27:02.224255Z",
     "iopub.status.idle": "2024-08-18T03:27:02.246254Z",
     "shell.execute_reply": "2024-08-18T03:27:02.245186Z"
    },
    "papermill": {
     "duration": 0.042953,
     "end_time": "2024-08-18T03:27:02.250165",
     "exception": false,
     "start_time": "2024-08-18T03:27:02.207212",
     "status": "completed"
    },
    "tags": []
   },
   "outputs": [],
   "source": [
    "train_loader, valid_loader = prepare_loaders(df, fold=CONFIG[\"fold\"])"
   ]
  },
  {
   "cell_type": "markdown",
   "id": "770e3023",
   "metadata": {
    "papermill": {
     "duration": 0.023144,
     "end_time": "2024-08-18T03:27:02.298800",
     "exception": false,
     "start_time": "2024-08-18T03:27:02.275656",
     "status": "completed"
    },
    "tags": []
   },
   "source": [
    "<span style=\"color: #000508; font-family: Segoe UI; font-size: 1.5em; font-weight: 300;\">Define Optimizer and Scheduler</span>"
   ]
  },
  {
   "cell_type": "code",
   "execution_count": 27,
   "id": "3fe1cb1c",
   "metadata": {
    "execution": {
     "iopub.execute_input": "2024-08-18T03:27:02.335408Z",
     "iopub.status.busy": "2024-08-18T03:27:02.335063Z",
     "iopub.status.idle": "2024-08-18T03:27:02.342662Z",
     "shell.execute_reply": "2024-08-18T03:27:02.341770Z"
    },
    "papermill": {
     "duration": 0.02752,
     "end_time": "2024-08-18T03:27:02.344752",
     "exception": false,
     "start_time": "2024-08-18T03:27:02.317232",
     "status": "completed"
    },
    "tags": []
   },
   "outputs": [],
   "source": [
    "optimizer = optim.Adam(model.parameters(), lr=CONFIG['learning_rate'],\n",
    "                       weight_decay=CONFIG['weight_decay'])\n",
    "scheduler = fetch_scheduler(optimizer)"
   ]
  },
  {
   "cell_type": "markdown",
   "id": "3655fee8",
   "metadata": {
    "papermill": {
     "duration": 0.01601,
     "end_time": "2024-08-18T03:27:02.376929",
     "exception": false,
     "start_time": "2024-08-18T03:27:02.360919",
     "status": "completed"
    },
    "tags": []
   },
   "source": [
    "<span style=\"color: #000508; font-family: Segoe UI; font-size: 1.5em; font-weight: 300;\">Start Training</span>"
   ]
  },
  {
   "cell_type": "code",
   "execution_count": 28,
   "id": "adc490bc",
   "metadata": {
    "execution": {
     "iopub.execute_input": "2024-08-18T03:27:02.410800Z",
     "iopub.status.busy": "2024-08-18T03:27:02.410517Z",
     "iopub.status.idle": "2024-08-18T03:49:04.860170Z",
     "shell.execute_reply": "2024-08-18T03:49:04.858918Z"
    },
    "papermill": {
     "duration": 1322.468994,
     "end_time": "2024-08-18T03:49:04.862414",
     "exception": false,
     "start_time": "2024-08-18T03:27:02.393420",
     "status": "completed"
    },
    "tags": []
   },
   "outputs": [
    {
     "name": "stdout",
     "output_type": "stream",
     "text": [
      "[INFO] Using GPU: Tesla P100-PCIE-16GB\n",
      "\n"
     ]
    },
    {
     "name": "stderr",
     "output_type": "stream",
     "text": [
      " 38%|███▊      | 15/39 [00:08<00:09,  2.51it/s, Epoch=1, LR=0.0001, Train_Loss=0.712]\u001b[34m\u001b[1mwandb\u001b[0m: 429 encountered (Filestream rate limit exceeded, retrying in 2.3 seconds.), retrying request\n",
      "100%|██████████| 39/39 [00:18<00:00,  2.17it/s, Epoch=1, LR=0.0001, Train_Loss=0.659]\n",
      "100%|██████████| 52/52 [00:10<00:00,  4.87it/s, Epoch=1, LR=0.0001, Valid_Loss=0.454]\n"
     ]
    },
    {
     "name": "stdout",
     "output_type": "stream",
     "text": [
      "\u001b[34mValidation AUROC Improved (-inf ---> 0.7996022159951042)\n",
      "Model Saved\u001b[0m\n",
      "\n"
     ]
    },
    {
     "name": "stderr",
     "output_type": "stream",
     "text": [
      "100%|██████████| 39/39 [00:15<00:00,  2.49it/s, Epoch=2, LR=0.0001, Train_Loss=0.523]\n",
      "100%|██████████| 52/52 [00:10<00:00,  5.02it/s, Epoch=2, LR=0.0001, Valid_Loss=0.662]\n"
     ]
    },
    {
     "name": "stdout",
     "output_type": "stream",
     "text": [
      "\u001b[34mValidation AUROC Improved (0.7996022159951042 ---> 0.8714771153412569)\n",
      "Model Saved\u001b[0m\n",
      "\n"
     ]
    },
    {
     "name": "stderr",
     "output_type": "stream",
     "text": [
      "  8%|▊         | 3/39 [00:01<00:16,  2.15it/s, Epoch=3, LR=0.0001, Train_Loss=0.418]\u001b[34m\u001b[1mwandb\u001b[0m: 429 encountered (Filestream rate limit exceeded, retrying in 2.4 seconds.), retrying request\n",
      " 44%|████▎     | 17/39 [00:07<00:08,  2.53it/s, Epoch=3, LR=0.0001, Train_Loss=0.444]\u001b[34m\u001b[1mwandb\u001b[0m: 429 encountered (Filestream rate limit exceeded, retrying in 4.7 seconds.), retrying request\n",
      "\u001b[34m\u001b[1mwandb\u001b[0m: 429 encountered (Filestream rate limit exceeded, retrying in 8.2 seconds.), retrying request\n",
      "100%|██████████| 39/39 [00:15<00:00,  2.49it/s, Epoch=3, LR=0.0001, Train_Loss=0.451]\n",
      "  6%|▌         | 3/52 [00:00<00:12,  3.80it/s, Epoch=3, LR=0.0001, Valid_Loss=0.313]\u001b[34m\u001b[1mwandb\u001b[0m: 429 encountered (Filestream rate limit exceeded, retrying in 20.0 seconds.), retrying request\n",
      "100%|██████████| 52/52 [00:09<00:00,  5.21it/s, Epoch=3, LR=0.0001, Valid_Loss=0.432]\n"
     ]
    },
    {
     "name": "stdout",
     "output_type": "stream",
     "text": [
      "\u001b[34mValidation AUROC Improved (0.8714771153412569 ---> 0.9105066512062358)\n",
      "Model Saved\u001b[0m\n",
      "\n"
     ]
    },
    {
     "name": "stderr",
     "output_type": "stream",
     "text": [
      " 64%|██████▍   | 25/39 [00:10<00:05,  2.54it/s, Epoch=4, LR=0.0001, Train_Loss=0.438]\u001b[34m\u001b[1mwandb\u001b[0m: 429 encountered (Filestream rate limit exceeded, retrying in 37.3 seconds.), retrying request\n",
      "100%|██████████| 39/39 [00:15<00:00,  2.49it/s, Epoch=4, LR=0.0001, Train_Loss=0.426]\n",
      "100%|██████████| 52/52 [00:09<00:00,  5.31it/s, Epoch=4, LR=0.0001, Valid_Loss=0.358]\n"
     ]
    },
    {
     "name": "stdout",
     "output_type": "stream",
     "text": [
      "\n"
     ]
    },
    {
     "name": "stderr",
     "output_type": "stream",
     "text": [
      "100%|██████████| 39/39 [00:15<00:00,  2.48it/s, Epoch=5, LR=0.0001, Train_Loss=0.359]\n",
      " 81%|████████  | 42/52 [00:07<00:01,  5.59it/s, Epoch=5, LR=0.0001, Valid_Loss=0.195]\u001b[34m\u001b[1mwandb\u001b[0m: 429 encountered (Filestream rate limit exceeded, retrying in 71.2 seconds.), retrying request\n",
      "100%|██████████| 52/52 [00:09<00:00,  5.34it/s, Epoch=5, LR=0.0001, Valid_Loss=0.188]\n"
     ]
    },
    {
     "name": "stdout",
     "output_type": "stream",
     "text": [
      "\u001b[34mValidation AUROC Improved (0.9105066512062358 ---> 0.9146535897188134)\n",
      "Model Saved\u001b[0m\n",
      "\n"
     ]
    },
    {
     "name": "stderr",
     "output_type": "stream",
     "text": [
      "100%|██████████| 39/39 [00:15<00:00,  2.48it/s, Epoch=6, LR=0.0001, Train_Loss=0.351]\n",
      "100%|██████████| 52/52 [00:09<00:00,  5.29it/s, Epoch=6, LR=0.0001, Valid_Loss=0.301]\n"
     ]
    },
    {
     "name": "stdout",
     "output_type": "stream",
     "text": [
      "\n"
     ]
    },
    {
     "name": "stderr",
     "output_type": "stream",
     "text": [
      "100%|██████████| 39/39 [00:15<00:00,  2.49it/s, Epoch=7, LR=0.0001, Train_Loss=0.338]\n",
      "100%|██████████| 52/52 [00:09<00:00,  5.29it/s, Epoch=7, LR=0.0001, Valid_Loss=0.309]\n"
     ]
    },
    {
     "name": "stdout",
     "output_type": "stream",
     "text": [
      "\u001b[34mValidation AUROC Improved (0.9146535897188134 ---> 0.9253953683125584)\n",
      "Model Saved\u001b[0m\n",
      "\n"
     ]
    },
    {
     "name": "stderr",
     "output_type": "stream",
     "text": [
      " 95%|█████████▍| 37/39 [00:14<00:00,  2.60it/s, Epoch=8, LR=9.99e-5, Train_Loss=0.337]\u001b[34m\u001b[1mwandb\u001b[0m: 429 encountered (Filestream rate limit exceeded, retrying in 145.9 seconds.), retrying request\n",
      "100%|██████████| 39/39 [00:15<00:00,  2.49it/s, Epoch=8, LR=9.99e-5, Train_Loss=0.331]\n",
      "100%|██████████| 52/52 [00:10<00:00,  5.18it/s, Epoch=8, LR=9.99e-5, Valid_Loss=0.285]\n"
     ]
    },
    {
     "name": "stdout",
     "output_type": "stream",
     "text": [
      "\u001b[34mValidation AUROC Improved (0.9253953683125584 ---> 0.9301301252939091)\n",
      "Model Saved\u001b[0m\n",
      "\n"
     ]
    },
    {
     "name": "stderr",
     "output_type": "stream",
     "text": [
      "100%|██████████| 39/39 [00:15<00:00,  2.46it/s, Epoch=9, LR=9.99e-5, Train_Loss=0.312]\n",
      "100%|██████████| 52/52 [00:10<00:00,  5.20it/s, Epoch=9, LR=9.99e-5, Valid_Loss=0.405]\n"
     ]
    },
    {
     "name": "stdout",
     "output_type": "stream",
     "text": [
      "\u001b[34mValidation AUROC Improved (0.9301301252939091 ---> 0.9317164299288175)\n",
      "Model Saved\u001b[0m\n",
      "\n"
     ]
    },
    {
     "name": "stderr",
     "output_type": "stream",
     "text": [
      "100%|██████████| 39/39 [00:15<00:00,  2.48it/s, Epoch=10, LR=9.99e-5, Train_Loss=0.297]\n",
      "100%|██████████| 52/52 [00:09<00:00,  5.28it/s, Epoch=10, LR=9.99e-5, Valid_Loss=0.22]\n"
     ]
    },
    {
     "name": "stdout",
     "output_type": "stream",
     "text": [
      "\u001b[34mValidation AUROC Improved (0.9317164299288175 ---> 0.9349131961220085)\n",
      "Model Saved\u001b[0m\n",
      "\n"
     ]
    },
    {
     "name": "stderr",
     "output_type": "stream",
     "text": [
      "100%|██████████| 39/39 [00:15<00:00,  2.45it/s, Epoch=11, LR=9.99e-5, Train_Loss=0.237]\n",
      "100%|██████████| 52/52 [00:10<00:00,  5.10it/s, Epoch=11, LR=9.99e-5, Valid_Loss=0.321]\n"
     ]
    },
    {
     "name": "stdout",
     "output_type": "stream",
     "text": [
      "\u001b[34mValidation AUROC Improved (0.9349131961220085 ---> 0.9410329500434825)\n",
      "Model Saved\u001b[0m\n",
      "\n"
     ]
    },
    {
     "name": "stderr",
     "output_type": "stream",
     "text": [
      "100%|██████████| 39/39 [00:15<00:00,  2.48it/s, Epoch=12, LR=9.99e-5, Train_Loss=0.237]\n",
      "100%|██████████| 52/52 [00:09<00:00,  5.25it/s, Epoch=12, LR=9.99e-5, Valid_Loss=0.214]\n"
     ]
    },
    {
     "name": "stdout",
     "output_type": "stream",
     "text": [
      "\u001b[34mValidation AUROC Improved (0.9410329500434825 ---> 0.9413389377395562)\n",
      "Model Saved\u001b[0m\n",
      "\n"
     ]
    },
    {
     "name": "stderr",
     "output_type": "stream",
     "text": [
      "100%|██████████| 39/39 [00:15<00:00,  2.48it/s, Epoch=13, LR=9.99e-5, Train_Loss=0.236]\n",
      "100%|██████████| 52/52 [00:09<00:00,  5.29it/s, Epoch=13, LR=9.99e-5, Valid_Loss=0.345]\n"
     ]
    },
    {
     "name": "stdout",
     "output_type": "stream",
     "text": [
      "\u001b[34mValidation AUROC Improved (0.9413389377395562 ---> 0.9464521531871035)\n",
      "Model Saved\u001b[0m\n",
      "\n"
     ]
    },
    {
     "name": "stderr",
     "output_type": "stream",
     "text": [
      "  0%|          | 0/39 [00:00<?, ?it/s]\u001b[34m\u001b[1mwandb\u001b[0m: 429 encountered (Filestream rate limit exceeded, retrying in 261.0 seconds.), retrying request\n",
      "100%|██████████| 39/39 [00:15<00:00,  2.48it/s, Epoch=14, LR=9.98e-5, Train_Loss=0.216]\n",
      "100%|██████████| 52/52 [00:09<00:00,  5.30it/s, Epoch=14, LR=9.98e-5, Valid_Loss=0.214]\n"
     ]
    },
    {
     "name": "stdout",
     "output_type": "stream",
     "text": [
      "\n"
     ]
    },
    {
     "name": "stderr",
     "output_type": "stream",
     "text": [
      "100%|██████████| 39/39 [00:15<00:00,  2.49it/s, Epoch=15, LR=9.98e-5, Train_Loss=0.244]\n",
      "100%|██████████| 52/52 [00:09<00:00,  5.25it/s, Epoch=15, LR=9.98e-5, Valid_Loss=0.383]\n"
     ]
    },
    {
     "name": "stdout",
     "output_type": "stream",
     "text": [
      "\n"
     ]
    },
    {
     "name": "stderr",
     "output_type": "stream",
     "text": [
      "100%|██████████| 39/39 [00:15<00:00,  2.50it/s, Epoch=16, LR=9.98e-5, Train_Loss=0.225]\n",
      "100%|██████████| 52/52 [00:09<00:00,  5.27it/s, Epoch=16, LR=9.98e-5, Valid_Loss=0.346]\n"
     ]
    },
    {
     "name": "stdout",
     "output_type": "stream",
     "text": [
      "\n"
     ]
    },
    {
     "name": "stderr",
     "output_type": "stream",
     "text": [
      "100%|██████████| 39/39 [00:15<00:00,  2.48it/s, Epoch=17, LR=9.97e-5, Train_Loss=0.186]\n",
      "100%|██████████| 52/52 [00:09<00:00,  5.28it/s, Epoch=17, LR=9.97e-5, Valid_Loss=0.326]\n"
     ]
    },
    {
     "name": "stdout",
     "output_type": "stream",
     "text": [
      "\n"
     ]
    },
    {
     "name": "stderr",
     "output_type": "stream",
     "text": [
      "100%|██████████| 39/39 [00:15<00:00,  2.49it/s, Epoch=18, LR=9.97e-5, Train_Loss=0.183]\n",
      "100%|██████████| 52/52 [00:09<00:00,  5.31it/s, Epoch=18, LR=9.97e-5, Valid_Loss=0.311]\n"
     ]
    },
    {
     "name": "stdout",
     "output_type": "stream",
     "text": [
      "\n"
     ]
    },
    {
     "name": "stderr",
     "output_type": "stream",
     "text": [
      "100%|██████████| 39/39 [00:15<00:00,  2.49it/s, Epoch=19, LR=9.97e-5, Train_Loss=0.22]\n",
      "100%|██████████| 52/52 [00:09<00:00,  5.31it/s, Epoch=19, LR=9.97e-5, Valid_Loss=0.458]\n"
     ]
    },
    {
     "name": "stdout",
     "output_type": "stream",
     "text": [
      "\n"
     ]
    },
    {
     "name": "stderr",
     "output_type": "stream",
     "text": [
      "100%|██████████| 39/39 [00:15<00:00,  2.50it/s, Epoch=20, LR=9.97e-5, Train_Loss=0.195]\n",
      "100%|██████████| 52/52 [00:09<00:00,  5.21it/s, Epoch=20, LR=9.97e-5, Valid_Loss=0.296]\n"
     ]
    },
    {
     "name": "stdout",
     "output_type": "stream",
     "text": [
      "\n"
     ]
    },
    {
     "name": "stderr",
     "output_type": "stream",
     "text": [
      "100%|██████████| 39/39 [00:15<00:00,  2.50it/s, Epoch=21, LR=9.96e-5, Train_Loss=0.122]\n",
      "100%|██████████| 52/52 [00:09<00:00,  5.25it/s, Epoch=21, LR=9.96e-5, Valid_Loss=0.292]\n"
     ]
    },
    {
     "name": "stdout",
     "output_type": "stream",
     "text": [
      "\n"
     ]
    },
    {
     "name": "stderr",
     "output_type": "stream",
     "text": [
      "100%|██████████| 39/39 [00:15<00:00,  2.50it/s, Epoch=22, LR=9.96e-5, Train_Loss=0.165]\n",
      "100%|██████████| 52/52 [00:10<00:00,  5.10it/s, Epoch=22, LR=9.96e-5, Valid_Loss=0.34]\n"
     ]
    },
    {
     "name": "stdout",
     "output_type": "stream",
     "text": [
      "\n"
     ]
    },
    {
     "name": "stderr",
     "output_type": "stream",
     "text": [
      "100%|██████████| 39/39 [00:15<00:00,  2.49it/s, Epoch=23, LR=9.95e-5, Train_Loss=0.156]\n",
      " 71%|███████   | 37/52 [00:07<00:02,  5.34it/s, Epoch=23, LR=9.95e-5, Valid_Loss=0.371]\u001b[34m\u001b[1mwandb\u001b[0m: 429 encountered (Filestream rate limit exceeded, retrying in 301.6 seconds.), retrying request\n",
      "100%|██████████| 52/52 [00:09<00:00,  5.30it/s, Epoch=23, LR=9.95e-5, Valid_Loss=0.349]\n"
     ]
    },
    {
     "name": "stdout",
     "output_type": "stream",
     "text": [
      "\n"
     ]
    },
    {
     "name": "stderr",
     "output_type": "stream",
     "text": [
      "100%|██████████| 39/39 [00:15<00:00,  2.49it/s, Epoch=24, LR=9.95e-5, Train_Loss=0.12]\n",
      "100%|██████████| 52/52 [00:09<00:00,  5.32it/s, Epoch=24, LR=9.95e-5, Valid_Loss=0.423]\n"
     ]
    },
    {
     "name": "stdout",
     "output_type": "stream",
     "text": [
      "\n"
     ]
    },
    {
     "name": "stderr",
     "output_type": "stream",
     "text": [
      "100%|██████████| 39/39 [00:15<00:00,  2.49it/s, Epoch=25, LR=9.95e-5, Train_Loss=0.139]\n",
      "100%|██████████| 52/52 [00:09<00:00,  5.34it/s, Epoch=25, LR=9.95e-5, Valid_Loss=0.422]\n"
     ]
    },
    {
     "name": "stdout",
     "output_type": "stream",
     "text": [
      "\n"
     ]
    },
    {
     "name": "stderr",
     "output_type": "stream",
     "text": [
      "100%|██████████| 39/39 [00:16<00:00,  2.43it/s, Epoch=26, LR=9.94e-5, Train_Loss=0.143]\n",
      "100%|██████████| 52/52 [00:10<00:00,  5.17it/s, Epoch=26, LR=9.94e-5, Valid_Loss=0.389]\n"
     ]
    },
    {
     "name": "stdout",
     "output_type": "stream",
     "text": [
      "\n"
     ]
    },
    {
     "name": "stderr",
     "output_type": "stream",
     "text": [
      "100%|██████████| 39/39 [00:15<00:00,  2.49it/s, Epoch=27, LR=9.94e-5, Train_Loss=0.119]\n",
      "100%|██████████| 52/52 [00:09<00:00,  5.24it/s, Epoch=27, LR=9.94e-5, Valid_Loss=0.324]\n"
     ]
    },
    {
     "name": "stdout",
     "output_type": "stream",
     "text": [
      "\n"
     ]
    },
    {
     "name": "stderr",
     "output_type": "stream",
     "text": [
      "100%|██████████| 39/39 [00:15<00:00,  2.49it/s, Epoch=28, LR=9.93e-5, Train_Loss=0.136]\n",
      "100%|██████████| 52/52 [00:09<00:00,  5.29it/s, Epoch=28, LR=9.93e-5, Valid_Loss=0.268]\n"
     ]
    },
    {
     "name": "stdout",
     "output_type": "stream",
     "text": [
      "\n"
     ]
    },
    {
     "name": "stderr",
     "output_type": "stream",
     "text": [
      "100%|██████████| 39/39 [00:15<00:00,  2.49it/s, Epoch=29, LR=9.93e-5, Train_Loss=0.145]\n",
      "100%|██████████| 52/52 [00:09<00:00,  5.31it/s, Epoch=29, LR=9.93e-5, Valid_Loss=0.355]\n"
     ]
    },
    {
     "name": "stdout",
     "output_type": "stream",
     "text": [
      "\n"
     ]
    },
    {
     "name": "stderr",
     "output_type": "stream",
     "text": [
      "100%|██████████| 39/39 [00:15<00:00,  2.48it/s, Epoch=30, LR=9.92e-5, Train_Loss=0.106]\n",
      "100%|██████████| 52/52 [00:09<00:00,  5.32it/s, Epoch=30, LR=9.92e-5, Valid_Loss=0.455]\n"
     ]
    },
    {
     "name": "stdout",
     "output_type": "stream",
     "text": [
      "\n"
     ]
    },
    {
     "name": "stderr",
     "output_type": "stream",
     "text": [
      "100%|██████████| 39/39 [00:15<00:00,  2.50it/s, Epoch=31, LR=9.92e-5, Train_Loss=0.144]\n",
      "100%|██████████| 52/52 [00:09<00:00,  5.33it/s, Epoch=31, LR=9.92e-5, Valid_Loss=0.359]\n"
     ]
    },
    {
     "name": "stdout",
     "output_type": "stream",
     "text": [
      "\n"
     ]
    },
    {
     "name": "stderr",
     "output_type": "stream",
     "text": [
      "100%|██████████| 39/39 [00:15<00:00,  2.49it/s, Epoch=32, LR=9.91e-5, Train_Loss=0.103]\n",
      "100%|██████████| 52/52 [00:09<00:00,  5.22it/s, Epoch=32, LR=9.91e-5, Valid_Loss=0.32]\n"
     ]
    },
    {
     "name": "stdout",
     "output_type": "stream",
     "text": [
      "\n"
     ]
    },
    {
     "name": "stderr",
     "output_type": "stream",
     "text": [
      "100%|██████████| 39/39 [00:15<00:00,  2.50it/s, Epoch=33, LR=9.91e-5, Train_Loss=0.114]\n",
      "100%|██████████| 52/52 [00:10<00:00,  5.05it/s, Epoch=33, LR=9.91e-5, Valid_Loss=0.324]\n"
     ]
    },
    {
     "name": "stdout",
     "output_type": "stream",
     "text": [
      "\n"
     ]
    },
    {
     "name": "stderr",
     "output_type": "stream",
     "text": [
      "100%|██████████| 39/39 [00:15<00:00,  2.50it/s, Epoch=34, LR=9.9e-5, Train_Loss=0.159]\n",
      "100%|██████████| 52/52 [00:09<00:00,  5.35it/s, Epoch=34, LR=9.9e-5, Valid_Loss=0.334]\n"
     ]
    },
    {
     "name": "stdout",
     "output_type": "stream",
     "text": [
      "\n"
     ]
    },
    {
     "name": "stderr",
     "output_type": "stream",
     "text": [
      " 79%|███████▉  | 31/39 [00:12<00:03,  2.55it/s, Epoch=35, LR=9.89e-5, Train_Loss=0.135]\u001b[34m\u001b[1mwandb\u001b[0m: 429 encountered (Filestream rate limit exceeded, retrying in 350.3 seconds.), retrying request\n",
      "100%|██████████| 39/39 [00:15<00:00,  2.49it/s, Epoch=35, LR=9.89e-5, Train_Loss=0.127]\n",
      "100%|██████████| 52/52 [00:09<00:00,  5.32it/s, Epoch=35, LR=9.89e-5, Valid_Loss=0.402]\n"
     ]
    },
    {
     "name": "stdout",
     "output_type": "stream",
     "text": [
      "\n"
     ]
    },
    {
     "name": "stderr",
     "output_type": "stream",
     "text": [
      "100%|██████████| 39/39 [00:15<00:00,  2.49it/s, Epoch=36, LR=9.89e-5, Train_Loss=0.0849]\n",
      "100%|██████████| 52/52 [00:09<00:00,  5.28it/s, Epoch=36, LR=9.89e-5, Valid_Loss=0.354]\n"
     ]
    },
    {
     "name": "stdout",
     "output_type": "stream",
     "text": [
      "\n"
     ]
    },
    {
     "name": "stderr",
     "output_type": "stream",
     "text": [
      "100%|██████████| 39/39 [00:15<00:00,  2.48it/s, Epoch=37, LR=9.88e-5, Train_Loss=0.0807]\n",
      "100%|██████████| 52/52 [00:09<00:00,  5.26it/s, Epoch=37, LR=9.88e-5, Valid_Loss=0.339]\n"
     ]
    },
    {
     "name": "stdout",
     "output_type": "stream",
     "text": [
      "\n"
     ]
    },
    {
     "name": "stderr",
     "output_type": "stream",
     "text": [
      "100%|██████████| 39/39 [00:15<00:00,  2.49it/s, Epoch=38, LR=9.87e-5, Train_Loss=0.085]\n",
      "100%|██████████| 52/52 [00:09<00:00,  5.26it/s, Epoch=38, LR=9.87e-5, Valid_Loss=0.363]\n"
     ]
    },
    {
     "name": "stdout",
     "output_type": "stream",
     "text": [
      "\n"
     ]
    },
    {
     "name": "stderr",
     "output_type": "stream",
     "text": [
      "100%|██████████| 39/39 [00:15<00:00,  2.49it/s, Epoch=39, LR=9.87e-5, Train_Loss=0.0861]\n",
      "100%|██████████| 52/52 [00:10<00:00,  5.10it/s, Epoch=39, LR=9.87e-5, Valid_Loss=0.471]\n"
     ]
    },
    {
     "name": "stdout",
     "output_type": "stream",
     "text": [
      "\n"
     ]
    },
    {
     "name": "stderr",
     "output_type": "stream",
     "text": [
      "100%|██████████| 39/39 [00:15<00:00,  2.48it/s, Epoch=40, LR=9.86e-5, Train_Loss=0.0665]\n",
      "100%|██████████| 52/52 [00:09<00:00,  5.28it/s, Epoch=40, LR=9.86e-5, Valid_Loss=0.3]\n"
     ]
    },
    {
     "name": "stdout",
     "output_type": "stream",
     "text": [
      "\n"
     ]
    },
    {
     "name": "stderr",
     "output_type": "stream",
     "text": [
      "100%|██████████| 39/39 [00:15<00:00,  2.48it/s, Epoch=41, LR=9.85e-5, Train_Loss=0.0815]\n",
      "100%|██████████| 52/52 [00:09<00:00,  5.30it/s, Epoch=41, LR=9.85e-5, Valid_Loss=0.481]\n"
     ]
    },
    {
     "name": "stdout",
     "output_type": "stream",
     "text": [
      "\n"
     ]
    },
    {
     "name": "stderr",
     "output_type": "stream",
     "text": [
      "100%|██████████| 39/39 [00:15<00:00,  2.49it/s, Epoch=42, LR=9.85e-5, Train_Loss=0.0883]\n",
      "100%|██████████| 52/52 [00:09<00:00,  5.26it/s, Epoch=42, LR=9.85e-5, Valid_Loss=0.503]\n"
     ]
    },
    {
     "name": "stdout",
     "output_type": "stream",
     "text": [
      "\n"
     ]
    },
    {
     "name": "stderr",
     "output_type": "stream",
     "text": [
      "100%|██████████| 39/39 [00:15<00:00,  2.48it/s, Epoch=43, LR=9.84e-5, Train_Loss=0.109]\n",
      "100%|██████████| 52/52 [00:09<00:00,  5.28it/s, Epoch=43, LR=9.84e-5, Valid_Loss=0.296]\n"
     ]
    },
    {
     "name": "stdout",
     "output_type": "stream",
     "text": [
      "\n"
     ]
    },
    {
     "name": "stderr",
     "output_type": "stream",
     "text": [
      "100%|██████████| 39/39 [00:15<00:00,  2.50it/s, Epoch=44, LR=9.83e-5, Train_Loss=0.064]\n",
      "100%|██████████| 52/52 [00:10<00:00,  5.05it/s, Epoch=44, LR=9.83e-5, Valid_Loss=0.365]\n"
     ]
    },
    {
     "name": "stdout",
     "output_type": "stream",
     "text": [
      "\n"
     ]
    },
    {
     "name": "stderr",
     "output_type": "stream",
     "text": [
      "100%|██████████| 39/39 [00:15<00:00,  2.50it/s, Epoch=45, LR=9.82e-5, Train_Loss=0.0817]\n",
      "100%|██████████| 52/52 [00:09<00:00,  5.26it/s, Epoch=45, LR=9.82e-5, Valid_Loss=0.464]\n"
     ]
    },
    {
     "name": "stdout",
     "output_type": "stream",
     "text": [
      "\n"
     ]
    },
    {
     "name": "stderr",
     "output_type": "stream",
     "text": [
      "100%|██████████| 39/39 [00:15<00:00,  2.49it/s, Epoch=46, LR=9.82e-5, Train_Loss=0.104]\n",
      "100%|██████████| 52/52 [00:09<00:00,  5.36it/s, Epoch=46, LR=9.82e-5, Valid_Loss=0.488]\n"
     ]
    },
    {
     "name": "stdout",
     "output_type": "stream",
     "text": [
      "\n"
     ]
    },
    {
     "name": "stderr",
     "output_type": "stream",
     "text": [
      "100%|██████████| 39/39 [00:15<00:00,  2.48it/s, Epoch=47, LR=9.81e-5, Train_Loss=0.0872]\n",
      "100%|██████████| 52/52 [00:09<00:00,  5.31it/s, Epoch=47, LR=9.81e-5, Valid_Loss=0.598]\n"
     ]
    },
    {
     "name": "stdout",
     "output_type": "stream",
     "text": [
      "\n"
     ]
    },
    {
     "name": "stderr",
     "output_type": "stream",
     "text": [
      "100%|██████████| 39/39 [00:15<00:00,  2.49it/s, Epoch=48, LR=9.8e-5, Train_Loss=0.049]\n",
      " 44%|████▍     | 23/52 [00:04<00:05,  5.48it/s, Epoch=48, LR=9.8e-5, Valid_Loss=0.591]\u001b[34m\u001b[1mwandb\u001b[0m: 429 encountered (Filestream rate limit exceeded, retrying in 346.9 seconds.), retrying request\n",
      "100%|██████████| 52/52 [00:09<00:00,  5.32it/s, Epoch=48, LR=9.8e-5, Valid_Loss=0.423]\n"
     ]
    },
    {
     "name": "stdout",
     "output_type": "stream",
     "text": [
      "\n"
     ]
    },
    {
     "name": "stderr",
     "output_type": "stream",
     "text": [
      "100%|██████████| 39/39 [00:15<00:00,  2.50it/s, Epoch=49, LR=9.79e-5, Train_Loss=0.0772]\n",
      "100%|██████████| 52/52 [00:09<00:00,  5.30it/s, Epoch=49, LR=9.79e-5, Valid_Loss=0.541]\n"
     ]
    },
    {
     "name": "stdout",
     "output_type": "stream",
     "text": [
      "\n"
     ]
    },
    {
     "name": "stderr",
     "output_type": "stream",
     "text": [
      "100%|██████████| 39/39 [00:15<00:00,  2.50it/s, Epoch=50, LR=9.78e-5, Train_Loss=0.0531]\n",
      "100%|██████████| 52/52 [00:09<00:00,  5.22it/s, Epoch=50, LR=9.78e-5, Valid_Loss=0.52]\n"
     ]
    },
    {
     "name": "stdout",
     "output_type": "stream",
     "text": [
      "\n",
      "Training complete in 0h 22m 2s\n",
      "Best AUROC: 0.9465\n"
     ]
    }
   ],
   "source": [
    "model, history = run_training(model, optimizer, scheduler,\n",
    "                              device=CONFIG['device'],\n",
    "                              num_epochs=CONFIG['epochs'])"
   ]
  },
  {
   "cell_type": "code",
   "execution_count": 29,
   "id": "7df00d1d",
   "metadata": {
    "execution": {
     "iopub.execute_input": "2024-08-18T03:49:06.367812Z",
     "iopub.status.busy": "2024-08-18T03:49:06.367064Z",
     "iopub.status.idle": "2024-08-18T03:49:06.376117Z",
     "shell.execute_reply": "2024-08-18T03:49:06.375430Z"
    },
    "papermill": {
     "duration": 0.763472,
     "end_time": "2024-08-18T03:49:06.378002",
     "exception": false,
     "start_time": "2024-08-18T03:49:05.614530",
     "status": "completed"
    },
    "tags": []
   },
   "outputs": [],
   "source": [
    "history = pd.DataFrame.from_dict(history)\n",
    "history.to_csv(\"history.csv\", index=False)"
   ]
  },
  {
   "cell_type": "markdown",
   "id": "1ee343e9",
   "metadata": {
    "papermill": {
     "duration": 0.753849,
     "end_time": "2024-08-18T03:49:07.938204",
     "exception": false,
     "start_time": "2024-08-18T03:49:07.184355",
     "status": "completed"
    },
    "tags": []
   },
   "source": [
    "# <span><h1 style = \"font-family: garamond; font-size: 40px; font-style: normal; letter-spcaing: 3px; background-color: #f6f5f5; color :#fe346e; border-radius: 100px 100px; text-align:center\">Logs</h1></span>"
   ]
  },
  {
   "cell_type": "code",
   "execution_count": 30,
   "id": "d67c1493",
   "metadata": {
    "execution": {
     "iopub.execute_input": "2024-08-18T03:49:09.496320Z",
     "iopub.status.busy": "2024-08-18T03:49:09.495625Z",
     "iopub.status.idle": "2024-08-18T03:49:09.779592Z",
     "shell.execute_reply": "2024-08-18T03:49:09.778724Z"
    },
    "papermill": {
     "duration": 1.090971,
     "end_time": "2024-08-18T03:49:09.781516",
     "exception": false,
     "start_time": "2024-08-18T03:49:08.690545",
     "status": "completed"
    },
    "tags": []
   },
   "outputs": [
    {
     "data": {
      "image/png": "[encoded data removed]",
      "text/plain": [
       "<Figure size 640x480 with 1 Axes>"
      ]
     },
     "metadata": {},
     "output_type": "display_data"
    }
   ],
   "source": [
    "plt.plot( range(history.shape[0]), history[\"Train Loss\"].values, label=\"Train Loss\")\n",
    "plt.plot( range(history.shape[0]), history[\"Valid Loss\"].values, label=\"Valid Loss\")\n",
    "plt.xlabel(\"epochs\")\n",
    "plt.ylabel(\"Loss\")\n",
    "plt.grid()\n",
    "plt.legend()\n",
    "plt.show()"
   ]
  },
  {
   "cell_type": "code",
   "execution_count": 31,
   "id": "73e398c7",
   "metadata": {
    "execution": {
     "iopub.execute_input": "2024-08-18T03:49:11.306473Z",
     "iopub.status.busy": "2024-08-18T03:49:11.305641Z",
     "iopub.status.idle": "2024-08-18T03:49:11.572275Z",
     "shell.execute_reply": "2024-08-18T03:49:11.571420Z"
    },
    "papermill": {
     "duration": 1.024628,
     "end_time": "2024-08-18T03:49:11.574220",
     "exception": false,
     "start_time": "2024-08-18T03:49:10.549592",
     "status": "completed"
    },
    "tags": []
   },
   "outputs": [
    {
     "data": {
      "image/png": "[encoded data removed]",
      "text/plain": [
       "<Figure size 640x480 with 1 Axes>"
      ]
     },
     "metadata": {},
     "output_type": "display_data"
    }
   ],
   "source": [
    "plt.plot( range(history.shape[0]), history[\"Train AUROC\"].values, label=\"Train AUROC\")\n",
    "plt.plot( range(history.shape[0]), history[\"Valid AUROC\"].values, label=\"Valid AUROC\")\n",
    "plt.xlabel(\"epochs\")\n",
    "plt.ylabel(\"AUROC\")\n",
    "plt.grid()\n",
    "plt.legend()\n",
    "plt.show()"
   ]
  },
  {
   "cell_type": "code",
   "execution_count": 32,
   "id": "9dd47c50",
   "metadata": {
    "execution": {
     "iopub.execute_input": "2024-08-18T03:49:13.160046Z",
     "iopub.status.busy": "2024-08-18T03:49:13.159199Z",
     "iopub.status.idle": "2024-08-18T03:49:13.404364Z",
     "shell.execute_reply": "2024-08-18T03:49:13.403487Z"
    },
    "papermill": {
     "duration": 1.006802,
     "end_time": "2024-08-18T03:49:13.406272",
     "exception": false,
     "start_time": "2024-08-18T03:49:12.399470",
     "status": "completed"
    },
    "tags": []
   },
   "outputs": [
    {
     "data": {
      "image/png": "[encoded data removed]",
      "text/plain": [
       "<Figure size 640x480 with 1 Axes>"
      ]
     },
     "metadata": {},
     "output_type": "display_data"
    }
   ],
   "source": [
    "plt.plot( range(history.shape[0]), history[\"lr\"].values, label=\"lr\")\n",
    "plt.xlabel(\"epochs\")\n",
    "plt.ylabel(\"lr\")\n",
    "plt.grid()\n",
    "plt.legend()\n",
    "plt.show()"
   ]
  },
  {
   "cell_type": "code",
   "execution_count": null,
   "id": "5a2308f6",
   "metadata": {
    "papermill": {
     "duration": 0.754402,
     "end_time": "2024-08-18T03:49:14.979126",
     "exception": false,
     "start_time": "2024-08-18T03:49:14.224724",
     "status": "completed"
    },
    "tags": []
   },
   "outputs": [],
   "source": []
  }
 ],
 "metadata": {
  "kaggle": {
   "accelerator": "gpu",
   "dataSources": [
    {
     "databundleVersionId": 9094797,
     "sourceId": 63056,
     "sourceType": "competition"
    },
    {
     "modelId": 312,
     "modelInstanceId": 2656,
     "sourceId": 3729,
     "sourceType": "modelInstanceVersion"
    },
    {
     "isSourceIdPinned": true,
     "modelId": 312,
     "modelInstanceId": 2658,
     "sourceId": 3731,
     "sourceType": "modelInstanceVersion"
    },
    {
     "modelId": 312,
     "modelInstanceId": 2659,
     "sourceId": 3732,
     "sourceType": "modelInstanceVersion"
    }
   ],
   "isGpuEnabled": true,
   "isInternetEnabled": true,
   "language": "python",
   "sourceType": "notebook"
  },
  "kernelspec": {
   "display_name": "Python 3",
   "language": "python",
   "name": "python3"
  },
  "language_info": {
   "codemirror_mode": {
    "name": "ipython",
    "version": 3
   },
   "file_extension": ".py",
   "mimetype": "text/x-python",
   "name": "python",
   "nbconvert_exporter": "python",
   "pygments_lexer": "ipython3",
   "version": "3.10.13"
  },
  "papermill": {
   "default_parameters": {},
   "duration": 1425.069537,
   "end_time": "2024-08-18T03:49:18.611715",
   "environment_variables": {},
   "exception": null,
   "input_path": "__notebook__.ipynb",
   "output_path": "__notebook__.ipynb",
   "parameters": {},
   "start_time": "2024-08-18T03:25:33.542178",
   "version": "2.5.0"
  },
  "widgets": {
   "application/vnd.jupyter.widget-state+json": {
    "state": {
     "1148561b76d941b5bdeab5d551c8b579": {
      "model_module": "@jupyter-widgets/controls",
      "model_module_version": "1.5.0",
      "model_name": "HBoxModel",
      "state": {
       "_dom_classes": [],
       "_model_module": "@jupyter-widgets/controls",
       "_model_module_version": "1.5.0",
       "_model_name": "HBoxModel",
       "_view_count": null,
       "_view_module": "@jupyter-widgets/controls",
       "_view_module_version": "1.5.0",
       "_view_name": "HBoxView",
       "box_style": "",
       "children": [
        "IPY_MODEL_b0a986844baf43bd8ba332eec247463d",
        "IPY_MODEL_4b4223ef77564c3a9a11946b9597efce",
        "IPY_MODEL_7cd7acb1205c4b7f90257c2323ea04d1"
       ],
       "layout": "IPY_MODEL_dde3ab7dbbf942b5817b04fdbdf959a0"
      }
     },
     "1291082cc453409a8f76eb13cd1ea2b5": {
      "model_module": "@jupyter-widgets/base",
      "model_module_version": "1.2.0",
      "model_name": "LayoutModel",
      "state": {
       "_model_module": "@jupyter-widgets/base",
       "_model_module_version": "1.2.0",
       "_model_name": "LayoutModel",
       "_view_count": null,
       "_view_module": "@jupyter-widgets/base",
       "_view_module_version": "1.2.0",
       "_view_name": "LayoutView",
       "align_content": null,
       "align_items": null,
       "align_self": null,
       "border": null,
       "bottom": null,
       "display": null,
       "flex": null,
       "flex_flow": null,
       "grid_area": null,
       "grid_auto_columns": null,
       "grid_auto_flow": null,
       "grid_auto_rows": null,
       "grid_column": null,
       "grid_gap": null,
       "grid_row": null,
       "grid_template_areas": null,
       "grid_template_columns": null,
       "grid_template_rows": null,
       "height": null,
       "justify_content": null,
       "justify_items": null,
       "left": null,
       "margin": null,
       "max_height": null,
       "max_width": null,
       "min_height": null,
       "min_width": null,
       "object_fit": null,
       "object_position": null,
       "order": null,
       "overflow": null,
       "overflow_x": null,
       "overflow_y": null,
       "padding": null,
       "right": null,
       "top": null,
       "visibility": null,
       "width": null
      }
     },
     "4b4223ef77564c3a9a11946b9597efce": {
      "model_module": "@jupyter-widgets/controls",
      "model_module_version": "1.5.0",
      "model_name": "FloatProgressModel",
      "state": {
       "_dom_classes": [],
       "_model_module": "@jupyter-widgets/controls",
       "_model_module_version": "1.5.0",
       "_model_name": "FloatProgressModel",
       "_view_count": null,
       "_view_module": "@jupyter-widgets/controls",
       "_view_module_version": "1.5.0",
       "_view_name": "ProgressView",
       "bar_style": "success",
       "description": "",
       "description_tooltip": null,
       "layout": "IPY_MODEL_dec6de5abe7d4232999b8568351768fc",
       "max": 49335454.0,
       "min": 0.0,
       "orientation": "horizontal",
       "style": "IPY_MODEL_524ab322e2724f558044694e7504d43b",
       "value": 49335454.0
      }
     },
     "524ab322e2724f558044694e7504d43b": {
      "model_module": "@jupyter-widgets/controls",
      "model_module_version": "1.5.0",
      "model_name": "ProgressStyleModel",
      "state": {
       "_model_module": "@jupyter-widgets/controls",
       "_model_module_version": "1.5.0",
       "_model_name": "ProgressStyleModel",
       "_view_count": null,
       "_view_module": "@jupyter-widgets/base",
       "_view_module_version": "1.2.0",
       "_view_name": "StyleView",
       "bar_color": null,
       "description_width": ""
      }
     },
     "5e2edb2e66754adc8463153d0b4719bc": {
      "model_module": "@jupyter-widgets/controls",
      "model_module_version": "1.5.0",
      "model_name": "DescriptionStyleModel",
      "state": {
       "_model_module": "@jupyter-widgets/controls",
       "_model_module_version": "1.5.0",
       "_model_name": "DescriptionStyleModel",
       "_view_count": null,
       "_view_module": "@jupyter-widgets/base",
       "_view_module_version": "1.2.0",
       "_view_name": "StyleView",
       "description_width": ""
      }
     },
     "7cd7acb1205c4b7f90257c2323ea04d1": {
      "model_module": "@jupyter-widgets/controls",
      "model_module_version": "1.5.0",
      "model_name": "HTMLModel",
      "state": {
       "_dom_classes": [],
       "_model_module": "@jupyter-widgets/controls",
       "_model_module_version": "1.5.0",
       "_model_name": "HTMLModel",
       "_view_count": null,
       "_view_module": "@jupyter-widgets/controls",
       "_view_module_version": "1.5.0",
       "_view_name": "HTMLView",
       "description": "",
       "description_tooltip": null,
       "layout": "IPY_MODEL_ab54175330d84015ba3841f6e88f0d59",
       "placeholder": "​",
       "style": "IPY_MODEL_a014ea90e7ac46808274aa0422f8d4c1",
       "value": " 49.3M/49.3M [00:01&lt;00:00, 34.0MB/s]"
      }
     },
     "a014ea90e7ac46808274aa0422f8d4c1": {
      "model_module": "@jupyter-widgets/controls",
      "model_module_version": "1.5.0",
      "model_name": "DescriptionStyleModel",
      "state": {
       "_model_module": "@jupyter-widgets/controls",
       "_model_module_version": "1.5.0",
       "_model_name": "DescriptionStyleModel",
       "_view_count": null,
       "_view_module": "@jupyter-widgets/base",
       "_view_module_version": "1.2.0",
       "_view_name": "StyleView",
       "description_width": ""
      }
     },
     "ab54175330d84015ba3841f6e88f0d59": {
      "model_module": "@jupyter-widgets/base",
      "model_module_version": "1.2.0",
      "model_name": "LayoutModel",
      "state": {
       "_model_module": "@jupyter-widgets/base",
       "_model_module_version": "1.2.0",
       "_model_name": "LayoutModel",
       "_view_count": null,
       "_view_module": "@jupyter-widgets/base",
       "_view_module_version": "1.2.0",
       "_view_name": "LayoutView",
       "align_content": null,
       "align_items": null,
       "align_self": null,
       "border": null,
       "bottom": null,
       "display": null,
       "flex": null,
       "flex_flow": null,
       "grid_area": null,
       "grid_auto_columns": null,
       "grid_auto_flow": null,
       "grid_auto_rows": null,
       "grid_column": null,
       "grid_gap": null,
       "grid_row": null,
       "grid_template_areas": null,
       "grid_template_columns": null,
       "grid_template_rows": null,
       "height": null,
       "justify_content": null,
       "justify_items": null,
       "left": null,
       "margin": null,
       "max_height": null,
       "max_width": null,
       "min_height": null,
       "min_width": null,
       "object_fit": null,
       "object_position": null,
       "order": null,
       "overflow": null,
       "overflow_x": null,
       "overflow_y": null,
       "padding": null,
       "right": null,
       "top": null,
       "visibility": null,
       "width": null
      }
     },
     "b0a986844baf43bd8ba332eec247463d": {
      "model_module": "@jupyter-widgets/controls",
      "model_module_version": "1.5.0",
      "model_name": "HTMLModel",
      "state": {
       "_dom_classes": [],
       "_model_module": "@jupyter-widgets/controls",
       "_model_module_version": "1.5.0",
       "_model_name": "HTMLModel",
       "_view_count": null,
       "_view_module": "@jupyter-widgets/controls",
       "_view_module_version": "1.5.0",
       "_view_name": "HTMLView",
       "description": "",
       "description_tooltip": null,
       "layout": "IPY_MODEL_1291082cc453409a8f76eb13cd1ea2b5",
       "placeholder": "​",
       "style": "IPY_MODEL_5e2edb2e66754adc8463153d0b4719bc",
       "value": "model.safetensors: 100%"
      }
     },
     "dde3ab7dbbf942b5817b04fdbdf959a0": {
      "model_module": "@jupyter-widgets/base",
      "model_module_version": "1.2.0",
      "model_name": "LayoutModel",
      "state": {
       "_model_module": "@jupyter-widgets/base",
       "_model_module_version": "1.2.0",
       "_model_name": "LayoutModel",
       "_view_count": null,
       "_view_module": "@jupyter-widgets/base",
       "_view_module_version": "1.2.0",
       "_view_name": "LayoutView",
       "align_content": null,
       "align_items": null,
       "align_self": null,
       "border": null,
       "bottom": null,
       "display": null,
       "flex": null,
       "flex_flow": null,
       "grid_area": null,
       "grid_auto_columns": null,
       "grid_auto_flow": null,
       "grid_auto_rows": null,
       "grid_column": null,
       "grid_gap": null,
       "grid_row": null,
       "grid_template_areas": null,
       "grid_template_columns": null,
       "grid_template_rows": null,
       "height": null,
       "justify_content": null,
       "justify_items": null,
       "left": null,
       "margin": null,
       "max_height": null,
       "max_width": null,
       "min_height": null,
       "min_width": null,
       "object_fit": null,
       "object_position": null,
       "order": null,
       "overflow": null,
       "overflow_x": null,
       "overflow_y": null,
       "padding": null,
       "right": null,
       "top": null,
       "visibility": null,
       "width": null
      }
     },
     "dec6de5abe7d4232999b8568351768fc": {
      "model_module": "@jupyter-widgets/base",
      "model_module_version": "1.2.0",
      "model_name": "LayoutModel",
      "state": {
       "_model_module": "@jupyter-widgets/base",
       "_model_module_version": "1.2.0",
       "_model_name": "LayoutModel",
       "_view_count": null,
       "_view_module": "@jupyter-widgets/base",
       "_view_module_version": "1.2.0",
       "_view_name": "LayoutView",
       "align_content": null,
       "align_items": null,
       "align_self": null,
       "border": null,
       "bottom": null,
       "display": null,
       "flex": null,
       "flex_flow": null,
       "grid_area": null,
       "grid_auto_columns": null,
       "grid_auto_flow": null,
       "grid_auto_rows": null,
       "grid_column": null,
       "grid_gap": null,
       "grid_row": null,
       "grid_template_areas": null,
       "grid_template_columns": null,
       "grid_template_rows": null,
       "height": null,
       "justify_content": null,
       "justify_items": null,
       "left": null,
       "margin": null,
       "max_height": null,
       "max_width": null,
       "min_height": null,
       "min_width": null,
       "object_fit": null,
       "object_position": null,
       "order": null,
       "overflow": null,
       "overflow_x": null,
       "overflow_y": null,
       "padding": null,
       "right": null,
       "top": null,
       "visibility": null,
       "width": null
      }
     }
    },
    "version_major": 2,
    "version_minor": 0
   }
  }
 },
 "nbformat": 4,
 "nbformat_minor": 5
}
