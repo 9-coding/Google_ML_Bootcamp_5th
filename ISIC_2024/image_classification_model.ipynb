{
  "metadata": {
    "kernelspec": {
      "language": "python",
      "display_name": "Python 3",
      "name": "python3"
    },
    "language_info": {
      "name": "python",
      "version": "3.10.13",
      "mimetype": "text/x-python",
      "codemirror_mode": {
        "name": "ipython",
        "version": 3
      },
      "pygments_lexer": "ipython3",
      "nbconvert_exporter": "python",
      "file_extension": ".py"
    },
    "kaggle": {
      "accelerator": "none",
      "dataSources": [
        {
          "sourceId": 63056,
          "databundleVersionId": 9094797,
          "sourceType": "competition"
        }
      ],
      "dockerImageVersionId": 30746,
      "isInternetEnabled": true,
      "language": "python",
      "sourceType": "notebook",
      "isGpuEnabled": false
    },
    "colab": {
      "provenance": [],
      "include_colab_link": true
    }
  },
  "nbformat_minor": 0,
  "nbformat": 4,
  "cells": [
    {
      "cell_type": "markdown",
      "metadata": {
        "id": "view-in-github",
        "colab_type": "text"
      },
      "source": [
        "<a href=\"https://colab.research.google.com/github/9-coding/Kaggle/blob/main/ISIC_2024/image_classification_model.ipynb\" target=\"_parent\"><img src=\"https://colab.research.google.com/assets/colab-badge.svg\" alt=\"Open In Colab\"/></a>"
      ]
    },
    {
      "cell_type": "markdown",
      "source": [
        "## Import Reguirements"
      ],
      "metadata": {
        "id": "8sk_uIQiB687"
      }
    },
    {
      "cell_type": "code",
      "source": [
        "import os\n",
        "import h5py\n",
        "from PIL import Image\n",
        "from io import BytesIO\n",
        "\n",
        "import numpy as np\n",
        "import pandas as pd\n",
        "\n",
        "import torch\n",
        "import torch.nn as nn\n",
        "import torch.optim as optim\n",
        "import torch.nn.functional as F\n",
        "from torch.optim import lr_scheduler\n",
        "from torch.utils.data import Dataset, DataLoader, random_split\n",
        "from torch.cuda import amp\n",
        "import torchvision"
      ],
      "metadata": {
        "execution": {
          "iopub.status.busy": "2024-08-04T06:05:21.329712Z",
          "iopub.execute_input": "2024-08-04T06:05:21.330232Z",
          "iopub.status.idle": "2024-08-04T06:05:21.338908Z",
          "shell.execute_reply.started": "2024-08-04T06:05:21.330190Z",
          "shell.execute_reply": "2024-08-04T06:05:21.337966Z"
        },
        "trusted": true,
        "id": "wLHIITsrB688"
      },
      "execution_count": null,
      "outputs": []
    },
    {
      "cell_type": "markdown",
      "source": [
        "## Configuration and Set Seed"
      ],
      "metadata": {
        "id": "lNbmSWulB689"
      }
    },
    {
      "cell_type": "code",
      "source": [
        "CONFIG = {\n",
        "    \"seed\": 42,\n",
        "    \"img_size\": 256,\n",
        "    \"batch_size\": 16,\n",
        "    \"device\": torch.device(\"cuda:0\" if torch.cuda.is_available() else \"cpu\"),\n",
        "}"
      ],
      "metadata": {
        "execution": {
          "iopub.status.busy": "2024-08-04T06:05:21.340611Z",
          "iopub.execute_input": "2024-08-04T06:05:21.340965Z",
          "iopub.status.idle": "2024-08-04T06:05:21.354064Z",
          "shell.execute_reply.started": "2024-08-04T06:05:21.340936Z",
          "shell.execute_reply": "2024-08-04T06:05:21.352919Z"
        },
        "trusted": true,
        "id": "Xbiz0MR5B689"
      },
      "execution_count": null,
      "outputs": []
    },
    {
      "cell_type": "code",
      "source": [
        "def set_seed(seed=42):\n",
        "    np.random.seed(seed)\n",
        "    torch.manual_seed(seed)\n",
        "    torch.cuda.manual_seed(seed)\n",
        "    # When running on the CuDNN backend, two further options must be set\n",
        "    torch.backends.cudnn.deterministic = True\n",
        "    torch.backends.cudnn.benchmark = False\n",
        "    # Set a fixed value for the hash seed\n",
        "    os.environ['PYTHONHASHSEED'] = str(seed)\n",
        "\n",
        "set_seed(CONFIG['seed'])"
      ],
      "metadata": {
        "execution": {
          "iopub.status.busy": "2024-08-04T06:05:21.355444Z",
          "iopub.execute_input": "2024-08-04T06:05:21.356346Z",
          "iopub.status.idle": "2024-08-04T06:05:21.367323Z",
          "shell.execute_reply.started": "2024-08-04T06:05:21.356305Z",
          "shell.execute_reply": "2024-08-04T06:05:21.366239Z"
        },
        "trusted": true,
        "id": "gMMBX8eJB689"
      },
      "execution_count": null,
      "outputs": []
    },
    {
      "cell_type": "code",
      "source": [
        "ROOT_DIR = \"/kaggle/input/isic-2024-challenge\"\n",
        "\n",
        "TEST_HDF  = f'{ROOT_DIR}/test-image.hdf5'\n",
        "TEST_CSV  = f'{ROOT_DIR}/test-metadata.csv'\n",
        "IMAGE_HDF = f'{ROOT_DIR}/train-image.hdf5'\n",
        "TARGET_CSV = f'{ROOT_DIR}/train-metadata.csv'\n",
        "SAMPLE    = f'{ROOT_DIR}/sample_submission.csv'"
      ],
      "metadata": {
        "_uuid": "8f2839f25d086af736a60e9eeb907d3b93b6e0e5",
        "_cell_guid": "b1076dfc-b9ad-4769-8c92-a6c4dae69d19",
        "execution": {
          "iopub.status.busy": "2024-08-04T06:08:11.241180Z",
          "iopub.execute_input": "2024-08-04T06:08:11.241591Z",
          "iopub.status.idle": "2024-08-04T06:08:11.247471Z",
          "shell.execute_reply.started": "2024-08-04T06:08:11.241560Z",
          "shell.execute_reply": "2024-08-04T06:08:11.246179Z"
        },
        "trusted": true,
        "id": "kE7BTnI1B689"
      },
      "execution_count": null,
      "outputs": []
    },
    {
      "cell_type": "markdown",
      "source": [
        "## Data Configuration"
      ],
      "metadata": {
        "id": "0Vc_aD8VB689"
      }
    },
    {
      "cell_type": "code",
      "source": [
        "df = pd.read_csv(TARGET_CSV)\n",
        "print(len(df))\n",
        "df.head()"
      ],
      "metadata": {
        "execution": {
          "iopub.status.busy": "2024-08-04T06:05:21.381511Z",
          "iopub.execute_input": "2024-08-04T06:05:21.381992Z",
          "iopub.status.idle": "2024-08-04T06:05:26.173595Z",
          "shell.execute_reply.started": "2024-08-04T06:05:21.381951Z",
          "shell.execute_reply": "2024-08-04T06:05:26.172410Z"
        },
        "trusted": true,
        "id": "orGt70dIB689",
        "outputId": "d2fa2af8-06a5-4ebc-98ed-b8a613079bf6"
      },
      "execution_count": null,
      "outputs": [
        {
          "name": "stderr",
          "text": "/tmp/ipykernel_33/967719712.py:1: DtypeWarning: Columns (51,52) have mixed types. Specify dtype option on import or set low_memory=False.\n  df = pd.read_csv(TRAIN_CSV)\n",
          "output_type": "stream"
        },
        {
          "name": "stdout",
          "text": "401059\n",
          "output_type": "stream"
        },
        {
          "execution_count": 85,
          "output_type": "execute_result",
          "data": {
            "text/plain": "        isic_id  target  patient_id  age_approx   sex anatom_site_general  \\\n0  ISIC_0015670       0  IP_1235828        60.0  male     lower extremity   \n1  ISIC_0015845       0  IP_8170065        60.0  male           head/neck   \n2  ISIC_0015864       0  IP_6724798        60.0  male     posterior torso   \n3  ISIC_0015902       0  IP_4111386        65.0  male      anterior torso   \n4  ISIC_0024200       0  IP_8313778        55.0  male      anterior torso   \n\n   clin_size_long_diam_mm          image_type tbp_tile_type   tbp_lv_A  ...  \\\n0                    3.04  TBP tile: close-up     3D: white  20.244422  ...   \n1                    1.10  TBP tile: close-up     3D: white  31.712570  ...   \n2                    3.40  TBP tile: close-up        3D: XP  22.575830  ...   \n3                    3.22  TBP tile: close-up        3D: XP  14.242329  ...   \n4                    2.73  TBP tile: close-up     3D: white  24.725520  ...   \n\n    lesion_id  iddx_full  iddx_1  iddx_2  iddx_3  iddx_4  iddx_5  \\\n0         NaN     Benign  Benign     NaN     NaN     NaN     NaN   \n1  IL_6727506     Benign  Benign     NaN     NaN     NaN     NaN   \n2         NaN     Benign  Benign     NaN     NaN     NaN     NaN   \n3         NaN     Benign  Benign     NaN     NaN     NaN     NaN   \n4         NaN     Benign  Benign     NaN     NaN     NaN     NaN   \n\n   mel_mitotic_index  mel_thick_mm  tbp_lv_dnn_lesion_confidence  \n0                NaN           NaN                     97.517282  \n1                NaN           NaN                      3.141455  \n2                NaN           NaN                     99.804040  \n3                NaN           NaN                     99.989998  \n4                NaN           NaN                     70.442510  \n\n[5 rows x 55 columns]",
            "text/html": "<div>\n<style scoped>\n    .dataframe tbody tr th:only-of-type {\n        vertical-align: middle;\n    }\n\n    .dataframe tbody tr th {\n        vertical-align: top;\n    }\n\n    .dataframe thead th {\n        text-align: right;\n    }\n</style>\n<table border=\"1\" class=\"dataframe\">\n  <thead>\n    <tr style=\"text-align: right;\">\n      <th></th>\n      <th>isic_id</th>\n      <th>target</th>\n      <th>patient_id</th>\n      <th>age_approx</th>\n      <th>sex</th>\n      <th>anatom_site_general</th>\n      <th>clin_size_long_diam_mm</th>\n      <th>image_type</th>\n      <th>tbp_tile_type</th>\n      <th>tbp_lv_A</th>\n      <th>...</th>\n      <th>lesion_id</th>\n      <th>iddx_full</th>\n      <th>iddx_1</th>\n      <th>iddx_2</th>\n      <th>iddx_3</th>\n      <th>iddx_4</th>\n      <th>iddx_5</th>\n      <th>mel_mitotic_index</th>\n      <th>mel_thick_mm</th>\n      <th>tbp_lv_dnn_lesion_confidence</th>\n    </tr>\n  </thead>\n  <tbody>\n    <tr>\n      <th>0</th>\n      <td>ISIC_0015670</td>\n      <td>0</td>\n      <td>IP_1235828</td>\n      <td>60.0</td>\n      <td>male</td>\n      <td>lower extremity</td>\n      <td>3.04</td>\n      <td>TBP tile: close-up</td>\n      <td>3D: white</td>\n      <td>20.244422</td>\n      <td>...</td>\n      <td>NaN</td>\n      <td>Benign</td>\n      <td>Benign</td>\n      <td>NaN</td>\n      <td>NaN</td>\n      <td>NaN</td>\n      <td>NaN</td>\n      <td>NaN</td>\n      <td>NaN</td>\n      <td>97.517282</td>\n    </tr>\n    <tr>\n      <th>1</th>\n      <td>ISIC_0015845</td>\n      <td>0</td>\n      <td>IP_8170065</td>\n      <td>60.0</td>\n      <td>male</td>\n      <td>head/neck</td>\n      <td>1.10</td>\n      <td>TBP tile: close-up</td>\n      <td>3D: white</td>\n      <td>31.712570</td>\n      <td>...</td>\n      <td>IL_6727506</td>\n      <td>Benign</td>\n      <td>Benign</td>\n      <td>NaN</td>\n      <td>NaN</td>\n      <td>NaN</td>\n      <td>NaN</td>\n      <td>NaN</td>\n      <td>NaN</td>\n      <td>3.141455</td>\n    </tr>\n    <tr>\n      <th>2</th>\n      <td>ISIC_0015864</td>\n      <td>0</td>\n      <td>IP_6724798</td>\n      <td>60.0</td>\n      <td>male</td>\n      <td>posterior torso</td>\n      <td>3.40</td>\n      <td>TBP tile: close-up</td>\n      <td>3D: XP</td>\n      <td>22.575830</td>\n      <td>...</td>\n      <td>NaN</td>\n      <td>Benign</td>\n      <td>Benign</td>\n      <td>NaN</td>\n      <td>NaN</td>\n      <td>NaN</td>\n      <td>NaN</td>\n      <td>NaN</td>\n      <td>NaN</td>\n      <td>99.804040</td>\n    </tr>\n    <tr>\n      <th>3</th>\n      <td>ISIC_0015902</td>\n      <td>0</td>\n      <td>IP_4111386</td>\n      <td>65.0</td>\n      <td>male</td>\n      <td>anterior torso</td>\n      <td>3.22</td>\n      <td>TBP tile: close-up</td>\n      <td>3D: XP</td>\n      <td>14.242329</td>\n      <td>...</td>\n      <td>NaN</td>\n      <td>Benign</td>\n      <td>Benign</td>\n      <td>NaN</td>\n      <td>NaN</td>\n      <td>NaN</td>\n      <td>NaN</td>\n      <td>NaN</td>\n      <td>NaN</td>\n      <td>99.989998</td>\n    </tr>\n    <tr>\n      <th>4</th>\n      <td>ISIC_0024200</td>\n      <td>0</td>\n      <td>IP_8313778</td>\n      <td>55.0</td>\n      <td>male</td>\n      <td>anterior torso</td>\n      <td>2.73</td>\n      <td>TBP tile: close-up</td>\n      <td>3D: white</td>\n      <td>24.725520</td>\n      <td>...</td>\n      <td>NaN</td>\n      <td>Benign</td>\n      <td>Benign</td>\n      <td>NaN</td>\n      <td>NaN</td>\n      <td>NaN</td>\n      <td>NaN</td>\n      <td>NaN</td>\n      <td>NaN</td>\n      <td>70.442510</td>\n    </tr>\n  </tbody>\n</table>\n<p>5 rows × 55 columns</p>\n</div>"
          },
          "metadata": {}
        }
      ]
    },
    {
      "cell_type": "markdown",
      "source": [
        "## Dataset and DataLoader"
      ],
      "metadata": {
        "id": "jr0PKyJNB68-"
      }
    },
    {
      "cell_type": "code",
      "source": [
        "class ISIC(Dataset):\n",
        "    def __init__(self, file_hdf, df, transforms=None):\n",
        "        self.fp_hdf = h5py.File(file_hdf, mode=\"r\")\n",
        "        self.df = df\n",
        "        self.isic_ids = df['isic_id'].values\n",
        "        self.targets = df['target'].values\n",
        "        self.transforms = transforms\n",
        "\n",
        "    def __len__(self):\n",
        "        return len(self.isic_ids)\n",
        "\n",
        "    def __getitem__(self, index):\n",
        "        isic_id = self.isic_ids[index]\n",
        "        img = np.array(Image.open(BytesIO(self.fp_hdf[isic_id][()])) )\n",
        "        target = self.targets[index]\n",
        "\n",
        "        return {\n",
        "            'image': img,\n",
        "            'target': target,\n",
        "        }"
      ],
      "metadata": {
        "execution": {
          "iopub.status.busy": "2024-08-04T06:05:26.182061Z",
          "iopub.execute_input": "2024-08-04T06:05:26.182533Z",
          "iopub.status.idle": "2024-08-04T06:05:26.193095Z",
          "shell.execute_reply.started": "2024-08-04T06:05:26.182486Z",
          "shell.execute_reply": "2024-08-04T06:05:26.191882Z"
        },
        "trusted": true,
        "id": "Knx9wd7cB68-"
      },
      "execution_count": null,
      "outputs": []
    },
    {
      "cell_type": "code",
      "source": [
        "dataset = ISIC(IMAGE_HDF, df)\n",
        "dataset_size = len(dataset)\n",
        "train_size = int(dataset_size * 0.8)                     # 80%\n",
        "validation_size = int(dataset_size * 0.1)                # 10%\n",
        "test_size = dataset_size - train_size - validation_size  # 10%\n",
        "\n",
        "train_dataset, val_dataset, test_dataset = random_split(dataset, [train_size, validation_size, test_size])\n",
        "\n",
        "print(f\"Training Data Size : {len(train_dataset)}\")\n",
        "print(f\"Validation Data Size : {len(val_dataset)}\")\n",
        "print(f\"Testing Data Size : {len(test_dataset)}\")\n",
        "\n",
        "train_loader = DataLoader(train_dataset, batch_size=CONFIG['batch_size'], shuffle=True, pin_memory=True, drop_last=True)\n",
        "val_loader = DataLoader(val_dataset, batch_size=CONFIG['batch_size'], shuffle=False, pin_memory=True, drop_last=True)\n",
        "test_loader = DataLoader(test_dataset, batch_size=CONFIG['batch_size'], shuffle=False, pin_memory=True, drop_last=True)"
      ],
      "metadata": {
        "execution": {
          "iopub.status.busy": "2024-08-04T06:08:49.611430Z",
          "iopub.execute_input": "2024-08-04T06:08:49.612234Z",
          "iopub.status.idle": "2024-08-04T06:08:49.661553Z",
          "shell.execute_reply.started": "2024-08-04T06:08:49.612193Z",
          "shell.execute_reply": "2024-08-04T06:08:49.660330Z"
        },
        "trusted": true,
        "id": "mxnLgquGB68-",
        "outputId": "d083a2b8-6145-4802-de40-4453b2737695"
      },
      "execution_count": null,
      "outputs": [
        {
          "name": "stdout",
          "text": "Training Data Size : 280741\nValidation Data Size : 80211\nTesting Data Size : 40107\n",
          "output_type": "stream"
        }
      ]
    }
  ]
}